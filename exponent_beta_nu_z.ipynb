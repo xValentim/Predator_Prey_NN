{
 "cells": [
  {
   "cell_type": "code",
   "execution_count": 43,
   "id": "7f6ef784",
   "metadata": {},
   "outputs": [],
   "source": [
    "import numpy as np\n",
    "import pandas as pd\n",
    "import matplotlib.pyplot as plt"
   ]
  },
  {
   "cell_type": "code",
   "execution_count": 120,
   "id": "30c5b778",
   "metadata": {},
   "outputs": [],
   "source": [
    "data = {}"
   ]
  },
  {
   "cell_type": "code",
   "execution_count": 122,
   "id": "fc34aa31",
   "metadata": {},
   "outputs": [],
   "source": [
    "for i in range(20):\n",
    "    data[i] = pd.read_csv(f'results_{i}.csv')"
   ]
  },
  {
   "cell_type": "code",
   "execution_count": 125,
   "id": "e0a4a3af",
   "metadata": {},
   "outputs": [],
   "source": [
    "teste0 = pd.read_csv('results_0.csv')\n",
    "teste1 = pd.read_csv('results_1.csv')"
   ]
  },
  {
   "cell_type": "code",
   "execution_count": 126,
   "id": "d38447b1",
   "metadata": {},
   "outputs": [],
   "source": [
    "teste0['rho'] = (teste0['rho'] + teste1['rho']) / 2"
   ]
  },
  {
   "cell_type": "code",
   "execution_count": 130,
   "id": "4d89e888",
   "metadata": {
    "scrolled": true
   },
   "outputs": [],
   "source": [
    "for i in range(1, 20):\n",
    "    data[0]['rho'] += data[i]['rho']\n",
    "data[0]['rho'] = data[0]['rho'] / 20"
   ]
  },
  {
   "cell_type": "code",
   "execution_count": null,
   "id": "54fba727",
   "metadata": {},
   "outputs": [],
   "source": []
  },
  {
   "cell_type": "code",
   "execution_count": 46,
   "id": "e179f657",
   "metadata": {},
   "outputs": [
    {
     "data": {
      "text/plain": [
       "2.302585092994046"
      ]
     },
     "execution_count": 46,
     "metadata": {},
     "output_type": "execute_result"
    }
   ],
   "source": [
    "np.log(10)"
   ]
  },
  {
   "cell_type": "code",
   "execution_count": 47,
   "id": "6f984aed",
   "metadata": {},
   "outputs": [
    {
     "data": {
      "text/plain": [
       "900"
      ]
     },
     "execution_count": 47,
     "metadata": {},
     "output_type": "execute_result"
    }
   ],
   "source": [
    "len(data['time'])"
   ]
  },
  {
   "cell_type": "code",
   "execution_count": 135,
   "id": "f3d61e2b",
   "metadata": {},
   "outputs": [
    {
     "name": "stderr",
     "output_type": "stream",
     "text": [
      "C:\\Users\\gabri\\anaconda3\\lib\\site-packages\\pandas\\core\\arraylike.py:397: RuntimeWarning: divide by zero encountered in log\n",
      "  result = getattr(ufunc, method)(*inputs, **kwargs)\n"
     ]
    },
    {
     "data": {
      "text/plain": [
       "[<matplotlib.lines.Line2D at 0x14958c6d160>]"
      ]
     },
     "execution_count": 135,
     "metadata": {},
     "output_type": "execute_result"
    },
    {
     "data": {
      "image/png": "[encoded data removed]",
      "text/plain": [
       "<Figure size 432x288 with 1 Axes>"
      ]
     },
     "metadata": {
      "needs_background": "light"
     },
     "output_type": "display_data"
    }
   ],
   "source": [
    "plt.plot(np.log(data[0]['time']//100)[75:], np.log(data[0]['rho'])[75:])"
   ]
  },
  {
   "cell_type": "code",
   "execution_count": 151,
   "id": "1c8ee0c3",
   "metadata": {
    "scrolled": true
   },
   "outputs": [
    {
     "name": "stderr",
     "output_type": "stream",
     "text": [
      "C:\\Users\\gabri\\anaconda3\\lib\\site-packages\\pandas\\core\\arraylike.py:397: RuntimeWarning: divide by zero encountered in log\n",
      "  result = getattr(ufunc, method)(*inputs, **kwargs)\n"
     ]
    },
    {
     "data": {
      "text/plain": [
       "[<matplotlib.lines.Line2D at 0x14959f12e20>]"
      ]
     },
     "execution_count": 151,
     "metadata": {},
     "output_type": "execute_result"
    },
    {
     "data": {
      "image/png": "[encoded data removed]",
      "text/plain": [
       "<Figure size 432x288 with 1 Axes>"
      ]
     },
     "metadata": {
      "needs_background": "light"
     },
     "output_type": "display_data"
    }
   ],
   "source": [
    "plt.plot(np.log(data[0]['time']/100)[200:600], np.log(data[0]['rho'])[200:600])"
   ]
  },
  {
   "cell_type": "code",
   "execution_count": 92,
   "id": "472fbee2",
   "metadata": {},
   "outputs": [
    {
     "data": {
      "text/plain": [
       "22026.4651093632"
      ]
     },
     "execution_count": 92,
     "metadata": {},
     "output_type": "execute_result"
    }
   ],
   "source": [
    "2.71828182 ** 10"
   ]
  },
  {
   "cell_type": "code",
   "execution_count": 93,
   "id": "542f99de",
   "metadata": {},
   "outputs": [],
   "source": [
    "from sklearn.linear_model import LinearRegression"
   ]
  },
  {
   "cell_type": "code",
   "execution_count": 85,
   "id": "1cb99774",
   "metadata": {},
   "outputs": [],
   "source": [
    "LR = LinearRegression()"
   ]
  },
  {
   "cell_type": "code",
   "execution_count": 64,
   "id": "c820a8f1",
   "metadata": {},
   "outputs": [],
   "source": [
    "# np.array(data['time'][50:])"
   ]
  },
  {
   "cell_type": "code",
   "execution_count": 152,
   "id": "9133bdbc",
   "metadata": {},
   "outputs": [],
   "source": [
    "X, y = np.array(np.log(data[0]['time'][200:600]/100)), np.log(np.array(data[0]['rho'][200:600]))"
   ]
  },
  {
   "cell_type": "code",
   "execution_count": 153,
   "id": "a1f2235b",
   "metadata": {
    "scrolled": true
   },
   "outputs": [
    {
     "data": {
      "text/plain": [
       "array([[5.29831737],\n",
       "       [5.30330491],\n",
       "       [5.3082677 ],\n",
       "       [5.31320598],\n",
       "       [5.31811999],\n",
       "       [5.32300998],\n",
       "       [5.32787617],\n",
       "       [5.33271879],\n",
       "       [5.33753808],\n",
       "       [5.34233425],\n",
       "       [5.34710753],\n",
       "       [5.35185813],\n",
       "       [5.35658627],\n",
       "       [5.36129217],\n",
       "       [5.36597602],\n",
       "       [5.37063803],\n",
       "       [5.37527841],\n",
       "       [5.37989735],\n",
       "       [5.38449506],\n",
       "       [5.38907173],\n",
       "       [5.39362755],\n",
       "       [5.3981627 ],\n",
       "       [5.40267738],\n",
       "       [5.40717177],\n",
       "       [5.41164605],\n",
       "       [5.4161004 ],\n",
       "       [5.420535  ],\n",
       "       [5.42495002],\n",
       "       [5.42934563],\n",
       "       [5.433722  ],\n",
       "       [5.43807931],\n",
       "       [5.44241771],\n",
       "       [5.44673737],\n",
       "       [5.45103845],\n",
       "       [5.45532112],\n",
       "       [5.45958551],\n",
       "       [5.46383181],\n",
       "       [5.46806014],\n",
       "       [5.47227067],\n",
       "       [5.47646355],\n",
       "       [5.48063892],\n",
       "       [5.48479693],\n",
       "       [5.48893773],\n",
       "       [5.49306144],\n",
       "       [5.49716823],\n",
       "       [5.50125821],\n",
       "       [5.50533154],\n",
       "       [5.50938834],\n",
       "       [5.51342875],\n",
       "       [5.5174529 ],\n",
       "       [5.52146092],\n",
       "       [5.52545294],\n",
       "       [5.52942909],\n",
       "       [5.53338949],\n",
       "       [5.53733427],\n",
       "       [5.54126355],\n",
       "       [5.54517744],\n",
       "       [5.54907608],\n",
       "       [5.55295958],\n",
       "       [5.55682806],\n",
       "       [5.56068163],\n",
       "       [5.56452041],\n",
       "       [5.5683445 ],\n",
       "       [5.57215403],\n",
       "       [5.5759491 ],\n",
       "       [5.57972983],\n",
       "       [5.58349631],\n",
       "       [5.58724866],\n",
       "       [5.59098698],\n",
       "       [5.59471138],\n",
       "       [5.59842196],\n",
       "       [5.60211882],\n",
       "       [5.60580207],\n",
       "       [5.6094718 ],\n",
       "       [5.61312811],\n",
       "       [5.6167711 ],\n",
       "       [5.62040087],\n",
       "       [5.62401751],\n",
       "       [5.62762111],\n",
       "       [5.63121178],\n",
       "       [5.6347896 ],\n",
       "       [5.63835467],\n",
       "       [5.64190707],\n",
       "       [5.6454469 ],\n",
       "       [5.64897424],\n",
       "       [5.65248918],\n",
       "       [5.65599181],\n",
       "       [5.65948222],\n",
       "       [5.66296048],\n",
       "       [5.66642669],\n",
       "       [5.66988092],\n",
       "       [5.67332327],\n",
       "       [5.6767538 ],\n",
       "       [5.68017261],\n",
       "       [5.68357977],\n",
       "       [5.68697536],\n",
       "       [5.69035945],\n",
       "       [5.69373214],\n",
       "       [5.69709349],\n",
       "       [5.70044357],\n",
       "       [5.70378247],\n",
       "       [5.70711026],\n",
       "       [5.71042702],\n",
       "       [5.71373281],\n",
       "       [5.7170277 ],\n",
       "       [5.72031178],\n",
       "       [5.7235851 ],\n",
       "       [5.72684775],\n",
       "       [5.73009978],\n",
       "       [5.73334128],\n",
       "       [5.7365723 ],\n",
       "       [5.73979291],\n",
       "       [5.74300319],\n",
       "       [5.74620319],\n",
       "       [5.74939299],\n",
       "       [5.75257264],\n",
       "       [5.75574221],\n",
       "       [5.75890177],\n",
       "       [5.76205138],\n",
       "       [5.7651911 ],\n",
       "       [5.768321  ],\n",
       "       [5.77144112],\n",
       "       [5.77455155],\n",
       "       [5.77765232],\n",
       "       [5.78074352],\n",
       "       [5.78382518],\n",
       "       [5.78689738],\n",
       "       [5.78996017],\n",
       "       [5.79301361],\n",
       "       [5.79605775],\n",
       "       [5.79909265],\n",
       "       [5.80211838],\n",
       "       [5.80513497],\n",
       "       [5.80814249],\n",
       "       [5.81114099],\n",
       "       [5.81413053],\n",
       "       [5.81711116],\n",
       "       [5.82008293],\n",
       "       [5.8230459 ],\n",
       "       [5.82600011],\n",
       "       [5.82894562],\n",
       "       [5.83188248],\n",
       "       [5.83481074],\n",
       "       [5.83773045],\n",
       "       [5.84064166],\n",
       "       [5.84354442],\n",
       "       [5.84643878],\n",
       "       [5.84932478],\n",
       "       [5.85220248],\n",
       "       [5.85507192],\n",
       "       [5.85793315],\n",
       "       [5.86078622],\n",
       "       [5.86363118],\n",
       "       [5.86646806],\n",
       "       [5.86929691],\n",
       "       [5.87211779],\n",
       "       [5.87493073],\n",
       "       [5.87773578],\n",
       "       [5.88053299],\n",
       "       [5.88332239],\n",
       "       [5.88610403],\n",
       "       [5.88887796],\n",
       "       [5.89164421],\n",
       "       [5.89440283],\n",
       "       [5.89715387],\n",
       "       [5.89989735],\n",
       "       [5.90263333],\n",
       "       [5.90536185],\n",
       "       [5.90808294],\n",
       "       [5.91079664],\n",
       "       [5.91350301],\n",
       "       [5.91620206],\n",
       "       [5.91889385],\n",
       "       [5.92157842],\n",
       "       [5.9242558 ],\n",
       "       [5.92692603],\n",
       "       [5.92958914],\n",
       "       [5.93224519],\n",
       "       [5.9348942 ],\n",
       "       [5.93753621],\n",
       "       [5.94017125],\n",
       "       [5.94279938],\n",
       "       [5.94542061],\n",
       "       [5.94803499],\n",
       "       [5.95064255],\n",
       "       [5.95324333],\n",
       "       [5.95583737],\n",
       "       [5.95842469],\n",
       "       [5.96100534],\n",
       "       [5.96357934],\n",
       "       [5.96614674],\n",
       "       [5.96870756],\n",
       "       [5.97126184],\n",
       "       [5.97380961],\n",
       "       [5.97635091],\n",
       "       [5.97888576],\n",
       "       [5.98141421],\n",
       "       [5.98393628],\n",
       "       [5.98645201],\n",
       "       [5.98896142],\n",
       "       [5.99146455],\n",
       "       [5.99396143],\n",
       "       [5.99645209],\n",
       "       [5.99893656],\n",
       "       [6.00141488],\n",
       "       [6.00388707],\n",
       "       [6.00635316],\n",
       "       [6.00881319],\n",
       "       [6.01126717],\n",
       "       [6.01371516],\n",
       "       [6.01615716],\n",
       "       [6.01859321],\n",
       "       [6.02102335],\n",
       "       [6.02344759],\n",
       "       [6.02586597],\n",
       "       [6.02827852],\n",
       "       [6.03068526],\n",
       "       [6.03308622],\n",
       "       [6.03548143],\n",
       "       [6.03787092],\n",
       "       [6.04025471],\n",
       "       [6.04263283],\n",
       "       [6.04500531],\n",
       "       [6.04737218],\n",
       "       [6.04973346],\n",
       "       [6.05208917],\n",
       "       [6.05443935],\n",
       "       [6.05678401],\n",
       "       [6.0591232 ],\n",
       "       [6.06145692],\n",
       "       [6.06378521],\n",
       "       [6.06610809],\n",
       "       [6.06842559],\n",
       "       [6.07073773],\n",
       "       [6.07304453],\n",
       "       [6.07534603],\n",
       "       [6.07764224],\n",
       "       [6.0799332 ],\n",
       "       [6.08221891],\n",
       "       [6.08449941],\n",
       "       [6.08677473],\n",
       "       [6.08904488],\n",
       "       [6.09130988],\n",
       "       [6.09356977],\n",
       "       [6.09582456],\n",
       "       [6.09807428],\n",
       "       [6.10031895],\n",
       "       [6.10255859],\n",
       "       [6.10479323],\n",
       "       [6.10702289],\n",
       "       [6.10924758],\n",
       "       [6.11146734],\n",
       "       [6.11368218],\n",
       "       [6.11589213],\n",
       "       [6.1180972 ],\n",
       "       [6.12029742],\n",
       "       [6.12249281],\n",
       "       [6.12468339],\n",
       "       [6.12686918],\n",
       "       [6.12905021],\n",
       "       [6.13122649],\n",
       "       [6.13339804],\n",
       "       [6.13556489],\n",
       "       [6.13772705],\n",
       "       [6.13988455],\n",
       "       [6.14203741],\n",
       "       [6.14418563],\n",
       "       [6.14632926],\n",
       "       [6.1484683 ],\n",
       "       [6.15060277],\n",
       "       [6.15273269],\n",
       "       [6.15485809],\n",
       "       [6.15697899],\n",
       "       [6.15909539],\n",
       "       [6.16120732],\n",
       "       [6.1633148 ],\n",
       "       [6.16541785],\n",
       "       [6.16751649],\n",
       "       [6.16961073],\n",
       "       [6.1717006 ],\n",
       "       [6.1737861 ],\n",
       "       [6.17586727],\n",
       "       [6.17794411],\n",
       "       [6.18001665],\n",
       "       [6.18208491],\n",
       "       [6.18414889],\n",
       "       [6.18620862],\n",
       "       [6.18826412],\n",
       "       [6.19031541],\n",
       "       [6.19236249],\n",
       "       [6.19440539],\n",
       "       [6.19644413],\n",
       "       [6.19847872],\n",
       "       [6.20050917],\n",
       "       [6.20253552],\n",
       "       [6.20455776],\n",
       "       [6.20657593],\n",
       "       [6.20859003],\n",
       "       [6.21060008],\n",
       "       [6.2126061 ],\n",
       "       [6.2146081 ],\n",
       "       [6.2166061 ],\n",
       "       [6.21860012],\n",
       "       [6.22059017],\n",
       "       [6.22257627],\n",
       "       [6.22455843],\n",
       "       [6.22653667],\n",
       "       [6.228511  ],\n",
       "       [6.23048145],\n",
       "       [6.23244802],\n",
       "       [6.23441073],\n",
       "       [6.23636959],\n",
       "       [6.23832463],\n",
       "       [6.24027585],\n",
       "       [6.24222327],\n",
       "       [6.2441669 ],\n",
       "       [6.24610677],\n",
       "       [6.24804287],\n",
       "       [6.24997524],\n",
       "       [6.25190388],\n",
       "       [6.25382881],\n",
       "       [6.25575004],\n",
       "       [6.25766759],\n",
       "       [6.25958146],\n",
       "       [6.26149168],\n",
       "       [6.26339826],\n",
       "       [6.26530121],\n",
       "       [6.26720055],\n",
       "       [6.26909628],\n",
       "       [6.27098843],\n",
       "       [6.27287701],\n",
       "       [6.27476202],\n",
       "       [6.27664349],\n",
       "       [6.27852142],\n",
       "       [6.28039584],\n",
       "       [6.28226675],\n",
       "       [6.28413416],\n",
       "       [6.28599809],\n",
       "       [6.28785856],\n",
       "       [6.28971557],\n",
       "       [6.29156914],\n",
       "       [6.29341928],\n",
       "       [6.295266  ],\n",
       "       [6.29710932],\n",
       "       [6.29894925],\n",
       "       [6.30078579],\n",
       "       [6.30261898],\n",
       "       [6.3044488 ],\n",
       "       [6.30627529],\n",
       "       [6.30809844],\n",
       "       [6.30991828],\n",
       "       [6.31173481],\n",
       "       [6.31354805],\n",
       "       [6.315358  ],\n",
       "       [6.31716469],\n",
       "       [6.31896811],\n",
       "       [6.32076829],\n",
       "       [6.32256524],\n",
       "       [6.32435896],\n",
       "       [6.32614947],\n",
       "       [6.32793678],\n",
       "       [6.32972091],\n",
       "       [6.33150185],\n",
       "       [6.33327963],\n",
       "       [6.33505425],\n",
       "       [6.33682573],\n",
       "       [6.33859408],\n",
       "       [6.3403593 ],\n",
       "       [6.34212142],\n",
       "       [6.34388043],\n",
       "       [6.34563636],\n",
       "       [6.34738921],\n",
       "       [6.34913899],\n",
       "       [6.35088572],\n",
       "       [6.3526294 ],\n",
       "       [6.35437004],\n",
       "       [6.35610766],\n",
       "       [6.35784227],\n",
       "       [6.35957387],\n",
       "       [6.36130248],\n",
       "       [6.3630281 ],\n",
       "       [6.36475076],\n",
       "       [6.36647045],\n",
       "       [6.36818719],\n",
       "       [6.36990098],\n",
       "       [6.37161185],\n",
       "       [6.37331979],\n",
       "       [6.37502482],\n",
       "       [6.37672695],\n",
       "       [6.37842618],\n",
       "       [6.38012254],\n",
       "       [6.38181602],\n",
       "       [6.38350663],\n",
       "       [6.3851944 ],\n",
       "       [6.38687932],\n",
       "       [6.38856141],\n",
       "       [6.39024067],\n",
       "       [6.39191711],\n",
       "       [6.39359075],\n",
       "       [6.3952616 ]])"
      ]
     },
     "execution_count": 153,
     "metadata": {},
     "output_type": "execute_result"
    }
   ],
   "source": [
    "X.reshape(-1, 1)"
   ]
  },
  {
   "cell_type": "code",
   "execution_count": 154,
   "id": "7aeb2009",
   "metadata": {},
   "outputs": [
    {
     "data": {
      "text/plain": [
       "LinearRegression()"
      ]
     },
     "execution_count": 154,
     "metadata": {},
     "output_type": "execute_result"
    }
   ],
   "source": [
    "LR.fit(X.reshape(-1, 1), y.reshape(-1, 1))"
   ]
  },
  {
   "cell_type": "code",
   "execution_count": 155,
   "id": "4418c606",
   "metadata": {},
   "outputs": [
    {
     "data": {
      "text/plain": [
       "array([[-0.45827924]])"
      ]
     },
     "execution_count": 155,
     "metadata": {},
     "output_type": "execute_result"
    }
   ],
   "source": [
    "LR.coef_"
   ]
  },
  {
   "cell_type": "code",
   "execution_count": 159,
   "id": "b22dae92",
   "metadata": {},
   "outputs": [
    {
     "name": "stderr",
     "output_type": "stream",
     "text": [
      "C:\\Users\\gabri\\anaconda3\\lib\\site-packages\\pandas\\core\\arraylike.py:397: RuntimeWarning: divide by zero encountered in log\n",
      "  result = getattr(ufunc, method)(*inputs, **kwargs)\n"
     ]
    },
    {
     "data": {
      "text/plain": [
       "[<matplotlib.lines.Line2D at 0x1495a0b0b80>]"
      ]
     },
     "execution_count": 159,
     "metadata": {},
     "output_type": "execute_result"
    },
    {
     "data": {
      "image/png": "[encoded data removed]",
      "text/plain": [
       "<Figure size 432x288 with 1 Axes>"
      ]
     },
     "metadata": {
      "needs_background": "light"
     },
     "output_type": "display_data"
    }
   ],
   "source": [
    "plt.plot(np.log(data[0]['time']/100)[200:600], np.log(data[0]['rho'])[200:600])\n",
    "plt.plot([5.4, 6.4], [ LR.predict([[5.4]])[0][0], LR.predict([[6.4]])[0][0] ])"
   ]
  },
  {
   "cell_type": "code",
   "execution_count": 160,
   "id": "d7593caa",
   "metadata": {},
   "outputs": [
    {
     "data": {
      "text/plain": [
       "-0.45827924264421127"
      ]
     },
     "execution_count": 160,
     "metadata": {},
     "output_type": "execute_result"
    }
   ],
   "source": [
    "(LR.predict([[4]])[0][0] - LR.predict([[5]])[0][0])/(4 - 5)"
   ]
  },
  {
   "cell_type": "code",
   "execution_count": null,
   "id": "62003121",
   "metadata": {},
   "outputs": [],
   "source": []
  }
 ],
 "metadata": {
  "kernelspec": {
   "display_name": "Python 3 (ipykernel)",
   "language": "python",
   "name": "python3"
  },
  "language_info": {
   "codemirror_mode": {
    "name": "ipython",
    "version": 3
   },
   "file_extension": ".py",
   "mimetype": "text/x-python",
   "name": "python",
   "nbconvert_exporter": "python",
   "pygments_lexer": "ipython3",
   "version": "3.9.12"
  }
 },
 "nbformat": 4,
 "nbformat_minor": 5
}
