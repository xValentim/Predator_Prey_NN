{
 "cells": [
  {
   "cell_type": "code",
   "execution_count": 1,
   "id": "7f6ef784",
   "metadata": {},
   "outputs": [
    {
     "name": "stderr",
     "output_type": "stream",
     "text": [
      "C:\\Users\\gabri\\anaconda3\\lib\\site-packages\\numpy\\_distributor_init.py:30: UserWarning: loaded more than 1 DLL from .libs:\n",
      "C:\\Users\\gabri\\anaconda3\\lib\\site-packages\\numpy\\.libs\\libopenblas.EL2C6PLE4ZYW3ECEVIV3OXXGRN2NRFM2.gfortran-win_amd64.dll\n",
      "C:\\Users\\gabri\\anaconda3\\lib\\site-packages\\numpy\\.libs\\libopenblas.WCDJNK7YVMPZQ2ME2ZZHJJRJ3JIKNDB7.gfortran-win_amd64.dll\n",
      "  warnings.warn(\"loaded more than 1 DLL from .libs:\"\n"
     ]
    }
   ],
   "source": [
    "import numpy as np\n",
    "import pandas as pd\n",
    "import matplotlib.pyplot as plt"
   ]
  },
  {
   "cell_type": "code",
   "execution_count": 2,
   "id": "30c5b778",
   "metadata": {},
   "outputs": [],
   "source": [
    "data = {}"
   ]
  },
  {
   "cell_type": "code",
   "execution_count": 3,
   "id": "fc34aa31",
   "metadata": {},
   "outputs": [],
   "source": [
    "for i in range(20):\n",
    "    data[i] = pd.read_csv(f'results_{i}.csv')"
   ]
  },
  {
   "cell_type": "code",
   "execution_count": 4,
   "id": "e0a4a3af",
   "metadata": {},
   "outputs": [],
   "source": [
    "teste0 = pd.read_csv('results_0.csv')\n",
    "teste1 = pd.read_csv('results_1.csv')"
   ]
  },
  {
   "cell_type": "code",
   "execution_count": 5,
   "id": "d38447b1",
   "metadata": {},
   "outputs": [],
   "source": [
    "teste0['rho'] = (teste0['rho'] + teste1['rho']) / 2"
   ]
  },
  {
   "cell_type": "code",
   "execution_count": 6,
   "id": "4d89e888",
   "metadata": {
    "scrolled": true
   },
   "outputs": [],
   "source": [
    "for i in range(1, 20):\n",
    "    data[0]['rho'] += data[i]['rho']\n",
    "data[0]['rho'] = data[0]['rho'] / 20"
   ]
  },
  {
   "cell_type": "code",
   "execution_count": null,
   "id": "54fba727",
   "metadata": {},
   "outputs": [],
   "source": []
  },
  {
   "cell_type": "code",
   "execution_count": 7,
   "id": "e179f657",
   "metadata": {},
   "outputs": [
    {
     "data": {
      "text/plain": [
       "2.302585092994046"
      ]
     },
     "execution_count": 7,
     "metadata": {},
     "output_type": "execute_result"
    }
   ],
   "source": [
    "np.log(10)"
   ]
  },
  {
   "cell_type": "code",
   "execution_count": 9,
   "id": "f3d61e2b",
   "metadata": {},
   "outputs": [
    {
     "name": "stderr",
     "output_type": "stream",
     "text": [
      "C:\\Users\\gabri\\anaconda3\\lib\\site-packages\\pandas\\core\\arraylike.py:397: RuntimeWarning: divide by zero encountered in log\n",
      "  result = getattr(ufunc, method)(*inputs, **kwargs)\n"
     ]
    },
    {
     "data": {
      "text/plain": [
       "[<matplotlib.lines.Line2D at 0x214190cd820>]"
      ]
     },
     "execution_count": 9,
     "metadata": {},
     "output_type": "execute_result"
    },
    {
     "data": {
      "image/png": "[encoded data removed]",
      "text/plain": [
       "<Figure size 432x288 with 1 Axes>"
      ]
     },
     "metadata": {
      "needs_background": "light"
     },
     "output_type": "display_data"
    }
   ],
   "source": [
    "plt.plot(np.log(data[0]['time']//100)[75:], np.log(data[0]['rho'])[75:])"
   ]
  },
  {
   "cell_type": "code",
   "execution_count": 10,
   "id": "1c8ee0c3",
   "metadata": {
    "scrolled": true
   },
   "outputs": [
    {
     "name": "stderr",
     "output_type": "stream",
     "text": [
      "C:\\Users\\gabri\\anaconda3\\lib\\site-packages\\pandas\\core\\arraylike.py:397: RuntimeWarning: divide by zero encountered in log\n",
      "  result = getattr(ufunc, method)(*inputs, **kwargs)\n"
     ]
    },
    {
     "data": {
      "text/plain": [
       "[<matplotlib.lines.Line2D at 0x2141af361c0>]"
      ]
     },
     "execution_count": 10,
     "metadata": {},
     "output_type": "execute_result"
    },
    {
     "data": {
      "image/png": "[encoded data removed]",
      "text/plain": [
       "<Figure size 432x288 with 1 Axes>"
      ]
     },
     "metadata": {
      "needs_background": "light"
     },
     "output_type": "display_data"
    }
   ],
   "source": [
    "plt.plot(np.log(data[0]['time']/100)[200:600], np.log(data[0]['rho'])[200:600])"
   ]
  },
  {
   "cell_type": "code",
   "execution_count": 11,
   "id": "472fbee2",
   "metadata": {},
   "outputs": [
    {
     "data": {
      "text/plain": [
       "22026.4651093632"
      ]
     },
     "execution_count": 11,
     "metadata": {},
     "output_type": "execute_result"
    }
   ],
   "source": [
    "2.71828182 ** 10"
   ]
  },
  {
   "cell_type": "code",
   "execution_count": 12,
   "id": "542f99de",
   "metadata": {},
   "outputs": [],
   "source": [
    "from sklearn.linear_model import LinearRegression"
   ]
  },
  {
   "cell_type": "code",
   "execution_count": 13,
   "id": "1cb99774",
   "metadata": {},
   "outputs": [],
   "source": [
    "LR = LinearRegression()"
   ]
  },
  {
   "cell_type": "code",
   "execution_count": 14,
   "id": "c820a8f1",
   "metadata": {},
   "outputs": [],
   "source": [
    "# np.array(data['time'][50:])"
   ]
  },
  {
   "cell_type": "code",
   "execution_count": 15,
   "id": "9133bdbc",
   "metadata": {},
   "outputs": [],
   "source": [
    "X, y = np.array(np.log(data[0]['time'][200:600]/100)), np.log(np.array(data[0]['rho'][200:600]))"
   ]
  },
  {
   "cell_type": "code",
   "execution_count": 16,
   "id": "a1f2235b",
   "metadata": {
    "scrolled": true
   },
   "outputs": [
    {
     "data": {
      "text/plain": [
       "array([[5.29831737],\n",
       "       [5.30330491],\n",
       "       [5.3082677 ],\n",
       "       [5.31320598],\n",
       "       [5.31811999],\n",
       "       [5.32300998],\n",
       "       [5.32787617],\n",
       "       [5.33271879],\n",
       "       [5.33753808],\n",
       "       [5.34233425],\n",
       "       [5.34710753],\n",
       "       [5.35185813],\n",
       "       [5.35658627],\n",
       "       [5.36129217],\n",
       "       [5.36597602],\n",
       "       [5.37063803],\n",
       "       [5.37527841],\n",
       "       [5.37989735],\n",
       "       [5.38449506],\n",
       "       [5.38907173],\n",
       "       [5.39362755],\n",
       "       [5.3981627 ],\n",
       "       [5.40267738],\n",
       "       [5.40717177],\n",
       "       [5.41164605],\n",
       "       [5.4161004 ],\n",
       "       [5.420535  ],\n",
       "       [5.42495002],\n",
       "       [5.42934563],\n",
       "       [5.433722  ],\n",
       "       [5.43807931],\n",
       "       [5.44241771],\n",
       "       [5.44673737],\n",
       "       [5.45103845],\n",
       "       [5.45532112],\n",
       "       [5.45958551],\n",
       "       [5.46383181],\n",
       "       [5.46806014],\n",
       "       [5.47227067],\n",
       "       [5.47646355],\n",
       "       [5.48063892],\n",
       "       [5.48479693],\n",
       "       [5.48893773],\n",
       "       [5.49306144],\n",
       "       [5.49716823],\n",
       "       [5.50125821],\n",
       "       [5.50533154],\n",
       "       [5.50938834],\n",
       "       [5.51342875],\n",
       "       [5.5174529 ],\n",
       "       [5.52146092],\n",
       "       [5.52545294],\n",
       "       [5.52942909],\n",
       "       [5.53338949],\n",
       "       [5.53733427],\n",
       "       [5.54126355],\n",
       "       [5.54517744],\n",
       "       [5.54907608],\n",
       "       [5.55295958],\n",
       "       [5.55682806],\n",
       "       [5.56068163],\n",
       "       [5.56452041],\n",
       "       [5.5683445 ],\n",
       "       [5.57215403],\n",
       "       [5.5759491 ],\n",
       "       [5.57972983],\n",
       "       [5.58349631],\n",
       "       [5.58724866],\n",
       "       [5.59098698],\n",
       "       [5.59471138],\n",
       "       [5.59842196],\n",
       "       [5.60211882],\n",
       "       [5.60580207],\n",
       "       [5.6094718 ],\n",
       "       [5.61312811],\n",
       "       [5.6167711 ],\n",
       "       [5.62040087],\n",
       "       [5.62401751],\n",
       "       [5.62762111],\n",
       "       [5.63121178],\n",
       "       [5.6347896 ],\n",
       "       [5.63835467],\n",
       "       [5.64190707],\n",
       "       [5.6454469 ],\n",
       "       [5.64897424],\n",
       "       [5.65248918],\n",
       "       [5.65599181],\n",
       "       [5.65948222],\n",
       "       [5.66296048],\n",
       "       [5.66642669],\n",
       "       [5.66988092],\n",
       "       [5.67332327],\n",
       "       [5.6767538 ],\n",
       "       [5.68017261],\n",
       "       [5.68357977],\n",
       "       [5.68697536],\n",
       "       [5.69035945],\n",
       "       [5.69373214],\n",
       "       [5.69709349],\n",
       "       [5.70044357],\n",
       "       [5.70378247],\n",
       "       [5.70711026],\n",
       "       [5.71042702],\n",
       "       [5.71373281],\n",
       "       [5.7170277 ],\n",
       "       [5.72031178],\n",
       "       [5.7235851 ],\n",
       "       [5.72684775],\n",
       "       [5.73009978],\n",
       "       [5.73334128],\n",
       "       [5.7365723 ],\n",
       "       [5.73979291],\n",
       "       [5.74300319],\n",
       "       [5.74620319],\n",
       "       [5.74939299],\n",
       "       [5.75257264],\n",
       "       [5.75574221],\n",
       "       [5.75890177],\n",
       "       [5.76205138],\n",
       "       [5.7651911 ],\n",
       "       [5.768321  ],\n",
       "       [5.77144112],\n",
       "       [5.77455155],\n",
       "       [5.77765232],\n",
       "       [5.78074352],\n",
       "       [5.78382518],\n",
       "       [5.78689738],\n",
       "       [5.78996017],\n",
       "       [5.79301361],\n",
       "       [5.79605775],\n",
       "       [5.79909265],\n",
       "       [5.80211838],\n",
       "       [5.80513497],\n",
       "       [5.80814249],\n",
       "       [5.81114099],\n",
       "       [5.81413053],\n",
       "       [5.81711116],\n",
       "       [5.82008293],\n",
       "       [5.8230459 ],\n",
       "       [5.82600011],\n",
       "       [5.82894562],\n",
       "       [5.83188248],\n",
       "       [5.83481074],\n",
       "       [5.83773045],\n",
       "       [5.84064166],\n",
       "       [5.84354442],\n",
       "       [5.84643878],\n",
       "       [5.84932478],\n",
       "       [5.85220248],\n",
       "       [5.85507192],\n",
       "       [5.85793315],\n",
       "       [5.86078622],\n",
       "       [5.86363118],\n",
       "       [5.86646806],\n",
       "       [5.86929691],\n",
       "       [5.87211779],\n",
       "       [5.87493073],\n",
       "       [5.87773578],\n",
       "       [5.88053299],\n",
       "       [5.88332239],\n",
       "       [5.88610403],\n",
       "       [5.88887796],\n",
       "       [5.89164421],\n",
       "       [5.89440283],\n",
       "       [5.89715387],\n",
       "       [5.89989735],\n",
       "       [5.90263333],\n",
       "       [5.90536185],\n",
       "       [5.90808294],\n",
       "       [5.91079664],\n",
       "       [5.91350301],\n",
       "       [5.91620206],\n",
       "       [5.91889385],\n",
       "       [5.92157842],\n",
       "       [5.9242558 ],\n",
       "       [5.92692603],\n",
       "       [5.92958914],\n",
       "       [5.93224519],\n",
       "       [5.9348942 ],\n",
       "       [5.93753621],\n",
       "       [5.94017125],\n",
       "       [5.94279938],\n",
       "       [5.94542061],\n",
       "       [5.94803499],\n",
       "       [5.95064255],\n",
       "       [5.95324333],\n",
       "       [5.95583737],\n",
       "       [5.95842469],\n",
       "       [5.96100534],\n",
       "       [5.96357934],\n",
       "       [5.96614674],\n",
       "       [5.96870756],\n",
       "       [5.97126184],\n",
       "       [5.97380961],\n",
       "       [5.97635091],\n",
       "       [5.97888576],\n",
       "       [5.98141421],\n",
       "       [5.98393628],\n",
       "       [5.98645201],\n",
       "       [5.98896142],\n",
       "       [5.99146455],\n",
       "       [5.99396143],\n",
       "       [5.99645209],\n",
       "       [5.99893656],\n",
       "       [6.00141488],\n",
       "       [6.00388707],\n",
       "       [6.00635316],\n",
       "       [6.00881319],\n",
       "       [6.01126717],\n",
       "       [6.01371516],\n",
       "       [6.01615716],\n",
       "       [6.01859321],\n",
       "       [6.02102335],\n",
       "       [6.02344759],\n",
       "       [6.02586597],\n",
       "       [6.02827852],\n",
       "       [6.03068526],\n",
       "       [6.03308622],\n",
       "       [6.03548143],\n",
       "       [6.03787092],\n",
       "       [6.04025471],\n",
       "       [6.04263283],\n",
       "       [6.04500531],\n",
       "       [6.04737218],\n",
       "       [6.04973346],\n",
       "       [6.05208917],\n",
       "       [6.05443935],\n",
       "       [6.05678401],\n",
       "       [6.0591232 ],\n",
       "       [6.06145692],\n",
       "       [6.06378521],\n",
       "       [6.06610809],\n",
       "       [6.06842559],\n",
       "       [6.07073773],\n",
       "       [6.07304453],\n",
       "       [6.07534603],\n",
       "       [6.07764224],\n",
       "       [6.0799332 ],\n",
       "       [6.08221891],\n",
       "       [6.08449941],\n",
       "       [6.08677473],\n",
       "       [6.08904488],\n",
       "       [6.09130988],\n",
       "       [6.09356977],\n",
       "       [6.09582456],\n",
       "       [6.09807428],\n",
       "       [6.10031895],\n",
       "       [6.10255859],\n",
       "       [6.10479323],\n",
       "       [6.10702289],\n",
       "       [6.10924758],\n",
       "       [6.11146734],\n",
       "       [6.11368218],\n",
       "       [6.11589213],\n",
       "       [6.1180972 ],\n",
       "       [6.12029742],\n",
       "       [6.12249281],\n",
       "       [6.12468339],\n",
       "       [6.12686918],\n",
       "       [6.12905021],\n",
       "       [6.13122649],\n",
       "       [6.13339804],\n",
       "       [6.13556489],\n",
       "       [6.13772705],\n",
       "       [6.13988455],\n",
       "       [6.14203741],\n",
       "       [6.14418563],\n",
       "       [6.14632926],\n",
       "       [6.1484683 ],\n",
       "       [6.15060277],\n",
       "       [6.15273269],\n",
       "       [6.15485809],\n",
       "       [6.15697899],\n",
       "       [6.15909539],\n",
       "       [6.16120732],\n",
       "       [6.1633148 ],\n",
       "       [6.16541785],\n",
       "       [6.16751649],\n",
       "       [6.16961073],\n",
       "       [6.1717006 ],\n",
       "       [6.1737861 ],\n",
       "       [6.17586727],\n",
       "       [6.17794411],\n",
       "       [6.18001665],\n",
       "       [6.18208491],\n",
       "       [6.18414889],\n",
       "       [6.18620862],\n",
       "       [6.18826412],\n",
       "       [6.19031541],\n",
       "       [6.19236249],\n",
       "       [6.19440539],\n",
       "       [6.19644413],\n",
       "       [6.19847872],\n",
       "       [6.20050917],\n",
       "       [6.20253552],\n",
       "       [6.20455776],\n",
       "       [6.20657593],\n",
       "       [6.20859003],\n",
       "       [6.21060008],\n",
       "       [6.2126061 ],\n",
       "       [6.2146081 ],\n",
       "       [6.2166061 ],\n",
       "       [6.21860012],\n",
       "       [6.22059017],\n",
       "       [6.22257627],\n",
       "       [6.22455843],\n",
       "       [6.22653667],\n",
       "       [6.228511  ],\n",
       "       [6.23048145],\n",
       "       [6.23244802],\n",
       "       [6.23441073],\n",
       "       [6.23636959],\n",
       "       [6.23832463],\n",
       "       [6.24027585],\n",
       "       [6.24222327],\n",
       "       [6.2441669 ],\n",
       "       [6.24610677],\n",
       "       [6.24804287],\n",
       "       [6.24997524],\n",
       "       [6.25190388],\n",
       "       [6.25382881],\n",
       "       [6.25575004],\n",
       "       [6.25766759],\n",
       "       [6.25958146],\n",
       "       [6.26149168],\n",
       "       [6.26339826],\n",
       "       [6.26530121],\n",
       "       [6.26720055],\n",
       "       [6.26909628],\n",
       "       [6.27098843],\n",
       "       [6.27287701],\n",
       "       [6.27476202],\n",
       "       [6.27664349],\n",
       "       [6.27852142],\n",
       "       [6.28039584],\n",
       "       [6.28226675],\n",
       "       [6.28413416],\n",
       "       [6.28599809],\n",
       "       [6.28785856],\n",
       "       [6.28971557],\n",
       "       [6.29156914],\n",
       "       [6.29341928],\n",
       "       [6.295266  ],\n",
       "       [6.29710932],\n",
       "       [6.29894925],\n",
       "       [6.30078579],\n",
       "       [6.30261898],\n",
       "       [6.3044488 ],\n",
       "       [6.30627529],\n",
       "       [6.30809844],\n",
       "       [6.30991828],\n",
       "       [6.31173481],\n",
       "       [6.31354805],\n",
       "       [6.315358  ],\n",
       "       [6.31716469],\n",
       "       [6.31896811],\n",
       "       [6.32076829],\n",
       "       [6.32256524],\n",
       "       [6.32435896],\n",
       "       [6.32614947],\n",
       "       [6.32793678],\n",
       "       [6.32972091],\n",
       "       [6.33150185],\n",
       "       [6.33327963],\n",
       "       [6.33505425],\n",
       "       [6.33682573],\n",
       "       [6.33859408],\n",
       "       [6.3403593 ],\n",
       "       [6.34212142],\n",
       "       [6.34388043],\n",
       "       [6.34563636],\n",
       "       [6.34738921],\n",
       "       [6.34913899],\n",
       "       [6.35088572],\n",
       "       [6.3526294 ],\n",
       "       [6.35437004],\n",
       "       [6.35610766],\n",
       "       [6.35784227],\n",
       "       [6.35957387],\n",
       "       [6.36130248],\n",
       "       [6.3630281 ],\n",
       "       [6.36475076],\n",
       "       [6.36647045],\n",
       "       [6.36818719],\n",
       "       [6.36990098],\n",
       "       [6.37161185],\n",
       "       [6.37331979],\n",
       "       [6.37502482],\n",
       "       [6.37672695],\n",
       "       [6.37842618],\n",
       "       [6.38012254],\n",
       "       [6.38181602],\n",
       "       [6.38350663],\n",
       "       [6.3851944 ],\n",
       "       [6.38687932],\n",
       "       [6.38856141],\n",
       "       [6.39024067],\n",
       "       [6.39191711],\n",
       "       [6.39359075],\n",
       "       [6.3952616 ]])"
      ]
     },
     "execution_count": 16,
     "metadata": {},
     "output_type": "execute_result"
    }
   ],
   "source": [
    "X.reshape(-1, 1)"
   ]
  },
  {
   "cell_type": "code",
   "execution_count": 17,
   "id": "7aeb2009",
   "metadata": {},
   "outputs": [
    {
     "data": {
      "text/plain": [
       "LinearRegression()"
      ]
     },
     "execution_count": 17,
     "metadata": {},
     "output_type": "execute_result"
    }
   ],
   "source": [
    "LR.fit(X.reshape(-1, 1), y.reshape(-1, 1))"
   ]
  },
  {
   "cell_type": "code",
   "execution_count": 18,
   "id": "4418c606",
   "metadata": {},
   "outputs": [
    {
     "data": {
      "text/plain": [
       "array([[-0.4558853]])"
      ]
     },
     "execution_count": 18,
     "metadata": {},
     "output_type": "execute_result"
    }
   ],
   "source": [
    "LR.coef_"
   ]
  },
  {
   "cell_type": "code",
   "execution_count": 19,
   "id": "b22dae92",
   "metadata": {},
   "outputs": [
    {
     "name": "stderr",
     "output_type": "stream",
     "text": [
      "C:\\Users\\gabri\\anaconda3\\lib\\site-packages\\pandas\\core\\arraylike.py:397: RuntimeWarning: divide by zero encountered in log\n",
      "  result = getattr(ufunc, method)(*inputs, **kwargs)\n"
     ]
    },
    {
     "data": {
      "text/plain": [
       "[<matplotlib.lines.Line2D at 0x2142c0b9910>]"
      ]
     },
     "execution_count": 19,
     "metadata": {},
     "output_type": "execute_result"
    },
    {
     "data": {
      "image/png": "[encoded data removed]",
      "text/plain": [
       "<Figure size 432x288 with 1 Axes>"
      ]
     },
     "metadata": {
      "needs_background": "light"
     },
     "output_type": "display_data"
    }
   ],
   "source": [
    "plt.plot(np.log(data[0]['time']/100)[200:600], np.log(data[0]['rho'])[200:600])\n",
    "plt.plot([5.4, 6.4], [ LR.predict([[5.4]])[0][0], LR.predict([[6.4]])[0][0] ])"
   ]
  },
  {
   "cell_type": "code",
   "execution_count": 20,
   "id": "d7593caa",
   "metadata": {},
   "outputs": [
    {
     "data": {
      "text/plain": [
       "-0.4558852998928473"
      ]
     },
     "execution_count": 20,
     "metadata": {},
     "output_type": "execute_result"
    }
   ],
   "source": [
    "(LR.predict([[4]])[0][0] - LR.predict([[5]])[0][0])/(4 - 5)"
   ]
  },
  {
   "cell_type": "code",
   "execution_count": 46,
   "id": "62003121",
   "metadata": {},
   "outputs": [],
   "source": [
    "data_2 = pd.read_csv(f'results_0_random.csv')"
   ]
  },
  {
   "cell_type": "code",
   "execution_count": 47,
   "id": "ccded0e7",
   "metadata": {},
   "outputs": [
    {
     "data": {
      "text/html": [
       "<div>\n",
       "<style scoped>\n",
       "    .dataframe tbody tr th:only-of-type {\n",
       "        vertical-align: middle;\n",
       "    }\n",
       "\n",
       "    .dataframe tbody tr th {\n",
       "        vertical-align: top;\n",
       "    }\n",
       "\n",
       "    .dataframe thead th {\n",
       "        text-align: right;\n",
       "    }\n",
       "</style>\n",
       "<table border=\"1\" class=\"dataframe\">\n",
       "  <thead>\n",
       "    <tr style=\"text-align: right;\">\n",
       "      <th></th>\n",
       "      <th>time</th>\n",
       "      <th>rho</th>\n",
       "    </tr>\n",
       "  </thead>\n",
       "  <tbody>\n",
       "    <tr>\n",
       "      <th>0</th>\n",
       "      <td>0</td>\n",
       "      <td>0.496756</td>\n",
       "    </tr>\n",
       "    <tr>\n",
       "      <th>1</th>\n",
       "      <td>100</td>\n",
       "      <td>0.471022</td>\n",
       "    </tr>\n",
       "    <tr>\n",
       "      <th>2</th>\n",
       "      <td>200</td>\n",
       "      <td>0.444622</td>\n",
       "    </tr>\n",
       "    <tr>\n",
       "      <th>3</th>\n",
       "      <td>300</td>\n",
       "      <td>0.412578</td>\n",
       "    </tr>\n",
       "    <tr>\n",
       "      <th>4</th>\n",
       "      <td>400</td>\n",
       "      <td>0.379467</td>\n",
       "    </tr>\n",
       "    <tr>\n",
       "      <th>...</th>\n",
       "      <td>...</td>\n",
       "      <td>...</td>\n",
       "    </tr>\n",
       "    <tr>\n",
       "      <th>895</th>\n",
       "      <td>89500</td>\n",
       "      <td>0.019156</td>\n",
       "    </tr>\n",
       "    <tr>\n",
       "      <th>896</th>\n",
       "      <td>89600</td>\n",
       "      <td>0.018356</td>\n",
       "    </tr>\n",
       "    <tr>\n",
       "      <th>897</th>\n",
       "      <td>89700</td>\n",
       "      <td>0.018533</td>\n",
       "    </tr>\n",
       "    <tr>\n",
       "      <th>898</th>\n",
       "      <td>89800</td>\n",
       "      <td>0.018622</td>\n",
       "    </tr>\n",
       "    <tr>\n",
       "      <th>899</th>\n",
       "      <td>89900</td>\n",
       "      <td>0.018711</td>\n",
       "    </tr>\n",
       "  </tbody>\n",
       "</table>\n",
       "<p>900 rows × 2 columns</p>\n",
       "</div>"
      ],
      "text/plain": [
       "      time       rho\n",
       "0        0  0.496756\n",
       "1      100  0.471022\n",
       "2      200  0.444622\n",
       "3      300  0.412578\n",
       "4      400  0.379467\n",
       "..     ...       ...\n",
       "895  89500  0.019156\n",
       "896  89600  0.018356\n",
       "897  89700  0.018533\n",
       "898  89800  0.018622\n",
       "899  89900  0.018711\n",
       "\n",
       "[900 rows x 2 columns]"
      ]
     },
     "execution_count": 47,
     "metadata": {},
     "output_type": "execute_result"
    }
   ],
   "source": [
    "data_2"
   ]
  },
  {
   "cell_type": "code",
   "execution_count": 50,
   "id": "f52fa0eb",
   "metadata": {
    "scrolled": true
   },
   "outputs": [
    {
     "name": "stderr",
     "output_type": "stream",
     "text": [
      "C:\\Users\\gabri\\anaconda3\\lib\\site-packages\\pandas\\core\\arraylike.py:397: RuntimeWarning: divide by zero encountered in log\n",
      "  result = getattr(ufunc, method)(*inputs, **kwargs)\n",
      "C:\\Users\\gabri\\anaconda3\\lib\\site-packages\\pandas\\core\\arraylike.py:397: RuntimeWarning: divide by zero encountered in log\n",
      "  result = getattr(ufunc, method)(*inputs, **kwargs)\n",
      "C:\\Users\\gabri\\anaconda3\\lib\\site-packages\\pandas\\core\\arraylike.py:397: RuntimeWarning: divide by zero encountered in log\n",
      "  result = getattr(ufunc, method)(*inputs, **kwargs)\n",
      "C:\\Users\\gabri\\anaconda3\\lib\\site-packages\\pandas\\core\\arraylike.py:397: RuntimeWarning: divide by zero encountered in log\n",
      "  result = getattr(ufunc, method)(*inputs, **kwargs)\n"
     ]
    },
    {
     "data": {
      "text/plain": [
       "[<matplotlib.lines.Line2D at 0x214306a1b80>]"
      ]
     },
     "execution_count": 50,
     "metadata": {},
     "output_type": "execute_result"
    },
    {
     "data": {
      "image/png": "[encoded data removed]",
      "text/plain": [
       "<Figure size 432x288 with 1 Axes>"
      ]
     },
     "metadata": {
      "needs_background": "light"
     },
     "output_type": "display_data"
    }
   ],
   "source": [
    "plt.plot(np.log(data_policy2['time']//100)[75:], np.log(data_policy2['rho'])[75:])\n",
    "plt.plot(np.log(data_policy['time']//100)[75:], np.log(data_policy['rho'])[75:])\n",
    "plt.plot(np.log(data_2['time']//100)[75:], np.log(data_2['rho'])[75:])\n",
    "plt.plot(np.log(data[0]['time']//100)[75:], np.log(data[0]['rho'])[75:])"
   ]
  },
  {
   "cell_type": "code",
   "execution_count": 88,
   "id": "862fba8c",
   "metadata": {},
   "outputs": [],
   "source": [
    "data_policy5 = pd.read_csv(f'results_1_w_policy_270.csv')"
   ]
  },
  {
   "cell_type": "code",
   "execution_count": 90,
   "id": "c6a29fa1",
   "metadata": {},
   "outputs": [
    {
     "name": "stderr",
     "output_type": "stream",
     "text": [
      "C:\\Users\\gabri\\anaconda3\\lib\\site-packages\\pandas\\core\\arraylike.py:397: RuntimeWarning: divide by zero encountered in log\n",
      "  result = getattr(ufunc, method)(*inputs, **kwargs)\n",
      "C:\\Users\\gabri\\anaconda3\\lib\\site-packages\\pandas\\core\\arraylike.py:397: RuntimeWarning: divide by zero encountered in log\n",
      "  result = getattr(ufunc, method)(*inputs, **kwargs)\n",
      "C:\\Users\\gabri\\anaconda3\\lib\\site-packages\\pandas\\core\\arraylike.py:397: RuntimeWarning: divide by zero encountered in log\n",
      "  result = getattr(ufunc, method)(*inputs, **kwargs)\n"
     ]
    },
    {
     "data": {
      "text/plain": [
       "[<matplotlib.lines.Line2D at 0x214362cf940>]"
      ]
     },
     "execution_count": 90,
     "metadata": {},
     "output_type": "execute_result"
    },
    {
     "data": {
      "image/png": "[encoded data removed]",
      "text/plain": [
       "<Figure size 432x288 with 1 Axes>"
      ]
     },
     "metadata": {
      "needs_background": "light"
     },
     "output_type": "display_data"
    }
   ],
   "source": [
    "plt.plot(np.log(data_policy4['time']//100)[75:400], np.log(data_policy4['rho'])[75:400])\n",
    "# plt.plot(np.log(data_policy3['time']//100)[10:400], np.log(data_policy3['rho'])[10:400])\n",
    "plt.plot(np.log(data_2['time']//100)[75:400], np.log(data_2['rho'])[75:400])\n",
    "plt.plot(np.log(data[0]['time']//100)[75:400], np.log(data[0]['rho'])[75:400])"
   ]
  },
  {
   "cell_type": "code",
   "execution_count": 54,
   "id": "0b12f03d",
   "metadata": {},
   "outputs": [],
   "source": [
    "reg_2 = LinearRegression()"
   ]
  },
  {
   "cell_type": "code",
   "execution_count": 62,
   "id": "bf32bce8",
   "metadata": {},
   "outputs": [],
   "source": [
    "X2, y2 = np.array(np.log(data_2['time'][75:400]/100)), np.log(np.array(data_2['rho'][75:400]))"
   ]
  },
  {
   "cell_type": "code",
   "execution_count": 63,
   "id": "47cbdf81",
   "metadata": {},
   "outputs": [
    {
     "data": {
      "text/plain": [
       "LinearRegression()"
      ]
     },
     "execution_count": 63,
     "metadata": {},
     "output_type": "execute_result"
    }
   ],
   "source": [
    "reg_2.fit(X2.reshape(-1, 1), y2.reshape(-1, 1))"
   ]
  },
  {
   "cell_type": "code",
   "execution_count": 79,
   "id": "85b95a2c",
   "metadata": {},
   "outputs": [],
   "source": []
  },
  {
   "cell_type": "code",
   "execution_count": 64,
   "id": "e09b26b0",
   "metadata": {},
   "outputs": [
    {
     "data": {
      "text/plain": [
       "array([[-0.40514957]])"
      ]
     },
     "execution_count": 64,
     "metadata": {},
     "output_type": "execute_result"
    }
   ],
   "source": [
    "reg_2.coef_"
   ]
  },
  {
   "cell_type": "code",
   "execution_count": 80,
   "id": "cc6b94df",
   "metadata": {},
   "outputs": [],
   "source": [
    "reg_3 = LinearRegression()"
   ]
  },
  {
   "cell_type": "code",
   "execution_count": 81,
   "id": "472ccc64",
   "metadata": {},
   "outputs": [],
   "source": [
    "X3, y3 = np.array(np.log(data_policy4['time'][75:400]/100)), np.log(np.array(data_policy4['rho'][75:400]))"
   ]
  },
  {
   "cell_type": "code",
   "execution_count": 82,
   "id": "545f70d4",
   "metadata": {},
   "outputs": [
    {
     "data": {
      "text/plain": [
       "LinearRegression()"
      ]
     },
     "execution_count": 82,
     "metadata": {},
     "output_type": "execute_result"
    }
   ],
   "source": [
    "reg_3.fit(X3.reshape(-1, 1), y3.reshape(-1, 1))"
   ]
  },
  {
   "cell_type": "code",
   "execution_count": 83,
   "id": "73228c47",
   "metadata": {},
   "outputs": [
    {
     "data": {
      "text/plain": [
       "array([[-0.26698566]])"
      ]
     },
     "execution_count": 83,
     "metadata": {},
     "output_type": "execute_result"
    }
   ],
   "source": [
    "reg_3.coef_"
   ]
  },
  {
   "cell_type": "code",
   "execution_count": 87,
   "id": "a82e074c",
   "metadata": {
    "scrolled": false
   },
   "outputs": [
    {
     "name": "stderr",
     "output_type": "stream",
     "text": [
      "C:\\Users\\gabri\\anaconda3\\lib\\site-packages\\pandas\\core\\arraylike.py:397: RuntimeWarning: divide by zero encountered in log\n",
      "  result = getattr(ufunc, method)(*inputs, **kwargs)\n",
      "C:\\Users\\gabri\\anaconda3\\lib\\site-packages\\pandas\\core\\arraylike.py:397: RuntimeWarning: divide by zero encountered in log\n",
      "  result = getattr(ufunc, method)(*inputs, **kwargs)\n",
      "C:\\Users\\gabri\\anaconda3\\lib\\site-packages\\pandas\\core\\arraylike.py:397: RuntimeWarning: divide by zero encountered in log\n",
      "  result = getattr(ufunc, method)(*inputs, **kwargs)\n"
     ]
    },
    {
     "data": {
      "text/plain": [
       "[<matplotlib.lines.Line2D at 0x214361f0dc0>]"
      ]
     },
     "execution_count": 87,
     "metadata": {},
     "output_type": "execute_result"
    },
    {
     "data": {
      "image/png": "[encoded data removed]",
      "text/plain": [
       "<Figure size 432x288 with 1 Axes>"
      ]
     },
     "metadata": {
      "needs_background": "light"
     },
     "output_type": "display_data"
    }
   ],
   "source": [
    "plt.plot(np.log(data_policy4['time']//100)[75:400], np.log(data_policy4['rho'])[75:400])\n",
    "# plt.plot(np.log(data_policy3['time']//100)[10:400], np.log(data_policy3['rho'])[10:400])\n",
    "plt.plot(np.log(data_2['time']//100)[75:400], np.log(data_2['rho'])[75:400])\n",
    "plt.plot(np.log(data[0]['time']//100)[75:400], np.log(data[0]['rho'])[75:400])\n",
    "plt.plot([4.3, 6], [ reg_3.predict([[4.3]])[0][0], reg_3.predict([[6]])[0][0] ])"
   ]
  },
  {
   "cell_type": "code",
   "execution_count": null,
   "id": "f2fe6c1a",
   "metadata": {},
   "outputs": [],
   "source": []
  },
  {
   "cell_type": "code",
   "execution_count": null,
   "id": "9b1df28c",
   "metadata": {},
   "outputs": [],
   "source": []
  },
  {
   "cell_type": "code",
   "execution_count": null,
   "id": "92909317",
   "metadata": {},
   "outputs": [],
   "source": []
  },
  {
   "cell_type": "code",
   "execution_count": null,
   "id": "25129567",
   "metadata": {},
   "outputs": [],
   "source": []
  },
  {
   "cell_type": "code",
   "execution_count": null,
   "id": "2aac42c4",
   "metadata": {},
   "outputs": [],
   "source": []
  },
  {
   "cell_type": "code",
   "execution_count": null,
   "id": "b08c8137",
   "metadata": {},
   "outputs": [],
   "source": []
  },
  {
   "cell_type": "code",
   "execution_count": null,
   "id": "2d310738",
   "metadata": {},
   "outputs": [],
   "source": []
  },
  {
   "cell_type": "code",
   "execution_count": 160,
   "id": "ed460d6b",
   "metadata": {},
   "outputs": [],
   "source": [
    "data_policy0 = pd.read_csv(f'results_0_w_policy_270.csv')\n",
    "data_policy1 = pd.read_csv(f'results_1_w_policy_270.csv')\n",
    "data_policy2 = pd.read_csv(f'results_2_w_policy_270.csv')\n",
    "data_policy3 = pd.read_csv(f'results_3_w_policy_270.csv')\n",
    "data_policy4 = pd.read_csv(f'results_4_w_policy_270.csv')\n",
    "data_policy5 = pd.read_csv(f'results_5_w_policy_270.csv')\n",
    "data_policy6 = pd.read_csv(f'results_6_w_policy_270.csv')\n",
    "data_policy7 = pd.read_csv(f'results_7_w_policy_270.csv')\n",
    "data_policy8 = pd.read_csv(f'results_8_w_policy_270.csv')\n",
    "data_policy9 = pd.read_csv(f'results_9_w_policy_270.csv')\n",
    "data_policy10 = pd.read_csv(f'results_10_w_policy_270.csv')\n",
    "data_policy11 = pd.read_csv(f'results_11_w_policy_270.csv')\n",
    "data_policy12 = pd.read_csv(f'results_12_w_policy_270.csv')\n",
    "\n",
    "data_policy0['rho'] = (data_policy0['rho'] + \n",
    "                       data_policy1['rho'] + \n",
    "                       data_policy2['rho'] + \n",
    "                       data_policy3['rho'] +\n",
    "                       data_policy4['rho'] +\n",
    "                       data_policy5['rho'] + \n",
    "                       data_policy6['rho'] +\n",
    "                       data_policy7['rho'] +\n",
    "                       data_policy8['rho'] +\n",
    "                       data_policy9['rho'] +\n",
    "                       data_policy10['rho'] +\n",
    "                       data_policy11['rho'] +\n",
    "                       data_policy12['rho'])/13"
   ]
  },
  {
   "cell_type": "code",
   "execution_count": null,
   "id": "d436375c",
   "metadata": {},
   "outputs": [],
   "source": []
  },
  {
   "cell_type": "code",
   "execution_count": null,
   "id": "1e8c3c26",
   "metadata": {},
   "outputs": [],
   "source": []
  },
  {
   "cell_type": "code",
   "execution_count": 161,
   "id": "74890e81",
   "metadata": {},
   "outputs": [
    {
     "name": "stderr",
     "output_type": "stream",
     "text": [
      "C:\\Users\\gabri\\anaconda3\\lib\\site-packages\\pandas\\core\\arraylike.py:397: RuntimeWarning: divide by zero encountered in log\n",
      "  result = getattr(ufunc, method)(*inputs, **kwargs)\n",
      "C:\\Users\\gabri\\anaconda3\\lib\\site-packages\\pandas\\core\\arraylike.py:397: RuntimeWarning: divide by zero encountered in log\n",
      "  result = getattr(ufunc, method)(*inputs, **kwargs)\n"
     ]
    },
    {
     "data": {
      "text/plain": [
       "[<matplotlib.lines.Line2D at 0x214390b77c0>]"
      ]
     },
     "execution_count": 161,
     "metadata": {},
     "output_type": "execute_result"
    },
    {
     "data": {
      "image/png": "[encoded data removed]",
      "text/plain": [
       "<Figure size 432x288 with 1 Axes>"
      ]
     },
     "metadata": {
      "needs_background": "light"
     },
     "output_type": "display_data"
    }
   ],
   "source": [
    "plt.plot(np.log(data[0]['time']//100)[75:750], np.log(data[0]['rho'])[75:750])\n",
    "plt.plot(np.log(data_policy0['time']//100)[75:750], np.log(data_policy0['rho'])[75:750])"
   ]
  },
  {
   "cell_type": "code",
   "execution_count": 162,
   "id": "092541f0",
   "metadata": {},
   "outputs": [],
   "source": [
    "policy_LR = LinearRegression()"
   ]
  },
  {
   "cell_type": "code",
   "execution_count": 168,
   "id": "e19a2f1f",
   "metadata": {},
   "outputs": [],
   "source": [
    "Xp0, yp0 = np.array(np.log(data_policy0['time'][75:550]/100)), np.log(np.array(data_policy0['rho'][75:550]))"
   ]
  },
  {
   "cell_type": "code",
   "execution_count": 169,
   "id": "b69e3aa1",
   "metadata": {},
   "outputs": [
    {
     "data": {
      "text/plain": [
       "LinearRegression()"
      ]
     },
     "execution_count": 169,
     "metadata": {},
     "output_type": "execute_result"
    }
   ],
   "source": [
    "policy_LR.fit(Xp0.reshape(-1, 1), yp0.reshape(-1, 1))"
   ]
  },
  {
   "cell_type": "code",
   "execution_count": 170,
   "id": "16d609de",
   "metadata": {},
   "outputs": [
    {
     "data": {
      "text/plain": [
       "array([[-0.47330021]])"
      ]
     },
     "execution_count": 170,
     "metadata": {},
     "output_type": "execute_result"
    }
   ],
   "source": [
    "policy_LR.coef_"
   ]
  },
  {
   "cell_type": "code",
   "execution_count": 171,
   "id": "5ac4a70c",
   "metadata": {},
   "outputs": [
    {
     "name": "stderr",
     "output_type": "stream",
     "text": [
      "C:\\Users\\gabri\\anaconda3\\lib\\site-packages\\pandas\\core\\arraylike.py:397: RuntimeWarning: divide by zero encountered in log\n",
      "  result = getattr(ufunc, method)(*inputs, **kwargs)\n",
      "C:\\Users\\gabri\\anaconda3\\lib\\site-packages\\pandas\\core\\arraylike.py:397: RuntimeWarning: divide by zero encountered in log\n",
      "  result = getattr(ufunc, method)(*inputs, **kwargs)\n"
     ]
    },
    {
     "data": {
      "text/plain": [
       "[<matplotlib.lines.Line2D at 0x2143a2905e0>]"
      ]
     },
     "execution_count": 171,
     "metadata": {},
     "output_type": "execute_result"
    },
    {
     "data": {
      "image/png": "[encoded data removed]",
      "text/plain": [
       "<Figure size 432x288 with 1 Axes>"
      ]
     },
     "metadata": {
      "needs_background": "light"
     },
     "output_type": "display_data"
    }
   ],
   "source": [
    "plt.plot(np.log(data[0]['time']//100)[75:750], np.log(data[0]['rho'])[75:750])\n",
    "plt.plot([4.3, 7], [ LR.predict([[4.3]])[0][0], LR.predict([[7]])[0][0] ])\n",
    "plt.plot(np.log(data_policy0['time']//100)[75:550], np.log(data_policy0['rho'])[75:550])\n",
    "plt.plot([4.3, 7], [ policy_LR.predict([[4.3]])[0][0], policy_LR.predict([[7]])[0][0] ])"
   ]
  },
  {
   "cell_type": "code",
   "execution_count": 172,
   "id": "953d26bc",
   "metadata": {},
   "outputs": [],
   "source": [
    "lista = [1, 2, 3, 4]"
   ]
  },
  {
   "cell_type": "code",
   "execution_count": 175,
   "id": "7eb95d84",
   "metadata": {},
   "outputs": [],
   "source": [
    "df1 = pd.DataFrame(lista, columns=['value'])"
   ]
  },
  {
   "cell_type": "code",
   "execution_count": 176,
   "id": "37fc1799",
   "metadata": {},
   "outputs": [
    {
     "data": {
      "text/html": [
       "<div>\n",
       "<style scoped>\n",
       "    .dataframe tbody tr th:only-of-type {\n",
       "        vertical-align: middle;\n",
       "    }\n",
       "\n",
       "    .dataframe tbody tr th {\n",
       "        vertical-align: top;\n",
       "    }\n",
       "\n",
       "    .dataframe thead th {\n",
       "        text-align: right;\n",
       "    }\n",
       "</style>\n",
       "<table border=\"1\" class=\"dataframe\">\n",
       "  <thead>\n",
       "    <tr style=\"text-align: right;\">\n",
       "      <th></th>\n",
       "      <th>value</th>\n",
       "    </tr>\n",
       "  </thead>\n",
       "  <tbody>\n",
       "    <tr>\n",
       "      <th>0</th>\n",
       "      <td>1</td>\n",
       "    </tr>\n",
       "    <tr>\n",
       "      <th>1</th>\n",
       "      <td>2</td>\n",
       "    </tr>\n",
       "    <tr>\n",
       "      <th>2</th>\n",
       "      <td>3</td>\n",
       "    </tr>\n",
       "    <tr>\n",
       "      <th>3</th>\n",
       "      <td>4</td>\n",
       "    </tr>\n",
       "  </tbody>\n",
       "</table>\n",
       "</div>"
      ],
      "text/plain": [
       "   value\n",
       "0      1\n",
       "1      2\n",
       "2      3\n",
       "3      4"
      ]
     },
     "execution_count": 176,
     "metadata": {},
     "output_type": "execute_result"
    }
   ],
   "source": [
    "df1"
   ]
  },
  {
   "cell_type": "code",
   "execution_count": 177,
   "id": "b595d152",
   "metadata": {},
   "outputs": [],
   "source": [
    "df2 = pd.DataFrame([10, 11, 12, 13], columns=['value2'])"
   ]
  },
  {
   "cell_type": "code",
   "execution_count": 183,
   "id": "c91c6fe1",
   "metadata": {},
   "outputs": [],
   "source": [
    "df = pd.concat([df1, df2], axis=1)"
   ]
  },
  {
   "cell_type": "code",
   "execution_count": 184,
   "id": "1908fea5",
   "metadata": {},
   "outputs": [
    {
     "data": {
      "text/html": [
       "<div>\n",
       "<style scoped>\n",
       "    .dataframe tbody tr th:only-of-type {\n",
       "        vertical-align: middle;\n",
       "    }\n",
       "\n",
       "    .dataframe tbody tr th {\n",
       "        vertical-align: top;\n",
       "    }\n",
       "\n",
       "    .dataframe thead th {\n",
       "        text-align: right;\n",
       "    }\n",
       "</style>\n",
       "<table border=\"1\" class=\"dataframe\">\n",
       "  <thead>\n",
       "    <tr style=\"text-align: right;\">\n",
       "      <th></th>\n",
       "      <th>value</th>\n",
       "      <th>value2</th>\n",
       "    </tr>\n",
       "  </thead>\n",
       "  <tbody>\n",
       "    <tr>\n",
       "      <th>0</th>\n",
       "      <td>1</td>\n",
       "      <td>10</td>\n",
       "    </tr>\n",
       "    <tr>\n",
       "      <th>1</th>\n",
       "      <td>2</td>\n",
       "      <td>11</td>\n",
       "    </tr>\n",
       "    <tr>\n",
       "      <th>2</th>\n",
       "      <td>3</td>\n",
       "      <td>12</td>\n",
       "    </tr>\n",
       "    <tr>\n",
       "      <th>3</th>\n",
       "      <td>4</td>\n",
       "      <td>13</td>\n",
       "    </tr>\n",
       "  </tbody>\n",
       "</table>\n",
       "</div>"
      ],
      "text/plain": [
       "   value  value2\n",
       "0      1      10\n",
       "1      2      11\n",
       "2      3      12\n",
       "3      4      13"
      ]
     },
     "execution_count": 184,
     "metadata": {},
     "output_type": "execute_result"
    }
   ],
   "source": [
    "df"
   ]
  },
  {
   "cell_type": "code",
   "execution_count": 186,
   "id": "326664d2",
   "metadata": {
    "scrolled": true
   },
   "outputs": [
    {
     "data": {
      "text/html": [
       "<div>\n",
       "<style scoped>\n",
       "    .dataframe tbody tr th:only-of-type {\n",
       "        vertical-align: middle;\n",
       "    }\n",
       "\n",
       "    .dataframe tbody tr th {\n",
       "        vertical-align: top;\n",
       "    }\n",
       "\n",
       "    .dataframe thead th {\n",
       "        text-align: right;\n",
       "    }\n",
       "</style>\n",
       "<table border=\"1\" class=\"dataframe\">\n",
       "  <thead>\n",
       "    <tr style=\"text-align: right;\">\n",
       "      <th></th>\n",
       "      <th>time</th>\n",
       "      <th>rho</th>\n",
       "    </tr>\n",
       "  </thead>\n",
       "  <tbody>\n",
       "    <tr>\n",
       "      <th>0</th>\n",
       "      <td>0</td>\n",
       "      <td>0.506764</td>\n",
       "    </tr>\n",
       "    <tr>\n",
       "      <th>1</th>\n",
       "      <td>100</td>\n",
       "      <td>0.483280</td>\n",
       "    </tr>\n",
       "    <tr>\n",
       "      <th>2</th>\n",
       "      <td>200</td>\n",
       "      <td>0.446687</td>\n",
       "    </tr>\n",
       "    <tr>\n",
       "      <th>3</th>\n",
       "      <td>300</td>\n",
       "      <td>0.405644</td>\n",
       "    </tr>\n",
       "    <tr>\n",
       "      <th>4</th>\n",
       "      <td>400</td>\n",
       "      <td>0.364995</td>\n",
       "    </tr>\n",
       "    <tr>\n",
       "      <th>...</th>\n",
       "      <td>...</td>\n",
       "      <td>...</td>\n",
       "    </tr>\n",
       "    <tr>\n",
       "      <th>895</th>\n",
       "      <td>89500</td>\n",
       "      <td>0.023691</td>\n",
       "    </tr>\n",
       "    <tr>\n",
       "      <th>896</th>\n",
       "      <td>89600</td>\n",
       "      <td>0.023799</td>\n",
       "    </tr>\n",
       "    <tr>\n",
       "      <th>897</th>\n",
       "      <td>89700</td>\n",
       "      <td>0.023661</td>\n",
       "    </tr>\n",
       "    <tr>\n",
       "      <th>898</th>\n",
       "      <td>89800</td>\n",
       "      <td>0.023700</td>\n",
       "    </tr>\n",
       "    <tr>\n",
       "      <th>899</th>\n",
       "      <td>89900</td>\n",
       "      <td>0.023739</td>\n",
       "    </tr>\n",
       "  </tbody>\n",
       "</table>\n",
       "<p>900 rows × 2 columns</p>\n",
       "</div>"
      ],
      "text/plain": [
       "      time       rho\n",
       "0        0  0.506764\n",
       "1      100  0.483280\n",
       "2      200  0.446687\n",
       "3      300  0.405644\n",
       "4      400  0.364995\n",
       "..     ...       ...\n",
       "895  89500  0.023691\n",
       "896  89600  0.023799\n",
       "897  89700  0.023661\n",
       "898  89800  0.023700\n",
       "899  89900  0.023739\n",
       "\n",
       "[900 rows x 2 columns]"
      ]
     },
     "execution_count": 186,
     "metadata": {},
     "output_type": "execute_result"
    }
   ],
   "source": [
    "data[0]"
   ]
  },
  {
   "cell_type": "code",
   "execution_count": 212,
   "id": "e2fd4cf1",
   "metadata": {
    "scrolled": true
   },
   "outputs": [
    {
     "data": {
      "text/html": [
       "<div>\n",
       "<style scoped>\n",
       "    .dataframe tbody tr th:only-of-type {\n",
       "        vertical-align: middle;\n",
       "    }\n",
       "\n",
       "    .dataframe tbody tr th {\n",
       "        vertical-align: top;\n",
       "    }\n",
       "\n",
       "    .dataframe thead th {\n",
       "        text-align: right;\n",
       "    }\n",
       "</style>\n",
       "<table border=\"1\" class=\"dataframe\">\n",
       "  <thead>\n",
       "    <tr style=\"text-align: right;\">\n",
       "      <th></th>\n",
       "      <th>time</th>\n",
       "      <th>rho</th>\n",
       "      <th>rho_2_barra</th>\n",
       "    </tr>\n",
       "  </thead>\n",
       "  <tbody>\n",
       "    <tr>\n",
       "      <th>0</th>\n",
       "      <td>0</td>\n",
       "      <td>0.443422</td>\n",
       "      <td>0.196623</td>\n",
       "    </tr>\n",
       "    <tr>\n",
       "      <th>1</th>\n",
       "      <td>100</td>\n",
       "      <td>0.394178</td>\n",
       "      <td>0.155376</td>\n",
       "    </tr>\n",
       "    <tr>\n",
       "      <th>2</th>\n",
       "      <td>200</td>\n",
       "      <td>0.348933</td>\n",
       "      <td>0.121754</td>\n",
       "    </tr>\n",
       "    <tr>\n",
       "      <th>3</th>\n",
       "      <td>300</td>\n",
       "      <td>0.308756</td>\n",
       "      <td>0.095330</td>\n",
       "    </tr>\n",
       "    <tr>\n",
       "      <th>4</th>\n",
       "      <td>400</td>\n",
       "      <td>0.268622</td>\n",
       "      <td>0.072158</td>\n",
       "    </tr>\n",
       "    <tr>\n",
       "      <th>...</th>\n",
       "      <td>...</td>\n",
       "      <td>...</td>\n",
       "      <td>...</td>\n",
       "    </tr>\n",
       "    <tr>\n",
       "      <th>895</th>\n",
       "      <td>89500</td>\n",
       "      <td>0.030711</td>\n",
       "      <td>0.000943</td>\n",
       "    </tr>\n",
       "    <tr>\n",
       "      <th>896</th>\n",
       "      <td>89600</td>\n",
       "      <td>0.030400</td>\n",
       "      <td>0.000924</td>\n",
       "    </tr>\n",
       "    <tr>\n",
       "      <th>897</th>\n",
       "      <td>89700</td>\n",
       "      <td>0.028800</td>\n",
       "      <td>0.000829</td>\n",
       "    </tr>\n",
       "    <tr>\n",
       "      <th>898</th>\n",
       "      <td>89800</td>\n",
       "      <td>0.028133</td>\n",
       "      <td>0.000791</td>\n",
       "    </tr>\n",
       "    <tr>\n",
       "      <th>899</th>\n",
       "      <td>89900</td>\n",
       "      <td>0.027333</td>\n",
       "      <td>0.000747</td>\n",
       "    </tr>\n",
       "  </tbody>\n",
       "</table>\n",
       "<p>900 rows × 3 columns</p>\n",
       "</div>"
      ],
      "text/plain": [
       "      time       rho  rho_2_barra\n",
       "0        0  0.443422     0.196623\n",
       "1      100  0.394178     0.155376\n",
       "2      200  0.348933     0.121754\n",
       "3      300  0.308756     0.095330\n",
       "4      400  0.268622     0.072158\n",
       "..     ...       ...          ...\n",
       "895  89500  0.030711     0.000943\n",
       "896  89600  0.030400     0.000924\n",
       "897  89700  0.028800     0.000829\n",
       "898  89800  0.028133     0.000791\n",
       "899  89900  0.027333     0.000747\n",
       "\n",
       "[900 rows x 3 columns]"
      ]
     },
     "execution_count": 212,
     "metadata": {},
     "output_type": "execute_result"
    }
   ],
   "source": [
    "df = pd.read_csv('results_0_w_policy_270.csv')\n",
    "rho_2_barra = pd.DataFrame((df['rho'] ** 2).values, columns=['rho_2_barra'])\n",
    "df = pd.concat([df, rho_2_barra], axis=1)\n",
    "df"
   ]
  },
  {
   "cell_type": "code",
   "execution_count": 213,
   "id": "bfd3a7ae",
   "metadata": {},
   "outputs": [],
   "source": [
    "total_values = 22"
   ]
  },
  {
   "cell_type": "code",
   "execution_count": 214,
   "id": "31077a1f",
   "metadata": {},
   "outputs": [],
   "source": [
    "for i in range(1, total_values):\n",
    "    x = pd.read_csv(f'results_{i}_w_policy_270.csv')\n",
    "    rho_2_barra = pd.DataFrame((x['rho'] ** 2).values, columns=['rho_2_barra'])\n",
    "    x = pd.concat([x, rho_2_barra], axis=1)\n",
    "    df['rho'] += x['rho']\n",
    "    df['rho_2_barra'] += x['rho_2_barra']\n",
    "df['rho'] = df['rho'] / total_values\n",
    "df['rho_2_barra'] = df['rho_2_barra'] / total_values\n",
    "rho_barra_2 = pd.DataFrame((df['rho'] ** 2).values, columns=['rho_barra_2'])\n",
    "df = pd.concat([df, rho_barra_2], axis=1)"
   ]
  },
  {
   "cell_type": "code",
   "execution_count": 215,
   "id": "64fa53af",
   "metadata": {},
   "outputs": [
    {
     "data": {
      "text/html": [
       "<div>\n",
       "<style scoped>\n",
       "    .dataframe tbody tr th:only-of-type {\n",
       "        vertical-align: middle;\n",
       "    }\n",
       "\n",
       "    .dataframe tbody tr th {\n",
       "        vertical-align: top;\n",
       "    }\n",
       "\n",
       "    .dataframe thead th {\n",
       "        text-align: right;\n",
       "    }\n",
       "</style>\n",
       "<table border=\"1\" class=\"dataframe\">\n",
       "  <thead>\n",
       "    <tr style=\"text-align: right;\">\n",
       "      <th></th>\n",
       "      <th>time</th>\n",
       "      <th>rho</th>\n",
       "      <th>rho_2_barra</th>\n",
       "      <th>rho_barra_2</th>\n",
       "    </tr>\n",
       "  </thead>\n",
       "  <tbody>\n",
       "    <tr>\n",
       "      <th>0</th>\n",
       "      <td>0</td>\n",
       "      <td>0.447925</td>\n",
       "      <td>0.200643</td>\n",
       "      <td>0.200637</td>\n",
       "    </tr>\n",
       "    <tr>\n",
       "      <th>1</th>\n",
       "      <td>100</td>\n",
       "      <td>0.396899</td>\n",
       "      <td>0.157534</td>\n",
       "      <td>0.157529</td>\n",
       "    </tr>\n",
       "    <tr>\n",
       "      <th>2</th>\n",
       "      <td>200</td>\n",
       "      <td>0.348586</td>\n",
       "      <td>0.121520</td>\n",
       "      <td>0.121512</td>\n",
       "    </tr>\n",
       "    <tr>\n",
       "      <th>3</th>\n",
       "      <td>300</td>\n",
       "      <td>0.305291</td>\n",
       "      <td>0.093211</td>\n",
       "      <td>0.093203</td>\n",
       "    </tr>\n",
       "    <tr>\n",
       "      <th>4</th>\n",
       "      <td>400</td>\n",
       "      <td>0.268073</td>\n",
       "      <td>0.071875</td>\n",
       "      <td>0.071863</td>\n",
       "    </tr>\n",
       "    <tr>\n",
       "      <th>...</th>\n",
       "      <td>...</td>\n",
       "      <td>...</td>\n",
       "      <td>...</td>\n",
       "      <td>...</td>\n",
       "    </tr>\n",
       "    <tr>\n",
       "      <th>895</th>\n",
       "      <td>89500</td>\n",
       "      <td>0.014020</td>\n",
       "      <td>0.000242</td>\n",
       "      <td>0.000197</td>\n",
       "    </tr>\n",
       "    <tr>\n",
       "      <th>896</th>\n",
       "      <td>89600</td>\n",
       "      <td>0.014073</td>\n",
       "      <td>0.000244</td>\n",
       "      <td>0.000198</td>\n",
       "    </tr>\n",
       "    <tr>\n",
       "      <th>897</th>\n",
       "      <td>89700</td>\n",
       "      <td>0.014212</td>\n",
       "      <td>0.000247</td>\n",
       "      <td>0.000202</td>\n",
       "    </tr>\n",
       "    <tr>\n",
       "      <th>898</th>\n",
       "      <td>89800</td>\n",
       "      <td>0.014305</td>\n",
       "      <td>0.000250</td>\n",
       "      <td>0.000205</td>\n",
       "    </tr>\n",
       "    <tr>\n",
       "      <th>899</th>\n",
       "      <td>89900</td>\n",
       "      <td>0.014360</td>\n",
       "      <td>0.000250</td>\n",
       "      <td>0.000206</td>\n",
       "    </tr>\n",
       "  </tbody>\n",
       "</table>\n",
       "<p>900 rows × 4 columns</p>\n",
       "</div>"
      ],
      "text/plain": [
       "      time       rho  rho_2_barra  rho_barra_2\n",
       "0        0  0.447925     0.200643     0.200637\n",
       "1      100  0.396899     0.157534     0.157529\n",
       "2      200  0.348586     0.121520     0.121512\n",
       "3      300  0.305291     0.093211     0.093203\n",
       "4      400  0.268073     0.071875     0.071863\n",
       "..     ...       ...          ...          ...\n",
       "895  89500  0.014020     0.000242     0.000197\n",
       "896  89600  0.014073     0.000244     0.000198\n",
       "897  89700  0.014212     0.000247     0.000202\n",
       "898  89800  0.014305     0.000250     0.000205\n",
       "899  89900  0.014360     0.000250     0.000206\n",
       "\n",
       "[900 rows x 4 columns]"
      ]
     },
     "execution_count": 215,
     "metadata": {},
     "output_type": "execute_result"
    }
   ],
   "source": [
    "df"
   ]
  },
  {
   "cell_type": "code",
   "execution_count": 267,
   "id": "9721217c",
   "metadata": {},
   "outputs": [],
   "source": [
    "U_L = df['rho_2_barra'] / df['rho_barra_2']"
   ]
  },
  {
   "cell_type": "code",
   "execution_count": 289,
   "id": "e6e26dca",
   "metadata": {
    "scrolled": true
   },
   "outputs": [
    {
     "name": "stderr",
     "output_type": "stream",
     "text": [
      "C:\\Users\\gabri\\anaconda3\\lib\\site-packages\\pandas\\core\\arraylike.py:397: RuntimeWarning: divide by zero encountered in log10\n",
      "  result = getattr(ufunc, method)(*inputs, **kwargs)\n"
     ]
    },
    {
     "data": {
      "text/plain": [
       "[<matplotlib.lines.Line2D at 0x2143f039ca0>]"
      ]
     },
     "execution_count": 289,
     "metadata": {},
     "output_type": "execute_result"
    },
    {
     "data": {
      "image/png": "[encoded data removed]",
      "text/plain": [
       "<Figure size 432x288 with 1 Axes>"
      ]
     },
     "metadata": {
      "needs_background": "light"
     },
     "output_type": "display_data"
    }
   ],
   "source": [
    "plt.plot(np.log10(df['time'])[250:], np.log10(U_L)[250:])"
   ]
  },
  {
   "cell_type": "code",
   "execution_count": 269,
   "id": "85125db5",
   "metadata": {},
   "outputs": [],
   "source": [
    "cumul_reg = LinearRegression()"
   ]
  },
  {
   "cell_type": "code",
   "execution_count": 294,
   "id": "f3913b97",
   "metadata": {},
   "outputs": [
    {
     "name": "stderr",
     "output_type": "stream",
     "text": [
      "C:\\Users\\gabri\\anaconda3\\lib\\site-packages\\pandas\\core\\arraylike.py:397: RuntimeWarning: divide by zero encountered in log10\n",
      "  result = getattr(ufunc, method)(*inputs, **kwargs)\n"
     ]
    }
   ],
   "source": [
    "Xcumul, ycumul = np.log10(df['time']).values[250:], np.log10(U_L).values[250:]"
   ]
  },
  {
   "cell_type": "code",
   "execution_count": 295,
   "id": "7169cb3a",
   "metadata": {},
   "outputs": [
    {
     "data": {
      "text/plain": [
       "LinearRegression()"
      ]
     },
     "execution_count": 295,
     "metadata": {},
     "output_type": "execute_result"
    }
   ],
   "source": [
    "cumul_reg.fit(Xcumul.reshape(-1, 1), ycumul.reshape(-1, 1))"
   ]
  },
  {
   "cell_type": "code",
   "execution_count": 296,
   "id": "f22be412",
   "metadata": {},
   "outputs": [
    {
     "data": {
      "text/plain": [
       "array([[0.1046173]])"
      ]
     },
     "execution_count": 296,
     "metadata": {},
     "output_type": "execute_result"
    }
   ],
   "source": [
    "cumul_reg.coef_"
   ]
  },
  {
   "cell_type": "code",
   "execution_count": 225,
   "id": "b7e86283",
   "metadata": {},
   "outputs": [],
   "source": [
    "delta_rho = (df['rho_2_barra'] - df['rho_barra_2']) * 10000"
   ]
  },
  {
   "cell_type": "code",
   "execution_count": 228,
   "id": "49c3037f",
   "metadata": {},
   "outputs": [
    {
     "name": "stderr",
     "output_type": "stream",
     "text": [
      "C:\\Users\\gabri\\anaconda3\\lib\\site-packages\\pandas\\core\\arraylike.py:397: RuntimeWarning: divide by zero encountered in log10\n",
      "  result = getattr(ufunc, method)(*inputs, **kwargs)\n"
     ]
    },
    {
     "data": {
      "text/plain": [
       "[<matplotlib.lines.Line2D at 0x2143c0d3370>]"
      ]
     },
     "execution_count": 228,
     "metadata": {},
     "output_type": "execute_result"
    },
    {
     "data": {
      "image/png": "[encoded data removed]",
      "text/plain": [
       "<Figure size 432x288 with 1 Axes>"
      ]
     },
     "metadata": {
      "needs_background": "light"
     },
     "output_type": "display_data"
    }
   ],
   "source": [
    "plt.plot(np.log10(df['time']), np.log10(delta_rho))"
   ]
  },
  {
   "cell_type": "code",
   "execution_count": 234,
   "id": "57d29812",
   "metadata": {},
   "outputs": [],
   "source": [
    "df['susc'] = delta_rho"
   ]
  },
  {
   "cell_type": "code",
   "execution_count": 235,
   "id": "79d62a50",
   "metadata": {},
   "outputs": [
    {
     "data": {
      "text/html": [
       "<div>\n",
       "<style scoped>\n",
       "    .dataframe tbody tr th:only-of-type {\n",
       "        vertical-align: middle;\n",
       "    }\n",
       "\n",
       "    .dataframe tbody tr th {\n",
       "        vertical-align: top;\n",
       "    }\n",
       "\n",
       "    .dataframe thead th {\n",
       "        text-align: right;\n",
       "    }\n",
       "</style>\n",
       "<table border=\"1\" class=\"dataframe\">\n",
       "  <thead>\n",
       "    <tr style=\"text-align: right;\">\n",
       "      <th></th>\n",
       "      <th>time</th>\n",
       "      <th>rho</th>\n",
       "      <th>rho_2_barra</th>\n",
       "      <th>rho_barra_2</th>\n",
       "      <th>susc</th>\n",
       "    </tr>\n",
       "  </thead>\n",
       "  <tbody>\n",
       "    <tr>\n",
       "      <th>0</th>\n",
       "      <td>0</td>\n",
       "      <td>0.447925</td>\n",
       "      <td>0.200643</td>\n",
       "      <td>0.200637</td>\n",
       "      <td>0.057475</td>\n",
       "    </tr>\n",
       "    <tr>\n",
       "      <th>1</th>\n",
       "      <td>100</td>\n",
       "      <td>0.396899</td>\n",
       "      <td>0.157534</td>\n",
       "      <td>0.157529</td>\n",
       "      <td>0.052581</td>\n",
       "    </tr>\n",
       "    <tr>\n",
       "      <th>2</th>\n",
       "      <td>200</td>\n",
       "      <td>0.348586</td>\n",
       "      <td>0.121520</td>\n",
       "      <td>0.121512</td>\n",
       "      <td>0.076144</td>\n",
       "    </tr>\n",
       "    <tr>\n",
       "      <th>3</th>\n",
       "      <td>300</td>\n",
       "      <td>0.305291</td>\n",
       "      <td>0.093211</td>\n",
       "      <td>0.093203</td>\n",
       "      <td>0.080177</td>\n",
       "    </tr>\n",
       "    <tr>\n",
       "      <th>4</th>\n",
       "      <td>400</td>\n",
       "      <td>0.268073</td>\n",
       "      <td>0.071875</td>\n",
       "      <td>0.071863</td>\n",
       "      <td>0.120123</td>\n",
       "    </tr>\n",
       "    <tr>\n",
       "      <th>...</th>\n",
       "      <td>...</td>\n",
       "      <td>...</td>\n",
       "      <td>...</td>\n",
       "      <td>...</td>\n",
       "      <td>...</td>\n",
       "    </tr>\n",
       "    <tr>\n",
       "      <th>895</th>\n",
       "      <td>89500</td>\n",
       "      <td>0.014020</td>\n",
       "      <td>0.000242</td>\n",
       "      <td>0.000197</td>\n",
       "      <td>0.451598</td>\n",
       "    </tr>\n",
       "    <tr>\n",
       "      <th>896</th>\n",
       "      <td>89600</td>\n",
       "      <td>0.014073</td>\n",
       "      <td>0.000244</td>\n",
       "      <td>0.000198</td>\n",
       "      <td>0.464006</td>\n",
       "    </tr>\n",
       "    <tr>\n",
       "      <th>897</th>\n",
       "      <td>89700</td>\n",
       "      <td>0.014212</td>\n",
       "      <td>0.000247</td>\n",
       "      <td>0.000202</td>\n",
       "      <td>0.445225</td>\n",
       "    </tr>\n",
       "    <tr>\n",
       "      <th>898</th>\n",
       "      <td>89800</td>\n",
       "      <td>0.014305</td>\n",
       "      <td>0.000250</td>\n",
       "      <td>0.000205</td>\n",
       "      <td>0.454975</td>\n",
       "    </tr>\n",
       "    <tr>\n",
       "      <th>899</th>\n",
       "      <td>89900</td>\n",
       "      <td>0.014360</td>\n",
       "      <td>0.000250</td>\n",
       "      <td>0.000206</td>\n",
       "      <td>0.436516</td>\n",
       "    </tr>\n",
       "  </tbody>\n",
       "</table>\n",
       "<p>900 rows × 5 columns</p>\n",
       "</div>"
      ],
      "text/plain": [
       "      time       rho  rho_2_barra  rho_barra_2      susc\n",
       "0        0  0.447925     0.200643     0.200637  0.057475\n",
       "1      100  0.396899     0.157534     0.157529  0.052581\n",
       "2      200  0.348586     0.121520     0.121512  0.076144\n",
       "3      300  0.305291     0.093211     0.093203  0.080177\n",
       "4      400  0.268073     0.071875     0.071863  0.120123\n",
       "..     ...       ...          ...          ...       ...\n",
       "895  89500  0.014020     0.000242     0.000197  0.451598\n",
       "896  89600  0.014073     0.000244     0.000198  0.464006\n",
       "897  89700  0.014212     0.000247     0.000202  0.445225\n",
       "898  89800  0.014305     0.000250     0.000205  0.454975\n",
       "899  89900  0.014360     0.000250     0.000206  0.436516\n",
       "\n",
       "[900 rows x 5 columns]"
      ]
     },
     "execution_count": 235,
     "metadata": {},
     "output_type": "execute_result"
    }
   ],
   "source": [
    "df"
   ]
  },
  {
   "cell_type": "code",
   "execution_count": 236,
   "id": "e9d18111",
   "metadata": {},
   "outputs": [],
   "source": [
    "susc_reg = LinearRegression()"
   ]
  },
  {
   "cell_type": "code",
   "execution_count": 264,
   "id": "3cac39ed",
   "metadata": {},
   "outputs": [
    {
     "name": "stderr",
     "output_type": "stream",
     "text": [
      "C:\\Users\\gabri\\anaconda3\\lib\\site-packages\\pandas\\core\\arraylike.py:397: RuntimeWarning: divide by zero encountered in log10\n",
      "  result = getattr(ufunc, method)(*inputs, **kwargs)\n"
     ]
    }
   ],
   "source": [
    "Xsusc, ysusc = np.log10(df['time']).values[1:], np.log10(df['susc']).values[1:]"
   ]
  },
  {
   "cell_type": "code",
   "execution_count": null,
   "id": "50c46379",
   "metadata": {},
   "outputs": [],
   "source": []
  },
  {
   "cell_type": "code",
   "execution_count": 265,
   "id": "752c3c3a",
   "metadata": {},
   "outputs": [
    {
     "data": {
      "text/plain": [
       "LinearRegression()"
      ]
     },
     "execution_count": 265,
     "metadata": {},
     "output_type": "execute_result"
    }
   ],
   "source": [
    "susc_reg.fit(Xsusc.reshape(-1, 1), ysusc.reshape(-1, 1))"
   ]
  },
  {
   "cell_type": "code",
   "execution_count": 266,
   "id": "792786eb",
   "metadata": {},
   "outputs": [
    {
     "data": {
      "text/plain": [
       "array([[0.24673775]])"
      ]
     },
     "execution_count": 266,
     "metadata": {},
     "output_type": "execute_result"
    }
   ],
   "source": [
    "susc_reg.coef_"
   ]
  },
  {
   "cell_type": "code",
   "execution_count": 303,
   "id": "3ce6fd9a",
   "metadata": {},
   "outputs": [
    {
     "name": "stderr",
     "output_type": "stream",
     "text": [
      "C:\\Users\\gabri\\anaconda3\\lib\\site-packages\\pandas\\core\\arraylike.py:397: RuntimeWarning: divide by zero encountered in log10\n",
      "  result = getattr(ufunc, method)(*inputs, **kwargs)\n"
     ]
    },
    {
     "data": {
      "text/plain": [
       "[<matplotlib.lines.Line2D at 0x2143f1e5100>]"
      ]
     },
     "execution_count": 303,
     "metadata": {},
     "output_type": "execute_result"
    },
    {
     "data": {
      "image/png": "[encoded data removed]",
      "text/plain": [
       "<Figure size 432x288 with 1 Axes>"
      ]
     },
     "metadata": {
      "needs_background": "light"
     },
     "output_type": "display_data"
    }
   ],
   "source": [
    "plt.plot(np.log10(df['time'])[75:], np.log10(delta_rho)[75:])\n",
    "plt.plot([3.75, 5], [susc_reg.predict([[3.75]])[0][0], susc_reg.predict([[5]])[0][0] ])"
   ]
  },
  {
   "cell_type": "markdown",
   "id": "00631acf",
   "metadata": {},
   "source": [
    "TUDO COM TAMANHO 150"
   ]
  },
  {
   "cell_type": "code",
   "execution_count": null,
   "id": "78555ebf",
   "metadata": {},
   "outputs": [],
   "source": []
  }
 ],
 "metadata": {
  "kernelspec": {
   "display_name": "Python 3 (ipykernel)",
   "language": "python",
   "name": "python3"
  },
  "language_info": {
   "codemirror_mode": {
    "name": "ipython",
    "version": 3
   },
   "file_extension": ".py",
   "mimetype": "text/x-python",
   "name": "python",
   "nbconvert_exporter": "python",
   "pygments_lexer": "ipython3",
   "version": "3.9.12"
  }
 },
 "nbformat": 4,
 "nbformat_minor": 5
}
