{
 "cells": [
  {
   "cell_type": "code",
   "execution_count": 26,
   "id": "5202e05e",
   "metadata": {},
   "outputs": [],
   "source": [
    "import numpy as np\n",
    "import pandas as pd\n",
    "import matplotlib.pyplot as plt"
   ]
  },
  {
   "cell_type": "markdown",
   "id": "63693128",
   "metadata": {},
   "source": [
    "### CRITICAL BEHAVIOR AND THRESHOLD OF COEXISTENCE OF A PREDATOR–PREY STOCHASTIC MODEL IN A 2D LATTICE WITH NEURAL NETWORK POLICY PREDATOR"
   ]
  },
  {
   "cell_type": "markdown",
   "id": "ef4704dc",
   "metadata": {},
   "source": [
    "## Load data without policy\n",
    "Lets load data and validate our model with this content"
   ]
  },
  {
   "cell_type": "code",
   "execution_count": 27,
   "id": "785345c3",
   "metadata": {},
   "outputs": [],
   "source": [
    "data = {}"
   ]
  },
  {
   "cell_type": "code",
   "execution_count": 28,
   "id": "e17f5554",
   "metadata": {},
   "outputs": [],
   "source": [
    "for i in range(20):\n",
    "    data[i] = pd.read_csv(f'results_{i}.csv')"
   ]
  },
  {
   "cell_type": "code",
   "execution_count": 29,
   "id": "57030b76",
   "metadata": {},
   "outputs": [],
   "source": [
    "data[0]['rho_2_barra'] = data[0]['rho'] ** 2\n",
    "data[0]['rho_barra_2'] = data[0]['rho']"
   ]
  },
  {
   "cell_type": "code",
   "execution_count": 30,
   "id": "4bbde347",
   "metadata": {},
   "outputs": [],
   "source": [
    "for i in range(1, 20):\n",
    "    data[0]['rho'] += data[i]['rho']\n",
    "    data[0]['rho_2_barra'] += data[i]['rho'] ** 2\n",
    "    data[0]['rho_barra_2'] += data[i]['rho']\n",
    "data[0]['rho'] = data[0]['rho'] / 20\n",
    "data[0]['rho_2_barra'] = data[0]['rho_2_barra'] / 20\n",
    "data[0]['rho_barra_2'] = (data[0]['rho_barra_2'] / 20) ** 2"
   ]
  },
  {
   "cell_type": "code",
   "execution_count": 31,
   "id": "4ed349a3",
   "metadata": {
    "scrolled": true
   },
   "outputs": [
    {
     "data": {
      "text/html": [
       "<div>\n",
       "<style scoped>\n",
       "    .dataframe tbody tr th:only-of-type {\n",
       "        vertical-align: middle;\n",
       "    }\n",
       "\n",
       "    .dataframe tbody tr th {\n",
       "        vertical-align: top;\n",
       "    }\n",
       "\n",
       "    .dataframe thead th {\n",
       "        text-align: right;\n",
       "    }\n",
       "</style>\n",
       "<table border=\"1\" class=\"dataframe\">\n",
       "  <thead>\n",
       "    <tr style=\"text-align: right;\">\n",
       "      <th></th>\n",
       "      <th>time</th>\n",
       "      <th>rho</th>\n",
       "      <th>rho_2_barra</th>\n",
       "      <th>rho_barra_2</th>\n",
       "    </tr>\n",
       "  </thead>\n",
       "  <tbody>\n",
       "    <tr>\n",
       "      <th>0</th>\n",
       "      <td>0</td>\n",
       "      <td>0.506764</td>\n",
       "      <td>0.256812</td>\n",
       "      <td>0.256810</td>\n",
       "    </tr>\n",
       "    <tr>\n",
       "      <th>1</th>\n",
       "      <td>100</td>\n",
       "      <td>0.483280</td>\n",
       "      <td>0.233565</td>\n",
       "      <td>0.233560</td>\n",
       "    </tr>\n",
       "    <tr>\n",
       "      <th>2</th>\n",
       "      <td>200</td>\n",
       "      <td>0.446687</td>\n",
       "      <td>0.199535</td>\n",
       "      <td>0.199529</td>\n",
       "    </tr>\n",
       "    <tr>\n",
       "      <th>3</th>\n",
       "      <td>300</td>\n",
       "      <td>0.405644</td>\n",
       "      <td>0.164552</td>\n",
       "      <td>0.164547</td>\n",
       "    </tr>\n",
       "    <tr>\n",
       "      <th>4</th>\n",
       "      <td>400</td>\n",
       "      <td>0.364995</td>\n",
       "      <td>0.133225</td>\n",
       "      <td>0.133221</td>\n",
       "    </tr>\n",
       "    <tr>\n",
       "      <th>...</th>\n",
       "      <td>...</td>\n",
       "      <td>...</td>\n",
       "      <td>...</td>\n",
       "      <td>...</td>\n",
       "    </tr>\n",
       "    <tr>\n",
       "      <th>895</th>\n",
       "      <td>89500</td>\n",
       "      <td>0.023691</td>\n",
       "      <td>0.000571</td>\n",
       "      <td>0.000561</td>\n",
       "    </tr>\n",
       "    <tr>\n",
       "      <th>896</th>\n",
       "      <td>89600</td>\n",
       "      <td>0.023799</td>\n",
       "      <td>0.000576</td>\n",
       "      <td>0.000566</td>\n",
       "    </tr>\n",
       "    <tr>\n",
       "      <th>897</th>\n",
       "      <td>89700</td>\n",
       "      <td>0.023661</td>\n",
       "      <td>0.000569</td>\n",
       "      <td>0.000560</td>\n",
       "    </tr>\n",
       "    <tr>\n",
       "      <th>898</th>\n",
       "      <td>89800</td>\n",
       "      <td>0.023700</td>\n",
       "      <td>0.000572</td>\n",
       "      <td>0.000562</td>\n",
       "    </tr>\n",
       "    <tr>\n",
       "      <th>899</th>\n",
       "      <td>89900</td>\n",
       "      <td>0.023739</td>\n",
       "      <td>0.000574</td>\n",
       "      <td>0.000564</td>\n",
       "    </tr>\n",
       "  </tbody>\n",
       "</table>\n",
       "<p>900 rows × 4 columns</p>\n",
       "</div>"
      ],
      "text/plain": [
       "      time       rho  rho_2_barra  rho_barra_2\n",
       "0        0  0.506764     0.256812     0.256810\n",
       "1      100  0.483280     0.233565     0.233560\n",
       "2      200  0.446687     0.199535     0.199529\n",
       "3      300  0.405644     0.164552     0.164547\n",
       "4      400  0.364995     0.133225     0.133221\n",
       "..     ...       ...          ...          ...\n",
       "895  89500  0.023691     0.000571     0.000561\n",
       "896  89600  0.023799     0.000576     0.000566\n",
       "897  89700  0.023661     0.000569     0.000560\n",
       "898  89800  0.023700     0.000572     0.000562\n",
       "899  89900  0.023739     0.000574     0.000564\n",
       "\n",
       "[900 rows x 4 columns]"
      ]
     },
     "execution_count": 31,
     "metadata": {},
     "output_type": "execute_result"
    }
   ],
   "source": [
    "data[0]"
   ]
  },
  {
   "cell_type": "code",
   "execution_count": 32,
   "id": "d1b4687a",
   "metadata": {},
   "outputs": [],
   "source": [
    "df = data[0]"
   ]
  },
  {
   "cell_type": "markdown",
   "id": "60172293",
   "metadata": {},
   "source": [
    "#### Lets calculate $U_L$ and $\\Delta \\rho$\n",
    "\n",
    "- Order parameter Flutuation: $\\Delta \\rho = [<N_Y^2> - <N_Y>^2] \\cdot N$ (susc)\n",
    "- Order parameter Flutuation: $U_L= \\frac{<N_Y^2>}{<N_Y>^2}$ (cumul)"
   ]
  },
  {
   "cell_type": "code",
   "execution_count": 33,
   "id": "34603310",
   "metadata": {},
   "outputs": [],
   "source": [
    "df['susc'] = (df['rho_2_barra'] - df['rho_barra_2']) * 150\n",
    "df['cumul'] = df['rho_2_barra'] / df['rho_barra_2']"
   ]
  },
  {
   "cell_type": "code",
   "execution_count": 34,
   "id": "2d96a6e5",
   "metadata": {
    "scrolled": true
   },
   "outputs": [
    {
     "data": {
      "text/html": [
       "<div>\n",
       "<style scoped>\n",
       "    .dataframe tbody tr th:only-of-type {\n",
       "        vertical-align: middle;\n",
       "    }\n",
       "\n",
       "    .dataframe tbody tr th {\n",
       "        vertical-align: top;\n",
       "    }\n",
       "\n",
       "    .dataframe thead th {\n",
       "        text-align: right;\n",
       "    }\n",
       "</style>\n",
       "<table border=\"1\" class=\"dataframe\">\n",
       "  <thead>\n",
       "    <tr style=\"text-align: right;\">\n",
       "      <th></th>\n",
       "      <th>time</th>\n",
       "      <th>rho</th>\n",
       "      <th>rho_2_barra</th>\n",
       "      <th>rho_barra_2</th>\n",
       "      <th>susc</th>\n",
       "      <th>cumul</th>\n",
       "    </tr>\n",
       "  </thead>\n",
       "  <tbody>\n",
       "    <tr>\n",
       "      <th>0</th>\n",
       "      <td>0</td>\n",
       "      <td>0.506764</td>\n",
       "      <td>0.256812</td>\n",
       "      <td>0.256810</td>\n",
       "      <td>0.000276</td>\n",
       "      <td>1.000007</td>\n",
       "    </tr>\n",
       "    <tr>\n",
       "      <th>1</th>\n",
       "      <td>100</td>\n",
       "      <td>0.483280</td>\n",
       "      <td>0.233565</td>\n",
       "      <td>0.233560</td>\n",
       "      <td>0.000772</td>\n",
       "      <td>1.000022</td>\n",
       "    </tr>\n",
       "    <tr>\n",
       "      <th>2</th>\n",
       "      <td>200</td>\n",
       "      <td>0.446687</td>\n",
       "      <td>0.199535</td>\n",
       "      <td>0.199529</td>\n",
       "      <td>0.000828</td>\n",
       "      <td>1.000028</td>\n",
       "    </tr>\n",
       "    <tr>\n",
       "      <th>3</th>\n",
       "      <td>300</td>\n",
       "      <td>0.405644</td>\n",
       "      <td>0.164552</td>\n",
       "      <td>0.164547</td>\n",
       "      <td>0.000791</td>\n",
       "      <td>1.000032</td>\n",
       "    </tr>\n",
       "    <tr>\n",
       "      <th>4</th>\n",
       "      <td>400</td>\n",
       "      <td>0.364995</td>\n",
       "      <td>0.133225</td>\n",
       "      <td>0.133221</td>\n",
       "      <td>0.000594</td>\n",
       "      <td>1.000030</td>\n",
       "    </tr>\n",
       "    <tr>\n",
       "      <th>...</th>\n",
       "      <td>...</td>\n",
       "      <td>...</td>\n",
       "      <td>...</td>\n",
       "      <td>...</td>\n",
       "      <td>...</td>\n",
       "      <td>...</td>\n",
       "    </tr>\n",
       "    <tr>\n",
       "      <th>895</th>\n",
       "      <td>89500</td>\n",
       "      <td>0.023691</td>\n",
       "      <td>0.000571</td>\n",
       "      <td>0.000561</td>\n",
       "      <td>0.001444</td>\n",
       "      <td>1.017151</td>\n",
       "    </tr>\n",
       "    <tr>\n",
       "      <th>896</th>\n",
       "      <td>89600</td>\n",
       "      <td>0.023799</td>\n",
       "      <td>0.000576</td>\n",
       "      <td>0.000566</td>\n",
       "      <td>0.001448</td>\n",
       "      <td>1.017047</td>\n",
       "    </tr>\n",
       "    <tr>\n",
       "      <th>897</th>\n",
       "      <td>89700</td>\n",
       "      <td>0.023661</td>\n",
       "      <td>0.000569</td>\n",
       "      <td>0.000560</td>\n",
       "      <td>0.001419</td>\n",
       "      <td>1.016894</td>\n",
       "    </tr>\n",
       "    <tr>\n",
       "      <th>898</th>\n",
       "      <td>89800</td>\n",
       "      <td>0.023700</td>\n",
       "      <td>0.000572</td>\n",
       "      <td>0.000562</td>\n",
       "      <td>0.001537</td>\n",
       "      <td>1.018243</td>\n",
       "    </tr>\n",
       "    <tr>\n",
       "      <th>899</th>\n",
       "      <td>89900</td>\n",
       "      <td>0.023739</td>\n",
       "      <td>0.000574</td>\n",
       "      <td>0.000564</td>\n",
       "      <td>0.001546</td>\n",
       "      <td>1.018291</td>\n",
       "    </tr>\n",
       "  </tbody>\n",
       "</table>\n",
       "<p>900 rows × 6 columns</p>\n",
       "</div>"
      ],
      "text/plain": [
       "      time       rho  rho_2_barra  rho_barra_2      susc     cumul\n",
       "0        0  0.506764     0.256812     0.256810  0.000276  1.000007\n",
       "1      100  0.483280     0.233565     0.233560  0.000772  1.000022\n",
       "2      200  0.446687     0.199535     0.199529  0.000828  1.000028\n",
       "3      300  0.405644     0.164552     0.164547  0.000791  1.000032\n",
       "4      400  0.364995     0.133225     0.133221  0.000594  1.000030\n",
       "..     ...       ...          ...          ...       ...       ...\n",
       "895  89500  0.023691     0.000571     0.000561  0.001444  1.017151\n",
       "896  89600  0.023799     0.000576     0.000566  0.001448  1.017047\n",
       "897  89700  0.023661     0.000569     0.000560  0.001419  1.016894\n",
       "898  89800  0.023700     0.000572     0.000562  0.001537  1.018243\n",
       "899  89900  0.023739     0.000574     0.000564  0.001546  1.018291\n",
       "\n",
       "[900 rows x 6 columns]"
      ]
     },
     "execution_count": 34,
     "metadata": {},
     "output_type": "execute_result"
    }
   ],
   "source": [
    "df"
   ]
  },
  {
   "cell_type": "markdown",
   "id": "d765d21a",
   "metadata": {},
   "source": [
    "### Graphs"
   ]
  },
  {
   "cell_type": "markdown",
   "id": "dfd516cd",
   "metadata": {},
   "source": [
    "## 1) $\\rho(t, c_c)$"
   ]
  },
  {
   "cell_type": "markdown",
   "id": "17135ca2",
   "metadata": {},
   "source": [
    "- $\\rho(t, c_c) ~ t ^ {-\\frac{\\beta}{\\nu Z}}$\n",
    "- $c_c = 0.18838$ \n",
    "\n",
    "Lets calculate exponent $\\frac{\\beta}{\\nu Z}$"
   ]
  },
  {
   "cell_type": "code",
   "execution_count": 35,
   "id": "bda3be1d",
   "metadata": {},
   "outputs": [
    {
     "name": "stderr",
     "output_type": "stream",
     "text": [
      "C:\\Users\\gabri\\anaconda3\\lib\\site-packages\\pandas\\core\\arraylike.py:397: RuntimeWarning: divide by zero encountered in log10\n",
      "  result = getattr(ufunc, method)(*inputs, **kwargs)\n",
      "C:\\Users\\gabri\\anaconda3\\lib\\site-packages\\IPython\\core\\pylabtools.py:151: UserWarning: Glyph 13 (\r",
      ") missing from current font.\n",
      "  fig.canvas.print_figure(bytes_io, **kw)\n"
     ]
    },
    {
     "data": {
      "image/png": "[encoded data removed]",
      "text/plain": [
       "<Figure size 432x288 with 1 Axes>"
      ]
     },
     "metadata": {
      "needs_background": "light"
     },
     "output_type": "display_data"
    }
   ],
   "source": [
    "plt.plot(np.log10(df['time'])[100:], np.log10(df['rho'])[100:], label=\"L = 150\\n$c_c$ = 0.189\\nWithout Policy\")\n",
    "plt.ylabel(\"log(\\rho(t, c_c))\")\n",
    "plt.xlabel(\"log(time)\")\n",
    "plt.legend()\n",
    "plt.grid(True)\n",
    "plt.show()"
   ]
  },
  {
   "cell_type": "markdown",
   "id": "dccb700a",
   "metadata": {},
   "source": [
    "### Linear Regression"
   ]
  },
  {
   "cell_type": "code",
   "execution_count": 36,
   "id": "52ef15dd",
   "metadata": {},
   "outputs": [],
   "source": [
    "from sklearn.linear_model import LinearRegression"
   ]
  },
  {
   "cell_type": "code",
   "execution_count": 37,
   "id": "bb6049ea",
   "metadata": {},
   "outputs": [],
   "source": [
    "reg_rho_without_policy = LinearRegression()"
   ]
  },
  {
   "cell_type": "code",
   "execution_count": 38,
   "id": "60435353",
   "metadata": {},
   "outputs": [],
   "source": [
    "# data\n",
    "X_rho_0, y_rho_0 = np.log10(df['time'][100:].values.reshape(-1, 1)), np.log10(df['rho'][100:].values.reshape(-1, 1))"
   ]
  },
  {
   "cell_type": "code",
   "execution_count": 39,
   "id": "3256df16",
   "metadata": {},
   "outputs": [
    {
     "data": {
      "text/plain": [
       "LinearRegression()"
      ]
     },
     "execution_count": 39,
     "metadata": {},
     "output_type": "execute_result"
    }
   ],
   "source": [
    "reg_rho_without_policy.fit(X_rho_0, y_rho_0)"
   ]
  },
  {
   "cell_type": "code",
   "execution_count": 40,
   "id": "0efc1d30",
   "metadata": {},
   "outputs": [
    {
     "data": {
      "text/plain": [
       "array([[-0.4683259]])"
      ]
     },
     "execution_count": 40,
     "metadata": {},
     "output_type": "execute_result"
    }
   ],
   "source": [
    "reg_rho_without_policy.coef_"
   ]
  },
  {
   "cell_type": "code",
   "execution_count": 41,
   "id": "5bd2c43a",
   "metadata": {},
   "outputs": [
    {
     "data": {
      "text/plain": [
       "-1.1617144919447482"
      ]
     },
     "execution_count": 41,
     "metadata": {},
     "output_type": "execute_result"
    }
   ],
   "source": [
    "reg_rho_without_policy.predict([[4]])[0][0]"
   ]
  },
  {
   "cell_type": "code",
   "execution_count": 42,
   "id": "e2ed4ebb",
   "metadata": {},
   "outputs": [
    {
     "name": "stderr",
     "output_type": "stream",
     "text": [
      "C:\\Users\\gabri\\anaconda3\\lib\\site-packages\\pandas\\core\\arraylike.py:397: RuntimeWarning: divide by zero encountered in log10\n",
      "  result = getattr(ufunc, method)(*inputs, **kwargs)\n",
      "C:\\Users\\gabri\\anaconda3\\lib\\site-packages\\IPython\\core\\pylabtools.py:151: UserWarning: Glyph 13 (\r",
      ") missing from current font.\n",
      "  fig.canvas.print_figure(bytes_io, **kw)\n"
     ]
    },
    {
     "data": {
      "image/png": "[encoded data removed]",
      "text/plain": [
       "<Figure size 936x576 with 1 Axes>"
      ]
     },
     "metadata": {
      "needs_background": "light"
     },
     "output_type": "display_data"
    }
   ],
   "source": [
    "plt.figure(figsize=(13, 8))\n",
    "plt.plot(np.log10(df['time'])[100:], np.log10(df['rho'])[100:], \n",
    "         label=\"L = 150\\n$c_c$ = 0.189\\nWithout Policy\")\n",
    "plt.plot([4, 5], \n",
    "         [ reg_rho_without_policy.predict([[4]])[0][0] , reg_rho_without_policy.predict([[5]])[0][0] ],\n",
    "         label=f\"beta / nu.Z = {reg_rho_without_policy.coef_[0][0]:.4f}\\nbate com Percolação direcionada:-0.45\",)\n",
    "plt.ylabel(\"log(\\rho(t, c_c))\", fontsize=20)\n",
    "plt.xlabel(\"log(time)\", fontsize=20)\n",
    "plt.legend()\n",
    "plt.grid(True)\n",
    "plt.show()"
   ]
  },
  {
   "cell_type": "markdown",
   "id": "5451134a",
   "metadata": {},
   "source": [
    "## 2) $\\Delta \\rho(t, c_c)$"
   ]
  },
  {
   "cell_type": "markdown",
   "id": "b2e2f537",
   "metadata": {},
   "source": [
    "- $\\Delta \\rho(t, c_c) ~ t ^ {-\\frac{\\gamma'}{\\nu Z}}$\n",
    "- $c_c = 0.18838$ \n",
    "\n",
    "Lets calculate exponent $\\frac{\\gamma '}{\\nu Z}$"
   ]
  },
  {
   "cell_type": "code",
   "execution_count": 43,
   "id": "255cf9d6",
   "metadata": {},
   "outputs": [
    {
     "name": "stderr",
     "output_type": "stream",
     "text": [
      "C:\\Users\\gabri\\anaconda3\\lib\\site-packages\\pandas\\core\\arraylike.py:397: RuntimeWarning: divide by zero encountered in log10\n",
      "  result = getattr(ufunc, method)(*inputs, **kwargs)\n",
      "C:\\Users\\gabri\\anaconda3\\lib\\site-packages\\IPython\\core\\pylabtools.py:151: UserWarning: Glyph 13 (\r",
      ") missing from current font.\n",
      "  fig.canvas.print_figure(bytes_io, **kw)\n"
     ]
    },
    {
     "data": {
      "image/png": "[encoded data removed]",
      "text/plain": [
       "<Figure size 432x288 with 1 Axes>"
      ]
     },
     "metadata": {
      "needs_background": "light"
     },
     "output_type": "display_data"
    }
   ],
   "source": [
    "plt.plot(np.log10(df['time'])[100:], np.log10(df['susc'])[100:], label=\"L = 150\\n$c_c$ = 0.189\\nWithout Policy\")\n",
    "plt.ylabel(\"log(delta \\rho(t, c_c))\", fontsize=20)\n",
    "plt.xlabel(\"log(time)\", fontsize=20)\n",
    "plt.legend()\n",
    "plt.grid(True)\n",
    "plt.show()"
   ]
  },
  {
   "cell_type": "markdown",
   "id": "e0dd4e70",
   "metadata": {},
   "source": [
    "## Linear Regression"
   ]
  },
  {
   "cell_type": "code",
   "execution_count": 44,
   "id": "f7a5b41e",
   "metadata": {},
   "outputs": [],
   "source": [
    "reg_susc_without_policy = LinearRegression()"
   ]
  },
  {
   "cell_type": "code",
   "execution_count": 45,
   "id": "da5d739d",
   "metadata": {},
   "outputs": [],
   "source": [
    "X_susc_0, y_susc_0 = np.log10(df['time'][100:].values.reshape(-1, 1)), np.log10(df['susc'][100:].values.reshape(-1, 1))"
   ]
  },
  {
   "cell_type": "code",
   "execution_count": 46,
   "id": "d9336e43",
   "metadata": {},
   "outputs": [
    {
     "data": {
      "text/plain": [
       "LinearRegression()"
      ]
     },
     "execution_count": 46,
     "metadata": {},
     "output_type": "execute_result"
    }
   ],
   "source": [
    "reg_susc_without_policy.fit(X_susc_0, y_susc_0)"
   ]
  },
  {
   "cell_type": "code",
   "execution_count": 47,
   "id": "12eedb0e",
   "metadata": {
    "scrolled": true
   },
   "outputs": [
    {
     "data": {
      "text/plain": [
       "array([[0.25043784]])"
      ]
     },
     "execution_count": 47,
     "metadata": {},
     "output_type": "execute_result"
    }
   ],
   "source": [
    "reg_susc_without_policy.coef_"
   ]
  },
  {
   "cell_type": "code",
   "execution_count": 48,
   "id": "6ee98d9e",
   "metadata": {},
   "outputs": [
    {
     "name": "stderr",
     "output_type": "stream",
     "text": [
      "C:\\Users\\gabri\\anaconda3\\lib\\site-packages\\pandas\\core\\arraylike.py:397: RuntimeWarning: divide by zero encountered in log10\n",
      "  result = getattr(ufunc, method)(*inputs, **kwargs)\n",
      "C:\\Users\\gabri\\anaconda3\\lib\\site-packages\\IPython\\core\\pylabtools.py:151: UserWarning: Glyph 13 (\r",
      ") missing from current font.\n",
      "  fig.canvas.print_figure(bytes_io, **kw)\n"
     ]
    },
    {
     "data": {
      "image/png": "[encoded data removed]",
      "text/plain": [
       "<Figure size 936x576 with 1 Axes>"
      ]
     },
     "metadata": {
      "needs_background": "light"
     },
     "output_type": "display_data"
    }
   ],
   "source": [
    "plt.figure(figsize=(13, 8))\n",
    "plt.plot(np.log10(df['time'])[100:], \n",
    "         np.log10(df['susc'])[100:], \n",
    "         label=\"L = 150\\n$c_c$ = 0.189\\nWithout Policy\")\n",
    "plt.plot([4, 5], \n",
    "         [ reg_susc_without_policy.predict([[4]])[0][0] , reg_susc_without_policy.predict([[5]])[0][0] ],\n",
    "         label=f\"GAMMA LINHA / nu.Z = {reg_susc_without_policy.coef_[0][0]:.4f}\\nbate com Percolação direcionada: 0.24\" )\n",
    "plt.ylabel(\"log(DELTA \\rho(t, c_c))\", fontsize=20)\n",
    "plt.xlabel(\"log(time)\", fontsize=20)\n",
    "plt.legend()\n",
    "plt.grid(True)\n",
    "plt.show()"
   ]
  },
  {
   "cell_type": "markdown",
   "id": "d53048bd",
   "metadata": {},
   "source": [
    "## Conclusion\n",
    "\n",
    "We can see that our model is validate. Both critical exponents follow prevision in the papers. In this case, we can build Neural Network predator and insert this in our model and calculate exponents. \n",
    "\n",
    "Hipotesis: To insert Neural Network will to turn predator more smart. So, this can change critic exponents?\n",
    "\n",
    "Reasons to thinking about this: To insert Neural Network is insert another probability distribution. Our predator will to diffuse in the lattice 2D. If there is a prey in the behavior (and the prey is close to predator), the predator will to try to eat this prey, because Neural Network will try maximaze preys neighboors."
   ]
  },
  {
   "cell_type": "markdown",
   "id": "385d961a",
   "metadata": {},
   "source": [
    "## Load data with policy"
   ]
  },
  {
   "cell_type": "code",
   "execution_count": 24,
   "id": "22f528c6",
   "metadata": {},
   "outputs": [],
   "source": [
    "data_p_c26 = {}"
   ]
  },
  {
   "cell_type": "code",
   "execution_count": 49,
   "id": "c7828e72",
   "metadata": {},
   "outputs": [],
   "source": [
    "for i in range(31):\n",
    "    data_p_c26[i] = pd.read_csv(f'data_w_policy_cc/results_{i}_w_policy_c26_200.csv')\n",
    "    data_p_c26[i]['rho_2_barra'] = data_p_c26[i]['rho'] ** 2"
   ]
  },
  {
   "cell_type": "code",
   "execution_count": 50,
   "id": "bd1d6e16",
   "metadata": {
    "scrolled": true
   },
   "outputs": [
    {
     "data": {
      "text/html": [
       "<div>\n",
       "<style scoped>\n",
       "    .dataframe tbody tr th:only-of-type {\n",
       "        vertical-align: middle;\n",
       "    }\n",
       "\n",
       "    .dataframe tbody tr th {\n",
       "        vertical-align: top;\n",
       "    }\n",
       "\n",
       "    .dataframe thead th {\n",
       "        text-align: right;\n",
       "    }\n",
       "</style>\n",
       "<table border=\"1\" class=\"dataframe\">\n",
       "  <thead>\n",
       "    <tr style=\"text-align: right;\">\n",
       "      <th></th>\n",
       "      <th>time</th>\n",
       "      <th>rho</th>\n",
       "      <th>rho_2_barra</th>\n",
       "    </tr>\n",
       "  </thead>\n",
       "  <tbody>\n",
       "    <tr>\n",
       "      <th>0</th>\n",
       "      <td>0</td>\n",
       "      <td>0.453450</td>\n",
       "      <td>0.205617</td>\n",
       "    </tr>\n",
       "    <tr>\n",
       "      <th>1</th>\n",
       "      <td>100</td>\n",
       "      <td>0.407375</td>\n",
       "      <td>0.165954</td>\n",
       "    </tr>\n",
       "    <tr>\n",
       "      <th>2</th>\n",
       "      <td>200</td>\n",
       "      <td>0.360875</td>\n",
       "      <td>0.130231</td>\n",
       "    </tr>\n",
       "    <tr>\n",
       "      <th>3</th>\n",
       "      <td>300</td>\n",
       "      <td>0.320850</td>\n",
       "      <td>0.102945</td>\n",
       "    </tr>\n",
       "    <tr>\n",
       "      <th>4</th>\n",
       "      <td>400</td>\n",
       "      <td>0.284625</td>\n",
       "      <td>0.081011</td>\n",
       "    </tr>\n",
       "    <tr>\n",
       "      <th>...</th>\n",
       "      <td>...</td>\n",
       "      <td>...</td>\n",
       "      <td>...</td>\n",
       "    </tr>\n",
       "    <tr>\n",
       "      <th>895</th>\n",
       "      <td>89500</td>\n",
       "      <td>0.093900</td>\n",
       "      <td>0.008817</td>\n",
       "    </tr>\n",
       "    <tr>\n",
       "      <th>896</th>\n",
       "      <td>89600</td>\n",
       "      <td>0.094700</td>\n",
       "      <td>0.008968</td>\n",
       "    </tr>\n",
       "    <tr>\n",
       "      <th>897</th>\n",
       "      <td>89700</td>\n",
       "      <td>0.096450</td>\n",
       "      <td>0.009303</td>\n",
       "    </tr>\n",
       "    <tr>\n",
       "      <th>898</th>\n",
       "      <td>89800</td>\n",
       "      <td>0.097675</td>\n",
       "      <td>0.009540</td>\n",
       "    </tr>\n",
       "    <tr>\n",
       "      <th>899</th>\n",
       "      <td>89900</td>\n",
       "      <td>0.095400</td>\n",
       "      <td>0.009101</td>\n",
       "    </tr>\n",
       "  </tbody>\n",
       "</table>\n",
       "<p>900 rows × 3 columns</p>\n",
       "</div>"
      ],
      "text/plain": [
       "      time       rho  rho_2_barra\n",
       "0        0  0.453450     0.205617\n",
       "1      100  0.407375     0.165954\n",
       "2      200  0.360875     0.130231\n",
       "3      300  0.320850     0.102945\n",
       "4      400  0.284625     0.081011\n",
       "..     ...       ...          ...\n",
       "895  89500  0.093900     0.008817\n",
       "896  89600  0.094700     0.008968\n",
       "897  89700  0.096450     0.009303\n",
       "898  89800  0.097675     0.009540\n",
       "899  89900  0.095400     0.009101\n",
       "\n",
       "[900 rows x 3 columns]"
      ]
     },
     "execution_count": 50,
     "metadata": {},
     "output_type": "execute_result"
    }
   ],
   "source": [
    "data_p_c26[0]"
   ]
  },
  {
   "cell_type": "code",
   "execution_count": 51,
   "id": "784fbd05",
   "metadata": {},
   "outputs": [],
   "source": [
    "for i in range(1, 31):\n",
    "    data_p_c26[0]['rho'] += data_p_c26[i]['rho']\n",
    "    data_p_c26[0]['rho_2_barra'] += data_p_c26[i]['rho_2_barra']\n",
    "data_p_c26[0]['rho'] /= 31\n",
    "data_p_c26[0]['rho_2_barra']= (data_p_c26[0]['rho_2_barra'] / 31)\n",
    "data_p_c26[0]['rho_barra_2']= (data_p_c26[0]['rho']) ** 2\n"
   ]
  },
  {
   "cell_type": "code",
   "execution_count": 52,
   "id": "28090052",
   "metadata": {},
   "outputs": [],
   "source": [
    "df_p_c26 = data_p_c26[0]"
   ]
  },
  {
   "cell_type": "markdown",
   "id": "84c4b6d7",
   "metadata": {},
   "source": [
    "#### Lets calculate $U_L$ and $\\Delta \\rho$\n",
    "\n",
    "- Order parameter Flutuation: $\\Delta \\rho = [<N_Y^2> - <N_Y>^2] \\cdot N$ (susc)\n",
    "- Order parameter Flutuation: $U_L= \\frac{<N_Y^2>}{<N_Y>^2}$ (cumul)"
   ]
  },
  {
   "cell_type": "code",
   "execution_count": 53,
   "id": "89017f8b",
   "metadata": {},
   "outputs": [],
   "source": [
    "U_L = df_p_c26['rho_2_barra'] / df_p_c26['rho_barra_2']\n",
    "delta_rho = (df_p_c26['rho_2_barra'] - df_p_c26['rho_barra_2']) * (200 * 200)"
   ]
  },
  {
   "cell_type": "code",
   "execution_count": 54,
   "id": "56489f24",
   "metadata": {
    "scrolled": true
   },
   "outputs": [
    {
     "data": {
      "text/html": [
       "<div>\n",
       "<style scoped>\n",
       "    .dataframe tbody tr th:only-of-type {\n",
       "        vertical-align: middle;\n",
       "    }\n",
       "\n",
       "    .dataframe tbody tr th {\n",
       "        vertical-align: top;\n",
       "    }\n",
       "\n",
       "    .dataframe thead th {\n",
       "        text-align: right;\n",
       "    }\n",
       "</style>\n",
       "<table border=\"1\" class=\"dataframe\">\n",
       "  <thead>\n",
       "    <tr style=\"text-align: right;\">\n",
       "      <th></th>\n",
       "      <th>time</th>\n",
       "      <th>rho</th>\n",
       "      <th>rho_2_barra</th>\n",
       "      <th>rho_barra_2</th>\n",
       "      <th>susc</th>\n",
       "      <th>cumul</th>\n",
       "    </tr>\n",
       "  </thead>\n",
       "  <tbody>\n",
       "    <tr>\n",
       "      <th>0</th>\n",
       "      <td>0</td>\n",
       "      <td>0.454752</td>\n",
       "      <td>0.206804</td>\n",
       "      <td>0.206799</td>\n",
       "      <td>0.205464</td>\n",
       "      <td>1.000025</td>\n",
       "    </tr>\n",
       "    <tr>\n",
       "      <th>1</th>\n",
       "      <td>100</td>\n",
       "      <td>0.407744</td>\n",
       "      <td>0.166260</td>\n",
       "      <td>0.166255</td>\n",
       "      <td>0.216524</td>\n",
       "      <td>1.000033</td>\n",
       "    </tr>\n",
       "    <tr>\n",
       "      <th>2</th>\n",
       "      <td>200</td>\n",
       "      <td>0.362702</td>\n",
       "      <td>0.131561</td>\n",
       "      <td>0.131553</td>\n",
       "      <td>0.319115</td>\n",
       "      <td>1.000061</td>\n",
       "    </tr>\n",
       "    <tr>\n",
       "      <th>3</th>\n",
       "      <td>300</td>\n",
       "      <td>0.320806</td>\n",
       "      <td>0.102926</td>\n",
       "      <td>0.102917</td>\n",
       "      <td>0.370452</td>\n",
       "      <td>1.000090</td>\n",
       "    </tr>\n",
       "    <tr>\n",
       "      <th>4</th>\n",
       "      <td>400</td>\n",
       "      <td>0.283827</td>\n",
       "      <td>0.080565</td>\n",
       "      <td>0.080558</td>\n",
       "      <td>0.316453</td>\n",
       "      <td>1.000098</td>\n",
       "    </tr>\n",
       "    <tr>\n",
       "      <th>...</th>\n",
       "      <td>...</td>\n",
       "      <td>...</td>\n",
       "      <td>...</td>\n",
       "      <td>...</td>\n",
       "      <td>...</td>\n",
       "      <td>...</td>\n",
       "    </tr>\n",
       "    <tr>\n",
       "      <th>895</th>\n",
       "      <td>89500</td>\n",
       "      <td>0.091846</td>\n",
       "      <td>0.008462</td>\n",
       "      <td>0.008436</td>\n",
       "      <td>1.049270</td>\n",
       "      <td>1.003110</td>\n",
       "    </tr>\n",
       "    <tr>\n",
       "      <th>896</th>\n",
       "      <td>89600</td>\n",
       "      <td>0.091625</td>\n",
       "      <td>0.008427</td>\n",
       "      <td>0.008395</td>\n",
       "      <td>1.266648</td>\n",
       "      <td>1.003772</td>\n",
       "    </tr>\n",
       "    <tr>\n",
       "      <th>897</th>\n",
       "      <td>89700</td>\n",
       "      <td>0.091606</td>\n",
       "      <td>0.008423</td>\n",
       "      <td>0.008392</td>\n",
       "      <td>1.269158</td>\n",
       "      <td>1.003781</td>\n",
       "    </tr>\n",
       "    <tr>\n",
       "      <th>898</th>\n",
       "      <td>89800</td>\n",
       "      <td>0.091632</td>\n",
       "      <td>0.008429</td>\n",
       "      <td>0.008396</td>\n",
       "      <td>1.313223</td>\n",
       "      <td>1.003910</td>\n",
       "    </tr>\n",
       "    <tr>\n",
       "      <th>899</th>\n",
       "      <td>89900</td>\n",
       "      <td>0.091256</td>\n",
       "      <td>0.008360</td>\n",
       "      <td>0.008328</td>\n",
       "      <td>1.296822</td>\n",
       "      <td>1.003893</td>\n",
       "    </tr>\n",
       "  </tbody>\n",
       "</table>\n",
       "<p>900 rows × 6 columns</p>\n",
       "</div>"
      ],
      "text/plain": [
       "      time       rho  rho_2_barra  rho_barra_2      susc     cumul\n",
       "0        0  0.454752     0.206804     0.206799  0.205464  1.000025\n",
       "1      100  0.407744     0.166260     0.166255  0.216524  1.000033\n",
       "2      200  0.362702     0.131561     0.131553  0.319115  1.000061\n",
       "3      300  0.320806     0.102926     0.102917  0.370452  1.000090\n",
       "4      400  0.283827     0.080565     0.080558  0.316453  1.000098\n",
       "..     ...       ...          ...          ...       ...       ...\n",
       "895  89500  0.091846     0.008462     0.008436  1.049270  1.003110\n",
       "896  89600  0.091625     0.008427     0.008395  1.266648  1.003772\n",
       "897  89700  0.091606     0.008423     0.008392  1.269158  1.003781\n",
       "898  89800  0.091632     0.008429     0.008396  1.313223  1.003910\n",
       "899  89900  0.091256     0.008360     0.008328  1.296822  1.003893\n",
       "\n",
       "[900 rows x 6 columns]"
      ]
     },
     "execution_count": 54,
     "metadata": {},
     "output_type": "execute_result"
    }
   ],
   "source": [
    "df_p_c26['susc'] = delta_rho\n",
    "df_p_c26['cumul'] = U_L\n",
    "df_p_c26"
   ]
  },
  {
   "cell_type": "code",
   "execution_count": 56,
   "id": "655b030d",
   "metadata": {},
   "outputs": [],
   "source": [
    "data_p_c27 = {}\n",
    "for i in range(25):\n",
    "    data_p_c27[i] = pd.read_csv(f'results_{i}_w_policy_270.csv')\n",
    "    data_p_c27[i]['rho_2_barra'] = data_p_c27[i]['rho'] ** 2"
   ]
  },
  {
   "cell_type": "code",
   "execution_count": 57,
   "id": "f1b01ee6",
   "metadata": {},
   "outputs": [
    {
     "data": {
      "text/html": [
       "<div>\n",
       "<style scoped>\n",
       "    .dataframe tbody tr th:only-of-type {\n",
       "        vertical-align: middle;\n",
       "    }\n",
       "\n",
       "    .dataframe tbody tr th {\n",
       "        vertical-align: top;\n",
       "    }\n",
       "\n",
       "    .dataframe thead th {\n",
       "        text-align: right;\n",
       "    }\n",
       "</style>\n",
       "<table border=\"1\" class=\"dataframe\">\n",
       "  <thead>\n",
       "    <tr style=\"text-align: right;\">\n",
       "      <th></th>\n",
       "      <th>time</th>\n",
       "      <th>rho</th>\n",
       "      <th>rho_2_barra</th>\n",
       "    </tr>\n",
       "  </thead>\n",
       "  <tbody>\n",
       "    <tr>\n",
       "      <th>0</th>\n",
       "      <td>0</td>\n",
       "      <td>0.443422</td>\n",
       "      <td>0.196623</td>\n",
       "    </tr>\n",
       "    <tr>\n",
       "      <th>1</th>\n",
       "      <td>100</td>\n",
       "      <td>0.394178</td>\n",
       "      <td>0.155376</td>\n",
       "    </tr>\n",
       "    <tr>\n",
       "      <th>2</th>\n",
       "      <td>200</td>\n",
       "      <td>0.348933</td>\n",
       "      <td>0.121754</td>\n",
       "    </tr>\n",
       "    <tr>\n",
       "      <th>3</th>\n",
       "      <td>300</td>\n",
       "      <td>0.308756</td>\n",
       "      <td>0.095330</td>\n",
       "    </tr>\n",
       "    <tr>\n",
       "      <th>4</th>\n",
       "      <td>400</td>\n",
       "      <td>0.268622</td>\n",
       "      <td>0.072158</td>\n",
       "    </tr>\n",
       "    <tr>\n",
       "      <th>...</th>\n",
       "      <td>...</td>\n",
       "      <td>...</td>\n",
       "      <td>...</td>\n",
       "    </tr>\n",
       "    <tr>\n",
       "      <th>895</th>\n",
       "      <td>89500</td>\n",
       "      <td>0.030711</td>\n",
       "      <td>0.000943</td>\n",
       "    </tr>\n",
       "    <tr>\n",
       "      <th>896</th>\n",
       "      <td>89600</td>\n",
       "      <td>0.030400</td>\n",
       "      <td>0.000924</td>\n",
       "    </tr>\n",
       "    <tr>\n",
       "      <th>897</th>\n",
       "      <td>89700</td>\n",
       "      <td>0.028800</td>\n",
       "      <td>0.000829</td>\n",
       "    </tr>\n",
       "    <tr>\n",
       "      <th>898</th>\n",
       "      <td>89800</td>\n",
       "      <td>0.028133</td>\n",
       "      <td>0.000791</td>\n",
       "    </tr>\n",
       "    <tr>\n",
       "      <th>899</th>\n",
       "      <td>89900</td>\n",
       "      <td>0.027333</td>\n",
       "      <td>0.000747</td>\n",
       "    </tr>\n",
       "  </tbody>\n",
       "</table>\n",
       "<p>900 rows × 3 columns</p>\n",
       "</div>"
      ],
      "text/plain": [
       "      time       rho  rho_2_barra\n",
       "0        0  0.443422     0.196623\n",
       "1      100  0.394178     0.155376\n",
       "2      200  0.348933     0.121754\n",
       "3      300  0.308756     0.095330\n",
       "4      400  0.268622     0.072158\n",
       "..     ...       ...          ...\n",
       "895  89500  0.030711     0.000943\n",
       "896  89600  0.030400     0.000924\n",
       "897  89700  0.028800     0.000829\n",
       "898  89800  0.028133     0.000791\n",
       "899  89900  0.027333     0.000747\n",
       "\n",
       "[900 rows x 3 columns]"
      ]
     },
     "execution_count": 57,
     "metadata": {},
     "output_type": "execute_result"
    }
   ],
   "source": [
    "data_p_c27[0]"
   ]
  },
  {
   "cell_type": "code",
   "execution_count": 58,
   "id": "7a43b60b",
   "metadata": {},
   "outputs": [],
   "source": [
    "for i in range(1, 25):\n",
    "    data_p_c27[0]['rho'] += data_p_c27[i]['rho']\n",
    "    data_p_c27[0]['rho_2_barra'] += data_p_c27[i]['rho_2_barra']\n",
    "data_p_c27[0]['rho'] /= 25\n",
    "data_p_c27[0]['rho_2_barra']= (data_p_c27[0]['rho_2_barra'] / 25)\n",
    "data_p_c27[0]['rho_barra_2']= (data_p_c27[0]['rho']) ** 2"
   ]
  },
  {
   "cell_type": "code",
   "execution_count": 59,
   "id": "8b8327f1",
   "metadata": {},
   "outputs": [],
   "source": [
    "df_p_c27 = data_p_c27[0]"
   ]
  },
  {
   "cell_type": "code",
   "execution_count": 60,
   "id": "772f09d8",
   "metadata": {},
   "outputs": [
    {
     "data": {
      "text/html": [
       "<div>\n",
       "<style scoped>\n",
       "    .dataframe tbody tr th:only-of-type {\n",
       "        vertical-align: middle;\n",
       "    }\n",
       "\n",
       "    .dataframe tbody tr th {\n",
       "        vertical-align: top;\n",
       "    }\n",
       "\n",
       "    .dataframe thead th {\n",
       "        text-align: right;\n",
       "    }\n",
       "</style>\n",
       "<table border=\"1\" class=\"dataframe\">\n",
       "  <thead>\n",
       "    <tr style=\"text-align: right;\">\n",
       "      <th></th>\n",
       "      <th>time</th>\n",
       "      <th>rho</th>\n",
       "      <th>rho_2_barra</th>\n",
       "      <th>rho_barra_2</th>\n",
       "    </tr>\n",
       "  </thead>\n",
       "  <tbody>\n",
       "    <tr>\n",
       "      <th>0</th>\n",
       "      <td>0</td>\n",
       "      <td>0.447883</td>\n",
       "      <td>0.200606</td>\n",
       "      <td>0.200599</td>\n",
       "    </tr>\n",
       "    <tr>\n",
       "      <th>1</th>\n",
       "      <td>100</td>\n",
       "      <td>0.396706</td>\n",
       "      <td>0.157384</td>\n",
       "      <td>0.157375</td>\n",
       "    </tr>\n",
       "    <tr>\n",
       "      <th>2</th>\n",
       "      <td>200</td>\n",
       "      <td>0.348606</td>\n",
       "      <td>0.121539</td>\n",
       "      <td>0.121526</td>\n",
       "    </tr>\n",
       "    <tr>\n",
       "      <th>3</th>\n",
       "      <td>300</td>\n",
       "      <td>0.305300</td>\n",
       "      <td>0.093220</td>\n",
       "      <td>0.093208</td>\n",
       "    </tr>\n",
       "    <tr>\n",
       "      <th>4</th>\n",
       "      <td>400</td>\n",
       "      <td>0.268101</td>\n",
       "      <td>0.071892</td>\n",
       "      <td>0.071878</td>\n",
       "    </tr>\n",
       "    <tr>\n",
       "      <th>...</th>\n",
       "      <td>...</td>\n",
       "      <td>...</td>\n",
       "      <td>...</td>\n",
       "      <td>...</td>\n",
       "    </tr>\n",
       "    <tr>\n",
       "      <th>895</th>\n",
       "      <td>89500</td>\n",
       "      <td>0.014416</td>\n",
       "      <td>0.000249</td>\n",
       "      <td>0.000208</td>\n",
       "    </tr>\n",
       "    <tr>\n",
       "      <th>896</th>\n",
       "      <td>89600</td>\n",
       "      <td>0.014386</td>\n",
       "      <td>0.000249</td>\n",
       "      <td>0.000207</td>\n",
       "    </tr>\n",
       "    <tr>\n",
       "      <th>897</th>\n",
       "      <td>89700</td>\n",
       "      <td>0.014388</td>\n",
       "      <td>0.000247</td>\n",
       "      <td>0.000207</td>\n",
       "    </tr>\n",
       "    <tr>\n",
       "      <th>898</th>\n",
       "      <td>89800</td>\n",
       "      <td>0.014444</td>\n",
       "      <td>0.000250</td>\n",
       "      <td>0.000209</td>\n",
       "    </tr>\n",
       "    <tr>\n",
       "      <th>899</th>\n",
       "      <td>89900</td>\n",
       "      <td>0.014494</td>\n",
       "      <td>0.000249</td>\n",
       "      <td>0.000210</td>\n",
       "    </tr>\n",
       "  </tbody>\n",
       "</table>\n",
       "<p>900 rows × 4 columns</p>\n",
       "</div>"
      ],
      "text/plain": [
       "      time       rho  rho_2_barra  rho_barra_2\n",
       "0        0  0.447883     0.200606     0.200599\n",
       "1      100  0.396706     0.157384     0.157375\n",
       "2      200  0.348606     0.121539     0.121526\n",
       "3      300  0.305300     0.093220     0.093208\n",
       "4      400  0.268101     0.071892     0.071878\n",
       "..     ...       ...          ...          ...\n",
       "895  89500  0.014416     0.000249     0.000208\n",
       "896  89600  0.014386     0.000249     0.000207\n",
       "897  89700  0.014388     0.000247     0.000207\n",
       "898  89800  0.014444     0.000250     0.000209\n",
       "899  89900  0.014494     0.000249     0.000210\n",
       "\n",
       "[900 rows x 4 columns]"
      ]
     },
     "execution_count": 60,
     "metadata": {},
     "output_type": "execute_result"
    }
   ],
   "source": [
    "df_p_c27"
   ]
  },
  {
   "cell_type": "code",
   "execution_count": 61,
   "id": "a34a1cdb",
   "metadata": {},
   "outputs": [],
   "source": [
    "U_L = df_p_c27['rho_2_barra'] / df_p_c27['rho_barra_2']\n",
    "delta_rho = (df_p_c27['rho_2_barra'] - df_p_c27['rho_barra_2']) * (150 * 150)"
   ]
  },
  {
   "cell_type": "code",
   "execution_count": 62,
   "id": "bd3464ec",
   "metadata": {},
   "outputs": [
    {
     "data": {
      "text/html": [
       "<div>\n",
       "<style scoped>\n",
       "    .dataframe tbody tr th:only-of-type {\n",
       "        vertical-align: middle;\n",
       "    }\n",
       "\n",
       "    .dataframe tbody tr th {\n",
       "        vertical-align: top;\n",
       "    }\n",
       "\n",
       "    .dataframe thead th {\n",
       "        text-align: right;\n",
       "    }\n",
       "</style>\n",
       "<table border=\"1\" class=\"dataframe\">\n",
       "  <thead>\n",
       "    <tr style=\"text-align: right;\">\n",
       "      <th></th>\n",
       "      <th>time</th>\n",
       "      <th>rho</th>\n",
       "      <th>rho_2_barra</th>\n",
       "      <th>rho_barra_2</th>\n",
       "      <th>susc</th>\n",
       "      <th>cumul</th>\n",
       "    </tr>\n",
       "  </thead>\n",
       "  <tbody>\n",
       "    <tr>\n",
       "      <th>0</th>\n",
       "      <td>0</td>\n",
       "      <td>0.447883</td>\n",
       "      <td>0.200606</td>\n",
       "      <td>0.200599</td>\n",
       "      <td>0.152935</td>\n",
       "      <td>1.000034</td>\n",
       "    </tr>\n",
       "    <tr>\n",
       "      <th>1</th>\n",
       "      <td>100</td>\n",
       "      <td>0.396706</td>\n",
       "      <td>0.157384</td>\n",
       "      <td>0.157375</td>\n",
       "      <td>0.193886</td>\n",
       "      <td>1.000055</td>\n",
       "    </tr>\n",
       "    <tr>\n",
       "      <th>2</th>\n",
       "      <td>200</td>\n",
       "      <td>0.348606</td>\n",
       "      <td>0.121539</td>\n",
       "      <td>0.121526</td>\n",
       "      <td>0.289994</td>\n",
       "      <td>1.000106</td>\n",
       "    </tr>\n",
       "    <tr>\n",
       "      <th>3</th>\n",
       "      <td>300</td>\n",
       "      <td>0.305300</td>\n",
       "      <td>0.093220</td>\n",
       "      <td>0.093208</td>\n",
       "      <td>0.268790</td>\n",
       "      <td>1.000128</td>\n",
       "    </tr>\n",
       "    <tr>\n",
       "      <th>4</th>\n",
       "      <td>400</td>\n",
       "      <td>0.268101</td>\n",
       "      <td>0.071892</td>\n",
       "      <td>0.071878</td>\n",
       "      <td>0.298021</td>\n",
       "      <td>1.000184</td>\n",
       "    </tr>\n",
       "    <tr>\n",
       "      <th>...</th>\n",
       "      <td>...</td>\n",
       "      <td>...</td>\n",
       "      <td>...</td>\n",
       "      <td>...</td>\n",
       "      <td>...</td>\n",
       "      <td>...</td>\n",
       "    </tr>\n",
       "    <tr>\n",
       "      <th>895</th>\n",
       "      <td>89500</td>\n",
       "      <td>0.014416</td>\n",
       "      <td>0.000249</td>\n",
       "      <td>0.000208</td>\n",
       "      <td>0.937592</td>\n",
       "      <td>1.200513</td>\n",
       "    </tr>\n",
       "    <tr>\n",
       "      <th>896</th>\n",
       "      <td>89600</td>\n",
       "      <td>0.014386</td>\n",
       "      <td>0.000249</td>\n",
       "      <td>0.000207</td>\n",
       "      <td>0.950982</td>\n",
       "      <td>1.204232</td>\n",
       "    </tr>\n",
       "    <tr>\n",
       "      <th>897</th>\n",
       "      <td>89700</td>\n",
       "      <td>0.014388</td>\n",
       "      <td>0.000247</td>\n",
       "      <td>0.000207</td>\n",
       "      <td>0.900368</td>\n",
       "      <td>1.193314</td>\n",
       "    </tr>\n",
       "    <tr>\n",
       "      <th>898</th>\n",
       "      <td>89800</td>\n",
       "      <td>0.014444</td>\n",
       "      <td>0.000250</td>\n",
       "      <td>0.000209</td>\n",
       "      <td>0.923100</td>\n",
       "      <td>1.196637</td>\n",
       "    </tr>\n",
       "    <tr>\n",
       "      <th>899</th>\n",
       "      <td>89900</td>\n",
       "      <td>0.014494</td>\n",
       "      <td>0.000249</td>\n",
       "      <td>0.000210</td>\n",
       "      <td>0.881974</td>\n",
       "      <td>1.186588</td>\n",
       "    </tr>\n",
       "  </tbody>\n",
       "</table>\n",
       "<p>900 rows × 6 columns</p>\n",
       "</div>"
      ],
      "text/plain": [
       "      time       rho  rho_2_barra  rho_barra_2      susc     cumul\n",
       "0        0  0.447883     0.200606     0.200599  0.152935  1.000034\n",
       "1      100  0.396706     0.157384     0.157375  0.193886  1.000055\n",
       "2      200  0.348606     0.121539     0.121526  0.289994  1.000106\n",
       "3      300  0.305300     0.093220     0.093208  0.268790  1.000128\n",
       "4      400  0.268101     0.071892     0.071878  0.298021  1.000184\n",
       "..     ...       ...          ...          ...       ...       ...\n",
       "895  89500  0.014416     0.000249     0.000208  0.937592  1.200513\n",
       "896  89600  0.014386     0.000249     0.000207  0.950982  1.204232\n",
       "897  89700  0.014388     0.000247     0.000207  0.900368  1.193314\n",
       "898  89800  0.014444     0.000250     0.000209  0.923100  1.196637\n",
       "899  89900  0.014494     0.000249     0.000210  0.881974  1.186588\n",
       "\n",
       "[900 rows x 6 columns]"
      ]
     },
     "execution_count": 62,
     "metadata": {},
     "output_type": "execute_result"
    }
   ],
   "source": [
    "df_p_c27['susc'] = delta_rho\n",
    "df_p_c27['cumul'] = U_L\n",
    "df_p_c27"
   ]
  },
  {
   "cell_type": "code",
   "execution_count": null,
   "id": "052585de",
   "metadata": {},
   "outputs": [],
   "source": []
  },
  {
   "cell_type": "markdown",
   "id": "dfee8fe5",
   "metadata": {},
   "source": [
    "### Graphs"
   ]
  },
  {
   "cell_type": "markdown",
   "id": "d46c5f55",
   "metadata": {},
   "source": [
    "## 1) $\\rho(t, c_c)$"
   ]
  },
  {
   "cell_type": "code",
   "execution_count": 63,
   "id": "2448f0bf",
   "metadata": {},
   "outputs": [
    {
     "name": "stderr",
     "output_type": "stream",
     "text": [
      "C:\\Users\\gabri\\anaconda3\\lib\\site-packages\\pandas\\core\\arraylike.py:397: RuntimeWarning: divide by zero encountered in log10\n",
      "  result = getattr(ufunc, method)(*inputs, **kwargs)\n",
      "C:\\Users\\gabri\\anaconda3\\lib\\site-packages\\pandas\\core\\arraylike.py:397: RuntimeWarning: divide by zero encountered in log10\n",
      "  result = getattr(ufunc, method)(*inputs, **kwargs)\n",
      "C:\\Users\\gabri\\anaconda3\\lib\\site-packages\\pandas\\core\\arraylike.py:397: RuntimeWarning: divide by zero encountered in log10\n",
      "  result = getattr(ufunc, method)(*inputs, **kwargs)\n",
      ") missing from current font.\\site-packages\\IPython\\core\\pylabtools.py:151: UserWarning: Glyph 13 (\n",
      "  fig.canvas.print_figure(bytes_io, **kw)\n"
     ]
    },
    {
     "data": {
      "image/png": "[encoded data removed]",
      "text/plain": [
       "<Figure size 432x288 with 1 Axes>"
      ]
     },
     "metadata": {
      "needs_background": "light"
     },
     "output_type": "display_data"
    }
   ],
   "source": [
    "plt.plot(np.log10(df_p_c26['time'])[50:], np.log10(df_p_c26['rho'])[50:], label=\"L = 200\\n$c$ = 0.26\\nWith Policy\")\n",
    "plt.plot(np.log10(df_p_c27['time'])[50:], np.log10(df_p_c27['rho'])[50:], label=\"L = 150\\n$c$ = 0.27\\nWith Policy\")\n",
    "plt.plot(np.log10(df['time'])[50:], np.log10(df['rho'])[50:], label=\"L = 150\\n$c_c$ = 0.189\\nWithout Policy\")\n",
    "\n",
    "plt.ylabel(\"log(\\rho(t, c_c))\")\n",
    "plt.xlabel(\"log(time)\")\n",
    "plt.legend()\n",
    "plt.grid(True)\n",
    "plt.show()"
   ]
  },
  {
   "cell_type": "markdown",
   "id": "23a61002",
   "metadata": {},
   "source": [
    "### Linear Regression"
   ]
  },
  {
   "cell_type": "code",
   "execution_count": 64,
   "id": "95231f39",
   "metadata": {},
   "outputs": [],
   "source": [
    "reg_rho_with_policy = LinearRegression()"
   ]
  },
  {
   "cell_type": "code",
   "execution_count": 65,
   "id": "709d36df",
   "metadata": {},
   "outputs": [
    {
     "name": "stderr",
     "output_type": "stream",
     "text": [
      "C:\\Users\\gabri\\anaconda3\\lib\\site-packages\\pandas\\core\\arraylike.py:397: RuntimeWarning: divide by zero encountered in log10\n",
      "  result = getattr(ufunc, method)(*inputs, **kwargs)\n"
     ]
    }
   ],
   "source": [
    "X_rho_p = np.log10(df_p_c27['time'])[50:500].values.reshape(-1, 1)\n",
    "y_rho_p = np.log10(df_p_c27['rho'])[50:500].values.reshape(-1, 1)"
   ]
  },
  {
   "cell_type": "code",
   "execution_count": 66,
   "id": "2af5e11f",
   "metadata": {},
   "outputs": [
    {
     "data": {
      "text/plain": [
       "LinearRegression()"
      ]
     },
     "execution_count": 66,
     "metadata": {},
     "output_type": "execute_result"
    }
   ],
   "source": [
    "reg_rho_with_policy.fit(X_rho_p, y_rho_p)"
   ]
  },
  {
   "cell_type": "code",
   "execution_count": 67,
   "id": "0cc1580b",
   "metadata": {},
   "outputs": [
    {
     "data": {
      "text/plain": [
       "array([[-0.45869794]])"
      ]
     },
     "execution_count": 67,
     "metadata": {},
     "output_type": "execute_result"
    }
   ],
   "source": [
    "reg_rho_with_policy.coef_"
   ]
  },
  {
   "cell_type": "code",
   "execution_count": 68,
   "id": "e6b510e8",
   "metadata": {
    "scrolled": false
   },
   "outputs": [
    {
     "name": "stderr",
     "output_type": "stream",
     "text": [
      "C:\\Users\\gabri\\anaconda3\\lib\\site-packages\\pandas\\core\\arraylike.py:397: RuntimeWarning: divide by zero encountered in log10\n",
      "  result = getattr(ufunc, method)(*inputs, **kwargs)\n",
      "C:\\Users\\gabri\\anaconda3\\lib\\site-packages\\IPython\\core\\pylabtools.py:151: UserWarning: Glyph 13 (\r",
      ") missing from current font.\n",
      "  fig.canvas.print_figure(bytes_io, **kw)\n"
     ]
    },
    {
     "data": {
      "image/png": "[encoded data removed]",
      "text/plain": [
       "<Figure size 936x576 with 1 Axes>"
      ]
     },
     "metadata": {
      "needs_background": "light"
     },
     "output_type": "display_data"
    }
   ],
   "source": [
    "plt.figure(figsize=(13, 8))\n",
    "plt.plot(np.log10(df_p_c27['time'])[50:500], np.log10(df_p_c27['rho'])[50:500], \n",
    "         label=\"L = 150\\n$c_c$ = 0.26\\nWith Policy\")\n",
    "plt.plot([3.7, 4.7], \n",
    "         [ reg_rho_with_policy.predict([[3.7]])[0][0] , reg_rho_with_policy.predict([[4.7]])[0][0] ],\n",
    "         label=f\"beta / nu.Z = {reg_rho_with_policy.coef_[0][0]:.4f}\\nbate com Percolação direcionada:-0.45\",)\n",
    "plt.ylabel(\"log(\\rho(t, c_c))\", fontsize=20)\n",
    "plt.xlabel(\"log(time)\", fontsize=20)\n",
    "plt.legend()\n",
    "plt.grid(True)\n",
    "plt.show()"
   ]
  },
  {
   "cell_type": "markdown",
   "id": "20dfac22",
   "metadata": {},
   "source": [
    "## 2) $\\Delta \\rho$"
   ]
  },
  {
   "cell_type": "code",
   "execution_count": 93,
   "id": "4cc8adcc",
   "metadata": {},
   "outputs": [
    {
     "name": "stderr",
     "output_type": "stream",
     "text": [
      "C:\\Users\\gabri\\anaconda3\\lib\\site-packages\\pandas\\core\\arraylike.py:397: RuntimeWarning: divide by zero encountered in log10\n",
      "  result = getattr(ufunc, method)(*inputs, **kwargs)\n",
      "C:\\Users\\gabri\\anaconda3\\lib\\site-packages\\IPython\\core\\pylabtools.py:151: UserWarning: Glyph 13 (\r",
      ") missing from current font.\n",
      "  fig.canvas.print_figure(bytes_io, **kw)\n"
     ]
    },
    {
     "data": {
      "image/png": "[encoded data removed]",
      "text/plain": [
       "<Figure size 432x288 with 1 Axes>"
      ]
     },
     "metadata": {
      "needs_background": "light"
     },
     "output_type": "display_data"
    }
   ],
   "source": [
    "plt.plot(np.log10(df_p_c27['time'])[100:600], np.log10(df_p_c27['susc'])[100:600], label=\"L = 150\\n$c$ = 0.27\\nWith Policy\")\n",
    "\n",
    "plt.ylabel(\"log(\\rho(t, c_c))\")\n",
    "plt.xlabel(\"log(time)\")\n",
    "plt.ylim([-0.8, 0.4])\n",
    "plt.legend()\n",
    "plt.grid(True)\n",
    "plt.show()"
   ]
  },
  {
   "cell_type": "code",
   "execution_count": 88,
   "id": "0f3c7882",
   "metadata": {},
   "outputs": [],
   "source": [
    "reg_susc = LinearRegression()"
   ]
  },
  {
   "cell_type": "code",
   "execution_count": 89,
   "id": "21f86259",
   "metadata": {},
   "outputs": [
    {
     "name": "stderr",
     "output_type": "stream",
     "text": [
      "C:\\Users\\gabri\\anaconda3\\lib\\site-packages\\pandas\\core\\arraylike.py:397: RuntimeWarning: divide by zero encountered in log10\n",
      "  result = getattr(ufunc, method)(*inputs, **kwargs)\n"
     ]
    }
   ],
   "source": [
    "X_susc_p = np.log10(df_p_c27['time'])[100:600].values.reshape(-1, 1)\n",
    "y_susc_p = np.log10(df_p_c27['susc'])[100:600].values.reshape(-1, 1)"
   ]
  },
  {
   "cell_type": "code",
   "execution_count": 90,
   "id": "9e4fe00b",
   "metadata": {},
   "outputs": [
    {
     "data": {
      "text/plain": [
       "LinearRegression()"
      ]
     },
     "execution_count": 90,
     "metadata": {},
     "output_type": "execute_result"
    }
   ],
   "source": [
    "reg_susc.fit(X_susc_p, y_susc_p)"
   ]
  },
  {
   "cell_type": "code",
   "execution_count": 91,
   "id": "69c54f2f",
   "metadata": {},
   "outputs": [
    {
     "data": {
      "text/plain": [
       "array([[0.20110612]])"
      ]
     },
     "execution_count": 91,
     "metadata": {},
     "output_type": "execute_result"
    }
   ],
   "source": [
    "reg_susc.coef_"
   ]
  },
  {
   "cell_type": "code",
   "execution_count": 101,
   "id": "2e1dc3ec",
   "metadata": {},
   "outputs": [
    {
     "name": "stderr",
     "output_type": "stream",
     "text": [
      "C:\\Users\\gabri\\anaconda3\\lib\\site-packages\\pandas\\core\\arraylike.py:397: RuntimeWarning: divide by zero encountered in log10\n",
      "  result = getattr(ufunc, method)(*inputs, **kwargs)\n",
      "C:\\Users\\gabri\\anaconda3\\lib\\site-packages\\IPython\\core\\pylabtools.py:151: UserWarning: Glyph 13 (\r",
      ") missing from current font.\n",
      "  fig.canvas.print_figure(bytes_io, **kw)\n"
     ]
    },
    {
     "data": {
      "image/png": "[encoded data removed]",
      "text/plain": [
       "<Figure size 864x576 with 1 Axes>"
      ]
     },
     "metadata": {
      "needs_background": "light"
     },
     "output_type": "display_data"
    }
   ],
   "source": [
    "plt.figure(figsize=(12, 8))\n",
    "plt.plot(np.log10(df_p_c27['time'])[100:600], np.log10(df_p_c27['susc'])[100:600], label=\"L = 150\\n$c$ = 0.27\\nWith Policy\")\n",
    "plt.plot([4, 4.8], \n",
    "         [reg_susc.predict([[4]])[0][0], reg_susc.predict([[4.8]])[0][0] ], \n",
    "         label=f\"GAMMA ' / nu.Z = {reg_susc.coef_[0][0]:.4f}\\nbate com Percolação direcionada:-0.24\")\n",
    "plt.ylabel(\"log(\\rho(t, c_c))\", fontsize=16)\n",
    "plt.xlabel(\"log(time)\", fontsize=16)\n",
    "plt.ylim([-1.4, 1.0])\n",
    "plt.legend()\n",
    "plt.grid(True)\n",
    "plt.show()"
   ]
  },
  {
   "cell_type": "markdown",
   "id": "d82a83cb",
   "metadata": {},
   "source": [
    "## 3) $U_L$"
   ]
  },
  {
   "cell_type": "code",
   "execution_count": 129,
   "id": "2573ecd3",
   "metadata": {},
   "outputs": [
    {
     "name": "stderr",
     "output_type": "stream",
     "text": [
      "C:\\Users\\gabri\\anaconda3\\lib\\site-packages\\pandas\\core\\arraylike.py:397: RuntimeWarning: divide by zero encountered in log10\n",
      "  result = getattr(ufunc, method)(*inputs, **kwargs)\n"
     ]
    },
    {
     "data": {
      "image/png": "[encoded data removed]",
      "text/plain": [
       "<Figure size 432x288 with 1 Axes>"
      ]
     },
     "metadata": {
      "needs_background": "light"
     },
     "output_type": "display_data"
    }
   ],
   "source": [
    "plt.plot(np.log10(df_p_c27['time'])[250:], np.log10(df_p_c27['cumul'])[250:], label=\"L = 150\\n$c$ = 0.27\\nWith Policy\")\n",
    "\n",
    "plt.ylabel(\"log(U_L)\")\n",
    "plt.xlabel(\"log(time)\")\n",
    "\n",
    "plt.legend()\n",
    "plt.grid(True)\n",
    "plt.show()"
   ]
  },
  {
   "cell_type": "code",
   "execution_count": 122,
   "id": "f7c2053b",
   "metadata": {},
   "outputs": [],
   "source": [
    "reg_cumul = LinearRegression()"
   ]
  },
  {
   "cell_type": "code",
   "execution_count": 123,
   "id": "7013268c",
   "metadata": {},
   "outputs": [
    {
     "name": "stderr",
     "output_type": "stream",
     "text": [
      "C:\\Users\\gabri\\anaconda3\\lib\\site-packages\\pandas\\core\\arraylike.py:397: RuntimeWarning: divide by zero encountered in log10\n",
      "  result = getattr(ufunc, method)(*inputs, **kwargs)\n"
     ]
    }
   ],
   "source": [
    "X_cumul_p = np.log10(df_p_c27['time']).values.reshape(-1, 1)[825:]\n",
    "y_cumul_p = np.log10(df_p_c27['cumul']).values.reshape(-1, 1)[825:]"
   ]
  },
  {
   "cell_type": "code",
   "execution_count": 124,
   "id": "4780ec5a",
   "metadata": {},
   "outputs": [
    {
     "data": {
      "text/plain": [
       "LinearRegression()"
      ]
     },
     "execution_count": 124,
     "metadata": {},
     "output_type": "execute_result"
    }
   ],
   "source": [
    "reg_cumul.fit(X_cumul_p, y_cumul_p)"
   ]
  },
  {
   "cell_type": "code",
   "execution_count": 125,
   "id": "4d5d52a1",
   "metadata": {},
   "outputs": [
    {
     "data": {
      "text/plain": [
       "array([[0.94215205]])"
      ]
     },
     "execution_count": 125,
     "metadata": {},
     "output_type": "execute_result"
    }
   ],
   "source": [
    "reg_cumul.coef_"
   ]
  },
  {
   "cell_type": "code",
   "execution_count": null,
   "id": "32c15fd8",
   "metadata": {},
   "outputs": [],
   "source": []
  },
  {
   "cell_type": "code",
   "execution_count": null,
   "id": "d3de85e2",
   "metadata": {},
   "outputs": [],
   "source": []
  },
  {
   "cell_type": "code",
   "execution_count": null,
   "id": "f7353b90",
   "metadata": {},
   "outputs": [],
   "source": []
  },
  {
   "cell_type": "markdown",
   "id": "8c71d0fb",
   "metadata": {},
   "source": [
    "## Exponents"
   ]
  },
  {
   "cell_type": "code",
   "execution_count": null,
   "id": "10786459",
   "metadata": {},
   "outputs": [],
   "source": []
  }
 ],
 "metadata": {
  "kernelspec": {
   "display_name": "Python 3 (ipykernel)",
   "language": "python",
   "name": "python3"
  },
  "language_info": {
   "codemirror_mode": {
    "name": "ipython",
    "version": 3
   },
   "file_extension": ".py",
   "mimetype": "text/x-python",
   "name": "python",
   "nbconvert_exporter": "python",
   "pygments_lexer": "ipython3",
   "version": "3.9.12"
  }
 },
 "nbformat": 4,
 "nbformat_minor": 5
}
