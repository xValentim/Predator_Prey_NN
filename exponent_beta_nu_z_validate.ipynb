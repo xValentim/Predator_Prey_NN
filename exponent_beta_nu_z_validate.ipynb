{
 "cells": [
  {
   "cell_type": "code",
   "execution_count": 1,
   "id": "7f6ef784",
   "metadata": {},
   "outputs": [
    {
     "name": "stderr",
     "output_type": "stream",
     "text": [
      "C:\\Users\\gabri\\anaconda3\\lib\\site-packages\\numpy\\_distributor_init.py:30: UserWarning: loaded more than 1 DLL from .libs:\n",
      "C:\\Users\\gabri\\anaconda3\\lib\\site-packages\\numpy\\.libs\\libopenblas.FB5AE2TYXYH2IJRDKGDGQ3XBKLKTF43H.gfortran-win_amd64.dll\n",
      "C:\\Users\\gabri\\anaconda3\\lib\\site-packages\\numpy\\.libs\\libopenblas.WCDJNK7YVMPZQ2ME2ZZHJJRJ3JIKNDB7.gfortran-win_amd64.dll\n",
      "  warnings.warn(\"loaded more than 1 DLL from .libs:\"\n"
     ]
    }
   ],
   "source": [
    "import numpy as np\n",
    "import pandas as pd\n",
    "import matplotlib.pyplot as plt"
   ]
  },
  {
   "cell_type": "code",
   "execution_count": 2,
   "id": "30c5b778",
   "metadata": {},
   "outputs": [],
   "source": [
    "data = {}"
   ]
  },
  {
   "cell_type": "code",
   "execution_count": 3,
   "id": "fc34aa31",
   "metadata": {},
   "outputs": [],
   "source": [
    "for i in range(20):\n",
    "    data[i] = pd.read_csv(f'results_{i}.csv')"
   ]
  },
  {
   "cell_type": "code",
   "execution_count": 4,
   "id": "e0a4a3af",
   "metadata": {},
   "outputs": [],
   "source": [
    "teste0 = pd.read_csv('results_0.csv')\n",
    "teste1 = pd.read_csv('results_1.csv')"
   ]
  },
  {
   "cell_type": "code",
   "execution_count": 5,
   "id": "d38447b1",
   "metadata": {},
   "outputs": [],
   "source": [
    "teste0['rho'] = (teste0['rho'] + teste1['rho']) / 2"
   ]
  },
  {
   "cell_type": "code",
   "execution_count": 6,
   "id": "4d89e888",
   "metadata": {
    "scrolled": true
   },
   "outputs": [],
   "source": [
    "for i in range(1, 20):\n",
    "    data[0]['rho'] += data[i]['rho']\n",
    "data[0]['rho'] = data[0]['rho'] / 20"
   ]
  },
  {
   "cell_type": "code",
   "execution_count": null,
   "id": "54fba727",
   "metadata": {},
   "outputs": [],
   "source": []
  },
  {
   "cell_type": "code",
   "execution_count": 7,
   "id": "e179f657",
   "metadata": {},
   "outputs": [
    {
     "data": {
      "text/plain": [
       "2.302585092994046"
      ]
     },
     "execution_count": 7,
     "metadata": {},
     "output_type": "execute_result"
    }
   ],
   "source": [
    "np.log(10)"
   ]
  },
  {
   "cell_type": "code",
   "execution_count": 8,
   "id": "f3d61e2b",
   "metadata": {},
   "outputs": [
    {
     "name": "stderr",
     "output_type": "stream",
     "text": [
      "C:\\Users\\gabri\\anaconda3\\lib\\site-packages\\pandas\\core\\arraylike.py:397: RuntimeWarning: divide by zero encountered in log\n",
      "  result = getattr(ufunc, method)(*inputs, **kwargs)\n"
     ]
    },
    {
     "data": {
      "text/plain": [
       "[<matplotlib.lines.Line2D at 0x225ce424850>]"
      ]
     },
     "execution_count": 8,
     "metadata": {},
     "output_type": "execute_result"
    },
    {
     "data": {
      "image/png": "[encoded data removed]",
      "text/plain": [
       "<Figure size 432x288 with 1 Axes>"
      ]
     },
     "metadata": {
      "needs_background": "light"
     },
     "output_type": "display_data"
    }
   ],
   "source": [
    "plt.plot(np.log(data[0]['time']//100)[75:], np.log(data[0]['rho'])[75:])"
   ]
  },
  {
   "cell_type": "code",
   "execution_count": 9,
   "id": "1c8ee0c3",
   "metadata": {
    "scrolled": true
   },
   "outputs": [
    {
     "name": "stderr",
     "output_type": "stream",
     "text": [
      "C:\\Users\\gabri\\anaconda3\\lib\\site-packages\\pandas\\core\\arraylike.py:397: RuntimeWarning: divide by zero encountered in log\n",
      "  result = getattr(ufunc, method)(*inputs, **kwargs)\n"
     ]
    },
    {
     "data": {
      "text/plain": [
       "[<matplotlib.lines.Line2D at 0x225d08921f0>]"
      ]
     },
     "execution_count": 9,
     "metadata": {},
     "output_type": "execute_result"
    },
    {
     "data": {
      "image/png": "[encoded data removed]",
      "text/plain": [
       "<Figure size 432x288 with 1 Axes>"
      ]
     },
     "metadata": {
      "needs_background": "light"
     },
     "output_type": "display_data"
    }
   ],
   "source": [
    "plt.plot(np.log(data[0]['time']/100)[200:600], np.log(data[0]['rho'])[200:600])"
   ]
  },
  {
   "cell_type": "code",
   "execution_count": 10,
   "id": "472fbee2",
   "metadata": {},
   "outputs": [
    {
     "data": {
      "text/plain": [
       "22026.4651093632"
      ]
     },
     "execution_count": 10,
     "metadata": {},
     "output_type": "execute_result"
    }
   ],
   "source": [
    "2.71828182 ** 10"
   ]
  },
  {
   "cell_type": "code",
   "execution_count": 11,
   "id": "542f99de",
   "metadata": {},
   "outputs": [
    {
     "name": "stderr",
     "output_type": "stream",
     "text": [
      "C:\\Users\\gabri\\AppData\\Roaming\\Python\\Python39\\site-packages\\scipy\\__init__.py:138: UserWarning: A NumPy version >=1.16.5 and <1.23.0 is required for this version of SciPy (detected version 1.23.4)\n",
      "  warnings.warn(f\"A NumPy version >={np_minversion} and <{np_maxversion} is required for this version of \"\n"
     ]
    }
   ],
   "source": [
    "from sklearn.linear_model import LinearRegression"
   ]
  },
  {
   "cell_type": "code",
   "execution_count": 12,
   "id": "1cb99774",
   "metadata": {},
   "outputs": [],
   "source": [
    "LR = LinearRegression()"
   ]
  },
  {
   "cell_type": "code",
   "execution_count": 13,
   "id": "c820a8f1",
   "metadata": {},
   "outputs": [],
   "source": [
    "# np.array(data['time'][50:])"
   ]
  },
  {
   "cell_type": "code",
   "execution_count": 14,
   "id": "9133bdbc",
   "metadata": {},
   "outputs": [],
   "source": [
    "X, y = np.array(np.log(data[0]['time'][200:600]/100)), np.log(np.array(data[0]['rho'][200:600]))"
   ]
  },
  {
   "cell_type": "code",
   "execution_count": 15,
   "id": "a1f2235b",
   "metadata": {
    "scrolled": true
   },
   "outputs": [
    {
     "data": {
      "text/plain": [
       "array([[5.29831737],\n",
       "       [5.30330491],\n",
       "       [5.3082677 ],\n",
       "       [5.31320598],\n",
       "       [5.31811999],\n",
       "       [5.32300998],\n",
       "       [5.32787617],\n",
       "       [5.33271879],\n",
       "       [5.33753808],\n",
       "       [5.34233425],\n",
       "       [5.34710753],\n",
       "       [5.35185813],\n",
       "       [5.35658627],\n",
       "       [5.36129217],\n",
       "       [5.36597602],\n",
       "       [5.37063803],\n",
       "       [5.37527841],\n",
       "       [5.37989735],\n",
       "       [5.38449506],\n",
       "       [5.38907173],\n",
       "       [5.39362755],\n",
       "       [5.3981627 ],\n",
       "       [5.40267738],\n",
       "       [5.40717177],\n",
       "       [5.41164605],\n",
       "       [5.4161004 ],\n",
       "       [5.420535  ],\n",
       "       [5.42495002],\n",
       "       [5.42934563],\n",
       "       [5.433722  ],\n",
       "       [5.43807931],\n",
       "       [5.44241771],\n",
       "       [5.44673737],\n",
       "       [5.45103845],\n",
       "       [5.45532112],\n",
       "       [5.45958551],\n",
       "       [5.46383181],\n",
       "       [5.46806014],\n",
       "       [5.47227067],\n",
       "       [5.47646355],\n",
       "       [5.48063892],\n",
       "       [5.48479693],\n",
       "       [5.48893773],\n",
       "       [5.49306144],\n",
       "       [5.49716823],\n",
       "       [5.50125821],\n",
       "       [5.50533154],\n",
       "       [5.50938834],\n",
       "       [5.51342875],\n",
       "       [5.5174529 ],\n",
       "       [5.52146092],\n",
       "       [5.52545294],\n",
       "       [5.52942909],\n",
       "       [5.53338949],\n",
       "       [5.53733427],\n",
       "       [5.54126355],\n",
       "       [5.54517744],\n",
       "       [5.54907608],\n",
       "       [5.55295958],\n",
       "       [5.55682806],\n",
       "       [5.56068163],\n",
       "       [5.56452041],\n",
       "       [5.5683445 ],\n",
       "       [5.57215403],\n",
       "       [5.5759491 ],\n",
       "       [5.57972983],\n",
       "       [5.58349631],\n",
       "       [5.58724866],\n",
       "       [5.59098698],\n",
       "       [5.59471138],\n",
       "       [5.59842196],\n",
       "       [5.60211882],\n",
       "       [5.60580207],\n",
       "       [5.6094718 ],\n",
       "       [5.61312811],\n",
       "       [5.6167711 ],\n",
       "       [5.62040087],\n",
       "       [5.62401751],\n",
       "       [5.62762111],\n",
       "       [5.63121178],\n",
       "       [5.6347896 ],\n",
       "       [5.63835467],\n",
       "       [5.64190707],\n",
       "       [5.6454469 ],\n",
       "       [5.64897424],\n",
       "       [5.65248918],\n",
       "       [5.65599181],\n",
       "       [5.65948222],\n",
       "       [5.66296048],\n",
       "       [5.66642669],\n",
       "       [5.66988092],\n",
       "       [5.67332327],\n",
       "       [5.6767538 ],\n",
       "       [5.68017261],\n",
       "       [5.68357977],\n",
       "       [5.68697536],\n",
       "       [5.69035945],\n",
       "       [5.69373214],\n",
       "       [5.69709349],\n",
       "       [5.70044357],\n",
       "       [5.70378247],\n",
       "       [5.70711026],\n",
       "       [5.71042702],\n",
       "       [5.71373281],\n",
       "       [5.7170277 ],\n",
       "       [5.72031178],\n",
       "       [5.7235851 ],\n",
       "       [5.72684775],\n",
       "       [5.73009978],\n",
       "       [5.73334128],\n",
       "       [5.7365723 ],\n",
       "       [5.73979291],\n",
       "       [5.74300319],\n",
       "       [5.74620319],\n",
       "       [5.74939299],\n",
       "       [5.75257264],\n",
       "       [5.75574221],\n",
       "       [5.75890177],\n",
       "       [5.76205138],\n",
       "       [5.7651911 ],\n",
       "       [5.768321  ],\n",
       "       [5.77144112],\n",
       "       [5.77455155],\n",
       "       [5.77765232],\n",
       "       [5.78074352],\n",
       "       [5.78382518],\n",
       "       [5.78689738],\n",
       "       [5.78996017],\n",
       "       [5.79301361],\n",
       "       [5.79605775],\n",
       "       [5.79909265],\n",
       "       [5.80211838],\n",
       "       [5.80513497],\n",
       "       [5.80814249],\n",
       "       [5.81114099],\n",
       "       [5.81413053],\n",
       "       [5.81711116],\n",
       "       [5.82008293],\n",
       "       [5.8230459 ],\n",
       "       [5.82600011],\n",
       "       [5.82894562],\n",
       "       [5.83188248],\n",
       "       [5.83481074],\n",
       "       [5.83773045],\n",
       "       [5.84064166],\n",
       "       [5.84354442],\n",
       "       [5.84643878],\n",
       "       [5.84932478],\n",
       "       [5.85220248],\n",
       "       [5.85507192],\n",
       "       [5.85793315],\n",
       "       [5.86078622],\n",
       "       [5.86363118],\n",
       "       [5.86646806],\n",
       "       [5.86929691],\n",
       "       [5.87211779],\n",
       "       [5.87493073],\n",
       "       [5.87773578],\n",
       "       [5.88053299],\n",
       "       [5.88332239],\n",
       "       [5.88610403],\n",
       "       [5.88887796],\n",
       "       [5.89164421],\n",
       "       [5.89440283],\n",
       "       [5.89715387],\n",
       "       [5.89989735],\n",
       "       [5.90263333],\n",
       "       [5.90536185],\n",
       "       [5.90808294],\n",
       "       [5.91079664],\n",
       "       [5.91350301],\n",
       "       [5.91620206],\n",
       "       [5.91889385],\n",
       "       [5.92157842],\n",
       "       [5.9242558 ],\n",
       "       [5.92692603],\n",
       "       [5.92958914],\n",
       "       [5.93224519],\n",
       "       [5.9348942 ],\n",
       "       [5.93753621],\n",
       "       [5.94017125],\n",
       "       [5.94279938],\n",
       "       [5.94542061],\n",
       "       [5.94803499],\n",
       "       [5.95064255],\n",
       "       [5.95324333],\n",
       "       [5.95583737],\n",
       "       [5.95842469],\n",
       "       [5.96100534],\n",
       "       [5.96357934],\n",
       "       [5.96614674],\n",
       "       [5.96870756],\n",
       "       [5.97126184],\n",
       "       [5.97380961],\n",
       "       [5.97635091],\n",
       "       [5.97888576],\n",
       "       [5.98141421],\n",
       "       [5.98393628],\n",
       "       [5.98645201],\n",
       "       [5.98896142],\n",
       "       [5.99146455],\n",
       "       [5.99396143],\n",
       "       [5.99645209],\n",
       "       [5.99893656],\n",
       "       [6.00141488],\n",
       "       [6.00388707],\n",
       "       [6.00635316],\n",
       "       [6.00881319],\n",
       "       [6.01126717],\n",
       "       [6.01371516],\n",
       "       [6.01615716],\n",
       "       [6.01859321],\n",
       "       [6.02102335],\n",
       "       [6.02344759],\n",
       "       [6.02586597],\n",
       "       [6.02827852],\n",
       "       [6.03068526],\n",
       "       [6.03308622],\n",
       "       [6.03548143],\n",
       "       [6.03787092],\n",
       "       [6.04025471],\n",
       "       [6.04263283],\n",
       "       [6.04500531],\n",
       "       [6.04737218],\n",
       "       [6.04973346],\n",
       "       [6.05208917],\n",
       "       [6.05443935],\n",
       "       [6.05678401],\n",
       "       [6.0591232 ],\n",
       "       [6.06145692],\n",
       "       [6.06378521],\n",
       "       [6.06610809],\n",
       "       [6.06842559],\n",
       "       [6.07073773],\n",
       "       [6.07304453],\n",
       "       [6.07534603],\n",
       "       [6.07764224],\n",
       "       [6.0799332 ],\n",
       "       [6.08221891],\n",
       "       [6.08449941],\n",
       "       [6.08677473],\n",
       "       [6.08904488],\n",
       "       [6.09130988],\n",
       "       [6.09356977],\n",
       "       [6.09582456],\n",
       "       [6.09807428],\n",
       "       [6.10031895],\n",
       "       [6.10255859],\n",
       "       [6.10479323],\n",
       "       [6.10702289],\n",
       "       [6.10924758],\n",
       "       [6.11146734],\n",
       "       [6.11368218],\n",
       "       [6.11589213],\n",
       "       [6.1180972 ],\n",
       "       [6.12029742],\n",
       "       [6.12249281],\n",
       "       [6.12468339],\n",
       "       [6.12686918],\n",
       "       [6.12905021],\n",
       "       [6.13122649],\n",
       "       [6.13339804],\n",
       "       [6.13556489],\n",
       "       [6.13772705],\n",
       "       [6.13988455],\n",
       "       [6.14203741],\n",
       "       [6.14418563],\n",
       "       [6.14632926],\n",
       "       [6.1484683 ],\n",
       "       [6.15060277],\n",
       "       [6.15273269],\n",
       "       [6.15485809],\n",
       "       [6.15697899],\n",
       "       [6.15909539],\n",
       "       [6.16120732],\n",
       "       [6.1633148 ],\n",
       "       [6.16541785],\n",
       "       [6.16751649],\n",
       "       [6.16961073],\n",
       "       [6.1717006 ],\n",
       "       [6.1737861 ],\n",
       "       [6.17586727],\n",
       "       [6.17794411],\n",
       "       [6.18001665],\n",
       "       [6.18208491],\n",
       "       [6.18414889],\n",
       "       [6.18620862],\n",
       "       [6.18826412],\n",
       "       [6.19031541],\n",
       "       [6.19236249],\n",
       "       [6.19440539],\n",
       "       [6.19644413],\n",
       "       [6.19847872],\n",
       "       [6.20050917],\n",
       "       [6.20253552],\n",
       "       [6.20455776],\n",
       "       [6.20657593],\n",
       "       [6.20859003],\n",
       "       [6.21060008],\n",
       "       [6.2126061 ],\n",
       "       [6.2146081 ],\n",
       "       [6.2166061 ],\n",
       "       [6.21860012],\n",
       "       [6.22059017],\n",
       "       [6.22257627],\n",
       "       [6.22455843],\n",
       "       [6.22653667],\n",
       "       [6.228511  ],\n",
       "       [6.23048145],\n",
       "       [6.23244802],\n",
       "       [6.23441073],\n",
       "       [6.23636959],\n",
       "       [6.23832463],\n",
       "       [6.24027585],\n",
       "       [6.24222327],\n",
       "       [6.2441669 ],\n",
       "       [6.24610677],\n",
       "       [6.24804287],\n",
       "       [6.24997524],\n",
       "       [6.25190388],\n",
       "       [6.25382881],\n",
       "       [6.25575004],\n",
       "       [6.25766759],\n",
       "       [6.25958146],\n",
       "       [6.26149168],\n",
       "       [6.26339826],\n",
       "       [6.26530121],\n",
       "       [6.26720055],\n",
       "       [6.26909628],\n",
       "       [6.27098843],\n",
       "       [6.27287701],\n",
       "       [6.27476202],\n",
       "       [6.27664349],\n",
       "       [6.27852142],\n",
       "       [6.28039584],\n",
       "       [6.28226675],\n",
       "       [6.28413416],\n",
       "       [6.28599809],\n",
       "       [6.28785856],\n",
       "       [6.28971557],\n",
       "       [6.29156914],\n",
       "       [6.29341928],\n",
       "       [6.295266  ],\n",
       "       [6.29710932],\n",
       "       [6.29894925],\n",
       "       [6.30078579],\n",
       "       [6.30261898],\n",
       "       [6.3044488 ],\n",
       "       [6.30627529],\n",
       "       [6.30809844],\n",
       "       [6.30991828],\n",
       "       [6.31173481],\n",
       "       [6.31354805],\n",
       "       [6.315358  ],\n",
       "       [6.31716469],\n",
       "       [6.31896811],\n",
       "       [6.32076829],\n",
       "       [6.32256524],\n",
       "       [6.32435896],\n",
       "       [6.32614947],\n",
       "       [6.32793678],\n",
       "       [6.32972091],\n",
       "       [6.33150185],\n",
       "       [6.33327963],\n",
       "       [6.33505425],\n",
       "       [6.33682573],\n",
       "       [6.33859408],\n",
       "       [6.3403593 ],\n",
       "       [6.34212142],\n",
       "       [6.34388043],\n",
       "       [6.34563636],\n",
       "       [6.34738921],\n",
       "       [6.34913899],\n",
       "       [6.35088572],\n",
       "       [6.3526294 ],\n",
       "       [6.35437004],\n",
       "       [6.35610766],\n",
       "       [6.35784227],\n",
       "       [6.35957387],\n",
       "       [6.36130248],\n",
       "       [6.3630281 ],\n",
       "       [6.36475076],\n",
       "       [6.36647045],\n",
       "       [6.36818719],\n",
       "       [6.36990098],\n",
       "       [6.37161185],\n",
       "       [6.37331979],\n",
       "       [6.37502482],\n",
       "       [6.37672695],\n",
       "       [6.37842618],\n",
       "       [6.38012254],\n",
       "       [6.38181602],\n",
       "       [6.38350663],\n",
       "       [6.3851944 ],\n",
       "       [6.38687932],\n",
       "       [6.38856141],\n",
       "       [6.39024067],\n",
       "       [6.39191711],\n",
       "       [6.39359075],\n",
       "       [6.3952616 ]])"
      ]
     },
     "execution_count": 15,
     "metadata": {},
     "output_type": "execute_result"
    }
   ],
   "source": [
    "X.reshape(-1, 1)"
   ]
  },
  {
   "cell_type": "code",
   "execution_count": 16,
   "id": "7aeb2009",
   "metadata": {},
   "outputs": [
    {
     "data": {
      "text/plain": [
       "LinearRegression()"
      ]
     },
     "execution_count": 16,
     "metadata": {},
     "output_type": "execute_result"
    }
   ],
   "source": [
    "LR.fit(X.reshape(-1, 1), y.reshape(-1, 1))"
   ]
  },
  {
   "cell_type": "code",
   "execution_count": 17,
   "id": "4418c606",
   "metadata": {},
   "outputs": [
    {
     "data": {
      "text/plain": [
       "array([[-0.4558853]])"
      ]
     },
     "execution_count": 17,
     "metadata": {},
     "output_type": "execute_result"
    }
   ],
   "source": [
    "LR.coef_"
   ]
  },
  {
   "cell_type": "code",
   "execution_count": 18,
   "id": "b22dae92",
   "metadata": {},
   "outputs": [
    {
     "name": "stderr",
     "output_type": "stream",
     "text": [
      "C:\\Users\\gabri\\anaconda3\\lib\\site-packages\\pandas\\core\\arraylike.py:397: RuntimeWarning: divide by zero encountered in log\n",
      "  result = getattr(ufunc, method)(*inputs, **kwargs)\n"
     ]
    },
    {
     "data": {
      "text/plain": [
       "[<matplotlib.lines.Line2D at 0x225dfa42340>]"
      ]
     },
     "execution_count": 18,
     "metadata": {},
     "output_type": "execute_result"
    },
    {
     "data": {
      "image/png": "[encoded data removed]",
      "text/plain": [
       "<Figure size 432x288 with 1 Axes>"
      ]
     },
     "metadata": {
      "needs_background": "light"
     },
     "output_type": "display_data"
    }
   ],
   "source": [
    "plt.plot(np.log(data[0]['time']/100)[200:600], np.log(data[0]['rho'])[200:600])\n",
    "plt.plot([5.4, 6.4], [ LR.predict([[5.4]])[0][0], LR.predict([[6.4]])[0][0] ])"
   ]
  },
  {
   "cell_type": "code",
   "execution_count": 19,
   "id": "d7593caa",
   "metadata": {},
   "outputs": [
    {
     "data": {
      "text/plain": [
       "-0.4558852998928473"
      ]
     },
     "execution_count": 19,
     "metadata": {},
     "output_type": "execute_result"
    }
   ],
   "source": [
    "(LR.predict([[4]])[0][0] - LR.predict([[5]])[0][0])/(4 - 5)"
   ]
  },
  {
   "cell_type": "code",
   "execution_count": 20,
   "id": "62003121",
   "metadata": {},
   "outputs": [],
   "source": [
    "data_2 = pd.read_csv(f'results_0_random.csv')"
   ]
  },
  {
   "cell_type": "code",
   "execution_count": 21,
   "id": "4423858a",
   "metadata": {},
   "outputs": [
    {
     "data": {
      "text/html": [
       "<div>\n",
       "<style scoped>\n",
       "    .dataframe tbody tr th:only-of-type {\n",
       "        vertical-align: middle;\n",
       "    }\n",
       "\n",
       "    .dataframe tbody tr th {\n",
       "        vertical-align: top;\n",
       "    }\n",
       "\n",
       "    .dataframe thead th {\n",
       "        text-align: right;\n",
       "    }\n",
       "</style>\n",
       "<table border=\"1\" class=\"dataframe\">\n",
       "  <thead>\n",
       "    <tr style=\"text-align: right;\">\n",
       "      <th></th>\n",
       "      <th>time</th>\n",
       "      <th>rho</th>\n",
       "    </tr>\n",
       "  </thead>\n",
       "  <tbody>\n",
       "    <tr>\n",
       "      <th>0</th>\n",
       "      <td>0</td>\n",
       "      <td>0.496756</td>\n",
       "    </tr>\n",
       "    <tr>\n",
       "      <th>1</th>\n",
       "      <td>100</td>\n",
       "      <td>0.471022</td>\n",
       "    </tr>\n",
       "    <tr>\n",
       "      <th>2</th>\n",
       "      <td>200</td>\n",
       "      <td>0.444622</td>\n",
       "    </tr>\n",
       "    <tr>\n",
       "      <th>3</th>\n",
       "      <td>300</td>\n",
       "      <td>0.412578</td>\n",
       "    </tr>\n",
       "    <tr>\n",
       "      <th>4</th>\n",
       "      <td>400</td>\n",
       "      <td>0.379467</td>\n",
       "    </tr>\n",
       "    <tr>\n",
       "      <th>...</th>\n",
       "      <td>...</td>\n",
       "      <td>...</td>\n",
       "    </tr>\n",
       "    <tr>\n",
       "      <th>895</th>\n",
       "      <td>89500</td>\n",
       "      <td>0.019156</td>\n",
       "    </tr>\n",
       "    <tr>\n",
       "      <th>896</th>\n",
       "      <td>89600</td>\n",
       "      <td>0.018356</td>\n",
       "    </tr>\n",
       "    <tr>\n",
       "      <th>897</th>\n",
       "      <td>89700</td>\n",
       "      <td>0.018533</td>\n",
       "    </tr>\n",
       "    <tr>\n",
       "      <th>898</th>\n",
       "      <td>89800</td>\n",
       "      <td>0.018622</td>\n",
       "    </tr>\n",
       "    <tr>\n",
       "      <th>899</th>\n",
       "      <td>89900</td>\n",
       "      <td>0.018711</td>\n",
       "    </tr>\n",
       "  </tbody>\n",
       "</table>\n",
       "<p>900 rows × 2 columns</p>\n",
       "</div>"
      ],
      "text/plain": [
       "      time       rho\n",
       "0        0  0.496756\n",
       "1      100  0.471022\n",
       "2      200  0.444622\n",
       "3      300  0.412578\n",
       "4      400  0.379467\n",
       "..     ...       ...\n",
       "895  89500  0.019156\n",
       "896  89600  0.018356\n",
       "897  89700  0.018533\n",
       "898  89800  0.018622\n",
       "899  89900  0.018711\n",
       "\n",
       "[900 rows x 2 columns]"
      ]
     },
     "execution_count": 21,
     "metadata": {},
     "output_type": "execute_result"
    }
   ],
   "source": [
    "data_2"
   ]
  },
  {
   "cell_type": "code",
   "execution_count": 22,
   "id": "cc0caea1",
   "metadata": {
    "scrolled": true
   },
   "outputs": [
    {
     "name": "stderr",
     "output_type": "stream",
     "text": [
      "C:\\Users\\gabri\\anaconda3\\lib\\site-packages\\pandas\\core\\arraylike.py:397: RuntimeWarning: divide by zero encountered in log\n",
      "  result = getattr(ufunc, method)(*inputs, **kwargs)\n",
      "C:\\Users\\gabri\\anaconda3\\lib\\site-packages\\pandas\\core\\arraylike.py:397: RuntimeWarning: divide by zero encountered in log\n",
      "  result = getattr(ufunc, method)(*inputs, **kwargs)\n"
     ]
    },
    {
     "data": {
      "text/plain": [
       "[<matplotlib.lines.Line2D at 0x225e1b47070>]"
      ]
     },
     "execution_count": 22,
     "metadata": {},
     "output_type": "execute_result"
    },
    {
     "data": {
      "image/png": "[encoded data removed]",
      "text/plain": [
       "<Figure size 432x288 with 1 Axes>"
      ]
     },
     "metadata": {
      "needs_background": "light"
     },
     "output_type": "display_data"
    }
   ],
   "source": [
    "# plt.plot(np.log(data_policy2['time']//100)[75:], np.log(data_policy2['rho'])[75:])\n",
    "# plt.plot(np.log(data_policy['time']//100)[75:], np.log(data_policy['rho'])[75:])\n",
    "plt.plot(np.log(data_2['time']//100)[75:], np.log(data_2['rho'])[75:])\n",
    "plt.plot(np.log(data[0]['time']//100)[75:], np.log(data[0]['rho'])[75:])"
   ]
  },
  {
   "cell_type": "code",
   "execution_count": 23,
   "id": "d0783865",
   "metadata": {},
   "outputs": [],
   "source": [
    "data_policy5 = pd.read_csv(f'results_1_w_policy_270.csv')"
   ]
  },
  {
   "cell_type": "code",
   "execution_count": 24,
   "id": "d1850d0e",
   "metadata": {},
   "outputs": [
    {
     "ename": "NameError",
     "evalue": "name 'data_policy4' is not defined",
     "output_type": "error",
     "traceback": [
      "\u001b[1;31m---------------------------------------------------------------------------\u001b[0m",
      "\u001b[1;31mNameError\u001b[0m                                 Traceback (most recent call last)",
      "Input \u001b[1;32mIn [24]\u001b[0m, in \u001b[0;36m<cell line: 1>\u001b[1;34m()\u001b[0m\n\u001b[1;32m----> 1\u001b[0m plt\u001b[38;5;241m.\u001b[39mplot(np\u001b[38;5;241m.\u001b[39mlog(\u001b[43mdata_policy4\u001b[49m[\u001b[38;5;124m'\u001b[39m\u001b[38;5;124mtime\u001b[39m\u001b[38;5;124m'\u001b[39m]\u001b[38;5;241m/\u001b[39m\u001b[38;5;241m/\u001b[39m\u001b[38;5;241m100\u001b[39m)[\u001b[38;5;241m75\u001b[39m:\u001b[38;5;241m400\u001b[39m], np\u001b[38;5;241m.\u001b[39mlog(data_policy4[\u001b[38;5;124m'\u001b[39m\u001b[38;5;124mrho\u001b[39m\u001b[38;5;124m'\u001b[39m])[\u001b[38;5;241m75\u001b[39m:\u001b[38;5;241m400\u001b[39m])\n\u001b[0;32m      2\u001b[0m \u001b[38;5;66;03m# plt.plot(np.log(data_policy3['time']//100)[10:400], np.log(data_policy3['rho'])[10:400])\u001b[39;00m\n\u001b[0;32m      3\u001b[0m plt\u001b[38;5;241m.\u001b[39mplot(np\u001b[38;5;241m.\u001b[39mlog(data_2[\u001b[38;5;124m'\u001b[39m\u001b[38;5;124mtime\u001b[39m\u001b[38;5;124m'\u001b[39m]\u001b[38;5;241m/\u001b[39m\u001b[38;5;241m/\u001b[39m\u001b[38;5;241m100\u001b[39m)[\u001b[38;5;241m75\u001b[39m:\u001b[38;5;241m400\u001b[39m], np\u001b[38;5;241m.\u001b[39mlog(data_2[\u001b[38;5;124m'\u001b[39m\u001b[38;5;124mrho\u001b[39m\u001b[38;5;124m'\u001b[39m])[\u001b[38;5;241m75\u001b[39m:\u001b[38;5;241m400\u001b[39m])\n",
      "\u001b[1;31mNameError\u001b[0m: name 'data_policy4' is not defined"
     ]
    }
   ],
   "source": [
    "plt.plot(np.log(data_policy4['time']//100)[75:400], np.log(data_policy4['rho'])[75:400])\n",
    "# plt.plot(np.log(data_policy3['time']//100)[10:400], np.log(data_policy3['rho'])[10:400])\n",
    "plt.plot(np.log(data_2['time']//100)[75:400], np.log(data_2['rho'])[75:400])\n",
    "plt.plot(np.log(data[0]['time']//100)[75:400], np.log(data[0]['rho'])[75:400])"
   ]
  },
  {
   "cell_type": "code",
   "execution_count": null,
   "id": "1a22d6c6",
   "metadata": {},
   "outputs": [],
   "source": [
    "reg_2 = LinearRegression()"
   ]
  },
  {
   "cell_type": "code",
   "execution_count": null,
   "id": "37561ebe",
   "metadata": {},
   "outputs": [],
   "source": [
    "X2, y2 = np.array(np.log(data_2['time'][75:400]/100)), np.log(np.array(data_2['rho'][75:400]))"
   ]
  },
  {
   "cell_type": "code",
   "execution_count": null,
   "id": "47eb7025",
   "metadata": {},
   "outputs": [],
   "source": [
    "reg_2.fit(X2.reshape(-1, 1), y2.reshape(-1, 1))"
   ]
  },
  {
   "cell_type": "code",
   "execution_count": null,
   "id": "f50091c3",
   "metadata": {},
   "outputs": [],
   "source": []
  },
  {
   "cell_type": "code",
   "execution_count": null,
   "id": "1577c1e3",
   "metadata": {},
   "outputs": [],
   "source": [
    "reg_2.coef_"
   ]
  },
  {
   "cell_type": "code",
   "execution_count": null,
   "id": "08714055",
   "metadata": {},
   "outputs": [],
   "source": [
    "reg_3 = LinearRegression()"
   ]
  },
  {
   "cell_type": "code",
   "execution_count": null,
   "id": "e53f4a52",
   "metadata": {},
   "outputs": [],
   "source": [
    "X3, y3 = np.array(np.log(data_policy4['time'][75:400]/100)), np.log(np.array(data_policy4['rho'][75:400]))"
   ]
  },
  {
   "cell_type": "code",
   "execution_count": null,
   "id": "53ae2413",
   "metadata": {},
   "outputs": [],
   "source": [
    "reg_3.fit(X3.reshape(-1, 1), y3.reshape(-1, 1))"
   ]
  },
  {
   "cell_type": "code",
   "execution_count": null,
   "id": "0936e80c",
   "metadata": {},
   "outputs": [],
   "source": [
    "reg_3.coef_"
   ]
  },
  {
   "cell_type": "code",
   "execution_count": null,
   "id": "9ab4af89",
   "metadata": {},
   "outputs": [],
   "source": [
    "plt.plot(np.log(data_policy4['time']//100)[75:400], np.log(data_policy4['rho'])[75:400])\n",
    "# plt.plot(np.log(data_policy3['time']//100)[10:400], np.log(data_policy3['rho'])[10:400])\n",
    "plt.plot(np.log(data_2['time']//100)[75:400], np.log(data_2['rho'])[75:400])\n",
    "plt.plot(np.log(data[0]['time']//100)[75:400], np.log(data[0]['rho'])[75:400])\n",
    "plt.plot([4.3, 6], [ reg_3.predict([[4.3]])[0][0], reg_3.predict([[6]])[0][0] ])"
   ]
  },
  {
   "cell_type": "code",
   "execution_count": null,
   "id": "10232255",
   "metadata": {},
   "outputs": [],
   "source": []
  },
  {
   "cell_type": "code",
   "execution_count": null,
   "id": "16fbae90",
   "metadata": {},
   "outputs": [],
   "source": []
  },
  {
   "cell_type": "code",
   "execution_count": null,
   "id": "bca378a6",
   "metadata": {},
   "outputs": [],
   "source": []
  },
  {
   "cell_type": "code",
   "execution_count": null,
   "id": "2385fb66",
   "metadata": {},
   "outputs": [],
   "source": []
  },
  {
   "cell_type": "code",
   "execution_count": null,
   "id": "947c9305",
   "metadata": {},
   "outputs": [],
   "source": []
  },
  {
   "cell_type": "code",
   "execution_count": null,
   "id": "8cf596b4",
   "metadata": {},
   "outputs": [],
   "source": []
  },
  {
   "cell_type": "code",
   "execution_count": null,
   "id": "2940f410",
   "metadata": {},
   "outputs": [],
   "source": []
  },
  {
   "cell_type": "code",
   "execution_count": 25,
   "id": "b724353a",
   "metadata": {},
   "outputs": [],
   "source": [
    "data_policy0 = pd.read_csv(f'results_0_w_policy_270.csv')\n",
    "data_policy1 = pd.read_csv(f'results_1_w_policy_270.csv')\n",
    "data_policy2 = pd.read_csv(f'results_2_w_policy_270.csv')\n",
    "data_policy3 = pd.read_csv(f'results_3_w_policy_270.csv')\n",
    "data_policy4 = pd.read_csv(f'results_4_w_policy_270.csv')\n",
    "data_policy5 = pd.read_csv(f'results_5_w_policy_270.csv')\n",
    "data_policy6 = pd.read_csv(f'results_6_w_policy_270.csv')\n",
    "data_policy7 = pd.read_csv(f'results_7_w_policy_270.csv')\n",
    "data_policy8 = pd.read_csv(f'results_8_w_policy_270.csv')\n",
    "data_policy9 = pd.read_csv(f'results_9_w_policy_270.csv')\n",
    "data_policy10 = pd.read_csv(f'results_10_w_policy_270.csv')\n",
    "data_policy11 = pd.read_csv(f'results_11_w_policy_270.csv')\n",
    "data_policy12 = pd.read_csv(f'results_12_w_policy_270.csv')\n",
    "\n",
    "data_policy0['rho'] = (data_policy0['rho'] + \n",
    "                       data_policy1['rho'] + \n",
    "                       data_policy2['rho'] + \n",
    "                       data_policy3['rho'] +\n",
    "                       data_policy4['rho'] +\n",
    "                       data_policy5['rho'] + \n",
    "                       data_policy6['rho'] +\n",
    "                       data_policy7['rho'] +\n",
    "                       data_policy8['rho'] +\n",
    "                       data_policy9['rho'] +\n",
    "                       data_policy10['rho'] +\n",
    "                       data_policy11['rho'] +\n",
    "                       data_policy12['rho'])/13"
   ]
  },
  {
   "cell_type": "code",
   "execution_count": null,
   "id": "9b0d069d",
   "metadata": {},
   "outputs": [],
   "source": []
  },
  {
   "cell_type": "code",
   "execution_count": null,
   "id": "92d8d07f",
   "metadata": {},
   "outputs": [],
   "source": []
  },
  {
   "cell_type": "code",
   "execution_count": 26,
   "id": "cd6eb82f",
   "metadata": {},
   "outputs": [
    {
     "name": "stderr",
     "output_type": "stream",
     "text": [
      "C:\\Users\\gabri\\anaconda3\\lib\\site-packages\\pandas\\core\\arraylike.py:397: RuntimeWarning: divide by zero encountered in log\n",
      "  result = getattr(ufunc, method)(*inputs, **kwargs)\n",
      "C:\\Users\\gabri\\anaconda3\\lib\\site-packages\\pandas\\core\\arraylike.py:397: RuntimeWarning: divide by zero encountered in log\n",
      "  result = getattr(ufunc, method)(*inputs, **kwargs)\n"
     ]
    },
    {
     "data": {
      "text/plain": [
       "[<matplotlib.lines.Line2D at 0x225e1c861f0>]"
      ]
     },
     "execution_count": 26,
     "metadata": {},
     "output_type": "execute_result"
    },
    {
     "data": {
      "image/png": "[encoded data removed]",
      "text/plain": [
       "<Figure size 432x288 with 1 Axes>"
      ]
     },
     "metadata": {
      "needs_background": "light"
     },
     "output_type": "display_data"
    }
   ],
   "source": [
    "plt.plot(np.log(data[0]['time']//100)[75:750], np.log(data[0]['rho'])[75:750])\n",
    "plt.plot(np.log(data_policy0['time']//100)[75:750], np.log(data_policy0['rho'])[75:750])"
   ]
  },
  {
   "cell_type": "code",
   "execution_count": 27,
   "id": "a8320d46",
   "metadata": {},
   "outputs": [],
   "source": [
    "policy_LR = LinearRegression()"
   ]
  },
  {
   "cell_type": "code",
   "execution_count": 28,
   "id": "97c8f15b",
   "metadata": {},
   "outputs": [],
   "source": [
    "Xp0, yp0 = np.array(np.log(data_policy0['time'][75:550]/100)), np.log(np.array(data_policy0['rho'][75:550]))"
   ]
  },
  {
   "cell_type": "code",
   "execution_count": 29,
   "id": "2c9719dd",
   "metadata": {},
   "outputs": [
    {
     "data": {
      "text/plain": [
       "LinearRegression()"
      ]
     },
     "execution_count": 29,
     "metadata": {},
     "output_type": "execute_result"
    }
   ],
   "source": [
    "policy_LR.fit(Xp0.reshape(-1, 1), yp0.reshape(-1, 1))"
   ]
  },
  {
   "cell_type": "code",
   "execution_count": 30,
   "id": "0717eacf",
   "metadata": {},
   "outputs": [
    {
     "data": {
      "text/plain": [
       "array([[-0.47330021]])"
      ]
     },
     "execution_count": 30,
     "metadata": {},
     "output_type": "execute_result"
    }
   ],
   "source": [
    "policy_LR.coef_"
   ]
  },
  {
   "cell_type": "code",
   "execution_count": 31,
   "id": "1178820d",
   "metadata": {},
   "outputs": [
    {
     "name": "stderr",
     "output_type": "stream",
     "text": [
      "C:\\Users\\gabri\\anaconda3\\lib\\site-packages\\pandas\\core\\arraylike.py:397: RuntimeWarning: divide by zero encountered in log\n",
      "  result = getattr(ufunc, method)(*inputs, **kwargs)\n",
      "C:\\Users\\gabri\\anaconda3\\lib\\site-packages\\pandas\\core\\arraylike.py:397: RuntimeWarning: divide by zero encountered in log\n",
      "  result = getattr(ufunc, method)(*inputs, **kwargs)\n"
     ]
    },
    {
     "data": {
      "text/plain": [
       "[<matplotlib.lines.Line2D at 0x225e3703310>]"
      ]
     },
     "execution_count": 31,
     "metadata": {},
     "output_type": "execute_result"
    },
    {
     "data": {
      "image/png": "[encoded data removed]",
      "text/plain": [
       "<Figure size 432x288 with 1 Axes>"
      ]
     },
     "metadata": {
      "needs_background": "light"
     },
     "output_type": "display_data"
    }
   ],
   "source": [
    "plt.plot(np.log(data[0]['time']//100)[75:750], np.log(data[0]['rho'])[75:750])\n",
    "plt.plot([4.3, 7], [ LR.predict([[4.3]])[0][0], LR.predict([[7]])[0][0] ])\n",
    "plt.plot(np.log(data_policy0['time']//100)[75:550], np.log(data_policy0['rho'])[75:550])\n",
    "plt.plot([4.3, 7], [ policy_LR.predict([[4.3]])[0][0], policy_LR.predict([[7]])[0][0] ])"
   ]
  },
  {
   "cell_type": "code",
   "execution_count": 32,
   "id": "cbf98d95",
   "metadata": {},
   "outputs": [],
   "source": [
    "lista = [1, 2, 3, 4]"
   ]
  },
  {
   "cell_type": "code",
   "execution_count": 33,
   "id": "19d44e8d",
   "metadata": {},
   "outputs": [],
   "source": [
    "df1 = pd.DataFrame(lista, columns=['value'])"
   ]
  },
  {
   "cell_type": "code",
   "execution_count": 34,
   "id": "25626db0",
   "metadata": {},
   "outputs": [
    {
     "data": {
      "text/html": [
       "<div>\n",
       "<style scoped>\n",
       "    .dataframe tbody tr th:only-of-type {\n",
       "        vertical-align: middle;\n",
       "    }\n",
       "\n",
       "    .dataframe tbody tr th {\n",
       "        vertical-align: top;\n",
       "    }\n",
       "\n",
       "    .dataframe thead th {\n",
       "        text-align: right;\n",
       "    }\n",
       "</style>\n",
       "<table border=\"1\" class=\"dataframe\">\n",
       "  <thead>\n",
       "    <tr style=\"text-align: right;\">\n",
       "      <th></th>\n",
       "      <th>value</th>\n",
       "    </tr>\n",
       "  </thead>\n",
       "  <tbody>\n",
       "    <tr>\n",
       "      <th>0</th>\n",
       "      <td>1</td>\n",
       "    </tr>\n",
       "    <tr>\n",
       "      <th>1</th>\n",
       "      <td>2</td>\n",
       "    </tr>\n",
       "    <tr>\n",
       "      <th>2</th>\n",
       "      <td>3</td>\n",
       "    </tr>\n",
       "    <tr>\n",
       "      <th>3</th>\n",
       "      <td>4</td>\n",
       "    </tr>\n",
       "  </tbody>\n",
       "</table>\n",
       "</div>"
      ],
      "text/plain": [
       "   value\n",
       "0      1\n",
       "1      2\n",
       "2      3\n",
       "3      4"
      ]
     },
     "execution_count": 34,
     "metadata": {},
     "output_type": "execute_result"
    }
   ],
   "source": [
    "df1"
   ]
  },
  {
   "cell_type": "code",
   "execution_count": 35,
   "id": "1bc3a4ac",
   "metadata": {},
   "outputs": [],
   "source": [
    "df2 = pd.DataFrame([10, 11, 12, 13], columns=['value2'])"
   ]
  },
  {
   "cell_type": "code",
   "execution_count": 36,
   "id": "26601f2f",
   "metadata": {},
   "outputs": [],
   "source": [
    "df = pd.concat([df1, df2], axis=1)"
   ]
  },
  {
   "cell_type": "code",
   "execution_count": 37,
   "id": "9826ea3a",
   "metadata": {},
   "outputs": [
    {
     "data": {
      "text/html": [
       "<div>\n",
       "<style scoped>\n",
       "    .dataframe tbody tr th:only-of-type {\n",
       "        vertical-align: middle;\n",
       "    }\n",
       "\n",
       "    .dataframe tbody tr th {\n",
       "        vertical-align: top;\n",
       "    }\n",
       "\n",
       "    .dataframe thead th {\n",
       "        text-align: right;\n",
       "    }\n",
       "</style>\n",
       "<table border=\"1\" class=\"dataframe\">\n",
       "  <thead>\n",
       "    <tr style=\"text-align: right;\">\n",
       "      <th></th>\n",
       "      <th>value</th>\n",
       "      <th>value2</th>\n",
       "    </tr>\n",
       "  </thead>\n",
       "  <tbody>\n",
       "    <tr>\n",
       "      <th>0</th>\n",
       "      <td>1</td>\n",
       "      <td>10</td>\n",
       "    </tr>\n",
       "    <tr>\n",
       "      <th>1</th>\n",
       "      <td>2</td>\n",
       "      <td>11</td>\n",
       "    </tr>\n",
       "    <tr>\n",
       "      <th>2</th>\n",
       "      <td>3</td>\n",
       "      <td>12</td>\n",
       "    </tr>\n",
       "    <tr>\n",
       "      <th>3</th>\n",
       "      <td>4</td>\n",
       "      <td>13</td>\n",
       "    </tr>\n",
       "  </tbody>\n",
       "</table>\n",
       "</div>"
      ],
      "text/plain": [
       "   value  value2\n",
       "0      1      10\n",
       "1      2      11\n",
       "2      3      12\n",
       "3      4      13"
      ]
     },
     "execution_count": 37,
     "metadata": {},
     "output_type": "execute_result"
    }
   ],
   "source": [
    "df"
   ]
  },
  {
   "cell_type": "code",
   "execution_count": 38,
   "id": "dc89ac9a",
   "metadata": {
    "scrolled": true
   },
   "outputs": [
    {
     "data": {
      "text/html": [
       "<div>\n",
       "<style scoped>\n",
       "    .dataframe tbody tr th:only-of-type {\n",
       "        vertical-align: middle;\n",
       "    }\n",
       "\n",
       "    .dataframe tbody tr th {\n",
       "        vertical-align: top;\n",
       "    }\n",
       "\n",
       "    .dataframe thead th {\n",
       "        text-align: right;\n",
       "    }\n",
       "</style>\n",
       "<table border=\"1\" class=\"dataframe\">\n",
       "  <thead>\n",
       "    <tr style=\"text-align: right;\">\n",
       "      <th></th>\n",
       "      <th>time</th>\n",
       "      <th>rho</th>\n",
       "    </tr>\n",
       "  </thead>\n",
       "  <tbody>\n",
       "    <tr>\n",
       "      <th>0</th>\n",
       "      <td>0</td>\n",
       "      <td>0.506764</td>\n",
       "    </tr>\n",
       "    <tr>\n",
       "      <th>1</th>\n",
       "      <td>100</td>\n",
       "      <td>0.483280</td>\n",
       "    </tr>\n",
       "    <tr>\n",
       "      <th>2</th>\n",
       "      <td>200</td>\n",
       "      <td>0.446687</td>\n",
       "    </tr>\n",
       "    <tr>\n",
       "      <th>3</th>\n",
       "      <td>300</td>\n",
       "      <td>0.405644</td>\n",
       "    </tr>\n",
       "    <tr>\n",
       "      <th>4</th>\n",
       "      <td>400</td>\n",
       "      <td>0.364995</td>\n",
       "    </tr>\n",
       "    <tr>\n",
       "      <th>...</th>\n",
       "      <td>...</td>\n",
       "      <td>...</td>\n",
       "    </tr>\n",
       "    <tr>\n",
       "      <th>895</th>\n",
       "      <td>89500</td>\n",
       "      <td>0.023691</td>\n",
       "    </tr>\n",
       "    <tr>\n",
       "      <th>896</th>\n",
       "      <td>89600</td>\n",
       "      <td>0.023799</td>\n",
       "    </tr>\n",
       "    <tr>\n",
       "      <th>897</th>\n",
       "      <td>89700</td>\n",
       "      <td>0.023661</td>\n",
       "    </tr>\n",
       "    <tr>\n",
       "      <th>898</th>\n",
       "      <td>89800</td>\n",
       "      <td>0.023700</td>\n",
       "    </tr>\n",
       "    <tr>\n",
       "      <th>899</th>\n",
       "      <td>89900</td>\n",
       "      <td>0.023739</td>\n",
       "    </tr>\n",
       "  </tbody>\n",
       "</table>\n",
       "<p>900 rows × 2 columns</p>\n",
       "</div>"
      ],
      "text/plain": [
       "      time       rho\n",
       "0        0  0.506764\n",
       "1      100  0.483280\n",
       "2      200  0.446687\n",
       "3      300  0.405644\n",
       "4      400  0.364995\n",
       "..     ...       ...\n",
       "895  89500  0.023691\n",
       "896  89600  0.023799\n",
       "897  89700  0.023661\n",
       "898  89800  0.023700\n",
       "899  89900  0.023739\n",
       "\n",
       "[900 rows x 2 columns]"
      ]
     },
     "execution_count": 38,
     "metadata": {},
     "output_type": "execute_result"
    }
   ],
   "source": [
    "data[0]"
   ]
  },
  {
   "cell_type": "code",
   "execution_count": 39,
   "id": "c6f09368",
   "metadata": {
    "scrolled": true
   },
   "outputs": [
    {
     "data": {
      "text/html": [
       "<div>\n",
       "<style scoped>\n",
       "    .dataframe tbody tr th:only-of-type {\n",
       "        vertical-align: middle;\n",
       "    }\n",
       "\n",
       "    .dataframe tbody tr th {\n",
       "        vertical-align: top;\n",
       "    }\n",
       "\n",
       "    .dataframe thead th {\n",
       "        text-align: right;\n",
       "    }\n",
       "</style>\n",
       "<table border=\"1\" class=\"dataframe\">\n",
       "  <thead>\n",
       "    <tr style=\"text-align: right;\">\n",
       "      <th></th>\n",
       "      <th>time</th>\n",
       "      <th>rho</th>\n",
       "      <th>rho_2_barra</th>\n",
       "    </tr>\n",
       "  </thead>\n",
       "  <tbody>\n",
       "    <tr>\n",
       "      <th>0</th>\n",
       "      <td>0</td>\n",
       "      <td>0.443422</td>\n",
       "      <td>0.196623</td>\n",
       "    </tr>\n",
       "    <tr>\n",
       "      <th>1</th>\n",
       "      <td>100</td>\n",
       "      <td>0.394178</td>\n",
       "      <td>0.155376</td>\n",
       "    </tr>\n",
       "    <tr>\n",
       "      <th>2</th>\n",
       "      <td>200</td>\n",
       "      <td>0.348933</td>\n",
       "      <td>0.121754</td>\n",
       "    </tr>\n",
       "    <tr>\n",
       "      <th>3</th>\n",
       "      <td>300</td>\n",
       "      <td>0.308756</td>\n",
       "      <td>0.095330</td>\n",
       "    </tr>\n",
       "    <tr>\n",
       "      <th>4</th>\n",
       "      <td>400</td>\n",
       "      <td>0.268622</td>\n",
       "      <td>0.072158</td>\n",
       "    </tr>\n",
       "    <tr>\n",
       "      <th>...</th>\n",
       "      <td>...</td>\n",
       "      <td>...</td>\n",
       "      <td>...</td>\n",
       "    </tr>\n",
       "    <tr>\n",
       "      <th>895</th>\n",
       "      <td>89500</td>\n",
       "      <td>0.030711</td>\n",
       "      <td>0.000943</td>\n",
       "    </tr>\n",
       "    <tr>\n",
       "      <th>896</th>\n",
       "      <td>89600</td>\n",
       "      <td>0.030400</td>\n",
       "      <td>0.000924</td>\n",
       "    </tr>\n",
       "    <tr>\n",
       "      <th>897</th>\n",
       "      <td>89700</td>\n",
       "      <td>0.028800</td>\n",
       "      <td>0.000829</td>\n",
       "    </tr>\n",
       "    <tr>\n",
       "      <th>898</th>\n",
       "      <td>89800</td>\n",
       "      <td>0.028133</td>\n",
       "      <td>0.000791</td>\n",
       "    </tr>\n",
       "    <tr>\n",
       "      <th>899</th>\n",
       "      <td>89900</td>\n",
       "      <td>0.027333</td>\n",
       "      <td>0.000747</td>\n",
       "    </tr>\n",
       "  </tbody>\n",
       "</table>\n",
       "<p>900 rows × 3 columns</p>\n",
       "</div>"
      ],
      "text/plain": [
       "      time       rho  rho_2_barra\n",
       "0        0  0.443422     0.196623\n",
       "1      100  0.394178     0.155376\n",
       "2      200  0.348933     0.121754\n",
       "3      300  0.308756     0.095330\n",
       "4      400  0.268622     0.072158\n",
       "..     ...       ...          ...\n",
       "895  89500  0.030711     0.000943\n",
       "896  89600  0.030400     0.000924\n",
       "897  89700  0.028800     0.000829\n",
       "898  89800  0.028133     0.000791\n",
       "899  89900  0.027333     0.000747\n",
       "\n",
       "[900 rows x 3 columns]"
      ]
     },
     "execution_count": 39,
     "metadata": {},
     "output_type": "execute_result"
    }
   ],
   "source": [
    "df = pd.read_csv('results_0_w_policy_270.csv')\n",
    "rho_2_barra = pd.DataFrame((df['rho'] ** 2).values, columns=['rho_2_barra'])\n",
    "df = pd.concat([df, rho_2_barra], axis=1)\n",
    "df"
   ]
  },
  {
   "cell_type": "code",
   "execution_count": 40,
   "id": "10a5628b",
   "metadata": {},
   "outputs": [],
   "source": [
    "total_values = 22"
   ]
  },
  {
   "cell_type": "code",
   "execution_count": 41,
   "id": "2dcae335",
   "metadata": {},
   "outputs": [],
   "source": [
    "for i in range(1, total_values):\n",
    "    x = pd.read_csv(f'results_{i}_w_policy_270.csv')\n",
    "    rho_2_barra = pd.DataFrame((x['rho'] ** 2).values, columns=['rho_2_barra'])\n",
    "    x = pd.concat([x, rho_2_barra], axis=1)\n",
    "    df['rho'] += x['rho']\n",
    "    df['rho_2_barra'] += x['rho_2_barra']\n",
    "df['rho'] = df['rho'] / total_values\n",
    "df['rho_2_barra'] = df['rho_2_barra'] / total_values\n",
    "rho_barra_2 = pd.DataFrame((df['rho'] ** 2).values, columns=['rho_barra_2'])\n",
    "df = pd.concat([df, rho_barra_2], axis=1)"
   ]
  },
  {
   "cell_type": "code",
   "execution_count": 42,
   "id": "b9f87da0",
   "metadata": {},
   "outputs": [
    {
     "data": {
      "text/html": [
       "<div>\n",
       "<style scoped>\n",
       "    .dataframe tbody tr th:only-of-type {\n",
       "        vertical-align: middle;\n",
       "    }\n",
       "\n",
       "    .dataframe tbody tr th {\n",
       "        vertical-align: top;\n",
       "    }\n",
       "\n",
       "    .dataframe thead th {\n",
       "        text-align: right;\n",
       "    }\n",
       "</style>\n",
       "<table border=\"1\" class=\"dataframe\">\n",
       "  <thead>\n",
       "    <tr style=\"text-align: right;\">\n",
       "      <th></th>\n",
       "      <th>time</th>\n",
       "      <th>rho</th>\n",
       "      <th>rho_2_barra</th>\n",
       "      <th>rho_barra_2</th>\n",
       "    </tr>\n",
       "  </thead>\n",
       "  <tbody>\n",
       "    <tr>\n",
       "      <th>0</th>\n",
       "      <td>0</td>\n",
       "      <td>0.447925</td>\n",
       "      <td>0.200643</td>\n",
       "      <td>0.200637</td>\n",
       "    </tr>\n",
       "    <tr>\n",
       "      <th>1</th>\n",
       "      <td>100</td>\n",
       "      <td>0.396899</td>\n",
       "      <td>0.157534</td>\n",
       "      <td>0.157529</td>\n",
       "    </tr>\n",
       "    <tr>\n",
       "      <th>2</th>\n",
       "      <td>200</td>\n",
       "      <td>0.348586</td>\n",
       "      <td>0.121520</td>\n",
       "      <td>0.121512</td>\n",
       "    </tr>\n",
       "    <tr>\n",
       "      <th>3</th>\n",
       "      <td>300</td>\n",
       "      <td>0.305291</td>\n",
       "      <td>0.093211</td>\n",
       "      <td>0.093203</td>\n",
       "    </tr>\n",
       "    <tr>\n",
       "      <th>4</th>\n",
       "      <td>400</td>\n",
       "      <td>0.268073</td>\n",
       "      <td>0.071875</td>\n",
       "      <td>0.071863</td>\n",
       "    </tr>\n",
       "    <tr>\n",
       "      <th>...</th>\n",
       "      <td>...</td>\n",
       "      <td>...</td>\n",
       "      <td>...</td>\n",
       "      <td>...</td>\n",
       "    </tr>\n",
       "    <tr>\n",
       "      <th>895</th>\n",
       "      <td>89500</td>\n",
       "      <td>0.014020</td>\n",
       "      <td>0.000242</td>\n",
       "      <td>0.000197</td>\n",
       "    </tr>\n",
       "    <tr>\n",
       "      <th>896</th>\n",
       "      <td>89600</td>\n",
       "      <td>0.014073</td>\n",
       "      <td>0.000244</td>\n",
       "      <td>0.000198</td>\n",
       "    </tr>\n",
       "    <tr>\n",
       "      <th>897</th>\n",
       "      <td>89700</td>\n",
       "      <td>0.014212</td>\n",
       "      <td>0.000247</td>\n",
       "      <td>0.000202</td>\n",
       "    </tr>\n",
       "    <tr>\n",
       "      <th>898</th>\n",
       "      <td>89800</td>\n",
       "      <td>0.014305</td>\n",
       "      <td>0.000250</td>\n",
       "      <td>0.000205</td>\n",
       "    </tr>\n",
       "    <tr>\n",
       "      <th>899</th>\n",
       "      <td>89900</td>\n",
       "      <td>0.014360</td>\n",
       "      <td>0.000250</td>\n",
       "      <td>0.000206</td>\n",
       "    </tr>\n",
       "  </tbody>\n",
       "</table>\n",
       "<p>900 rows × 4 columns</p>\n",
       "</div>"
      ],
      "text/plain": [
       "      time       rho  rho_2_barra  rho_barra_2\n",
       "0        0  0.447925     0.200643     0.200637\n",
       "1      100  0.396899     0.157534     0.157529\n",
       "2      200  0.348586     0.121520     0.121512\n",
       "3      300  0.305291     0.093211     0.093203\n",
       "4      400  0.268073     0.071875     0.071863\n",
       "..     ...       ...          ...          ...\n",
       "895  89500  0.014020     0.000242     0.000197\n",
       "896  89600  0.014073     0.000244     0.000198\n",
       "897  89700  0.014212     0.000247     0.000202\n",
       "898  89800  0.014305     0.000250     0.000205\n",
       "899  89900  0.014360     0.000250     0.000206\n",
       "\n",
       "[900 rows x 4 columns]"
      ]
     },
     "execution_count": 42,
     "metadata": {},
     "output_type": "execute_result"
    }
   ],
   "source": [
    "df"
   ]
  },
  {
   "cell_type": "code",
   "execution_count": 43,
   "id": "0b8cbed9",
   "metadata": {},
   "outputs": [],
   "source": [
    "U_L = df['rho_2_barra'] / df['rho_barra_2']"
   ]
  },
  {
   "cell_type": "code",
   "execution_count": 44,
   "id": "ceb9b151",
   "metadata": {
    "scrolled": true
   },
   "outputs": [
    {
     "name": "stderr",
     "output_type": "stream",
     "text": [
      "C:\\Users\\gabri\\anaconda3\\lib\\site-packages\\pandas\\core\\arraylike.py:397: RuntimeWarning: divide by zero encountered in log10\n",
      "  result = getattr(ufunc, method)(*inputs, **kwargs)\n"
     ]
    },
    {
     "data": {
      "text/plain": [
       "[<matplotlib.lines.Line2D at 0x225e3767490>]"
      ]
     },
     "execution_count": 44,
     "metadata": {},
     "output_type": "execute_result"
    },
    {
     "data": {
      "image/png": "[encoded data removed]",
      "text/plain": [
       "<Figure size 432x288 with 1 Axes>"
      ]
     },
     "metadata": {
      "needs_background": "light"
     },
     "output_type": "display_data"
    }
   ],
   "source": [
    "plt.plot(np.log10(df['time'])[250:], np.log10(U_L)[250:])"
   ]
  },
  {
   "cell_type": "code",
   "execution_count": 45,
   "id": "e235f133",
   "metadata": {},
   "outputs": [],
   "source": [
    "cumul_reg = LinearRegression()"
   ]
  },
  {
   "cell_type": "code",
   "execution_count": 46,
   "id": "6c42fe4d",
   "metadata": {},
   "outputs": [
    {
     "name": "stderr",
     "output_type": "stream",
     "text": [
      "C:\\Users\\gabri\\anaconda3\\lib\\site-packages\\pandas\\core\\arraylike.py:397: RuntimeWarning: divide by zero encountered in log10\n",
      "  result = getattr(ufunc, method)(*inputs, **kwargs)\n"
     ]
    }
   ],
   "source": [
    "Xcumul, ycumul = np.log10(df['time']).values[250:], np.log10(U_L).values[250:]"
   ]
  },
  {
   "cell_type": "code",
   "execution_count": 47,
   "id": "b2f7b333",
   "metadata": {},
   "outputs": [
    {
     "data": {
      "text/plain": [
       "LinearRegression()"
      ]
     },
     "execution_count": 47,
     "metadata": {},
     "output_type": "execute_result"
    }
   ],
   "source": [
    "cumul_reg.fit(Xcumul.reshape(-1, 1), ycumul.reshape(-1, 1))"
   ]
  },
  {
   "cell_type": "code",
   "execution_count": 48,
   "id": "c97a0967",
   "metadata": {},
   "outputs": [
    {
     "data": {
      "text/plain": [
       "array([[0.1046173]])"
      ]
     },
     "execution_count": 48,
     "metadata": {},
     "output_type": "execute_result"
    }
   ],
   "source": [
    "cumul_reg.coef_"
   ]
  },
  {
   "cell_type": "code",
   "execution_count": 49,
   "id": "25817a6b",
   "metadata": {},
   "outputs": [],
   "source": [
    "delta_rho = (df['rho_2_barra'] - df['rho_barra_2']) * 10000"
   ]
  },
  {
   "cell_type": "code",
   "execution_count": 50,
   "id": "5e11953c",
   "metadata": {},
   "outputs": [
    {
     "name": "stderr",
     "output_type": "stream",
     "text": [
      "C:\\Users\\gabri\\anaconda3\\lib\\site-packages\\pandas\\core\\arraylike.py:397: RuntimeWarning: divide by zero encountered in log10\n",
      "  result = getattr(ufunc, method)(*inputs, **kwargs)\n"
     ]
    },
    {
     "data": {
      "text/plain": [
       "[<matplotlib.lines.Line2D at 0x225e37cd730>]"
      ]
     },
     "execution_count": 50,
     "metadata": {},
     "output_type": "execute_result"
    },
    {
     "data": {
      "image/png": "[encoded data removed]",
      "text/plain": [
       "<Figure size 432x288 with 1 Axes>"
      ]
     },
     "metadata": {
      "needs_background": "light"
     },
     "output_type": "display_data"
    }
   ],
   "source": [
    "plt.plot(np.log10(df['time']), np.log10(delta_rho))"
   ]
  },
  {
   "cell_type": "code",
   "execution_count": 51,
   "id": "8ab8366e",
   "metadata": {},
   "outputs": [],
   "source": [
    "df['susc'] = delta_rho"
   ]
  },
  {
   "cell_type": "code",
   "execution_count": 52,
   "id": "bd125ebc",
   "metadata": {},
   "outputs": [
    {
     "data": {
      "text/html": [
       "<div>\n",
       "<style scoped>\n",
       "    .dataframe tbody tr th:only-of-type {\n",
       "        vertical-align: middle;\n",
       "    }\n",
       "\n",
       "    .dataframe tbody tr th {\n",
       "        vertical-align: top;\n",
       "    }\n",
       "\n",
       "    .dataframe thead th {\n",
       "        text-align: right;\n",
       "    }\n",
       "</style>\n",
       "<table border=\"1\" class=\"dataframe\">\n",
       "  <thead>\n",
       "    <tr style=\"text-align: right;\">\n",
       "      <th></th>\n",
       "      <th>time</th>\n",
       "      <th>rho</th>\n",
       "      <th>rho_2_barra</th>\n",
       "      <th>rho_barra_2</th>\n",
       "      <th>susc</th>\n",
       "    </tr>\n",
       "  </thead>\n",
       "  <tbody>\n",
       "    <tr>\n",
       "      <th>0</th>\n",
       "      <td>0</td>\n",
       "      <td>0.447925</td>\n",
       "      <td>0.200643</td>\n",
       "      <td>0.200637</td>\n",
       "      <td>0.057475</td>\n",
       "    </tr>\n",
       "    <tr>\n",
       "      <th>1</th>\n",
       "      <td>100</td>\n",
       "      <td>0.396899</td>\n",
       "      <td>0.157534</td>\n",
       "      <td>0.157529</td>\n",
       "      <td>0.052581</td>\n",
       "    </tr>\n",
       "    <tr>\n",
       "      <th>2</th>\n",
       "      <td>200</td>\n",
       "      <td>0.348586</td>\n",
       "      <td>0.121520</td>\n",
       "      <td>0.121512</td>\n",
       "      <td>0.076144</td>\n",
       "    </tr>\n",
       "    <tr>\n",
       "      <th>3</th>\n",
       "      <td>300</td>\n",
       "      <td>0.305291</td>\n",
       "      <td>0.093211</td>\n",
       "      <td>0.093203</td>\n",
       "      <td>0.080177</td>\n",
       "    </tr>\n",
       "    <tr>\n",
       "      <th>4</th>\n",
       "      <td>400</td>\n",
       "      <td>0.268073</td>\n",
       "      <td>0.071875</td>\n",
       "      <td>0.071863</td>\n",
       "      <td>0.120123</td>\n",
       "    </tr>\n",
       "    <tr>\n",
       "      <th>...</th>\n",
       "      <td>...</td>\n",
       "      <td>...</td>\n",
       "      <td>...</td>\n",
       "      <td>...</td>\n",
       "      <td>...</td>\n",
       "    </tr>\n",
       "    <tr>\n",
       "      <th>895</th>\n",
       "      <td>89500</td>\n",
       "      <td>0.014020</td>\n",
       "      <td>0.000242</td>\n",
       "      <td>0.000197</td>\n",
       "      <td>0.451598</td>\n",
       "    </tr>\n",
       "    <tr>\n",
       "      <th>896</th>\n",
       "      <td>89600</td>\n",
       "      <td>0.014073</td>\n",
       "      <td>0.000244</td>\n",
       "      <td>0.000198</td>\n",
       "      <td>0.464006</td>\n",
       "    </tr>\n",
       "    <tr>\n",
       "      <th>897</th>\n",
       "      <td>89700</td>\n",
       "      <td>0.014212</td>\n",
       "      <td>0.000247</td>\n",
       "      <td>0.000202</td>\n",
       "      <td>0.445225</td>\n",
       "    </tr>\n",
       "    <tr>\n",
       "      <th>898</th>\n",
       "      <td>89800</td>\n",
       "      <td>0.014305</td>\n",
       "      <td>0.000250</td>\n",
       "      <td>0.000205</td>\n",
       "      <td>0.454975</td>\n",
       "    </tr>\n",
       "    <tr>\n",
       "      <th>899</th>\n",
       "      <td>89900</td>\n",
       "      <td>0.014360</td>\n",
       "      <td>0.000250</td>\n",
       "      <td>0.000206</td>\n",
       "      <td>0.436516</td>\n",
       "    </tr>\n",
       "  </tbody>\n",
       "</table>\n",
       "<p>900 rows × 5 columns</p>\n",
       "</div>"
      ],
      "text/plain": [
       "      time       rho  rho_2_barra  rho_barra_2      susc\n",
       "0        0  0.447925     0.200643     0.200637  0.057475\n",
       "1      100  0.396899     0.157534     0.157529  0.052581\n",
       "2      200  0.348586     0.121520     0.121512  0.076144\n",
       "3      300  0.305291     0.093211     0.093203  0.080177\n",
       "4      400  0.268073     0.071875     0.071863  0.120123\n",
       "..     ...       ...          ...          ...       ...\n",
       "895  89500  0.014020     0.000242     0.000197  0.451598\n",
       "896  89600  0.014073     0.000244     0.000198  0.464006\n",
       "897  89700  0.014212     0.000247     0.000202  0.445225\n",
       "898  89800  0.014305     0.000250     0.000205  0.454975\n",
       "899  89900  0.014360     0.000250     0.000206  0.436516\n",
       "\n",
       "[900 rows x 5 columns]"
      ]
     },
     "execution_count": 52,
     "metadata": {},
     "output_type": "execute_result"
    }
   ],
   "source": [
    "df"
   ]
  },
  {
   "cell_type": "code",
   "execution_count": 53,
   "id": "25d3e0cc",
   "metadata": {},
   "outputs": [],
   "source": [
    "susc_reg = LinearRegression()"
   ]
  },
  {
   "cell_type": "code",
   "execution_count": 54,
   "id": "504e3c00",
   "metadata": {},
   "outputs": [
    {
     "name": "stderr",
     "output_type": "stream",
     "text": [
      "C:\\Users\\gabri\\anaconda3\\lib\\site-packages\\pandas\\core\\arraylike.py:397: RuntimeWarning: divide by zero encountered in log10\n",
      "  result = getattr(ufunc, method)(*inputs, **kwargs)\n"
     ]
    }
   ],
   "source": [
    "Xsusc, ysusc = np.log10(df['time']).values[1:], np.log10(df['susc']).values[1:]"
   ]
  },
  {
   "cell_type": "code",
   "execution_count": null,
   "id": "04be33d5",
   "metadata": {},
   "outputs": [],
   "source": []
  },
  {
   "cell_type": "code",
   "execution_count": 55,
   "id": "8ba23404",
   "metadata": {},
   "outputs": [
    {
     "data": {
      "text/plain": [
       "LinearRegression()"
      ]
     },
     "execution_count": 55,
     "metadata": {},
     "output_type": "execute_result"
    }
   ],
   "source": [
    "susc_reg.fit(Xsusc.reshape(-1, 1), ysusc.reshape(-1, 1))"
   ]
  },
  {
   "cell_type": "code",
   "execution_count": 56,
   "id": "c9848da4",
   "metadata": {},
   "outputs": [
    {
     "data": {
      "text/plain": [
       "array([[0.24673775]])"
      ]
     },
     "execution_count": 56,
     "metadata": {},
     "output_type": "execute_result"
    }
   ],
   "source": [
    "susc_reg.coef_"
   ]
  },
  {
   "cell_type": "code",
   "execution_count": 57,
   "id": "8f85d90e",
   "metadata": {},
   "outputs": [
    {
     "name": "stderr",
     "output_type": "stream",
     "text": [
      "C:\\Users\\gabri\\anaconda3\\lib\\site-packages\\pandas\\core\\arraylike.py:397: RuntimeWarning: divide by zero encountered in log10\n",
      "  result = getattr(ufunc, method)(*inputs, **kwargs)\n"
     ]
    },
    {
     "data": {
      "text/plain": [
       "[<matplotlib.lines.Line2D at 0x225e383d850>]"
      ]
     },
     "execution_count": 57,
     "metadata": {},
     "output_type": "execute_result"
    },
    {
     "data": {
      "image/png": "[encoded data removed]",
      "text/plain": [
       "<Figure size 432x288 with 1 Axes>"
      ]
     },
     "metadata": {
      "needs_background": "light"
     },
     "output_type": "display_data"
    }
   ],
   "source": [
    "plt.plot(np.log10(df['time'])[75:], np.log10(delta_rho)[75:])\n",
    "plt.plot([3.75, 5], [susc_reg.predict([[3.75]])[0][0], susc_reg.predict([[5]])[0][0] ])"
   ]
  },
  {
   "cell_type": "markdown",
   "id": "e2a118ea",
   "metadata": {},
   "source": [
    "TUDO COM TAMANHO 150"
   ]
  },
  {
   "cell_type": "code",
   "execution_count": 58,
   "id": "879c4940",
   "metadata": {},
   "outputs": [
    {
     "data": {
      "text/html": [
       "<div>\n",
       "<style scoped>\n",
       "    .dataframe tbody tr th:only-of-type {\n",
       "        vertical-align: middle;\n",
       "    }\n",
       "\n",
       "    .dataframe tbody tr th {\n",
       "        vertical-align: top;\n",
       "    }\n",
       "\n",
       "    .dataframe thead th {\n",
       "        text-align: right;\n",
       "    }\n",
       "</style>\n",
       "<table border=\"1\" class=\"dataframe\">\n",
       "  <thead>\n",
       "    <tr style=\"text-align: right;\">\n",
       "      <th></th>\n",
       "      <th>time</th>\n",
       "      <th>rho</th>\n",
       "      <th>rho_2_barra</th>\n",
       "    </tr>\n",
       "  </thead>\n",
       "  <tbody>\n",
       "    <tr>\n",
       "      <th>0</th>\n",
       "      <td>0</td>\n",
       "      <td>0.453450</td>\n",
       "      <td>0.205617</td>\n",
       "    </tr>\n",
       "    <tr>\n",
       "      <th>1</th>\n",
       "      <td>100</td>\n",
       "      <td>0.407375</td>\n",
       "      <td>0.165954</td>\n",
       "    </tr>\n",
       "    <tr>\n",
       "      <th>2</th>\n",
       "      <td>200</td>\n",
       "      <td>0.360875</td>\n",
       "      <td>0.130231</td>\n",
       "    </tr>\n",
       "    <tr>\n",
       "      <th>3</th>\n",
       "      <td>300</td>\n",
       "      <td>0.320850</td>\n",
       "      <td>0.102945</td>\n",
       "    </tr>\n",
       "    <tr>\n",
       "      <th>4</th>\n",
       "      <td>400</td>\n",
       "      <td>0.284625</td>\n",
       "      <td>0.081011</td>\n",
       "    </tr>\n",
       "    <tr>\n",
       "      <th>...</th>\n",
       "      <td>...</td>\n",
       "      <td>...</td>\n",
       "      <td>...</td>\n",
       "    </tr>\n",
       "    <tr>\n",
       "      <th>895</th>\n",
       "      <td>89500</td>\n",
       "      <td>0.093900</td>\n",
       "      <td>0.008817</td>\n",
       "    </tr>\n",
       "    <tr>\n",
       "      <th>896</th>\n",
       "      <td>89600</td>\n",
       "      <td>0.094700</td>\n",
       "      <td>0.008968</td>\n",
       "    </tr>\n",
       "    <tr>\n",
       "      <th>897</th>\n",
       "      <td>89700</td>\n",
       "      <td>0.096450</td>\n",
       "      <td>0.009303</td>\n",
       "    </tr>\n",
       "    <tr>\n",
       "      <th>898</th>\n",
       "      <td>89800</td>\n",
       "      <td>0.097675</td>\n",
       "      <td>0.009540</td>\n",
       "    </tr>\n",
       "    <tr>\n",
       "      <th>899</th>\n",
       "      <td>89900</td>\n",
       "      <td>0.095400</td>\n",
       "      <td>0.009101</td>\n",
       "    </tr>\n",
       "  </tbody>\n",
       "</table>\n",
       "<p>900 rows × 3 columns</p>\n",
       "</div>"
      ],
      "text/plain": [
       "      time       rho  rho_2_barra\n",
       "0        0  0.453450     0.205617\n",
       "1      100  0.407375     0.165954\n",
       "2      200  0.360875     0.130231\n",
       "3      300  0.320850     0.102945\n",
       "4      400  0.284625     0.081011\n",
       "..     ...       ...          ...\n",
       "895  89500  0.093900     0.008817\n",
       "896  89600  0.094700     0.008968\n",
       "897  89700  0.096450     0.009303\n",
       "898  89800  0.097675     0.009540\n",
       "899  89900  0.095400     0.009101\n",
       "\n",
       "[900 rows x 3 columns]"
      ]
     },
     "execution_count": 58,
     "metadata": {},
     "output_type": "execute_result"
    }
   ],
   "source": [
    "df = pd.read_csv('data_w_policy_cc/results_0_w_policy_c26_200.csv')\n",
    "rho_2_barra = pd.DataFrame((df['rho'] ** 2).values, columns=['rho_2_barra'])\n",
    "df = pd.concat([df, rho_2_barra], axis=1)\n",
    "df"
   ]
  },
  {
   "cell_type": "code",
   "execution_count": 59,
   "id": "cadf0b19",
   "metadata": {},
   "outputs": [],
   "source": [
    "for i in range(1, total_values):\n",
    "    x = pd.read_csv(f'data_w_policy_cc/results_{i}_w_policy_c26_200.csv')\n",
    "    rho_2_barra = pd.DataFrame((x['rho'] ** 2).values, columns=['rho_2_barra'])\n",
    "    x = pd.concat([x, rho_2_barra], axis=1)\n",
    "    df['rho'] += x['rho']\n",
    "    df['rho_2_barra'] += x['rho_2_barra']\n",
    "df['rho'] = df['rho'] / total_values\n",
    "df['rho_2_barra'] = df['rho_2_barra'] / total_values\n",
    "rho_barra_2 = pd.DataFrame((df['rho'] ** 2).values, columns=['rho_barra_2'])\n",
    "df = pd.concat([df, rho_barra_2], axis=1)"
   ]
  },
  {
   "cell_type": "code",
   "execution_count": 60,
   "id": "7ae0a4c2",
   "metadata": {
    "scrolled": true
   },
   "outputs": [
    {
     "data": {
      "text/html": [
       "<div>\n",
       "<style scoped>\n",
       "    .dataframe tbody tr th:only-of-type {\n",
       "        vertical-align: middle;\n",
       "    }\n",
       "\n",
       "    .dataframe tbody tr th {\n",
       "        vertical-align: top;\n",
       "    }\n",
       "\n",
       "    .dataframe thead th {\n",
       "        text-align: right;\n",
       "    }\n",
       "</style>\n",
       "<table border=\"1\" class=\"dataframe\">\n",
       "  <thead>\n",
       "    <tr style=\"text-align: right;\">\n",
       "      <th></th>\n",
       "      <th>time</th>\n",
       "      <th>rho</th>\n",
       "      <th>rho_2_barra</th>\n",
       "      <th>rho_barra_2</th>\n",
       "    </tr>\n",
       "  </thead>\n",
       "  <tbody>\n",
       "    <tr>\n",
       "      <th>0</th>\n",
       "      <td>0</td>\n",
       "      <td>0.454698</td>\n",
       "      <td>0.206756</td>\n",
       "      <td>0.206750</td>\n",
       "    </tr>\n",
       "    <tr>\n",
       "      <th>1</th>\n",
       "      <td>100</td>\n",
       "      <td>0.407735</td>\n",
       "      <td>0.166255</td>\n",
       "      <td>0.166248</td>\n",
       "    </tr>\n",
       "    <tr>\n",
       "      <th>2</th>\n",
       "      <td>200</td>\n",
       "      <td>0.362370</td>\n",
       "      <td>0.131320</td>\n",
       "      <td>0.131312</td>\n",
       "    </tr>\n",
       "    <tr>\n",
       "      <th>3</th>\n",
       "      <td>300</td>\n",
       "      <td>0.320414</td>\n",
       "      <td>0.102675</td>\n",
       "      <td>0.102665</td>\n",
       "    </tr>\n",
       "    <tr>\n",
       "      <th>4</th>\n",
       "      <td>400</td>\n",
       "      <td>0.283605</td>\n",
       "      <td>0.080440</td>\n",
       "      <td>0.080432</td>\n",
       "    </tr>\n",
       "    <tr>\n",
       "      <th>...</th>\n",
       "      <td>...</td>\n",
       "      <td>...</td>\n",
       "      <td>...</td>\n",
       "      <td>...</td>\n",
       "    </tr>\n",
       "    <tr>\n",
       "      <th>895</th>\n",
       "      <td>89500</td>\n",
       "      <td>0.091699</td>\n",
       "      <td>0.008438</td>\n",
       "      <td>0.008409</td>\n",
       "    </tr>\n",
       "    <tr>\n",
       "      <th>896</th>\n",
       "      <td>89600</td>\n",
       "      <td>0.091651</td>\n",
       "      <td>0.008435</td>\n",
       "      <td>0.008400</td>\n",
       "    </tr>\n",
       "    <tr>\n",
       "      <th>897</th>\n",
       "      <td>89700</td>\n",
       "      <td>0.091460</td>\n",
       "      <td>0.008402</td>\n",
       "      <td>0.008365</td>\n",
       "    </tr>\n",
       "    <tr>\n",
       "      <th>898</th>\n",
       "      <td>89800</td>\n",
       "      <td>0.091517</td>\n",
       "      <td>0.008414</td>\n",
       "      <td>0.008375</td>\n",
       "    </tr>\n",
       "    <tr>\n",
       "      <th>899</th>\n",
       "      <td>89900</td>\n",
       "      <td>0.091159</td>\n",
       "      <td>0.008348</td>\n",
       "      <td>0.008310</td>\n",
       "    </tr>\n",
       "  </tbody>\n",
       "</table>\n",
       "<p>900 rows × 4 columns</p>\n",
       "</div>"
      ],
      "text/plain": [
       "      time       rho  rho_2_barra  rho_barra_2\n",
       "0        0  0.454698     0.206756     0.206750\n",
       "1      100  0.407735     0.166255     0.166248\n",
       "2      200  0.362370     0.131320     0.131312\n",
       "3      300  0.320414     0.102675     0.102665\n",
       "4      400  0.283605     0.080440     0.080432\n",
       "..     ...       ...          ...          ...\n",
       "895  89500  0.091699     0.008438     0.008409\n",
       "896  89600  0.091651     0.008435     0.008400\n",
       "897  89700  0.091460     0.008402     0.008365\n",
       "898  89800  0.091517     0.008414     0.008375\n",
       "899  89900  0.091159     0.008348     0.008310\n",
       "\n",
       "[900 rows x 4 columns]"
      ]
     },
     "execution_count": 60,
     "metadata": {},
     "output_type": "execute_result"
    }
   ],
   "source": [
    "df"
   ]
  },
  {
   "cell_type": "code",
   "execution_count": 61,
   "id": "f0901e4b",
   "metadata": {},
   "outputs": [],
   "source": [
    "U_L = df['rho_2_barra'] / df['rho_barra_2']\n",
    "delta_rho = (df['rho_2_barra'] - df['rho_barra_2']) * (200 * 200)"
   ]
  },
  {
   "cell_type": "code",
   "execution_count": 62,
   "id": "90cacc0c",
   "metadata": {},
   "outputs": [
    {
     "data": {
      "text/html": [
       "<div>\n",
       "<style scoped>\n",
       "    .dataframe tbody tr th:only-of-type {\n",
       "        vertical-align: middle;\n",
       "    }\n",
       "\n",
       "    .dataframe tbody tr th {\n",
       "        vertical-align: top;\n",
       "    }\n",
       "\n",
       "    .dataframe thead th {\n",
       "        text-align: right;\n",
       "    }\n",
       "</style>\n",
       "<table border=\"1\" class=\"dataframe\">\n",
       "  <thead>\n",
       "    <tr style=\"text-align: right;\">\n",
       "      <th></th>\n",
       "      <th>time</th>\n",
       "      <th>rho</th>\n",
       "      <th>rho_2_barra</th>\n",
       "      <th>rho_barra_2</th>\n",
       "      <th>susc</th>\n",
       "      <th>cumul</th>\n",
       "    </tr>\n",
       "  </thead>\n",
       "  <tbody>\n",
       "    <tr>\n",
       "      <th>0</th>\n",
       "      <td>0</td>\n",
       "      <td>0.454698</td>\n",
       "      <td>0.206756</td>\n",
       "      <td>0.206750</td>\n",
       "      <td>0.219404</td>\n",
       "      <td>1.000027</td>\n",
       "    </tr>\n",
       "    <tr>\n",
       "      <th>1</th>\n",
       "      <td>100</td>\n",
       "      <td>0.407735</td>\n",
       "      <td>0.166255</td>\n",
       "      <td>0.166248</td>\n",
       "      <td>0.267140</td>\n",
       "      <td>1.000040</td>\n",
       "    </tr>\n",
       "    <tr>\n",
       "      <th>2</th>\n",
       "      <td>200</td>\n",
       "      <td>0.362370</td>\n",
       "      <td>0.131320</td>\n",
       "      <td>0.131312</td>\n",
       "      <td>0.319011</td>\n",
       "      <td>1.000061</td>\n",
       "    </tr>\n",
       "    <tr>\n",
       "      <th>3</th>\n",
       "      <td>300</td>\n",
       "      <td>0.320414</td>\n",
       "      <td>0.102675</td>\n",
       "      <td>0.102665</td>\n",
       "      <td>0.404558</td>\n",
       "      <td>1.000099</td>\n",
       "    </tr>\n",
       "    <tr>\n",
       "      <th>4</th>\n",
       "      <td>400</td>\n",
       "      <td>0.283605</td>\n",
       "      <td>0.080440</td>\n",
       "      <td>0.080432</td>\n",
       "      <td>0.328431</td>\n",
       "      <td>1.000102</td>\n",
       "    </tr>\n",
       "    <tr>\n",
       "      <th>...</th>\n",
       "      <td>...</td>\n",
       "      <td>...</td>\n",
       "      <td>...</td>\n",
       "      <td>...</td>\n",
       "      <td>...</td>\n",
       "      <td>...</td>\n",
       "    </tr>\n",
       "    <tr>\n",
       "      <th>895</th>\n",
       "      <td>89500</td>\n",
       "      <td>0.091699</td>\n",
       "      <td>0.008438</td>\n",
       "      <td>0.008409</td>\n",
       "      <td>1.157212</td>\n",
       "      <td>1.003441</td>\n",
       "    </tr>\n",
       "    <tr>\n",
       "      <th>896</th>\n",
       "      <td>89600</td>\n",
       "      <td>0.091651</td>\n",
       "      <td>0.008435</td>\n",
       "      <td>0.008400</td>\n",
       "      <td>1.422022</td>\n",
       "      <td>1.004232</td>\n",
       "    </tr>\n",
       "    <tr>\n",
       "      <th>897</th>\n",
       "      <td>89700</td>\n",
       "      <td>0.091460</td>\n",
       "      <td>0.008402</td>\n",
       "      <td>0.008365</td>\n",
       "      <td>1.487611</td>\n",
       "      <td>1.004446</td>\n",
       "    </tr>\n",
       "    <tr>\n",
       "      <th>898</th>\n",
       "      <td>89800</td>\n",
       "      <td>0.091517</td>\n",
       "      <td>0.008414</td>\n",
       "      <td>0.008375</td>\n",
       "      <td>1.534569</td>\n",
       "      <td>1.004581</td>\n",
       "    </tr>\n",
       "    <tr>\n",
       "      <th>899</th>\n",
       "      <td>89900</td>\n",
       "      <td>0.091159</td>\n",
       "      <td>0.008348</td>\n",
       "      <td>0.008310</td>\n",
       "      <td>1.537447</td>\n",
       "      <td>1.004625</td>\n",
       "    </tr>\n",
       "  </tbody>\n",
       "</table>\n",
       "<p>900 rows × 6 columns</p>\n",
       "</div>"
      ],
      "text/plain": [
       "      time       rho  rho_2_barra  rho_barra_2      susc     cumul\n",
       "0        0  0.454698     0.206756     0.206750  0.219404  1.000027\n",
       "1      100  0.407735     0.166255     0.166248  0.267140  1.000040\n",
       "2      200  0.362370     0.131320     0.131312  0.319011  1.000061\n",
       "3      300  0.320414     0.102675     0.102665  0.404558  1.000099\n",
       "4      400  0.283605     0.080440     0.080432  0.328431  1.000102\n",
       "..     ...       ...          ...          ...       ...       ...\n",
       "895  89500  0.091699     0.008438     0.008409  1.157212  1.003441\n",
       "896  89600  0.091651     0.008435     0.008400  1.422022  1.004232\n",
       "897  89700  0.091460     0.008402     0.008365  1.487611  1.004446\n",
       "898  89800  0.091517     0.008414     0.008375  1.534569  1.004581\n",
       "899  89900  0.091159     0.008348     0.008310  1.537447  1.004625\n",
       "\n",
       "[900 rows x 6 columns]"
      ]
     },
     "execution_count": 62,
     "metadata": {},
     "output_type": "execute_result"
    }
   ],
   "source": [
    "df['susc'] = delta_rho\n",
    "df['cumul'] = U_L\n",
    "df"
   ]
  },
  {
   "cell_type": "code",
   "execution_count": 63,
   "id": "4c5bc86f",
   "metadata": {},
   "outputs": [],
   "source": [
    "susc_reg = LinearRegression()\n",
    "cumul_reg = LinearRegression()"
   ]
  },
  {
   "cell_type": "code",
   "execution_count": 64,
   "id": "6f13143b",
   "metadata": {},
   "outputs": [
    {
     "name": "stderr",
     "output_type": "stream",
     "text": [
      "C:\\Users\\gabri\\anaconda3\\lib\\site-packages\\pandas\\core\\arraylike.py:397: RuntimeWarning: divide by zero encountered in log10\n",
      "  result = getattr(ufunc, method)(*inputs, **kwargs)\n"
     ]
    }
   ],
   "source": [
    "Xsusc, ysusc = np.log10(df['time']).values[200:], np.log10(df['susc']).values[200:]\n",
    "Xcumul, ycumul = np.log10(df['time']).values[200:], np.log10(df['cumul']).values[200:]"
   ]
  },
  {
   "cell_type": "code",
   "execution_count": 65,
   "id": "a59b0156",
   "metadata": {},
   "outputs": [
    {
     "data": {
      "text/plain": [
       "LinearRegression()"
      ]
     },
     "execution_count": 65,
     "metadata": {},
     "output_type": "execute_result"
    }
   ],
   "source": [
    "susc_reg.fit(Xsusc.reshape(-1, 1), ysusc.reshape(-1, 1))\n",
    "cumul_reg.fit(Xcumul.reshape(-1, 1), ycumul.reshape(-1, 1))"
   ]
  },
  {
   "cell_type": "code",
   "execution_count": 66,
   "id": "3cdd4917",
   "metadata": {},
   "outputs": [
    {
     "data": {
      "text/plain": [
       "(array([[0.22590954]]), array([[0.000433]]))"
      ]
     },
     "execution_count": 66,
     "metadata": {},
     "output_type": "execute_result"
    }
   ],
   "source": [
    "susc_reg.coef_, cumul_reg.coef_"
   ]
  },
  {
   "cell_type": "code",
   "execution_count": 67,
   "id": "f4747488",
   "metadata": {},
   "outputs": [
    {
     "name": "stderr",
     "output_type": "stream",
     "text": [
      "C:\\Users\\gabri\\anaconda3\\lib\\site-packages\\pandas\\core\\arraylike.py:397: RuntimeWarning: divide by zero encountered in log10\n",
      "  result = getattr(ufunc, method)(*inputs, **kwargs)\n"
     ]
    },
    {
     "data": {
      "text/plain": [
       "[<matplotlib.lines.Line2D at 0x225e3870220>]"
      ]
     },
     "execution_count": 67,
     "metadata": {},
     "output_type": "execute_result"
    },
    {
     "data": {
      "image/png": "[encoded data removed]",
      "text/plain": [
       "<Figure size 432x288 with 1 Axes>"
      ]
     },
     "metadata": {
      "needs_background": "light"
     },
     "output_type": "display_data"
    }
   ],
   "source": [
    "plt.plot(np.log10(df['time'])[200:], np.log10(df['susc'])[200:])\n",
    "plt.plot([4.3, 5], [susc_reg.predict([[4.3]])[0][0], susc_reg.predict([[5]])[0][0]])"
   ]
  },
  {
   "cell_type": "code",
   "execution_count": 68,
   "id": "853fc1e4",
   "metadata": {},
   "outputs": [
    {
     "name": "stderr",
     "output_type": "stream",
     "text": [
      "C:\\Users\\gabri\\anaconda3\\lib\\site-packages\\pandas\\core\\arraylike.py:397: RuntimeWarning: divide by zero encountered in log10\n",
      "  result = getattr(ufunc, method)(*inputs, **kwargs)\n"
     ]
    },
    {
     "data": {
      "text/plain": [
       "[<matplotlib.lines.Line2D at 0x225e391d4f0>]"
      ]
     },
     "execution_count": 68,
     "metadata": {},
     "output_type": "execute_result"
    },
    {
     "data": {
      "image/png": "[encoded data removed]",
      "text/plain": [
       "<Figure size 432x288 with 1 Axes>"
      ]
     },
     "metadata": {
      "needs_background": "light"
     },
     "output_type": "display_data"
    }
   ],
   "source": [
    "plt.plot(np.log10(df['time'])[200:], np.log10(df['cumul'])[200:])"
   ]
  },
  {
   "cell_type": "code",
   "execution_count": null,
   "id": "6e577878",
   "metadata": {},
   "outputs": [],
   "source": []
  },
  {
   "cell_type": "code",
   "execution_count": null,
   "id": "20cc83b6",
   "metadata": {},
   "outputs": [],
   "source": []
  },
  {
   "cell_type": "code",
   "execution_count": null,
   "id": "5f456bd8",
   "metadata": {},
   "outputs": [],
   "source": []
  }
 ],
 "metadata": {
  "kernelspec": {
   "display_name": "Python 3 (ipykernel)",
   "language": "python",
   "name": "python3"
  },
  "language_info": {
   "codemirror_mode": {
    "name": "ipython",
    "version": 3
   },
   "file_extension": ".py",
   "mimetype": "text/x-python",
   "name": "python",
   "nbconvert_exporter": "python",
   "pygments_lexer": "ipython3",
   "version": "3.9.13"
  }
 },
 "nbformat": 4,
 "nbformat_minor": 5
}
