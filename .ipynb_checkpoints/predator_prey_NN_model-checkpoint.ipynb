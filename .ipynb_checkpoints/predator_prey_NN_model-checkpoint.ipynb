{
 "cells": [
  {
   "cell_type": "code",
   "execution_count": 319,
   "id": "cd25998f",
   "metadata": {},
   "outputs": [],
   "source": [
    "import tensorflow as tf\n",
    "from tensorflow import keras\n",
    "from tensorflow.keras.optimizers import Adam\n",
    "import numpy as np"
   ]
  },
  {
   "cell_type": "code",
   "execution_count": 321,
   "id": "ab7b780f",
   "metadata": {},
   "outputs": [],
   "source": [
    "class Policy:\n",
    "    def __init__(self):\n",
    "        self.alpha = 0.01\n",
    "        self.policy = keras.models.Sequential([\n",
    "            keras.layers.Dense(25, activation=\"relu\", input_shape=[25]),\n",
    "            keras.layers.Dense(10, activation=\"relu\"),\n",
    "            keras.layers.Dense(5, activation=\"softmax\"),\n",
    "        ])\n",
    "        self.policy.compile(optimizer=Adam(learning_rate=self.alpha))\n",
    "        \n",
    "    def __call__(self, state):\n",
    "        pi = self.policy(state)\n",
    "        return pi\n",
    "    \n",
    "def get_obs(array, pos):\n",
    "    obs = []\n",
    "    i, j = pos\n",
    "    for ii in range(-2, 3, 1):\n",
    "        row = []\n",
    "        for jj in range(-2, 3, 1):\n",
    "            row.append(array[(i + ii) % len(array)][(j + jj) % len(array)])\n",
    "        obs.append(row)     \n",
    "    return obs\n",
    "\n",
    "def apply_action(array, pos, action):\n",
    "    i, j = pos\n",
    "    if action == 0:\n",
    "        array[i][j], array[i][(j + 1) % len(array)] = array[i][(j + 1) % len(array)], array[i][j]\n",
    "    elif action == 1:\n",
    "        array[i][j], array[i][(j - 1)] = array[i][(j - 1)], array[i][j]\n",
    "    elif action == 2:\n",
    "        array[i][j], array[i - 1][j] = array[i - 1][j], array[i][j]\n",
    "    elif action == 3:\n",
    "        array[i][j], array[i + 1][j] = array[(i + 1) % len(array)][j], array[i][j]"
   ]
  },
  {
   "cell_type": "code",
   "execution_count": 322,
   "id": "cdb7318c",
   "metadata": {},
   "outputs": [],
   "source": [
    "import gym\n",
    "import random"
   ]
  },
  {
   "cell_type": "code",
   "execution_count": 323,
   "id": "34299321",
   "metadata": {},
   "outputs": [],
   "source": [
    "types = [0, 1, 2]"
   ]
  },
  {
   "cell_type": "code",
   "execution_count": 316,
   "id": "55653b48",
   "metadata": {},
   "outputs": [],
   "source": [
    "obs = [[random.choice(types) for i in range(5)] for j in range(5)]\n",
    "obs[2][2] = 1"
   ]
  },
  {
   "cell_type": "code",
   "execution_count": 317,
   "id": "8bae0995",
   "metadata": {},
   "outputs": [],
   "source": [
    "array = np.array([[random.choice(types) for i in range(10)] for j in range(10)])"
   ]
  },
  {
   "cell_type": "code",
   "execution_count": 318,
   "id": "a8dd6cf4",
   "metadata": {},
   "outputs": [
    {
     "data": {
      "text/plain": [
       "array([[2, 0, 2, 0, 1, 1, 0, 1, 2, 2],\n",
       "       [2, 1, 2, 0, 0, 2, 0, 0, 0, 2],\n",
       "       [1, 1, 0, 2, 0, 0, 0, 0, 0, 1],\n",
       "       [2, 0, 2, 2, 0, 0, 0, 1, 1, 1],\n",
       "       [2, 0, 0, 2, 1, 1, 0, 1, 2, 0],\n",
       "       [1, 2, 2, 2, 0, 0, 2, 1, 0, 1],\n",
       "       [2, 1, 1, 2, 2, 1, 0, 2, 2, 2],\n",
       "       [0, 2, 1, 2, 1, 1, 2, 2, 0, 1],\n",
       "       [0, 2, 2, 1, 1, 1, 1, 2, 0, 1],\n",
       "       [2, 1, 2, 0, 2, 0, 2, 2, 1, 0]])"
      ]
     },
     "execution_count": 318,
     "metadata": {},
     "output_type": "execute_result"
    }
   ],
   "source": [
    "array"
   ]
  },
  {
   "cell_type": "markdown",
   "id": "5db4ee32",
   "metadata": {},
   "source": [
    "## Create Environment"
   ]
  },
  {
   "cell_type": "code",
   "execution_count": 324,
   "id": "4b52fb30",
   "metadata": {},
   "outputs": [],
   "source": [
    "from gym import Env\n",
    "from gym.spaces import Discrete, Box\n",
    "import random"
   ]
  },
  {
   "cell_type": "code",
   "execution_count": 353,
   "id": "234dd7d0",
   "metadata": {},
   "outputs": [],
   "source": [
    "class PPEnv(Env):\n",
    "    def __init__(self, L=10, time_limit=1000):\n",
    "        self.L = L\n",
    "        self.action_space = Discrete(5)\n",
    "        self.observation_space = [Discrete(3)] * 25\n",
    "        self.types = Discrete(3)\n",
    "        self.array = np.array([[Discrete(3).sample() for i in range(L)] for j in range(L)])\n",
    "        self.time = 0\n",
    "        self.time_limit = time_limit\n",
    "    \n",
    "    def get_obs(self, array, pos):\n",
    "        obs = []\n",
    "        i, j = pos\n",
    "        for ii in range(-2, 3, 1):\n",
    "            row = []\n",
    "            for jj in range(-2, 3, 1):\n",
    "                row.append(array[(i + ii) % L][(j + jj) % L])\n",
    "            obs.append(row)     \n",
    "        return obs\n",
    "    \n",
    "    # Jump\n",
    "    def apply_action(self, pos, action):\n",
    "        i, j = pos\n",
    "        if action == 0:\n",
    "            self.array[i][j], self.array[i][(j + 1) % L] = self.array[i][(j + 1) % L], self.array[i][j]\n",
    "        elif action == 1:\n",
    "            self.array[i][j], self.array[i][j - 1] = self.array[i][j - 1], self.array[i][j]\n",
    "        elif action == 2:\n",
    "            self.array[i][j], self.array[i - 1][j] = self.array[i - 1][j], self.array[i][j]\n",
    "        elif action == 3:\n",
    "            self.array[i][j], self.array[(i + 1) % L][j] = self.array[(i + 1) % L][j], self.array[i][j]\n",
    "    \n",
    "    def get_neighboors(self, pos):\n",
    "        adress = [\n",
    "            (i, (j + 1) % L), \n",
    "            (i, (j - 1) % L), \n",
    "            ((i - 1) % L, j), \n",
    "            ((i + 1) % L, j)\n",
    "        ]\n",
    "        right, left, up, down = self.array[adress[0][0]][adress[0][1]], self.array[adress[1][0]][adress[1][1]], self.array[adress[2][0]][adress[2][1]], self.array[adress[3][0]][adress[3][1]]\n",
    "        neighboor = [right, left, up, down]\n",
    "    \n",
    "    def step(self, action, pos):\n",
    "        ngbs = self.get_neighboors(pos)\n",
    "        obs = self.get_obs(pos, action)\n",
    "        reward = ngbs.count(2)\n",
    "        if self.time >= self.time_limit or reward == 4:\n",
    "            done = True\n",
    "        else: \n",
    "            done = False\n",
    "        info = {}\n",
    "        return obs, reward, done, info\n",
    "    \n",
    "    def render(self):\n",
    "        pass\n",
    "    \n",
    "    def reset(self):\n",
    "        pass"
   ]
  },
  {
   "cell_type": "code",
   "execution_count": 354,
   "id": "8f83db2a",
   "metadata": {},
   "outputs": [],
   "source": [
    "env = PPEnv()"
   ]
  },
  {
   "cell_type": "code",
   "execution_count": 355,
   "id": "6d5371c6",
   "metadata": {},
   "outputs": [
    {
     "data": {
      "text/plain": [
       "[Discrete(3),\n",
       " Discrete(3),\n",
       " Discrete(3),\n",
       " Discrete(3),\n",
       " Discrete(3),\n",
       " Discrete(3),\n",
       " Discrete(3),\n",
       " Discrete(3),\n",
       " Discrete(3),\n",
       " Discrete(3),\n",
       " Discrete(3),\n",
       " Discrete(3),\n",
       " Discrete(3),\n",
       " Discrete(3),\n",
       " Discrete(3),\n",
       " Discrete(3),\n",
       " Discrete(3),\n",
       " Discrete(3),\n",
       " Discrete(3),\n",
       " Discrete(3),\n",
       " Discrete(3),\n",
       " Discrete(3),\n",
       " Discrete(3),\n",
       " Discrete(3),\n",
       " Discrete(3)]"
      ]
     },
     "execution_count": 355,
     "metadata": {},
     "output_type": "execute_result"
    }
   ],
   "source": [
    "env.observation_space"
   ]
  },
  {
   "cell_type": "code",
   "execution_count": 356,
   "id": "d77ac7bf",
   "metadata": {},
   "outputs": [
    {
     "data": {
      "text/plain": [
       "1"
      ]
     },
     "execution_count": 356,
     "metadata": {},
     "output_type": "execute_result"
    }
   ],
   "source": [
    "Discrete(3).sample()"
   ]
  },
  {
   "cell_type": "code",
   "execution_count": 357,
   "id": "05d7c098",
   "metadata": {},
   "outputs": [
    {
     "data": {
      "text/plain": [
       "array([[0, 1, 2, 1, 0, 2, 2, 1, 0, 2],\n",
       "       [1, 0, 1, 2, 0, 1, 0, 0, 0, 2],\n",
       "       [2, 2, 2, 2, 0, 0, 1, 2, 0, 0],\n",
       "       [2, 2, 0, 2, 0, 1, 0, 0, 1, 0],\n",
       "       [1, 2, 2, 0, 1, 1, 2, 0, 0, 2],\n",
       "       [0, 1, 1, 1, 0, 0, 0, 0, 1, 0],\n",
       "       [1, 2, 0, 0, 0, 0, 1, 2, 1, 1],\n",
       "       [0, 2, 1, 2, 0, 2, 1, 2, 0, 1],\n",
       "       [2, 0, 2, 2, 2, 1, 1, 0, 2, 1],\n",
       "       [2, 0, 2, 2, 0, 1, 1, 2, 0, 2]])"
      ]
     },
     "execution_count": 357,
     "metadata": {},
     "output_type": "execute_result"
    }
   ],
   "source": [
    "env.array"
   ]
  },
  {
   "cell_type": "code",
   "execution_count": 358,
   "id": "a3ef1609",
   "metadata": {},
   "outputs": [],
   "source": [
    "lista = [1, 2, 1]\n"
   ]
  },
  {
   "cell_type": "code",
   "execution_count": 359,
   "id": "04745726",
   "metadata": {},
   "outputs": [
    {
     "data": {
      "text/plain": [
       "2"
      ]
     },
     "execution_count": 359,
     "metadata": {},
     "output_type": "execute_result"
    }
   ],
   "source": [
    "lista.count(1)"
   ]
  },
  {
   "cell_type": "code",
   "execution_count": null,
   "id": "9d3a9350",
   "metadata": {},
   "outputs": [],
   "source": []
  }
 ],
 "metadata": {
  "kernelspec": {
   "display_name": "Python 3 (ipykernel)",
   "language": "python",
   "name": "python3"
  },
  "language_info": {
   "codemirror_mode": {
    "name": "ipython",
    "version": 3
   },
   "file_extension": ".py",
   "mimetype": "text/x-python",
   "name": "python",
   "nbconvert_exporter": "python",
   "pygments_lexer": "ipython3",
   "version": "3.9.12"
  }
 },
 "nbformat": 4,
 "nbformat_minor": 5
}
