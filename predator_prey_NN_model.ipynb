{
 "cells": [
  {
   "cell_type": "code",
   "execution_count": 1,
   "id": "542bafaf",
   "metadata": {},
   "outputs": [],
   "source": [
    "import tensorflow as tf\n",
    "from tensorflow import keras\n",
    "from tensorflow.keras.optimizers import Adam\n",
    "import numpy as np"
   ]
  },
  {
   "cell_type": "code",
   "execution_count": 2,
   "id": "8b428a26",
   "metadata": {},
   "outputs": [],
   "source": [
    "class Policy:\n",
    "    def __init__(self):\n",
    "        self.alpha = 0.01\n",
    "        self.policy = keras.models.Sequential([\n",
    "            keras.layers.Dense(25, activation=\"relu\", input_shape=[25]),\n",
    "            keras.layers.Dense(10, activation=\"relu\"),\n",
    "            keras.layers.Dense(5, activation=\"softmax\"),\n",
    "        ])\n",
    "        self.policy.compile(optimizer=Adam(learning_rate=self.alpha))\n",
    "        \n",
    "    def __call__(self, state):\n",
    "        pi = self.policy(state)\n",
    "        return pi\n",
    "    \n",
    "def get_obs(array, pos):\n",
    "    obs = []\n",
    "    i, j = pos\n",
    "    for ii in range(-2, 3, 1):\n",
    "        row = []\n",
    "        for jj in range(-2, 3, 1):\n",
    "            row.append(array[(i + ii) % len(array)][(j + jj) % len(array)])\n",
    "        obs.append(row)     \n",
    "    return obs\n",
    "\n",
    "def apply_action(array, pos, action):\n",
    "    i, j = pos\n",
    "    if action == 0:\n",
    "        array[i][j], array[i][(j + 1) % len(array)] = array[i][(j + 1) % len(array)], array[i][j]\n",
    "    elif action == 1:\n",
    "        array[i][j], array[i][(j - 1)] = array[i][(j - 1)], array[i][j]\n",
    "    elif action == 2:\n",
    "        array[i][j], array[i - 1][j] = array[i - 1][j], array[i][j]\n",
    "    elif action == 3:\n",
    "        array[i][j], array[i + 1][j] = array[(i + 1) % len(array)][j], array[i][j]"
   ]
  },
  {
   "cell_type": "code",
   "execution_count": 3,
   "id": "dcb79bd7",
   "metadata": {},
   "outputs": [],
   "source": [
    "import gym\n",
    "import random"
   ]
  },
  {
   "cell_type": "code",
   "execution_count": 4,
   "id": "da001ff7",
   "metadata": {},
   "outputs": [],
   "source": [
    "types = [0, 1, 2]"
   ]
  },
  {
   "cell_type": "code",
   "execution_count": 5,
   "id": "771497b4",
   "metadata": {},
   "outputs": [],
   "source": [
    "obs = [[random.choice(types) for i in range(5)] for j in range(5)]\n",
    "obs[2][2] = 1"
   ]
  },
  {
   "cell_type": "code",
   "execution_count": 6,
   "id": "e1e68808",
   "metadata": {},
   "outputs": [],
   "source": [
    "array = np.array([[random.choice(types) for i in range(10)] for j in range(10)])"
   ]
  },
  {
   "cell_type": "code",
   "execution_count": 7,
   "id": "155fbcac",
   "metadata": {},
   "outputs": [
    {
     "data": {
      "text/plain": [
       "array([[0, 1, 1, 0, 1, 0, 2, 0, 2, 1],\n",
       "       [0, 1, 0, 0, 1, 0, 0, 0, 1, 0],\n",
       "       [0, 2, 2, 2, 1, 0, 0, 1, 2, 1],\n",
       "       [1, 0, 1, 1, 2, 0, 2, 2, 1, 1],\n",
       "       [1, 2, 2, 1, 0, 2, 1, 2, 0, 0],\n",
       "       [1, 0, 2, 1, 0, 0, 0, 2, 1, 1],\n",
       "       [2, 0, 2, 0, 2, 1, 1, 0, 1, 2],\n",
       "       [2, 2, 1, 1, 2, 0, 1, 0, 2, 2],\n",
       "       [0, 2, 1, 1, 0, 1, 1, 2, 0, 0],\n",
       "       [0, 1, 1, 1, 0, 2, 0, 2, 1, 2]])"
      ]
     },
     "execution_count": 7,
     "metadata": {},
     "output_type": "execute_result"
    }
   ],
   "source": [
    "array"
   ]
  },
  {
   "cell_type": "markdown",
   "id": "d4fda7bb",
   "metadata": {},
   "source": [
    "## Create Environment"
   ]
  },
  {
   "cell_type": "code",
   "execution_count": 8,
   "id": "a99a6a19",
   "metadata": {},
   "outputs": [],
   "source": [
    "from gym import Env\n",
    "from gym.spaces import Discrete, Box, MultiDiscrete\n",
    "import random"
   ]
  },
  {
   "cell_type": "code",
   "execution_count": 9,
   "id": "fadabffa",
   "metadata": {},
   "outputs": [],
   "source": [
    "'''\n",
    "Lets create environment that we have just onde predator in initial middle of table\n",
    "'''\n",
    "class PPEnv(Env):\n",
    "    def __init__(self, L=5, time_limit=40, pos=(0, 0)):\n",
    "        self.L = L\n",
    "        self.pos = (self.L // 2, self.L // 2)\n",
    "        self.action_space = Discrete(4)\n",
    "        self.obs_shape = (5, 5)\n",
    "        self.observation_space = MultiDiscrete(np.array([[3 for i in range(5)] for j in range(5)]))\n",
    "        self.types = Discrete(3)\n",
    "        self.array = np.array([[Discrete(2).sample() * 2 for i in range(self.L)] for j in range(self.L)])\n",
    "        # Put one predator\n",
    "        self.array[self.pos[0], self.pos[1]] = 1               \n",
    "        self.time = 0\n",
    "        self.time_limit = time_limit\n",
    "    \n",
    "    def get_obs(self):\n",
    "        obs = []\n",
    "        i, j = self.pos\n",
    "        for ii in range(-2, 3, 1):\n",
    "            row = []\n",
    "            for jj in range(-2, 3, 1):\n",
    "                row.append(self.array[(i + ii) % self.L][(j + jj) % self.L])\n",
    "            obs.append(row)     \n",
    "        return np.array(obs)\n",
    "    \n",
    "    # Jump\n",
    "    def apply_action(self, action):\n",
    "        i, j = self.pos\n",
    "        L = self.L\n",
    "        if action == 0:\n",
    "            self.array[i][j], self.array[i][(j + 1) % L] = self.array[i][(j + 1) % L], self.array[i][j]\n",
    "            self.pos = (i, (j + 1) % L)\n",
    "        elif action == 1:\n",
    "            self.array[i][j], self.array[i][(j - 1) % L] = self.array[i][(j - 1) % L], self.array[i][j]\n",
    "            self.pos = (i, (j - 1) % L)\n",
    "        elif action == 2:\n",
    "            self.array[i][j], self.array[(i - 1) % L][j] = self.array[(i - 1) % L][j], self.array[i][j]\n",
    "            self.pos = ((i - 1) % L, j)\n",
    "        elif action == 3:\n",
    "            self.array[i][j], self.array[(i + 1) % L][j] = self.array[(i + 1) % L][j], self.array[i][j]\n",
    "            self.pos = ((i + 1) % L, j)\n",
    "    \n",
    "    def get_neighboors(self):\n",
    "        i, j = self.pos\n",
    "        adress = [\n",
    "            (i, (j + 1) % self.L), \n",
    "            (i, (j - 1) % self.L), \n",
    "            ((i - 1) % self.L, j), \n",
    "            ((i + 1) % self.L, j)\n",
    "        ]\n",
    "        right, left, up, down = self.array[adress[0][0]][adress[0][1]], self.array[adress[1][0]][adress[1][1]], self.array[adress[2][0]][adress[2][1]], self.array[adress[3][0]][adress[3][1]]\n",
    "        return [right, left, up, down]\n",
    "    \n",
    "    def step(self, action):\n",
    "        # Get obs\n",
    "        obs = self.get_obs()\n",
    "        \n",
    "        # Colect reward\n",
    "        ngbs = [obs[2][2 + 1], obs[2][2 - 1], obs[2 - 1][2], obs[2 + 1][2]] #self.get_neighboors()\n",
    "        reward = 2 ** ngbs.count(2)\n",
    "        \n",
    "        # Get info\n",
    "        info = {}\n",
    "        \n",
    "        # Check if done\n",
    "        if self.time >= self.time_limit:\n",
    "            done = True\n",
    "            return obs, reward, done, info\n",
    "        else: \n",
    "            done = False\n",
    "            \n",
    "        # apply action\n",
    "        self.apply_action(action)\n",
    "        self.time += 1\n",
    "        return obs, reward, done, info\n",
    "    \n",
    "    def render(self):\n",
    "        print('-' * self.L)\n",
    "        print(self.array)\n",
    "        print('-' * self.L)\n",
    "    \n",
    "    def reset(self):\n",
    "        self.pos = (self.L // 2, self.L // 2)\n",
    "        self.action_space = Discrete(4)\n",
    "        self.observation_space = MultiDiscrete(np.array([[3 for i in range(5)] for j in range(5)]))\n",
    "        self.types = Discrete(3)\n",
    "        self.array = np.array([[Discrete(2).sample() * 2 for i in range(self.L)] for j in range(self.L)])\n",
    "        # Put one predator\n",
    "        self.array[self.pos[0], self.pos[1]] = 1               \n",
    "        self.time = 0\n",
    "        return np.array(self.get_obs())"
   ]
  },
  {
   "cell_type": "code",
   "execution_count": 10,
   "id": "126bc534",
   "metadata": {},
   "outputs": [],
   "source": [
    "env = PPEnv()"
   ]
  },
  {
   "cell_type": "code",
   "execution_count": 11,
   "id": "cc5d7a4d",
   "metadata": {},
   "outputs": [],
   "source": [
    "obs = env.reset()\n",
    "env.apply_action(0)"
   ]
  },
  {
   "cell_type": "code",
   "execution_count": 12,
   "id": "f697032b",
   "metadata": {},
   "outputs": [
    {
     "data": {
      "text/plain": [
       "1"
      ]
     },
     "execution_count": 12,
     "metadata": {},
     "output_type": "execute_result"
    }
   ],
   "source": [
    "env.action_space.sample()"
   ]
  },
  {
   "cell_type": "markdown",
   "id": "ae36a41d",
   "metadata": {},
   "source": [
    "### Testing environment"
   ]
  },
  {
   "cell_type": "code",
   "execution_count": 13,
   "id": "3efdb1d4",
   "metadata": {},
   "outputs": [],
   "source": [
    "render = False"
   ]
  },
  {
   "cell_type": "code",
   "execution_count": 14,
   "id": "3b587af9",
   "metadata": {},
   "outputs": [
    {
     "name": "stdout",
     "output_type": "stream",
     "text": [
      "Ep: 0 || Score: 256\n",
      "Ep: 1 || Score: 292\n",
      "Ep: 2 || Score: 168\n",
      "Ep: 3 || Score: 214\n",
      "Ep: 4 || Score: 129\n",
      "Ep: 5 || Score: 184\n",
      "Ep: 6 || Score: 155\n",
      "Ep: 7 || Score: 215\n",
      "Ep: 8 || Score: 183\n",
      "Ep: 9 || Score: 172\n",
      "Ep: 10 || Score: 293\n",
      "Ep: 11 || Score: 177\n",
      "Ep: 12 || Score: 158\n",
      "Ep: 13 || Score: 144\n",
      "Ep: 14 || Score: 252\n",
      "Ep: 15 || Score: 211\n",
      "Ep: 16 || Score: 113\n",
      "Ep: 17 || Score: 211\n",
      "Ep: 18 || Score: 229\n",
      "Ep: 19 || Score: 195\n",
      "Ep: 20 || Score: 312\n",
      "Ep: 21 || Score: 210\n",
      "Ep: 22 || Score: 202\n",
      "Ep: 23 || Score: 258\n",
      "Ep: 24 || Score: 239\n",
      "Ep: 25 || Score: 176\n",
      "Ep: 26 || Score: 147\n",
      "Ep: 27 || Score: 200\n",
      "Ep: 28 || Score: 163\n",
      "Ep: 29 || Score: 316\n",
      "Ep: 30 || Score: 217\n",
      "Ep: 31 || Score: 152\n",
      "Ep: 32 || Score: 169\n",
      "Ep: 33 || Score: 164\n",
      "Ep: 34 || Score: 241\n",
      "Ep: 35 || Score: 239\n",
      "Ep: 36 || Score: 76\n",
      "Ep: 37 || Score: 257\n",
      "Ep: 38 || Score: 179\n",
      "Ep: 39 || Score: 219\n",
      "Ep: 40 || Score: 181\n",
      "Ep: 41 || Score: 308\n",
      "Ep: 42 || Score: 165\n",
      "Ep: 43 || Score: 214\n",
      "Ep: 44 || Score: 394\n",
      "Ep: 45 || Score: 215\n",
      "Ep: 46 || Score: 173\n",
      "Ep: 47 || Score: 127\n",
      "Ep: 48 || Score: 233\n",
      "Ep: 49 || Score: 122\n",
      "Ep: 50 || Score: 192\n",
      "Ep: 51 || Score: 436\n",
      "Ep: 52 || Score: 314\n",
      "Ep: 53 || Score: 243\n",
      "Ep: 54 || Score: 156\n",
      "Ep: 55 || Score: 186\n",
      "Ep: 56 || Score: 183\n",
      "Ep: 57 || Score: 274\n",
      "Ep: 58 || Score: 129\n",
      "Ep: 59 || Score: 184\n",
      "Ep: 60 || Score: 202\n",
      "Ep: 61 || Score: 198\n",
      "Ep: 62 || Score: 131\n",
      "Ep: 63 || Score: 173\n",
      "Ep: 64 || Score: 164\n",
      "Ep: 65 || Score: 290\n",
      "Ep: 66 || Score: 171\n",
      "Ep: 67 || Score: 180\n",
      "Ep: 68 || Score: 186\n",
      "Ep: 69 || Score: 211\n",
      "Ep: 70 || Score: 194\n",
      "Ep: 71 || Score: 137\n",
      "Ep: 72 || Score: 179\n",
      "Ep: 73 || Score: 192\n",
      "Ep: 74 || Score: 288\n",
      "Ep: 75 || Score: 183\n",
      "Ep: 76 || Score: 210\n",
      "Ep: 77 || Score: 141\n",
      "Ep: 78 || Score: 168\n",
      "Ep: 79 || Score: 220\n",
      "Ep: 80 || Score: 400\n",
      "Ep: 81 || Score: 177\n",
      "Ep: 82 || Score: 177\n",
      "Ep: 83 || Score: 258\n",
      "Ep: 84 || Score: 208\n",
      "Ep: 85 || Score: 209\n",
      "Ep: 86 || Score: 107\n",
      "Ep: 87 || Score: 228\n",
      "Ep: 88 || Score: 170\n",
      "Ep: 89 || Score: 195\n",
      "Ep: 90 || Score: 157\n",
      "Ep: 91 || Score: 201\n",
      "Ep: 92 || Score: 239\n",
      "Ep: 93 || Score: 164\n",
      "Ep: 94 || Score: 266\n",
      "Ep: 95 || Score: 372\n",
      "Ep: 96 || Score: 227\n",
      "Ep: 97 || Score: 240\n",
      "Ep: 98 || Score: 324\n",
      "Ep: 99 || Score: 195\n"
     ]
    }
   ],
   "source": [
    "episodes = 100\n",
    "for ep in range(episodes):\n",
    "    obs = env.reset()\n",
    "    done = False\n",
    "    score = 0\n",
    "    while not done:\n",
    "        obs, rew, done, info = env.step(env.action_space.sample())\n",
    "        if render:\n",
    "            env.render()\n",
    "        score += rew\n",
    "    print(f\"Ep: {ep} || Score: {score}\")"
   ]
  },
  {
   "cell_type": "code",
   "execution_count": 15,
   "id": "2aa64ba6",
   "metadata": {},
   "outputs": [
    {
     "data": {
      "text/plain": [
       "(25,)"
      ]
     },
     "execution_count": 15,
     "metadata": {},
     "output_type": "execute_result"
    }
   ],
   "source": [
    "np.array([Discrete(3)] * 25).shape"
   ]
  },
  {
   "cell_type": "code",
   "execution_count": 16,
   "id": "c872f175",
   "metadata": {},
   "outputs": [
    {
     "data": {
      "text/plain": [
       "1"
      ]
     },
     "execution_count": 16,
     "metadata": {},
     "output_type": "execute_result"
    }
   ],
   "source": [
    "MultiDiscrete(2).sample()"
   ]
  },
  {
   "cell_type": "markdown",
   "id": "120d1865",
   "metadata": {},
   "source": [
    "## PPO stablebaselines"
   ]
  },
  {
   "cell_type": "code",
   "execution_count": 630,
   "id": "d13e6c87",
   "metadata": {},
   "outputs": [],
   "source": [
    "import os\n",
    "from stable_baselines3 import PPO\n",
    "from stable_baselines3.common.vec_env import DummyVecEnv\n",
    "from stable_baselines3.common.evaluation import evaluate_policy"
   ]
  },
  {
   "cell_type": "markdown",
   "id": "2ae7ef56",
   "metadata": {},
   "source": [
    "## Treinando o modelo"
   ]
  },
  {
   "cell_type": "code",
   "execution_count": 631,
   "id": "f97384d1",
   "metadata": {},
   "outputs": [],
   "source": [
    "log_path = os.path.join('Training', 'PP_0')"
   ]
  },
  {
   "cell_type": "code",
   "execution_count": 632,
   "id": "de2be019",
   "metadata": {},
   "outputs": [
    {
     "data": {
      "text/plain": [
       "'Training\\\\PP_0'"
      ]
     },
     "execution_count": 632,
     "metadata": {},
     "output_type": "execute_result"
    }
   ],
   "source": [
    "log_path"
   ]
  },
  {
   "cell_type": "code",
   "execution_count": 633,
   "id": "b5518f1c",
   "metadata": {},
   "outputs": [
    {
     "data": {
      "text/plain": [
       "<__main__.PPEnv at 0x1bc4d7e0790>"
      ]
     },
     "execution_count": 633,
     "metadata": {},
     "output_type": "execute_result"
    }
   ],
   "source": [
    "env"
   ]
  },
  {
   "cell_type": "markdown",
   "id": "114cfe87",
   "metadata": {},
   "source": [
    "## Genetic"
   ]
  },
  {
   "cell_type": "code",
   "execution_count": 17,
   "id": "573f15ba",
   "metadata": {},
   "outputs": [],
   "source": [
    "env = PPEnv()"
   ]
  },
  {
   "cell_type": "code",
   "execution_count": 23,
   "id": "15f90502",
   "metadata": {},
   "outputs": [],
   "source": [
    "from tqdm import tqdm\n",
    "import random\n",
    "\n",
    "num_models = 100\n",
    "num_generations = 100\n",
    "nb_of_simulations = 10\n",
    "fraction = 0.2"
   ]
  },
  {
   "cell_type": "code",
   "execution_count": 27,
   "id": "a2d745a9",
   "metadata": {},
   "outputs": [],
   "source": [
    "class NeuralModel:\n",
    "\n",
    "    @staticmethod\n",
    "    def get_random_params(obs_size, act_size):\n",
    "        \n",
    "#         return [\n",
    "#             np.random.randn(obs_size, obs_size + 1),\n",
    "#             np.zeros(obs_size + 1),\n",
    "#             np.random.randn(obs_size + 1, act_size),\n",
    "#             np.zeros(act_size),\n",
    "#         ]\n",
    "        return [\n",
    "            np.random.randn(25, 25),\n",
    "            np.zeros(25),\n",
    "            \n",
    "            np.random.randn(25, 25),\n",
    "            np.zeros(25),\n",
    "            \n",
    "            np.random.randn(25, 4),\n",
    "            np.zeros(4),\n",
    "        ]\n",
    "        \n",
    "\n",
    "    def __init__(self, obs_act_sizes, params=None):\n",
    "        self.obs_act_sizes = obs_act_sizes\n",
    "        obs_size, act_size = self.obs_act_sizes\n",
    "#         obs_size = len(env.observation_space.sample())\n",
    "#         act_size = env.action_space.n\n",
    "        if not params:\n",
    "            params = self.get_random_params(obs_size, act_size)\n",
    "\n",
    "        n_inputs = obs_size  # env.observation_space.shape[0]\n",
    "        self.model = keras.models.Sequential([\n",
    "            \n",
    "#             keras.layers.Dense(obs_size + 1, activation=\"elu\", input_shape=[n_inputs]),\n",
    "#             keras.layers.Dense(act_size, activation=\"softmax\"),\n",
    "            \n",
    "            keras.layers.Dense(25, activation=\"relu\", input_shape=[25]),\n",
    "            keras.layers.Dense(25, activation=\"relu\"),\n",
    "            keras.layers.Dense(4, activation=\"softmax\"),\n",
    "            \n",
    "        ])\n",
    "        \n",
    "        self.model.compile()\n",
    "\n",
    "        self.model.set_weights(params)\n",
    "\n",
    "    def __call__(self, obs):\n",
    "        return self.model(obs)\n",
    "\n",
    "    def make_offspring(self):\n",
    "        weights = self.model.get_weights()\n",
    "        \n",
    "#         new_weights = [w + np.random.randn(w.shape) for w in weights]\n",
    "        new_weights = []\n",
    "        for w in weights:\n",
    "            if len(w.shape) == 2:\n",
    "                new_weights.append(w + np.random.randn(w.shape[0], w.shape[1])/10)\n",
    "            else:\n",
    "                new_weights.append(w)\n",
    "        #print(new_weights)\n",
    "        \n",
    "        return NeuralModel(self.obs_act_sizes, params=new_weights)"
   ]
  },
  {
   "cell_type": "code",
   "execution_count": 28,
   "id": "b1c46bbb",
   "metadata": {},
   "outputs": [
    {
     "name": "stdout",
     "output_type": "stream",
     "text": [
      "(25, 4)\n"
     ]
    }
   ],
   "source": [
    "def run_simulation(model, nb_of_simulations=10):\n",
    "\n",
    "    total_reward = 0\n",
    "    steps = 0\n",
    "    for _ in range(nb_of_simulations):\n",
    "        \n",
    "        observation = env.reset().reshape(1,-1) #seed=random.randrange(1000))\n",
    "        done = False\n",
    "\n",
    "        while not done:\n",
    "            action = model.model(observation).numpy().argmax()\n",
    "            observation, reward, done, info = env.step(action)\n",
    "            observation = observation.reshape(1,-1)\n",
    "            total_reward += reward\n",
    "            steps += 1\n",
    "#             env.render()\n",
    "    #env.close()\n",
    "    return total_reward / nb_of_simulations, steps\n",
    "\n",
    "obs_act_sizes = (len(env.observation_space.sample()) ** 2, env.action_space.n)\n",
    "models = [NeuralModel(obs_act_sizes) for _ in range(num_models)]\n",
    "print(obs_act_sizes)"
   ]
  },
  {
   "cell_type": "code",
   "execution_count": 29,
   "id": "9c199e56",
   "metadata": {},
   "outputs": [
    {
     "data": {
      "text/plain": [
       "array([[0, 0, 1, 0, 2],\n",
       "       [1, 2, 1, 0, 2],\n",
       "       [1, 0, 0, 1, 1],\n",
       "       [1, 0, 1, 1, 2],\n",
       "       [0, 0, 1, 0, 0]], dtype=int64)"
      ]
     },
     "execution_count": 29,
     "metadata": {},
     "output_type": "execute_result"
    }
   ],
   "source": [
    "env.observation_space.sample()"
   ]
  },
  {
   "cell_type": "code",
   "execution_count": 30,
   "id": "ceeee314",
   "metadata": {
    "scrolled": true
   },
   "outputs": [
    {
     "name": "stderr",
     "output_type": "stream",
     "text": [
      "\r",
      "  0%|                                                                                          | 0/100 [00:00<?, ?it/s]"
     ]
    },
    {
     "name": "stdout",
     "output_type": "stream",
     "text": [
      "41000 207.3029999999999 269.1 410.0\n"
     ]
    },
    {
     "name": "stderr",
     "output_type": "stream",
     "text": [
      "\r",
      "  1%|▊                                                                               | 1/100 [00:56<1:32:48, 56.25s/it]"
     ]
    },
    {
     "name": "stdout",
     "output_type": "stream",
     "text": [
      "82000 221.85899999999995 317.3 410.0\n"
     ]
    },
    {
     "name": "stderr",
     "output_type": "stream",
     "text": [
      "\r",
      "  2%|█▌                                                                              | 2/100 [02:04<1:43:50, 63.58s/it]"
     ]
    },
    {
     "name": "stdout",
     "output_type": "stream",
     "text": [
      "123000 227.51100000000002 346.2 410.0\n"
     ]
    },
    {
     "name": "stderr",
     "output_type": "stream",
     "text": [
      "\r",
      "  3%|██▍                                                                             | 3/100 [03:06<1:41:06, 62.54s/it]"
     ]
    },
    {
     "name": "stdout",
     "output_type": "stream",
     "text": [
      "164000 240.15099999999995 333.4 410.0\n"
     ]
    },
    {
     "name": "stderr",
     "output_type": "stream",
     "text": [
      "\r",
      "  4%|███▏                                                                            | 4/100 [04:07<1:39:21, 62.10s/it]"
     ]
    },
    {
     "name": "stdout",
     "output_type": "stream",
     "text": [
      "205000 256.76400000000007 369.8 410.0\n"
     ]
    },
    {
     "name": "stderr",
     "output_type": "stream",
     "text": [
      "\r",
      "  5%|████                                                                            | 5/100 [05:04<1:35:23, 60.25s/it]"
     ]
    },
    {
     "name": "stdout",
     "output_type": "stream",
     "text": [
      "246000 253.71799999999996 351.1 410.0\n"
     ]
    },
    {
     "name": "stderr",
     "output_type": "stream",
     "text": [
      "\r",
      "  6%|████▊                                                                           | 6/100 [06:04<1:33:57, 59.97s/it]"
     ]
    },
    {
     "name": "stdout",
     "output_type": "stream",
     "text": [
      "287000 266.324 360.1 410.0\n"
     ]
    },
    {
     "name": "stderr",
     "output_type": "stream",
     "text": [
      "\r",
      "  7%|█████▌                                                                          | 7/100 [07:04<1:33:01, 60.02s/it]"
     ]
    },
    {
     "name": "stdout",
     "output_type": "stream",
     "text": [
      "328000 261.013 357.1 410.0\n"
     ]
    },
    {
     "name": "stderr",
     "output_type": "stream",
     "text": [
      "\r",
      "  8%|██████▍                                                                         | 8/100 [07:59<1:29:52, 58.61s/it]"
     ]
    },
    {
     "name": "stdout",
     "output_type": "stream",
     "text": [
      "369000 262.283 397.9 410.0\n"
     ]
    },
    {
     "name": "stderr",
     "output_type": "stream",
     "text": [
      "\r",
      "  9%|███████▏                                                                        | 9/100 [09:00<1:29:53, 59.27s/it]"
     ]
    },
    {
     "name": "stdout",
     "output_type": "stream",
     "text": [
      "410000 265.96400000000006 360.1 410.0\n"
     ]
    },
    {
     "name": "stderr",
     "output_type": "stream",
     "text": [
      "\r",
      " 10%|███████▉                                                                       | 10/100 [09:56<1:27:34, 58.38s/it]"
     ]
    },
    {
     "name": "stdout",
     "output_type": "stream",
     "text": [
      "451000 259.0819999999999 359.5 410.0\n"
     ]
    },
    {
     "name": "stderr",
     "output_type": "stream",
     "text": [
      "\r",
      " 11%|████████▋                                                                      | 11/100 [10:52<1:25:28, 57.62s/it]"
     ]
    },
    {
     "name": "stdout",
     "output_type": "stream",
     "text": [
      "492000 269.13400000000007 370.0 410.0\n"
     ]
    },
    {
     "name": "stderr",
     "output_type": "stream",
     "text": [
      "\r",
      " 12%|█████████▍                                                                     | 12/100 [11:49<1:24:15, 57.45s/it]"
     ]
    },
    {
     "name": "stdout",
     "output_type": "stream",
     "text": [
      "533000 267.197 356.8 410.0\n"
     ]
    },
    {
     "name": "stderr",
     "output_type": "stream",
     "text": [
      "\r",
      " 13%|██████████▎                                                                    | 13/100 [12:52<1:25:27, 58.94s/it]"
     ]
    },
    {
     "name": "stdout",
     "output_type": "stream",
     "text": [
      "574000 272.00300000000004 402.8 410.0\n"
     ]
    },
    {
     "name": "stderr",
     "output_type": "stream",
     "text": [
      "\r",
      " 14%|███████████                                                                    | 14/100 [13:56<1:26:42, 60.50s/it]"
     ]
    },
    {
     "name": "stdout",
     "output_type": "stream",
     "text": [
      "615000 265.33700000000016 334.7 410.0\n"
     ]
    },
    {
     "name": "stderr",
     "output_type": "stream",
     "text": [
      "\r",
      " 15%|███████████▊                                                                   | 15/100 [14:52<1:23:56, 59.25s/it]"
     ]
    },
    {
     "name": "stdout",
     "output_type": "stream",
     "text": [
      "656000 263.8930000000001 361.6 410.0\n"
     ]
    },
    {
     "name": "stderr",
     "output_type": "stream",
     "text": [
      "\r",
      " 16%|████████████▋                                                                  | 16/100 [15:48<1:21:27, 58.18s/it]"
     ]
    },
    {
     "name": "stdout",
     "output_type": "stream",
     "text": [
      "697000 269.06500000000005 378.5 410.0\n"
     ]
    },
    {
     "name": "stderr",
     "output_type": "stream",
     "text": [
      "\r",
      " 17%|█████████████▍                                                                 | 17/100 [17:03<1:27:43, 63.42s/it]"
     ]
    },
    {
     "name": "stdout",
     "output_type": "stream",
     "text": [
      "738000 268.96299999999997 411.0 410.0\n"
     ]
    },
    {
     "name": "stderr",
     "output_type": "stream",
     "text": [
      "\r",
      " 18%|██████████████▏                                                                | 18/100 [18:24<1:33:42, 68.57s/it]"
     ]
    },
    {
     "name": "stdout",
     "output_type": "stream",
     "text": [
      "779000 275.443 373.6 410.0\n"
     ]
    },
    {
     "name": "stderr",
     "output_type": "stream",
     "text": [
      "\r",
      " 19%|███████████████                                                                | 19/100 [19:44<1:37:14, 72.04s/it]"
     ]
    },
    {
     "name": "stdout",
     "output_type": "stream",
     "text": [
      "820000 267.79400000000004 373.8 410.0\n"
     ]
    },
    {
     "name": "stderr",
     "output_type": "stream",
     "text": [
      "\r",
      " 20%|███████████████▊                                                               | 20/100 [21:02<1:38:34, 73.93s/it]"
     ]
    },
    {
     "name": "stdout",
     "output_type": "stream",
     "text": [
      "861000 277.964 388.4 410.0\n"
     ]
    },
    {
     "name": "stderr",
     "output_type": "stream",
     "text": [
      "\r",
      " 21%|████████████████▌                                                              | 21/100 [22:14<1:36:27, 73.26s/it]"
     ]
    },
    {
     "name": "stdout",
     "output_type": "stream",
     "text": [
      "902000 277.966 372.1 410.0\n"
     ]
    },
    {
     "name": "stderr",
     "output_type": "stream",
     "text": [
      "\r",
      " 22%|█████████████████▍                                                             | 22/100 [23:12<1:29:20, 68.73s/it]"
     ]
    },
    {
     "name": "stdout",
     "output_type": "stream",
     "text": [
      "943000 274.668 378.2 410.0\n"
     ]
    },
    {
     "name": "stderr",
     "output_type": "stream",
     "text": [
      "\r",
      " 23%|██████████████████▏                                                            | 23/100 [24:13<1:24:54, 66.17s/it]"
     ]
    },
    {
     "name": "stdout",
     "output_type": "stream",
     "text": [
      "984000 279.915 381.1 410.0\n"
     ]
    },
    {
     "name": "stderr",
     "output_type": "stream",
     "text": [
      "\r",
      " 24%|██████████████████▉                                                            | 24/100 [25:10<1:20:21, 63.44s/it]"
     ]
    },
    {
     "name": "stdout",
     "output_type": "stream",
     "text": [
      "1025000 267.2129999999999 375.7 410.0\n"
     ]
    },
    {
     "name": "stderr",
     "output_type": "stream",
     "text": [
      "\r",
      " 25%|███████████████████▊                                                           | 25/100 [26:05<1:16:19, 61.06s/it]"
     ]
    },
    {
     "name": "stdout",
     "output_type": "stream",
     "text": [
      "1066000 287.6430000000001 384.0 410.0\n"
     ]
    },
    {
     "name": "stderr",
     "output_type": "stream",
     "text": [
      "\r",
      " 26%|████████████████████▌                                                          | 26/100 [27:09<1:16:24, 61.95s/it]"
     ]
    },
    {
     "name": "stdout",
     "output_type": "stream",
     "text": [
      "1107000 269.1819999999999 347.0 410.0\n"
     ]
    },
    {
     "name": "stderr",
     "output_type": "stream",
     "text": [
      "\r",
      " 27%|█████████████████████▎                                                         | 27/100 [28:06<1:13:38, 60.53s/it]"
     ]
    },
    {
     "name": "stdout",
     "output_type": "stream",
     "text": [
      "1148000 284.1309999999999 407.2 410.0\n"
     ]
    },
    {
     "name": "stderr",
     "output_type": "stream",
     "text": [
      "\r",
      " 28%|██████████████████████                                                         | 28/100 [29:29<1:20:32, 67.12s/it]"
     ]
    },
    {
     "name": "stdout",
     "output_type": "stream",
     "text": [
      "1189000 274.74800000000016 376.6 410.0\n"
     ]
    },
    {
     "name": "stderr",
     "output_type": "stream",
     "text": [
      "\r",
      " 29%|██████████████████████▉                                                        | 29/100 [30:50<1:24:13, 71.17s/it]"
     ]
    },
    {
     "name": "stdout",
     "output_type": "stream",
     "text": [
      "1230000 277.842 379.3 410.0\n"
     ]
    },
    {
     "name": "stderr",
     "output_type": "stream",
     "text": [
      "\r",
      " 30%|███████████████████████▋                                                       | 30/100 [32:10<1:26:17, 73.97s/it]"
     ]
    },
    {
     "name": "stdout",
     "output_type": "stream",
     "text": [
      "1271000 272.8990000000001 371.4 410.0\n"
     ]
    },
    {
     "name": "stderr",
     "output_type": "stream",
     "text": [
      "\r",
      " 31%|████████████████████████▍                                                      | 31/100 [33:27<1:26:16, 75.02s/it]"
     ]
    },
    {
     "name": "stdout",
     "output_type": "stream",
     "text": [
      "1312000 273.217 370.7 410.0\n"
     ]
    },
    {
     "name": "stderr",
     "output_type": "stream",
     "text": [
      "\r",
      " 32%|█████████████████████████▎                                                     | 32/100 [34:46<1:26:12, 76.07s/it]"
     ]
    },
    {
     "name": "stdout",
     "output_type": "stream",
     "text": [
      "1353000 280.07499999999993 386.4 410.0\n"
     ]
    },
    {
     "name": "stderr",
     "output_type": "stream",
     "text": [
      "\r",
      " 33%|██████████████████████████                                                     | 33/100 [36:10<1:27:31, 78.37s/it]"
     ]
    },
    {
     "name": "stdout",
     "output_type": "stream",
     "text": [
      "1394000 278.75899999999996 416.7 410.0\n"
     ]
    },
    {
     "name": "stderr",
     "output_type": "stream",
     "text": [
      "\r",
      " 34%|██████████████████████████▊                                                    | 34/100 [37:29<1:26:24, 78.55s/it]"
     ]
    },
    {
     "name": "stdout",
     "output_type": "stream",
     "text": [
      "1435000 274.31600000000003 378.6 410.0\n"
     ]
    },
    {
     "name": "stderr",
     "output_type": "stream",
     "text": [
      "\r",
      " 35%|███████████████████████████▋                                                   | 35/100 [38:57<1:28:11, 81.41s/it]"
     ]
    },
    {
     "name": "stdout",
     "output_type": "stream",
     "text": [
      "1476000 276.899 367.6 410.0\n"
     ]
    },
    {
     "name": "stderr",
     "output_type": "stream",
     "text": [
      "\r",
      " 36%|████████████████████████████▍                                                  | 36/100 [40:24<1:28:47, 83.24s/it]"
     ]
    },
    {
     "name": "stdout",
     "output_type": "stream",
     "text": [
      "1517000 268.75099999999986 342.5 410.0\n"
     ]
    },
    {
     "name": "stderr",
     "output_type": "stream",
     "text": [
      "\r",
      " 37%|█████████████████████████████▏                                                 | 37/100 [41:44<1:26:18, 82.20s/it]"
     ]
    },
    {
     "name": "stdout",
     "output_type": "stream",
     "text": [
      "1558000 278.26300000000015 370.5 410.0\n"
     ]
    },
    {
     "name": "stderr",
     "output_type": "stream",
     "text": [
      "\r",
      " 38%|██████████████████████████████                                                 | 38/100 [43:02<1:23:40, 80.98s/it]"
     ]
    },
    {
     "name": "stdout",
     "output_type": "stream",
     "text": [
      "1599000 276.60799999999995 404.0 410.0\n"
     ]
    },
    {
     "name": "stderr",
     "output_type": "stream",
     "text": [
      "\r",
      " 39%|██████████████████████████████▊                                                | 39/100 [44:21<1:21:45, 80.41s/it]"
     ]
    },
    {
     "name": "stdout",
     "output_type": "stream",
     "text": [
      "1640000 278.5439999999999 405.6 410.0\n"
     ]
    },
    {
     "name": "stderr",
     "output_type": "stream",
     "text": [
      "\r",
      " 40%|███████████████████████████████▌                                               | 40/100 [45:40<1:20:01, 80.02s/it]"
     ]
    },
    {
     "name": "stdout",
     "output_type": "stream",
     "text": [
      "1681000 285.99600000000015 414.7 410.0\n"
     ]
    },
    {
     "name": "stderr",
     "output_type": "stream",
     "text": [
      "\r",
      " 41%|████████████████████████████████▍                                              | 41/100 [47:07<1:20:43, 82.10s/it]"
     ]
    },
    {
     "name": "stdout",
     "output_type": "stream",
     "text": [
      "1722000 281.1530000000001 388.6 410.0\n"
     ]
    },
    {
     "name": "stderr",
     "output_type": "stream",
     "text": [
      "\r",
      " 42%|█████████████████████████████████▏                                             | 42/100 [48:13<1:14:43, 77.30s/it]"
     ]
    },
    {
     "name": "stdout",
     "output_type": "stream",
     "text": [
      "1763000 278.70000000000016 359.7 410.0\n"
     ]
    },
    {
     "name": "stderr",
     "output_type": "stream",
     "text": [
      "\r",
      " 43%|█████████████████████████████████▉                                             | 43/100 [49:17<1:09:28, 73.13s/it]"
     ]
    },
    {
     "name": "stdout",
     "output_type": "stream",
     "text": [
      "1804000 282.76300000000003 397.5 410.0\n"
     ]
    },
    {
     "name": "stderr",
     "output_type": "stream",
     "text": [
      "\r",
      " 44%|██████████████████████████████████▊                                            | 44/100 [50:22<1:06:03, 70.78s/it]"
     ]
    },
    {
     "name": "stdout",
     "output_type": "stream",
     "text": [
      "1845000 284.45099999999996 378.5 410.0\n"
     ]
    },
    {
     "name": "stderr",
     "output_type": "stream",
     "text": [
      "\r",
      " 45%|███████████████████████████████████▌                                           | 45/100 [51:25<1:02:43, 68.43s/it]"
     ]
    },
    {
     "name": "stdout",
     "output_type": "stream",
     "text": [
      "1886000 275.58899999999994 377.4 410.0\n"
     ]
    },
    {
     "name": "stderr",
     "output_type": "stream",
     "text": [
      "\r",
      " 46%|████████████████████████████████████▎                                          | 46/100 [52:32<1:01:16, 68.08s/it]"
     ]
    },
    {
     "name": "stdout",
     "output_type": "stream",
     "text": [
      "1927000 277.2279999999999 381.4 410.0\n"
     ]
    },
    {
     "name": "stderr",
     "output_type": "stream",
     "text": [
      "\r",
      " 47%|██████████████████████████████████████                                           | 47/100 [53:38<59:28, 67.32s/it]"
     ]
    },
    {
     "name": "stdout",
     "output_type": "stream",
     "text": [
      "1968000 282.5589999999999 390.2 410.0\n"
     ]
    },
    {
     "name": "stderr",
     "output_type": "stream",
     "text": [
      "\r",
      " 48%|█████████████████████████████████████▉                                         | 48/100 [55:13<1:05:38, 75.75s/it]"
     ]
    },
    {
     "name": "stdout",
     "output_type": "stream",
     "text": [
      "2009000 283.87599999999986 394.6 410.0\n"
     ]
    },
    {
     "name": "stderr",
     "output_type": "stream",
     "text": [
      "\r",
      " 49%|██████████████████████████████████████▋                                        | 49/100 [56:37<1:06:21, 78.07s/it]"
     ]
    },
    {
     "name": "stdout",
     "output_type": "stream",
     "text": [
      "2050000 285.09400000000005 376.9 410.0\n"
     ]
    },
    {
     "name": "stderr",
     "output_type": "stream",
     "text": [
      "\r",
      " 50%|███████████████████████████████████████▌                                       | 50/100 [57:44<1:02:13, 74.67s/it]"
     ]
    },
    {
     "name": "stdout",
     "output_type": "stream",
     "text": [
      "2091000 284.057 423.8 410.0\n"
     ]
    },
    {
     "name": "stderr",
     "output_type": "stream",
     "text": [
      "\r",
      " 51%|████████████████████████████████████████▎                                      | 51/100 [58:58<1:00:55, 74.59s/it]"
     ]
    },
    {
     "name": "stdout",
     "output_type": "stream",
     "text": [
      "2132000 289.0869999999999 398.1 410.0\n"
     ]
    },
    {
     "name": "stderr",
     "output_type": "stream",
     "text": [
      "\r",
      " 52%|█████████████████████████████████████████                                      | 52/100 [1:00:02<57:08, 71.43s/it]"
     ]
    },
    {
     "name": "stdout",
     "output_type": "stream",
     "text": [
      "2173000 283.941 389.3 410.0\n"
     ]
    },
    {
     "name": "stderr",
     "output_type": "stream",
     "text": [
      "\r",
      " 53%|█████████████████████████████████████████▊                                     | 53/100 [1:01:10<55:10, 70.44s/it]"
     ]
    },
    {
     "name": "stdout",
     "output_type": "stream",
     "text": [
      "2214000 279.89199999999994 376.0 410.0\n"
     ]
    },
    {
     "name": "stderr",
     "output_type": "stream",
     "text": [
      "\r",
      " 54%|██████████████████████████████████████████▋                                    | 54/100 [1:02:18<53:27, 69.73s/it]"
     ]
    },
    {
     "name": "stdout",
     "output_type": "stream",
     "text": [
      "2255000 277.09900000000005 390.3 410.0\n"
     ]
    },
    {
     "name": "stderr",
     "output_type": "stream",
     "text": [
      "\r",
      " 55%|███████████████████████████████████████████▍                                   | 55/100 [1:03:24<51:28, 68.63s/it]"
     ]
    },
    {
     "name": "stdout",
     "output_type": "stream",
     "text": [
      "2296000 289.2919999999998 393.4 410.0\n"
     ]
    },
    {
     "name": "stderr",
     "output_type": "stream",
     "text": [
      "\r",
      " 56%|████████████████████████████████████████████▏                                  | 56/100 [1:04:33<50:26, 68.79s/it]"
     ]
    },
    {
     "name": "stdout",
     "output_type": "stream",
     "text": [
      "2337000 282.07099999999997 355.1 410.0\n"
     ]
    },
    {
     "name": "stderr",
     "output_type": "stream",
     "text": [
      "\r",
      " 57%|█████████████████████████████████████████████                                  | 57/100 [1:05:38<48:21, 67.48s/it]"
     ]
    },
    {
     "name": "stdout",
     "output_type": "stream",
     "text": [
      "2378000 287.0469999999999 377.0 410.0\n"
     ]
    },
    {
     "name": "stderr",
     "output_type": "stream",
     "text": [
      "\r",
      " 58%|█████████████████████████████████████████████▊                                 | 58/100 [1:06:46<47:28, 67.82s/it]"
     ]
    },
    {
     "name": "stdout",
     "output_type": "stream",
     "text": [
      "2419000 290.152 397.3 410.0\n"
     ]
    },
    {
     "name": "stderr",
     "output_type": "stream",
     "text": [
      "\r",
      " 59%|██████████████████████████████████████████████▌                                | 59/100 [1:07:55<46:35, 68.17s/it]"
     ]
    },
    {
     "name": "stdout",
     "output_type": "stream",
     "text": [
      "2460000 285.60800000000006 391.6 410.0\n"
     ]
    },
    {
     "name": "stderr",
     "output_type": "stream",
     "text": [
      "\r",
      " 60%|███████████████████████████████████████████████▍                               | 60/100 [1:08:58<44:16, 66.40s/it]"
     ]
    },
    {
     "name": "stdout",
     "output_type": "stream",
     "text": [
      "2501000 285.95099999999996 357.2 410.0\n"
     ]
    },
    {
     "name": "stderr",
     "output_type": "stream",
     "text": [
      "\r",
      " 61%|████████████████████████████████████████████████▏                              | 61/100 [1:10:10<44:16, 68.10s/it]"
     ]
    },
    {
     "name": "stdout",
     "output_type": "stream",
     "text": [
      "2542000 286.2060000000001 391.4 410.0\n"
     ]
    },
    {
     "name": "stderr",
     "output_type": "stream",
     "text": [
      "\r",
      " 62%|████████████████████████████████████████████████▉                              | 62/100 [1:11:14<42:26, 67.01s/it]"
     ]
    },
    {
     "name": "stdout",
     "output_type": "stream",
     "text": [
      "2583000 288.1359999999999 374.4 410.0\n"
     ]
    },
    {
     "name": "stderr",
     "output_type": "stream",
     "text": [
      "\r",
      " 63%|█████████████████████████████████████████████████▊                             | 63/100 [1:12:22<41:28, 67.24s/it]"
     ]
    },
    {
     "name": "stdout",
     "output_type": "stream",
     "text": [
      "2624000 283.24399999999986 389.2 410.0\n"
     ]
    },
    {
     "name": "stderr",
     "output_type": "stream",
     "text": [
      "\r",
      " 64%|██████████████████████████████████████████████████▌                            | 64/100 [1:13:34<41:10, 68.63s/it]"
     ]
    },
    {
     "name": "stdout",
     "output_type": "stream",
     "text": [
      "2665000 286.5740000000001 376.7 410.0\n"
     ]
    },
    {
     "name": "stderr",
     "output_type": "stream",
     "text": [
      "\r",
      " 65%|███████████████████████████████████████████████████▎                           | 65/100 [1:14:37<39:07, 67.06s/it]"
     ]
    },
    {
     "name": "stdout",
     "output_type": "stream",
     "text": [
      "2706000 284.43600000000004 377.1 410.0\n"
     ]
    },
    {
     "name": "stderr",
     "output_type": "stream",
     "text": [
      "\r",
      " 66%|████████████████████████████████████████████████████▏                          | 66/100 [1:15:48<38:34, 68.08s/it]"
     ]
    },
    {
     "name": "stdout",
     "output_type": "stream",
     "text": [
      "2747000 287.7059999999999 367.3 410.0\n"
     ]
    },
    {
     "name": "stderr",
     "output_type": "stream",
     "text": [
      "\r",
      " 67%|████████████████████████████████████████████████████▉                          | 67/100 [1:16:56<37:28, 68.14s/it]"
     ]
    },
    {
     "name": "stdout",
     "output_type": "stream",
     "text": [
      "2788000 290.427 414.2 410.0\n"
     ]
    },
    {
     "name": "stderr",
     "output_type": "stream",
     "text": [
      "\r",
      " 68%|█████████████████████████████████████████████████████▋                         | 68/100 [1:18:02<36:02, 67.59s/it]"
     ]
    },
    {
     "name": "stdout",
     "output_type": "stream",
     "text": [
      "2829000 290.54 379.9 410.0\n"
     ]
    },
    {
     "name": "stderr",
     "output_type": "stream",
     "text": [
      "\r",
      " 69%|██████████████████████████████████████████████████████▌                        | 69/100 [1:19:14<35:32, 68.78s/it]"
     ]
    },
    {
     "name": "stdout",
     "output_type": "stream",
     "text": [
      "2870000 290.44399999999996 413.5 410.0\n"
     ]
    },
    {
     "name": "stderr",
     "output_type": "stream",
     "text": [
      "\r",
      " 70%|███████████████████████████████████████████████████████▎                       | 70/100 [1:20:18<33:43, 67.47s/it]"
     ]
    },
    {
     "name": "stdout",
     "output_type": "stream",
     "text": [
      "2911000 288.536 386.6 410.0\n"
     ]
    },
    {
     "name": "stderr",
     "output_type": "stream",
     "text": [
      "\r",
      " 71%|████████████████████████████████████████████████████████                       | 71/100 [1:21:08<30:01, 62.11s/it]"
     ]
    },
    {
     "name": "stdout",
     "output_type": "stream",
     "text": [
      "2952000 295.1349999999999 423.0 410.0\n"
     ]
    },
    {
     "name": "stderr",
     "output_type": "stream",
     "text": [
      "\r",
      " 72%|████████████████████████████████████████████████████████▉                      | 72/100 [1:21:51<26:18, 56.37s/it]"
     ]
    },
    {
     "name": "stdout",
     "output_type": "stream",
     "text": [
      "2993000 290.599 369.4 410.0\n"
     ]
    },
    {
     "name": "stderr",
     "output_type": "stream",
     "text": [
      "\r",
      " 73%|█████████████████████████████████████████████████████████▋                     | 73/100 [1:22:33<23:22, 51.96s/it]"
     ]
    },
    {
     "name": "stdout",
     "output_type": "stream",
     "text": [
      "3034000 286.9310000000001 371.2 410.0\n"
     ]
    },
    {
     "name": "stderr",
     "output_type": "stream",
     "text": [
      "\r",
      " 74%|██████████████████████████████████████████████████████████▍                    | 74/100 [1:23:15<21:17, 49.13s/it]"
     ]
    },
    {
     "name": "stdout",
     "output_type": "stream",
     "text": [
      "3075000 288.344 433.3 410.0\n"
     ]
    },
    {
     "name": "stderr",
     "output_type": "stream",
     "text": [
      "\r",
      " 75%|███████████████████████████████████████████████████████████▎                   | 75/100 [1:23:57<19:35, 47.04s/it]"
     ]
    },
    {
     "name": "stdout",
     "output_type": "stream",
     "text": [
      "3116000 283.018 369.0 410.0\n"
     ]
    },
    {
     "name": "stderr",
     "output_type": "stream",
     "text": [
      "\r",
      " 76%|████████████████████████████████████████████████████████████                   | 76/100 [1:24:47<19:06, 47.77s/it]"
     ]
    },
    {
     "name": "stdout",
     "output_type": "stream",
     "text": [
      "3157000 292.7989999999999 401.5 410.0\n"
     ]
    },
    {
     "name": "stderr",
     "output_type": "stream",
     "text": [
      "\r",
      " 77%|████████████████████████████████████████████████████████████▊                  | 77/100 [1:25:41<19:05, 49.81s/it]"
     ]
    },
    {
     "name": "stdout",
     "output_type": "stream",
     "text": [
      "3198000 287.61799999999994 384.0 410.0\n"
     ]
    },
    {
     "name": "stderr",
     "output_type": "stream",
     "text": [
      "\r",
      " 78%|█████████████████████████████████████████████████████████████▌                 | 78/100 [1:26:27<17:47, 48.52s/it]"
     ]
    },
    {
     "name": "stdout",
     "output_type": "stream",
     "text": [
      "3239000 286.4180000000001 405.6 410.0\n"
     ]
    },
    {
     "name": "stderr",
     "output_type": "stream",
     "text": [
      "\r",
      " 79%|██████████████████████████████████████████████████████████████▍                | 79/100 [1:27:15<16:56, 48.43s/it]"
     ]
    },
    {
     "name": "stdout",
     "output_type": "stream",
     "text": [
      "3280000 288.81200000000007 411.2 410.0\n"
     ]
    },
    {
     "name": "stderr",
     "output_type": "stream",
     "text": [
      "\r",
      " 80%|███████████████████████████████████████████████████████████████▏               | 80/100 [1:28:13<17:03, 51.18s/it]"
     ]
    },
    {
     "name": "stdout",
     "output_type": "stream",
     "text": [
      "3321000 297.75600000000003 424.7 410.0\n"
     ]
    },
    {
     "name": "stderr",
     "output_type": "stream",
     "text": [
      "\r",
      " 81%|███████████████████████████████████████████████████████████████▉               | 81/100 [1:28:57<15:36, 49.29s/it]"
     ]
    },
    {
     "name": "stdout",
     "output_type": "stream",
     "text": [
      "3362000 296.03400000000005 390.3 410.0\n"
     ]
    },
    {
     "name": "stderr",
     "output_type": "stream",
     "text": [
      "\r",
      " 82%|████████████████████████████████████████████████████████████████▊              | 82/100 [1:29:49<14:59, 49.96s/it]"
     ]
    },
    {
     "name": "stdout",
     "output_type": "stream",
     "text": [
      "3403000 288.994 400.1 410.0\n"
     ]
    },
    {
     "name": "stderr",
     "output_type": "stream",
     "text": [
      "\r",
      " 83%|█████████████████████████████████████████████████████████████████▌             | 83/100 [1:31:03<16:11, 57.12s/it]"
     ]
    },
    {
     "name": "stdout",
     "output_type": "stream",
     "text": [
      "3444000 282.0310000000001 390.1 410.0\n"
     ]
    },
    {
     "name": "stderr",
     "output_type": "stream",
     "text": [
      "\r",
      " 84%|██████████████████████████████████████████████████████████████████▎            | 84/100 [1:32:07<15:47, 59.19s/it]"
     ]
    },
    {
     "name": "stdout",
     "output_type": "stream",
     "text": [
      "3485000 293.71100000000007 367.9 410.0\n"
     ]
    },
    {
     "name": "stderr",
     "output_type": "stream",
     "text": [
      "\r",
      " 85%|███████████████████████████████████████████████████████████████████▏           | 85/100 [1:33:16<15:32, 62.16s/it]"
     ]
    },
    {
     "name": "stdout",
     "output_type": "stream",
     "text": [
      "3526000 284.612 408.1 410.0\n"
     ]
    },
    {
     "name": "stderr",
     "output_type": "stream",
     "text": [
      "\r",
      " 86%|███████████████████████████████████████████████████████████████████▉           | 86/100 [1:34:22<14:44, 63.20s/it]"
     ]
    },
    {
     "name": "stdout",
     "output_type": "stream",
     "text": [
      "3567000 294.389 361.1 410.0\n"
     ]
    },
    {
     "name": "stderr",
     "output_type": "stream",
     "text": [
      "\r",
      " 87%|████████████████████████████████████████████████████████████████████▋          | 87/100 [1:35:27<13:50, 63.89s/it]"
     ]
    },
    {
     "name": "stdout",
     "output_type": "stream",
     "text": [
      "3608000 286.78499999999997 389.5 410.0\n"
     ]
    },
    {
     "name": "stderr",
     "output_type": "stream",
     "text": [
      "\r",
      " 88%|█████████████████████████████████████████████████████████████████████▌         | 88/100 [1:36:34<12:58, 64.86s/it]"
     ]
    },
    {
     "name": "stdout",
     "output_type": "stream",
     "text": [
      "3649000 294.29400000000004 412.6 410.0\n"
     ]
    },
    {
     "name": "stderr",
     "output_type": "stream",
     "text": [
      "\r",
      " 89%|██████████████████████████████████████████████████████████████████████▎        | 89/100 [1:37:37<11:46, 64.19s/it]"
     ]
    },
    {
     "name": "stdout",
     "output_type": "stream",
     "text": [
      "3690000 282.43399999999997 359.1 410.0\n"
     ]
    },
    {
     "name": "stderr",
     "output_type": "stream",
     "text": [
      "\r",
      " 90%|███████████████████████████████████████████████████████████████████████        | 90/100 [1:38:42<10:44, 64.49s/it]"
     ]
    },
    {
     "name": "stdout",
     "output_type": "stream",
     "text": [
      "3731000 291.70700000000005 392.0 410.0\n"
     ]
    },
    {
     "name": "stderr",
     "output_type": "stream",
     "text": [
      "\r",
      " 91%|███████████████████████████████████████████████████████████████████████▉       | 91/100 [1:39:44<09:34, 63.82s/it]"
     ]
    },
    {
     "name": "stdout",
     "output_type": "stream",
     "text": [
      "3772000 285.37300000000005 380.9 410.0\n"
     ]
    },
    {
     "name": "stderr",
     "output_type": "stream",
     "text": [
      "\r",
      " 92%|████████████████████████████████████████████████████████████████████████▋      | 92/100 [1:40:51<08:37, 64.74s/it]"
     ]
    },
    {
     "name": "stdout",
     "output_type": "stream",
     "text": [
      "3813000 286.1299999999998 447.8 410.0\n"
     ]
    },
    {
     "name": "stderr",
     "output_type": "stream",
     "text": [
      "\r",
      " 93%|█████████████████████████████████████████████████████████████████████████▍     | 93/100 [1:41:52<07:25, 63.62s/it]"
     ]
    },
    {
     "name": "stdout",
     "output_type": "stream",
     "text": [
      "3854000 292.7749999999999 417.5 410.0\n"
     ]
    },
    {
     "name": "stderr",
     "output_type": "stream",
     "text": [
      "\r",
      " 94%|██████████████████████████████████████████████████████████████████████████▎    | 94/100 [1:42:58<06:26, 64.36s/it]"
     ]
    },
    {
     "name": "stdout",
     "output_type": "stream",
     "text": [
      "3895000 288.18600000000004 418.1 410.0\n"
     ]
    },
    {
     "name": "stderr",
     "output_type": "stream",
     "text": [
      "\r",
      " 95%|███████████████████████████████████████████████████████████████████████████    | 95/100 [1:44:00<05:17, 63.46s/it]"
     ]
    },
    {
     "name": "stdout",
     "output_type": "stream",
     "text": [
      "3936000 293.0220000000001 381.3 410.0\n"
     ]
    },
    {
     "name": "stderr",
     "output_type": "stream",
     "text": [
      "\r",
      " 96%|███████████████████████████████████████████████████████████████████████████▊   | 96/100 [1:45:06<04:16, 64.22s/it]"
     ]
    },
    {
     "name": "stdout",
     "output_type": "stream",
     "text": [
      "3977000 290.4959999999999 400.9 410.0\n"
     ]
    },
    {
     "name": "stderr",
     "output_type": "stream",
     "text": [
      "\r",
      " 97%|████████████████████████████████████████████████████████████████████████████▋  | 97/100 [1:46:07<03:10, 63.36s/it]"
     ]
    },
    {
     "name": "stdout",
     "output_type": "stream",
     "text": [
      "4018000 286.03299999999984 353.9 410.0\n"
     ]
    },
    {
     "name": "stderr",
     "output_type": "stream",
     "text": [
      "\r",
      " 98%|█████████████████████████████████████████████████████████████████████████████▍ | 98/100 [1:47:08<02:05, 62.55s/it]"
     ]
    },
    {
     "name": "stdout",
     "output_type": "stream",
     "text": [
      "4059000 283.31800000000004 372.5 410.0\n"
     ]
    },
    {
     "name": "stderr",
     "output_type": "stream",
     "text": [
      "\r",
      " 99%|██████████████████████████████████████████████████████████████████████████████▏| 99/100 [1:48:10<01:02, 62.51s/it]"
     ]
    },
    {
     "name": "stdout",
     "output_type": "stream",
     "text": [
      "4100000 276.5959999999999 393.9 410.0\n"
     ]
    },
    {
     "name": "stderr",
     "output_type": "stream",
     "text": [
      "100%|██████████████████████████████████████████████████████████████████████████████| 100/100 [1:49:14<00:00, 65.54s/it]\n"
     ]
    }
   ],
   "source": [
    "fitness_y = []\n",
    "len_ep_mean_y = []\n",
    "steps_x = []\n",
    "\n",
    "for generation in tqdm(range(num_generations)):\n",
    "    # Roda cada modelo e obtem seu fitness.\n",
    "    # fitness = [run_simulation(model, 10) for model in models]\n",
    "    fitness = []\n",
    "    steps = []\n",
    "    for model in models:\n",
    "        fit_steps = run_simulation(model, nb_of_simulations)\n",
    "        fitness.append(fit_steps[0])\n",
    "        steps.append(fit_steps[1])\n",
    "        \n",
    "    # Acumula fitness médio pra plotar gráfico\n",
    "    fitness_y.append(sum(fitness) / len(fitness))\n",
    "    len_ep_mean_y.append(sum(steps) / len(steps))\n",
    "    if steps_x == []:\n",
    "        steps_x.append(sum(steps))\n",
    "    else:\n",
    "        steps_x.append(steps_x[-1] + (sum(steps)))\n",
    "    \n",
    "    # Mostra último ponto de fitness\n",
    "    print(steps_x[-1], fitness_y[-1], max(fitness), len_ep_mean_y[-1])\n",
    "    \n",
    "    # Seleciona os melhores.\n",
    "    sorted_indexes = list(item[1] for item in sorted(\n",
    "        ((fitness, k) for k, fitness in enumerate(fitness)), reverse=True))\n",
    "    \n",
    "    number_suvivors = int(num_models * fraction)\n",
    "    models_to_keep = [models[k] for k in sorted_indexes[:number_suvivors]]\n",
    "\n",
    "    # Cria as cria.\n",
    "    #new_models = [m.make_offspring() for m in models_to_keep]\n",
    "    new_models = [models_to_keep[i%number_suvivors].make_offspring() for i in range(num_models - number_suvivors)]\n",
    "\n",
    "    models = models_to_keep + new_models"
   ]
  },
  {
   "cell_type": "code",
   "execution_count": null,
   "id": "284fc1ae",
   "metadata": {},
   "outputs": [],
   "source": []
  },
  {
   "cell_type": "code",
   "execution_count": 640,
   "id": "537bce4c",
   "metadata": {},
   "outputs": [
    {
     "name": "stdout",
     "output_type": "stream",
     "text": [
      "-----\n",
      "[[2 2 2 0 2]\n",
      " [0 0 0 2 2]\n",
      " [0 2 0 0 0]\n",
      " [0 0 2 2 2]\n",
      " [0 2 1 2 0]]\n",
      "-----\n"
     ]
    }
   ],
   "source": [
    "env.render()"
   ]
  },
  {
   "cell_type": "code",
   "execution_count": 31,
   "id": "ec7f940a",
   "metadata": {},
   "outputs": [
    {
     "data": {
      "text/plain": [
       "[207.3029999999999,\n",
       " 221.85899999999995,\n",
       " 227.51100000000002,\n",
       " 240.15099999999995,\n",
       " 256.76400000000007,\n",
       " 253.71799999999996,\n",
       " 266.324,\n",
       " 261.013,\n",
       " 262.283,\n",
       " 265.96400000000006,\n",
       " 259.0819999999999,\n",
       " 269.13400000000007,\n",
       " 267.197,\n",
       " 272.00300000000004,\n",
       " 265.33700000000016,\n",
       " 263.8930000000001,\n",
       " 269.06500000000005,\n",
       " 268.96299999999997,\n",
       " 275.443,\n",
       " 267.79400000000004,\n",
       " 277.964,\n",
       " 277.966,\n",
       " 274.668,\n",
       " 279.915,\n",
       " 267.2129999999999,\n",
       " 287.6430000000001,\n",
       " 269.1819999999999,\n",
       " 284.1309999999999,\n",
       " 274.74800000000016,\n",
       " 277.842,\n",
       " 272.8990000000001,\n",
       " 273.217,\n",
       " 280.07499999999993,\n",
       " 278.75899999999996,\n",
       " 274.31600000000003,\n",
       " 276.899,\n",
       " 268.75099999999986,\n",
       " 278.26300000000015,\n",
       " 276.60799999999995,\n",
       " 278.5439999999999,\n",
       " 285.99600000000015,\n",
       " 281.1530000000001,\n",
       " 278.70000000000016,\n",
       " 282.76300000000003,\n",
       " 284.45099999999996,\n",
       " 275.58899999999994,\n",
       " 277.2279999999999,\n",
       " 282.5589999999999,\n",
       " 283.87599999999986,\n",
       " 285.09400000000005,\n",
       " 284.057,\n",
       " 289.0869999999999,\n",
       " 283.941,\n",
       " 279.89199999999994,\n",
       " 277.09900000000005,\n",
       " 289.2919999999998,\n",
       " 282.07099999999997,\n",
       " 287.0469999999999,\n",
       " 290.152,\n",
       " 285.60800000000006,\n",
       " 285.95099999999996,\n",
       " 286.2060000000001,\n",
       " 288.1359999999999,\n",
       " 283.24399999999986,\n",
       " 286.5740000000001,\n",
       " 284.43600000000004,\n",
       " 287.7059999999999,\n",
       " 290.427,\n",
       " 290.54,\n",
       " 290.44399999999996,\n",
       " 288.536,\n",
       " 295.1349999999999,\n",
       " 290.599,\n",
       " 286.9310000000001,\n",
       " 288.344,\n",
       " 283.018,\n",
       " 292.7989999999999,\n",
       " 287.61799999999994,\n",
       " 286.4180000000001,\n",
       " 288.81200000000007,\n",
       " 297.75600000000003,\n",
       " 296.03400000000005,\n",
       " 288.994,\n",
       " 282.0310000000001,\n",
       " 293.71100000000007,\n",
       " 284.612,\n",
       " 294.389,\n",
       " 286.78499999999997,\n",
       " 294.29400000000004,\n",
       " 282.43399999999997,\n",
       " 291.70700000000005,\n",
       " 285.37300000000005,\n",
       " 286.1299999999998,\n",
       " 292.7749999999999,\n",
       " 288.18600000000004,\n",
       " 293.0220000000001,\n",
       " 290.4959999999999,\n",
       " 286.03299999999984,\n",
       " 283.31800000000004,\n",
       " 276.5959999999999]"
      ]
     },
     "execution_count": 31,
     "metadata": {},
     "output_type": "execute_result"
    }
   ],
   "source": [
    "fitness_y"
   ]
  },
  {
   "cell_type": "code",
   "execution_count": 642,
   "id": "13c1b33e",
   "metadata": {},
   "outputs": [
    {
     "data": {
      "text/plain": [
       "[19500,\n",
       " 39000,\n",
       " 58500,\n",
       " 78000,\n",
       " 97500,\n",
       " 117000,\n",
       " 136500,\n",
       " 156000,\n",
       " 175500,\n",
       " 195000,\n",
       " 214500,\n",
       " 234000,\n",
       " 253500,\n",
       " 273000,\n",
       " 292500,\n",
       " 312000,\n",
       " 331500,\n",
       " 351000,\n",
       " 370500,\n",
       " 390000,\n",
       " 409500,\n",
       " 429000,\n",
       " 448500,\n",
       " 468000,\n",
       " 487500,\n",
       " 507000,\n",
       " 526500,\n",
       " 546000,\n",
       " 565500,\n",
       " 585000,\n",
       " 604500,\n",
       " 624000,\n",
       " 643500,\n",
       " 663000,\n",
       " 682500,\n",
       " 702000,\n",
       " 721500,\n",
       " 741000,\n",
       " 760500,\n",
       " 780000,\n",
       " 799500,\n",
       " 819000,\n",
       " 838500,\n",
       " 858000,\n",
       " 877500,\n",
       " 897000,\n",
       " 916500,\n",
       " 936000,\n",
       " 955500,\n",
       " 975000,\n",
       " 994500,\n",
       " 1014000,\n",
       " 1033500,\n",
       " 1053000,\n",
       " 1072500,\n",
       " 1092000,\n",
       " 1111500,\n",
       " 1131000,\n",
       " 1150500,\n",
       " 1170000,\n",
       " 1189500,\n",
       " 1209000,\n",
       " 1228500,\n",
       " 1248000,\n",
       " 1267500,\n",
       " 1287000,\n",
       " 1306500,\n",
       " 1326000,\n",
       " 1345500,\n",
       " 1365000,\n",
       " 1384500,\n",
       " 1404000,\n",
       " 1423500,\n",
       " 1443000,\n",
       " 1462500]"
      ]
     },
     "execution_count": 642,
     "metadata": {},
     "output_type": "execute_result"
    }
   ],
   "source": [
    "steps_x"
   ]
  },
  {
   "cell_type": "code",
   "execution_count": 32,
   "id": "7d38d37f",
   "metadata": {},
   "outputs": [],
   "source": [
    "import matplotlib.pyplot as plt"
   ]
  },
  {
   "cell_type": "code",
   "execution_count": 33,
   "id": "eb1238ff",
   "metadata": {},
   "outputs": [
    {
     "data": {
      "image/png": "[encoded data removed]",
      "text/plain": [
       "<Figure size 1080x1080 with 1 Axes>"
      ]
     },
     "metadata": {
      "needs_background": "light"
     },
     "output_type": "display_data"
    }
   ],
   "source": [
    "plt.figure(figsize=(15,15))\n",
    "plt.plot(steps_x, fitness_y, label=\"Predator Prey - Genetic Algorithm\")\n",
    "plt.xlabel(\"Time\")\n",
    "plt.ylabel(\"Avarage Reward\")\n",
    "plt.grid(True)\n",
    "plt.legend()\n",
    "plt.show()"
   ]
  },
  {
   "cell_type": "code",
   "execution_count": 34,
   "id": "f63519a7",
   "metadata": {},
   "outputs": [
    {
     "data": {
      "text/plain": [
       "<__main__.NeuralModel at 0x202affd2460>"
      ]
     },
     "execution_count": 34,
     "metadata": {},
     "output_type": "execute_result"
    }
   ],
   "source": [
    "models[0]"
   ]
  },
  {
   "cell_type": "code",
   "execution_count": 35,
   "id": "d098a14a",
   "metadata": {},
   "outputs": [],
   "source": [
    "model_trained = models[0]"
   ]
  },
  {
   "cell_type": "markdown",
   "id": "3b40010f",
   "metadata": {},
   "source": [
    "## Save model"
   ]
  },
  {
   "cell_type": "code",
   "execution_count": 36,
   "id": "a29b0c85",
   "metadata": {},
   "outputs": [
    {
     "name": "stdout",
     "output_type": "stream",
     "text": [
      "INFO:tensorflow:Assets written to: Training/my_model_PP_3_4M_GA\\assets\n"
     ]
    }
   ],
   "source": [
    "path_best_model = 'Training/my_model_PP_3_4M_GA'\n",
    "model_trained.model.save(path_best_model)"
   ]
  },
  {
   "cell_type": "markdown",
   "id": "cf87363b",
   "metadata": {},
   "source": [
    "## Load model"
   ]
  },
  {
   "cell_type": "code",
   "execution_count": 37,
   "id": "ae0a1548",
   "metadata": {},
   "outputs": [],
   "source": [
    "path_best_model = 'Training/my_model_PP_3_4M_GA'\n",
    "model = keras.models.load_model(path_best_model)"
   ]
  },
  {
   "cell_type": "code",
   "execution_count": 38,
   "id": "1dfd2e78",
   "metadata": {},
   "outputs": [],
   "source": [
    "obs = env.reset()"
   ]
  },
  {
   "cell_type": "code",
   "execution_count": 39,
   "id": "9375fd6a",
   "metadata": {},
   "outputs": [
    {
     "data": {
      "text/plain": [
       "array([[2, 2, 2, 2, 2],\n",
       "       [0, 2, 2, 0, 2],\n",
       "       [2, 0, 1, 0, 2],\n",
       "       [2, 0, 0, 2, 0],\n",
       "       [0, 0, 2, 2, 0]])"
      ]
     },
     "execution_count": 39,
     "metadata": {},
     "output_type": "execute_result"
    }
   ],
   "source": [
    "'''\n",
    "0 - direita\n",
    "1 - esquerda\n",
    "2 - cima\n",
    "3 - baixo\n",
    "'''\n",
    "\n",
    "obs"
   ]
  },
  {
   "cell_type": "code",
   "execution_count": 40,
   "id": "3070f252",
   "metadata": {},
   "outputs": [
    {
     "name": "stdout",
     "output_type": "stream",
     "text": [
      "[[0. 0. 0. 1.]] 3\n"
     ]
    }
   ],
   "source": [
    "print(model_trained(obs.reshape(1, -1)).numpy(), model_trained(obs.reshape(1, -1)).numpy().argmax())"
   ]
  },
  {
   "cell_type": "code",
   "execution_count": 44,
   "id": "a073874b",
   "metadata": {},
   "outputs": [
    {
     "data": {
      "text/plain": [
       "array([[0, 0, 2, 0, 2],\n",
       "       [0, 0, 0, 2, 0],\n",
       "       [2, 0, 1, 0, 0],\n",
       "       [0, 0, 0, 0, 2],\n",
       "       [2, 0, 2, 0, 0]])"
      ]
     },
     "execution_count": 44,
     "metadata": {},
     "output_type": "execute_result"
    }
   ],
   "source": [
    "env.reset()"
   ]
  },
  {
   "cell_type": "code",
   "execution_count": 45,
   "id": "b0d0c272",
   "metadata": {},
   "outputs": [
    {
     "data": {
      "text/plain": [
       "[3, 2, 2, 3, 0, 0, 3, 1, 3, 2]"
      ]
     },
     "execution_count": 45,
     "metadata": {},
     "output_type": "execute_result"
    }
   ],
   "source": [
    "[env.action_space.sample() for i in range(10)]"
   ]
  },
  {
   "cell_type": "code",
   "execution_count": 46,
   "id": "4a5aab7f",
   "metadata": {},
   "outputs": [
    {
     "name": "stdout",
     "output_type": "stream",
     "text": [
      "3\n",
      "[[0 0 2 0 2]\n",
      " [0 0 0 2 0]\n",
      " [2 0 0 0 0]\n",
      " [0 0 1 0 2]\n",
      " [2 0 2 0 0]] \n",
      "\n",
      "[[0 0 0 2 0]\n",
      " [2 0 0 0 0]\n",
      " [0 0 1 0 2]\n",
      " [2 0 2 0 0]\n",
      " [0 0 2 0 2]] \n",
      "\n",
      "[0, 0, 0, 2]\n",
      "------------------------------\n",
      "3\n",
      "[[0 0 2 0 2]\n",
      " [0 0 0 2 0]\n",
      " [2 0 0 0 0]\n",
      " [0 0 2 0 2]\n",
      " [2 0 1 0 0]] \n",
      "\n",
      "[[2 0 0 0 0]\n",
      " [0 0 2 0 2]\n",
      " [2 0 1 0 0]\n",
      " [0 0 2 0 2]\n",
      " [0 0 0 2 0]] \n",
      "\n",
      "[0, 0, 2, 2]\n",
      "------------------------------\n",
      "3\n",
      "[[0 0 1 0 2]\n",
      " [0 0 0 2 0]\n",
      " [2 0 0 0 0]\n",
      " [0 0 2 0 2]\n",
      " [2 0 2 0 0]] \n",
      "\n",
      "[[0 0 2 0 2]\n",
      " [2 0 2 0 0]\n",
      " [0 0 1 0 2]\n",
      " [0 0 0 2 0]\n",
      " [2 0 0 0 0]] \n",
      "\n",
      "[0, 0, 2, 0]\n",
      "------------------------------\n",
      "2\n",
      "[[0 0 2 0 2]\n",
      " [0 0 0 2 0]\n",
      " [2 0 0 0 0]\n",
      " [0 0 2 0 2]\n",
      " [2 0 1 0 0]] \n",
      "\n",
      "[[2 0 0 0 0]\n",
      " [0 0 2 0 2]\n",
      " [2 0 1 0 0]\n",
      " [0 0 2 0 2]\n",
      " [0 0 0 2 0]] \n",
      "\n",
      "[0, 0, 2, 2]\n",
      "------------------------------\n",
      "3\n",
      "[[0 0 1 0 2]\n",
      " [0 0 0 2 0]\n",
      " [2 0 0 0 0]\n",
      " [0 0 2 0 2]\n",
      " [2 0 2 0 0]] \n",
      "\n",
      "[[0 0 2 0 2]\n",
      " [2 0 2 0 0]\n",
      " [0 0 1 0 2]\n",
      " [0 0 0 2 0]\n",
      " [2 0 0 0 0]] \n",
      "\n",
      "[0, 0, 2, 0]\n",
      "------------------------------\n",
      "2\n",
      "[[0 0 2 0 2]\n",
      " [0 0 0 2 0]\n",
      " [2 0 0 0 0]\n",
      " [0 0 2 0 2]\n",
      " [2 0 1 0 0]] \n",
      "\n",
      "[[2 0 0 0 0]\n",
      " [0 0 2 0 2]\n",
      " [2 0 1 0 0]\n",
      " [0 0 2 0 2]\n",
      " [0 0 0 2 0]] \n",
      "\n",
      "[0, 0, 2, 2]\n",
      "------------------------------\n",
      "3\n",
      "[[0 0 1 0 2]\n",
      " [0 0 0 2 0]\n",
      " [2 0 0 0 0]\n",
      " [0 0 2 0 2]\n",
      " [2 0 2 0 0]] \n",
      "\n",
      "[[0 0 2 0 2]\n",
      " [2 0 2 0 0]\n",
      " [0 0 1 0 2]\n",
      " [0 0 0 2 0]\n",
      " [2 0 0 0 0]] \n",
      "\n",
      "[0, 0, 2, 0]\n",
      "------------------------------\n",
      "2\n",
      "[[0 0 2 0 2]\n",
      " [0 0 0 2 0]\n",
      " [2 0 0 0 0]\n",
      " [0 0 2 0 2]\n",
      " [2 0 1 0 0]] \n",
      "\n",
      "[[2 0 0 0 0]\n",
      " [0 0 2 0 2]\n",
      " [2 0 1 0 0]\n",
      " [0 0 2 0 2]\n",
      " [0 0 0 2 0]] \n",
      "\n",
      "[0, 0, 2, 2]\n",
      "------------------------------\n",
      "3\n",
      "[[0 0 1 0 2]\n",
      " [0 0 0 2 0]\n",
      " [2 0 0 0 0]\n",
      " [0 0 2 0 2]\n",
      " [2 0 2 0 0]] \n",
      "\n",
      "[[0 0 2 0 2]\n",
      " [2 0 2 0 0]\n",
      " [0 0 1 0 2]\n",
      " [0 0 0 2 0]\n",
      " [2 0 0 0 0]] \n",
      "\n",
      "[0, 0, 2, 0]\n",
      "------------------------------\n",
      "2\n",
      "[[0 0 2 0 2]\n",
      " [0 0 0 2 0]\n",
      " [2 0 0 0 0]\n",
      " [0 0 2 0 2]\n",
      " [2 0 1 0 0]] \n",
      "\n",
      "[[2 0 0 0 0]\n",
      " [0 0 2 0 2]\n",
      " [2 0 1 0 0]\n",
      " [0 0 2 0 2]\n",
      " [0 0 0 2 0]] \n",
      "\n",
      "[0, 0, 2, 2]\n",
      "------------------------------\n",
      "3\n",
      "[[0 0 1 0 2]\n",
      " [0 0 0 2 0]\n",
      " [2 0 0 0 0]\n",
      " [0 0 2 0 2]\n",
      " [2 0 2 0 0]] \n",
      "\n",
      "[[0 0 2 0 2]\n",
      " [2 0 2 0 0]\n",
      " [0 0 1 0 2]\n",
      " [0 0 0 2 0]\n",
      " [2 0 0 0 0]] \n",
      "\n",
      "[0, 0, 2, 0]\n",
      "------------------------------\n",
      "2\n",
      "[[0 0 2 0 2]\n",
      " [0 0 0 2 0]\n",
      " [2 0 0 0 0]\n",
      " [0 0 2 0 2]\n",
      " [2 0 1 0 0]] \n",
      "\n",
      "[[2 0 0 0 0]\n",
      " [0 0 2 0 2]\n",
      " [2 0 1 0 0]\n",
      " [0 0 2 0 2]\n",
      " [0 0 0 2 0]] \n",
      "\n",
      "[0, 0, 2, 2]\n",
      "------------------------------\n",
      "3\n",
      "[[0 0 1 0 2]\n",
      " [0 0 0 2 0]\n",
      " [2 0 0 0 0]\n",
      " [0 0 2 0 2]\n",
      " [2 0 2 0 0]] \n",
      "\n",
      "[[0 0 2 0 2]\n",
      " [2 0 2 0 0]\n",
      " [0 0 1 0 2]\n",
      " [0 0 0 2 0]\n",
      " [2 0 0 0 0]] \n",
      "\n",
      "[0, 0, 2, 0]\n",
      "------------------------------\n",
      "2\n",
      "[[0 0 2 0 2]\n",
      " [0 0 0 2 0]\n",
      " [2 0 0 0 0]\n",
      " [0 0 2 0 2]\n",
      " [2 0 1 0 0]] \n",
      "\n",
      "[[2 0 0 0 0]\n",
      " [0 0 2 0 2]\n",
      " [2 0 1 0 0]\n",
      " [0 0 2 0 2]\n",
      " [0 0 0 2 0]] \n",
      "\n",
      "[0, 0, 2, 2]\n",
      "------------------------------\n",
      "3\n",
      "[[0 0 1 0 2]\n",
      " [0 0 0 2 0]\n",
      " [2 0 0 0 0]\n",
      " [0 0 2 0 2]\n",
      " [2 0 2 0 0]] \n",
      "\n",
      "[[0 0 2 0 2]\n",
      " [2 0 2 0 0]\n",
      " [0 0 1 0 2]\n",
      " [0 0 0 2 0]\n",
      " [2 0 0 0 0]] \n",
      "\n",
      "[0, 0, 2, 0]\n",
      "------------------------------\n",
      "2\n",
      "[[0 0 2 0 2]\n",
      " [0 0 0 2 0]\n",
      " [2 0 0 0 0]\n",
      " [0 0 2 0 2]\n",
      " [2 0 1 0 0]] \n",
      "\n",
      "[[2 0 0 0 0]\n",
      " [0 0 2 0 2]\n",
      " [2 0 1 0 0]\n",
      " [0 0 2 0 2]\n",
      " [0 0 0 2 0]] \n",
      "\n",
      "[0, 0, 2, 2]\n",
      "------------------------------\n",
      "3\n",
      "[[0 0 1 0 2]\n",
      " [0 0 0 2 0]\n",
      " [2 0 0 0 0]\n",
      " [0 0 2 0 2]\n",
      " [2 0 2 0 0]] \n",
      "\n",
      "[[0 0 2 0 2]\n",
      " [2 0 2 0 0]\n",
      " [0 0 1 0 2]\n",
      " [0 0 0 2 0]\n",
      " [2 0 0 0 0]] \n",
      "\n",
      "[0, 0, 2, 0]\n",
      "------------------------------\n",
      "2\n",
      "[[0 0 2 0 2]\n",
      " [0 0 0 2 0]\n",
      " [2 0 0 0 0]\n",
      " [0 0 2 0 2]\n",
      " [2 0 1 0 0]] \n",
      "\n",
      "[[2 0 0 0 0]\n",
      " [0 0 2 0 2]\n",
      " [2 0 1 0 0]\n",
      " [0 0 2 0 2]\n",
      " [0 0 0 2 0]] \n",
      "\n",
      "[0, 0, 2, 2]\n",
      "------------------------------\n",
      "3\n",
      "[[0 0 1 0 2]\n",
      " [0 0 0 2 0]\n",
      " [2 0 0 0 0]\n",
      " [0 0 2 0 2]\n",
      " [2 0 2 0 0]] \n",
      "\n",
      "[[0 0 2 0 2]\n",
      " [2 0 2 0 0]\n",
      " [0 0 1 0 2]\n",
      " [0 0 0 2 0]\n",
      " [2 0 0 0 0]] \n",
      "\n",
      "[0, 0, 2, 0]\n",
      "------------------------------\n",
      "2\n",
      "[[0 0 2 0 2]\n",
      " [0 0 0 2 0]\n",
      " [2 0 0 0 0]\n",
      " [0 0 2 0 2]\n",
      " [2 0 1 0 0]] \n",
      "\n",
      "[[2 0 0 0 0]\n",
      " [0 0 2 0 2]\n",
      " [2 0 1 0 0]\n",
      " [0 0 2 0 2]\n",
      " [0 0 0 2 0]] \n",
      "\n",
      "[0, 0, 2, 2]\n",
      "------------------------------\n"
     ]
    }
   ],
   "source": [
    "for i in range(20):\n",
    "    action = model_trained(obs.reshape(1, -1)).numpy().argmax()\n",
    "    print(action)\n",
    "    obs, _, _, _ = env.step(action)\n",
    "    print(env.array, '\\n')\n",
    "    print(env.get_obs(), '\\n')\n",
    "    print(env.get_neighboors())\n",
    "    print(\"-\" * 30)"
   ]
  },
  {
   "cell_type": "code",
   "execution_count": 575,
   "id": "becb27c7",
   "metadata": {
    "scrolled": true
   },
   "outputs": [
    {
     "name": "stdout",
     "output_type": "stream",
     "text": [
      "Ep: 0 || Score: 766\n",
      "Ep: 1 || Score: 608\n",
      "Ep: 2 || Score: 400\n",
      "Ep: 3 || Score: 296\n",
      "Ep: 4 || Score: 1181\n",
      "Ep: 5 || Score: 369\n",
      "Ep: 6 || Score: 1186\n",
      "Ep: 7 || Score: 600\n",
      "Ep: 8 || Score: 540\n",
      "Ep: 9 || Score: 602\n",
      "Ep: 10 || Score: 804\n",
      "Ep: 11 || Score: 1208\n",
      "Ep: 12 || Score: 804\n",
      "Ep: 13 || Score: 1072\n",
      "Ep: 14 || Score: 598\n",
      "Ep: 15 || Score: 379\n",
      "Ep: 16 || Score: 607\n",
      "Ep: 17 || Score: 452\n",
      "Ep: 18 || Score: 906\n",
      "Ep: 19 || Score: 1130\n",
      "Ep: 20 || Score: 296\n",
      "Ep: 21 || Score: 777\n",
      "Ep: 22 || Score: 796\n",
      "Ep: 23 || Score: 785\n",
      "Ep: 24 || Score: 668\n",
      "Ep: 25 || Score: 988\n",
      "Ep: 26 || Score: 864\n",
      "Ep: 27 || Score: 611\n",
      "Ep: 28 || Score: 600\n",
      "Ep: 29 || Score: 489\n",
      "Ep: 30 || Score: 586\n",
      "Ep: 31 || Score: 848\n",
      "Ep: 32 || Score: 982\n",
      "Ep: 33 || Score: 404\n",
      "Ep: 34 || Score: 634\n",
      "Ep: 35 || Score: 596\n",
      "Ep: 36 || Score: 920\n",
      "Ep: 37 || Score: 484\n",
      "Ep: 38 || Score: 1128\n",
      "Ep: 39 || Score: 961\n",
      "Ep: 40 || Score: 512\n",
      "Ep: 41 || Score: 528\n",
      "Ep: 42 || Score: 770\n",
      "Ep: 43 || Score: 976\n",
      "Ep: 44 || Score: 800\n",
      "Ep: 45 || Score: 591\n",
      "Ep: 46 || Score: 988\n",
      "Ep: 47 || Score: 1116\n",
      "Ep: 48 || Score: 598\n",
      "Ep: 49 || Score: 537\n",
      "Ep: 50 || Score: 595\n",
      "Ep: 51 || Score: 1155\n",
      "Ep: 52 || Score: 1158\n",
      "Ep: 53 || Score: 486\n",
      "Ep: 54 || Score: 764\n",
      "Ep: 55 || Score: 988\n",
      "Ep: 56 || Score: 1008\n",
      "Ep: 57 || Score: 925\n",
      "Ep: 58 || Score: 800\n",
      "Ep: 59 || Score: 591\n",
      "Ep: 60 || Score: 868\n",
      "Ep: 61 || Score: 449\n",
      "Ep: 62 || Score: 710\n",
      "Ep: 63 || Score: 504\n",
      "Ep: 64 || Score: 498\n",
      "Ep: 65 || Score: 647\n",
      "Ep: 66 || Score: 1528\n",
      "Ep: 67 || Score: 610\n",
      "Ep: 68 || Score: 455\n",
      "Ep: 69 || Score: 1006\n",
      "Ep: 70 || Score: 356\n",
      "Ep: 71 || Score: 445\n",
      "Ep: 72 || Score: 906\n",
      "Ep: 73 || Score: 709\n",
      "Ep: 74 || Score: 1168\n",
      "Ep: 75 || Score: 581\n",
      "Ep: 76 || Score: 578\n",
      "Ep: 77 || Score: 501\n",
      "Ep: 78 || Score: 1002\n",
      "Ep: 79 || Score: 670\n",
      "Ep: 80 || Score: 682\n",
      "Ep: 81 || Score: 706\n",
      "Ep: 82 || Score: 581\n",
      "Ep: 83 || Score: 506\n",
      "Ep: 84 || Score: 536\n",
      "Ep: 85 || Score: 594\n",
      "Ep: 86 || Score: 485\n",
      "Ep: 87 || Score: 1194\n",
      "Ep: 88 || Score: 556\n",
      "Ep: 89 || Score: 914\n",
      "Ep: 90 || Score: 1008\n",
      "Ep: 91 || Score: 389\n",
      "Ep: 92 || Score: 458\n",
      "Ep: 93 || Score: 667\n",
      "Ep: 94 || Score: 310\n",
      "Ep: 95 || Score: 500\n",
      "Ep: 96 || Score: 984\n",
      "Ep: 97 || Score: 606\n",
      "Ep: 98 || Score: 457\n",
      "Ep: 99 || Score: 612\n",
      "Avg score: 717.47\n"
     ]
    }
   ],
   "source": [
    "episodes = 100\n",
    "avg_total = 0\n",
    "for ep in range(episodes):\n",
    "    obs = env.reset().reshape(1, -1)\n",
    "    done = False\n",
    "    score = 0\n",
    "    while not done:\n",
    "        action = model(obs.reshape(1, -1)).numpy().argmax()\n",
    "        obs, rew, done, info = env.step(action)\n",
    "        if render:\n",
    "            env.render()\n",
    "        score += rew\n",
    "    avg_total += score\n",
    "    print(f\"Ep: {ep} || Score: {score}\")\n",
    "print(f\"Avg score: {avg_total / episodes}\")"
   ]
  },
  {
   "cell_type": "code",
   "execution_count": 576,
   "id": "aa372ed3",
   "metadata": {
    "scrolled": true
   },
   "outputs": [
    {
     "name": "stdout",
     "output_type": "stream",
     "text": [
      "Ep: 0 || Score: 537\n",
      "Ep: 1 || Score: 469\n",
      "Ep: 2 || Score: 523\n",
      "Ep: 3 || Score: 561\n",
      "Ep: 4 || Score: 660\n",
      "Ep: 5 || Score: 504\n",
      "Ep: 6 || Score: 572\n",
      "Ep: 7 || Score: 513\n",
      "Ep: 8 || Score: 446\n",
      "Ep: 9 || Score: 438\n",
      "Ep: 10 || Score: 688\n",
      "Ep: 11 || Score: 558\n",
      "Ep: 12 || Score: 543\n",
      "Ep: 13 || Score: 561\n",
      "Ep: 14 || Score: 454\n",
      "Ep: 15 || Score: 505\n",
      "Ep: 16 || Score: 496\n",
      "Ep: 17 || Score: 529\n",
      "Ep: 18 || Score: 471\n",
      "Ep: 19 || Score: 417\n",
      "Ep: 20 || Score: 897\n",
      "Ep: 21 || Score: 456\n",
      "Ep: 22 || Score: 451\n",
      "Ep: 23 || Score: 624\n",
      "Ep: 24 || Score: 645\n",
      "Ep: 25 || Score: 601\n",
      "Ep: 26 || Score: 505\n",
      "Ep: 27 || Score: 490\n",
      "Ep: 28 || Score: 530\n",
      "Ep: 29 || Score: 644\n",
      "Ep: 30 || Score: 496\n",
      "Ep: 31 || Score: 521\n",
      "Ep: 32 || Score: 565\n",
      "Ep: 33 || Score: 410\n",
      "Ep: 34 || Score: 388\n",
      "Ep: 35 || Score: 588\n",
      "Ep: 36 || Score: 407\n",
      "Ep: 37 || Score: 653\n",
      "Ep: 38 || Score: 477\n",
      "Ep: 39 || Score: 353\n",
      "Ep: 40 || Score: 613\n",
      "Ep: 41 || Score: 476\n",
      "Ep: 42 || Score: 525\n",
      "Ep: 43 || Score: 464\n",
      "Ep: 44 || Score: 384\n",
      "Ep: 45 || Score: 572\n",
      "Ep: 46 || Score: 497\n",
      "Ep: 47 || Score: 499\n",
      "Ep: 48 || Score: 559\n",
      "Ep: 49 || Score: 539\n",
      "Ep: 50 || Score: 428\n",
      "Ep: 51 || Score: 454\n",
      "Ep: 52 || Score: 303\n",
      "Ep: 53 || Score: 503\n",
      "Ep: 54 || Score: 656\n",
      "Ep: 55 || Score: 551\n",
      "Ep: 56 || Score: 421\n",
      "Ep: 57 || Score: 590\n",
      "Ep: 58 || Score: 376\n",
      "Ep: 59 || Score: 448\n",
      "Ep: 60 || Score: 422\n",
      "Ep: 61 || Score: 676\n",
      "Ep: 62 || Score: 692\n",
      "Ep: 63 || Score: 506\n",
      "Ep: 64 || Score: 473\n",
      "Ep: 65 || Score: 552\n",
      "Ep: 66 || Score: 332\n",
      "Ep: 67 || Score: 442\n",
      "Ep: 68 || Score: 499\n",
      "Ep: 69 || Score: 452\n",
      "Ep: 70 || Score: 588\n",
      "Ep: 71 || Score: 412\n",
      "Ep: 72 || Score: 639\n",
      "Ep: 73 || Score: 493\n",
      "Ep: 74 || Score: 331\n",
      "Ep: 75 || Score: 405\n",
      "Ep: 76 || Score: 558\n",
      "Ep: 77 || Score: 484\n",
      "Ep: 78 || Score: 592\n",
      "Ep: 79 || Score: 498\n",
      "Ep: 80 || Score: 511\n",
      "Ep: 81 || Score: 407\n",
      "Ep: 82 || Score: 653\n",
      "Ep: 83 || Score: 489\n",
      "Ep: 84 || Score: 499\n",
      "Ep: 85 || Score: 513\n",
      "Ep: 86 || Score: 689\n",
      "Ep: 87 || Score: 353\n",
      "Ep: 88 || Score: 642\n",
      "Ep: 89 || Score: 531\n",
      "Ep: 90 || Score: 504\n",
      "Ep: 91 || Score: 635\n",
      "Ep: 92 || Score: 481\n",
      "Ep: 93 || Score: 501\n",
      "Ep: 94 || Score: 642\n",
      "Ep: 95 || Score: 470\n",
      "Ep: 96 || Score: 470\n",
      "Ep: 97 || Score: 451\n",
      "Ep: 98 || Score: 556\n",
      "Ep: 99 || Score: 581\n",
      "Avg score: 516.28\n"
     ]
    }
   ],
   "source": [
    "episodes = 100\n",
    "avg_total = 0\n",
    "for ep in range(episodes):\n",
    "    obs = env.reset().reshape(1, -1)\n",
    "    done = False\n",
    "    score = 0\n",
    "    while not done:\n",
    "        action = model(obs.reshape(1, -1)).numpy().argmax()\n",
    "        obs, rew, done, info = env.step(env.action_space.sample())\n",
    "        if render:\n",
    "            env.render()\n",
    "        score += rew\n",
    "    avg_total += score\n",
    "    print(f\"Ep: {ep} || Score: {score}\")\n",
    "print(f\"Avg score: {avg_total / episodes}\")"
   ]
  },
  {
   "cell_type": "code",
   "execution_count": 49,
   "id": "d345a471",
   "metadata": {},
   "outputs": [
    {
     "name": "stderr",
     "output_type": "stream",
     "text": [
      "C:\\Users\\gabri\\anaconda3\\lib\\site-packages\\torch\\utils\\tensorboard\\__init__.py:4: DeprecationWarning: distutils Version classes are deprecated. Use packaging.version instead.\n",
      "  if not hasattr(tensorboard, \"__version__\") or LooseVersion(\n"
     ]
    }
   ],
   "source": [
    "### Carregando modelo\n",
    "import os\n",
    "from stable_baselines3 import PPO\n",
    "from stable_baselines3.common.vec_env import DummyVecEnv\n",
    "from stable_baselines3.common.evaluation import evaluate_policy"
   ]
  },
  {
   "cell_type": "code",
   "execution_count": 50,
   "id": "8d35b023",
   "metadata": {},
   "outputs": [],
   "source": [
    "PPO_path = os.path.join('Training', 'Saved Models', 'PP_PPO_1_2M')"
   ]
  },
  {
   "cell_type": "code",
   "execution_count": 51,
   "id": "f941fe31",
   "metadata": {},
   "outputs": [],
   "source": [
    "model = PPO.load(PPO_path)"
   ]
  },
  {
   "cell_type": "code",
   "execution_count": 52,
   "id": "0dba0fce",
   "metadata": {},
   "outputs": [
    {
     "data": {
      "text/plain": [
       "<stable_baselines3.ppo.ppo.PPO at 0x202b4718b50>"
      ]
     },
     "execution_count": 52,
     "metadata": {},
     "output_type": "execute_result"
    }
   ],
   "source": [
    "model"
   ]
  },
  {
   "cell_type": "code",
   "execution_count": 58,
   "id": "b5015ee8",
   "metadata": {},
   "outputs": [
    {
     "name": "stdout",
     "output_type": "stream",
     "text": [
      "Ep: 0 || Score: 192\n",
      "Ep: 1 || Score: 186\n",
      "Ep: 2 || Score: 137\n",
      "Ep: 3 || Score: 266\n",
      "Ep: 4 || Score: 129\n",
      "Ep: 5 || Score: 255\n",
      "Ep: 6 || Score: 141\n",
      "Ep: 7 || Score: 211\n",
      "Ep: 8 || Score: 231\n",
      "Ep: 9 || Score: 286\n",
      "Ep: 10 || Score: 153\n",
      "Ep: 11 || Score: 131\n",
      "Ep: 12 || Score: 190\n",
      "Ep: 13 || Score: 268\n",
      "Ep: 14 || Score: 191\n",
      "Ep: 15 || Score: 420\n",
      "Ep: 16 || Score: 236\n",
      "Ep: 17 || Score: 117\n",
      "Ep: 18 || Score: 290\n",
      "Ep: 19 || Score: 129\n",
      "Ep: 20 || Score: 175\n",
      "Ep: 21 || Score: 274\n",
      "Ep: 22 || Score: 152\n",
      "Ep: 23 || Score: 146\n",
      "Ep: 24 || Score: 161\n",
      "Ep: 25 || Score: 169\n",
      "Ep: 26 || Score: 169\n",
      "Ep: 27 || Score: 223\n",
      "Ep: 28 || Score: 256\n",
      "Ep: 29 || Score: 201\n",
      "Ep: 30 || Score: 246\n",
      "Ep: 31 || Score: 202\n",
      "Ep: 32 || Score: 158\n",
      "Ep: 33 || Score: 155\n",
      "Ep: 34 || Score: 255\n",
      "Ep: 35 || Score: 120\n",
      "Ep: 36 || Score: 254\n",
      "Ep: 37 || Score: 237\n",
      "Ep: 38 || Score: 307\n",
      "Ep: 39 || Score: 229\n",
      "Ep: 40 || Score: 246\n",
      "Ep: 41 || Score: 187\n",
      "Ep: 42 || Score: 224\n",
      "Ep: 43 || Score: 312\n",
      "Ep: 44 || Score: 220\n",
      "Ep: 45 || Score: 183\n",
      "Ep: 46 || Score: 126\n",
      "Ep: 47 || Score: 277\n",
      "Ep: 48 || Score: 217\n",
      "Ep: 49 || Score: 236\n",
      "Ep: 50 || Score: 126\n",
      "Ep: 51 || Score: 268\n",
      "Ep: 52 || Score: 170\n",
      "Ep: 53 || Score: 182\n",
      "Ep: 54 || Score: 118\n",
      "Ep: 55 || Score: 200\n",
      "Ep: 56 || Score: 125\n",
      "Ep: 57 || Score: 135\n",
      "Ep: 58 || Score: 165\n",
      "Ep: 59 || Score: 173\n",
      "Ep: 60 || Score: 288\n",
      "Ep: 61 || Score: 202\n",
      "Ep: 62 || Score: 149\n",
      "Ep: 63 || Score: 82\n",
      "Ep: 64 || Score: 268\n",
      "Ep: 65 || Score: 253\n",
      "Ep: 66 || Score: 154\n",
      "Ep: 67 || Score: 162\n",
      "Ep: 68 || Score: 156\n",
      "Ep: 69 || Score: 161\n",
      "Ep: 70 || Score: 274\n",
      "Ep: 71 || Score: 210\n",
      "Ep: 72 || Score: 272\n",
      "Ep: 73 || Score: 234\n",
      "Ep: 74 || Score: 176\n",
      "Ep: 75 || Score: 248\n",
      "Ep: 76 || Score: 221\n",
      "Ep: 77 || Score: 282\n",
      "Ep: 78 || Score: 304\n",
      "Ep: 79 || Score: 171\n",
      "Ep: 80 || Score: 152\n",
      "Ep: 81 || Score: 128\n",
      "Ep: 82 || Score: 122\n",
      "Ep: 83 || Score: 334\n",
      "Ep: 84 || Score: 145\n",
      "Ep: 85 || Score: 242\n",
      "Ep: 86 || Score: 215\n",
      "Ep: 87 || Score: 192\n",
      "Ep: 88 || Score: 115\n",
      "Ep: 89 || Score: 217\n",
      "Ep: 90 || Score: 180\n",
      "Ep: 91 || Score: 192\n",
      "Ep: 92 || Score: 140\n",
      "Ep: 93 || Score: 214\n",
      "Ep: 94 || Score: 181\n",
      "Ep: 95 || Score: 255\n",
      "Ep: 96 || Score: 153\n",
      "Ep: 97 || Score: 138\n",
      "Ep: 98 || Score: 310\n",
      "Ep: 99 || Score: 192\n",
      "Avg score: 202.22\n"
     ]
    }
   ],
   "source": [
    "episodes = 100\n",
    "avg_total = 0\n",
    "for ep in range(episodes):\n",
    "    obs = env.reset().reshape(1, -1)\n",
    "    done = False\n",
    "    score = 0\n",
    "    while not done:\n",
    "        action = model.predict(obs.reshape(1, -1))[0]\n",
    "        obs, rew, done, info = env.step(env.action_space.sample())\n",
    "        if render:\n",
    "            env.render()\n",
    "        score += rew\n",
    "    avg_total += score\n",
    "    print(f\"Ep: {ep} || Score: {score}\")\n",
    "print(f\"Avg score: {avg_total / episodes}\")"
   ]
  },
  {
   "cell_type": "code",
   "execution_count": null,
   "id": "9eca39c8",
   "metadata": {},
   "outputs": [],
   "source": []
  }
 ],
 "metadata": {
  "kernelspec": {
   "display_name": "Python 3 (ipykernel)",
   "language": "python",
   "name": "python3"
  },
  "language_info": {
   "codemirror_mode": {
    "name": "ipython",
    "version": 3
   },
   "file_extension": ".py",
   "mimetype": "text/x-python",
   "name": "python",
   "nbconvert_exporter": "python",
   "pygments_lexer": "ipython3",
   "version": "3.9.12"
  }
 },
 "nbformat": 4,
 "nbformat_minor": 5
}
