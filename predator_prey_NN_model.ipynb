{
 "cells": [
  {
   "cell_type": "code",
   "execution_count": 419,
   "id": "542bafaf",
   "metadata": {},
   "outputs": [],
   "source": [
    "import tensorflow as tf\n",
    "from tensorflow import keras\n",
    "from tensorflow.keras.optimizers import Adam\n",
    "import numpy as np"
   ]
  },
  {
   "cell_type": "code",
   "execution_count": 420,
   "id": "8b428a26",
   "metadata": {},
   "outputs": [],
   "source": [
    "class Policy:\n",
    "    def __init__(self):\n",
    "        self.alpha = 0.01\n",
    "        self.policy = keras.models.Sequential([\n",
    "            keras.layers.Dense(25, activation=\"relu\", input_shape=[25]),\n",
    "            keras.layers.Dense(10, activation=\"relu\"),\n",
    "            keras.layers.Dense(5, activation=\"softmax\"),\n",
    "        ])\n",
    "        self.policy.compile(optimizer=Adam(learning_rate=self.alpha))\n",
    "        \n",
    "    def __call__(self, state):\n",
    "        pi = self.policy(state)\n",
    "        return pi\n",
    "    \n",
    "def get_obs(array, pos):\n",
    "    obs = []\n",
    "    i, j = pos\n",
    "    for ii in range(-2, 3, 1):\n",
    "        row = []\n",
    "        for jj in range(-2, 3, 1):\n",
    "            row.append(array[(i + ii) % len(array)][(j + jj) % len(array)])\n",
    "        obs.append(row)     \n",
    "    return obs\n",
    "\n",
    "def apply_action(array, pos, action):\n",
    "    i, j = pos\n",
    "    if action == 0:\n",
    "        array[i][j], array[i][(j + 1) % len(array)] = array[i][(j + 1) % len(array)], array[i][j]\n",
    "    elif action == 1:\n",
    "        array[i][j], array[i][(j - 1)] = array[i][(j - 1)], array[i][j]\n",
    "    elif action == 2:\n",
    "        array[i][j], array[i - 1][j] = array[i - 1][j], array[i][j]\n",
    "    elif action == 3:\n",
    "        array[i][j], array[i + 1][j] = array[(i + 1) % len(array)][j], array[i][j]"
   ]
  },
  {
   "cell_type": "code",
   "execution_count": 421,
   "id": "dcb79bd7",
   "metadata": {},
   "outputs": [],
   "source": [
    "import gym\n",
    "import random"
   ]
  },
  {
   "cell_type": "code",
   "execution_count": 422,
   "id": "da001ff7",
   "metadata": {},
   "outputs": [],
   "source": [
    "types = [0, 1, 2]"
   ]
  },
  {
   "cell_type": "code",
   "execution_count": 423,
   "id": "771497b4",
   "metadata": {},
   "outputs": [],
   "source": [
    "obs = [[random.choice(types) for i in range(5)] for j in range(5)]\n",
    "obs[2][2] = 1"
   ]
  },
  {
   "cell_type": "code",
   "execution_count": 424,
   "id": "e1e68808",
   "metadata": {},
   "outputs": [],
   "source": [
    "array = np.array([[random.choice(types) for i in range(10)] for j in range(10)])"
   ]
  },
  {
   "cell_type": "code",
   "execution_count": 425,
   "id": "155fbcac",
   "metadata": {},
   "outputs": [
    {
     "data": {
      "text/plain": [
       "array([[1, 2, 2, 0, 1, 0, 2, 0, 2, 1],\n",
       "       [2, 1, 1, 0, 1, 2, 1, 0, 1, 0],\n",
       "       [1, 2, 0, 2, 1, 1, 0, 2, 0, 0],\n",
       "       [0, 0, 1, 2, 1, 0, 2, 2, 2, 0],\n",
       "       [2, 2, 0, 2, 1, 0, 1, 0, 1, 2],\n",
       "       [2, 0, 1, 2, 1, 2, 1, 0, 0, 1],\n",
       "       [1, 0, 1, 1, 0, 0, 1, 2, 1, 0],\n",
       "       [1, 2, 1, 0, 2, 0, 2, 2, 0, 0],\n",
       "       [1, 0, 2, 2, 0, 0, 2, 0, 2, 1],\n",
       "       [1, 2, 1, 0, 2, 0, 2, 2, 0, 0]])"
      ]
     },
     "execution_count": 425,
     "metadata": {},
     "output_type": "execute_result"
    }
   ],
   "source": [
    "array"
   ]
  },
  {
   "cell_type": "markdown",
   "id": "d4fda7bb",
   "metadata": {},
   "source": [
    "## Create Environment"
   ]
  },
  {
   "cell_type": "code",
   "execution_count": 577,
   "id": "a99a6a19",
   "metadata": {},
   "outputs": [],
   "source": [
    "from gym import Env\n",
    "from gym.spaces import Discrete, Box, MultiDiscrete\n",
    "import random"
   ]
  },
  {
   "cell_type": "code",
   "execution_count": 668,
   "id": "fadabffa",
   "metadata": {},
   "outputs": [],
   "source": [
    "'''\n",
    "Lets create environment that we have just onde predator in initial middle of table\n",
    "'''\n",
    "class PPEnv(Env):\n",
    "    def __init__(self, L=5, time_limit=40, pos=(0, 0)):\n",
    "        self.L = L\n",
    "        self.pos = (self.L // 2, self.L // 2)\n",
    "        self.action_space = Discrete(4)\n",
    "        self.obs_shape = (5, 5)\n",
    "        self.observation_space = MultiDiscrete(np.array([[3 for i in range(5)] for j in range(5)]))\n",
    "        self.types = Discrete(3)\n",
    "        self.array = np.array([[Discrete(2).sample() * 2 for i in range(self.L)] for j in range(self.L)])\n",
    "        # Put one predator\n",
    "        self.array[self.pos[0], self.pos[1]] = 1               \n",
    "        self.time = 0\n",
    "        self.time_limit = time_limit\n",
    "    \n",
    "    def get_obs(self):\n",
    "        obs = []\n",
    "        i, j = self.pos\n",
    "        for ii in range(-2, 3, 1):\n",
    "            row = []\n",
    "            for jj in range(-2, 3, 1):\n",
    "                row.append(self.array[(i + ii) % self.L][(j + jj) % self.L])\n",
    "            obs.append(row)     \n",
    "        return np.array(obs)\n",
    "    \n",
    "    # Jump\n",
    "    def apply_action(self, action):\n",
    "        i, j = self.pos\n",
    "        L = self.L\n",
    "        if action == 0:\n",
    "            self.array[i][j], self.array[i][(j + 1) % L] = self.array[i][(j + 1) % L], self.array[i][j]\n",
    "            self.pos = (i, (j + 1) % L)\n",
    "        elif action == 1:\n",
    "            self.array[i][j], self.array[i][(j - 1) % L] = self.array[i][(j - 1) % L], self.array[i][j]\n",
    "            self.pos = (i, (j - 1) % L)\n",
    "        elif action == 2:\n",
    "            self.array[i][j], self.array[(i - 1) % L][j] = self.array[(i - 1) % L][j], self.array[i][j]\n",
    "            self.pos = ((i - 1) % L, j)\n",
    "        elif action == 3:\n",
    "            self.array[i][j], self.array[(i + 1) % L][j] = self.array[(i + 1) % L][j], self.array[i][j]\n",
    "            self.pos = ((i + 1) % L, j)\n",
    "    \n",
    "    def get_neighboors(self):\n",
    "        i, j = self.pos\n",
    "        adress = [\n",
    "            (i, (j + 1) % self.L), \n",
    "            (i, (j - 1) % self.L), \n",
    "            ((i - 1) % self.L, j), \n",
    "            ((i + 1) % self.L, j)\n",
    "        ]\n",
    "        right, left, up, down = self.array[adress[0][0]][adress[0][1]], self.array[adress[1][0]][adress[1][1]], self.array[adress[2][0]][adress[2][1]], self.array[adress[3][0]][adress[3][1]]\n",
    "        return [right, left, up, down]\n",
    "    \n",
    "    def step(self, action):\n",
    "        # Get obs\n",
    "        obs = self.get_obs()\n",
    "        \n",
    "        # Colect reward\n",
    "        ngbs = [obs[2][2 + 1], obs[2][2 - 1], obs[2 - 1][2], obs[2 + 1][2]] #self.get_neighboors()\n",
    "        reward = 2 ** ngbs.count(2)\n",
    "        \n",
    "        # Get info\n",
    "        info = {}\n",
    "        \n",
    "        # Check if done\n",
    "        if self.time >= self.time_limit:\n",
    "            done = True\n",
    "            return obs, reward, done, info\n",
    "        else: \n",
    "            done = False\n",
    "            \n",
    "        # apply action\n",
    "        self.apply_action(action)\n",
    "        self.time += 1\n",
    "        return obs, reward, done, info\n",
    "    \n",
    "    def render(self):\n",
    "        print('-' * self.L)\n",
    "        print(self.array)\n",
    "        print('-' * self.L)\n",
    "    \n",
    "    def reset(self):\n",
    "        self.pos = (self.L // 2, self.L // 2)\n",
    "        self.action_space = Discrete(4)\n",
    "        self.observation_space = MultiDiscrete(np.array([[3 for i in range(5)] for j in range(5)]))\n",
    "        self.types = Discrete(3)\n",
    "        self.array = np.array([[Discrete(2).sample() * 2 for i in range(self.L)] for j in range(self.L)])\n",
    "        # Put one predator\n",
    "        self.array[self.pos[0], self.pos[1]] = 1               \n",
    "        self.time = 0\n",
    "        return np.array(self.get_obs())"
   ]
  },
  {
   "cell_type": "code",
   "execution_count": 669,
   "id": "126bc534",
   "metadata": {},
   "outputs": [],
   "source": [
    "env = PPEnv()"
   ]
  },
  {
   "cell_type": "code",
   "execution_count": 670,
   "id": "cc5d7a4d",
   "metadata": {},
   "outputs": [],
   "source": [
    "obs = env.reset()\n",
    "env.apply_action(0)"
   ]
  },
  {
   "cell_type": "code",
   "execution_count": 671,
   "id": "f697032b",
   "metadata": {},
   "outputs": [
    {
     "data": {
      "text/plain": [
       "1"
      ]
     },
     "execution_count": 671,
     "metadata": {},
     "output_type": "execute_result"
    }
   ],
   "source": [
    "env.action_space.sample()"
   ]
  },
  {
   "cell_type": "markdown",
   "id": "ae36a41d",
   "metadata": {},
   "source": [
    "### Testing environment"
   ]
  },
  {
   "cell_type": "code",
   "execution_count": 626,
   "id": "3efdb1d4",
   "metadata": {},
   "outputs": [],
   "source": [
    "render = False"
   ]
  },
  {
   "cell_type": "code",
   "execution_count": 627,
   "id": "3b587af9",
   "metadata": {},
   "outputs": [
    {
     "name": "stdout",
     "output_type": "stream",
     "text": [
      "Ep: 0 || Score: 115\n",
      "Ep: 1 || Score: 136\n",
      "Ep: 2 || Score: 86\n",
      "Ep: 3 || Score: 188\n",
      "Ep: 4 || Score: 180\n",
      "Ep: 5 || Score: 168\n",
      "Ep: 6 || Score: 64\n",
      "Ep: 7 || Score: 109\n",
      "Ep: 8 || Score: 174\n",
      "Ep: 9 || Score: 168\n",
      "Ep: 10 || Score: 76\n",
      "Ep: 11 || Score: 186\n",
      "Ep: 12 || Score: 113\n",
      "Ep: 13 || Score: 94\n",
      "Ep: 14 || Score: 174\n",
      "Ep: 15 || Score: 114\n",
      "Ep: 16 || Score: 172\n",
      "Ep: 17 || Score: 132\n",
      "Ep: 18 || Score: 192\n",
      "Ep: 19 || Score: 145\n",
      "Ep: 20 || Score: 87\n",
      "Ep: 21 || Score: 61\n",
      "Ep: 22 || Score: 160\n",
      "Ep: 23 || Score: 91\n",
      "Ep: 24 || Score: 166\n",
      "Ep: 25 || Score: 168\n",
      "Ep: 26 || Score: 114\n",
      "Ep: 27 || Score: 213\n",
      "Ep: 28 || Score: 92\n",
      "Ep: 29 || Score: 132\n",
      "Ep: 30 || Score: 112\n",
      "Ep: 31 || Score: 256\n",
      "Ep: 32 || Score: 160\n",
      "Ep: 33 || Score: 146\n",
      "Ep: 34 || Score: 110\n",
      "Ep: 35 || Score: 138\n",
      "Ep: 36 || Score: 168\n",
      "Ep: 37 || Score: 172\n",
      "Ep: 38 || Score: 72\n",
      "Ep: 39 || Score: 228\n",
      "Ep: 40 || Score: 134\n",
      "Ep: 41 || Score: 206\n",
      "Ep: 42 || Score: 128\n",
      "Ep: 43 || Score: 157\n",
      "Ep: 44 || Score: 104\n",
      "Ep: 45 || Score: 87\n",
      "Ep: 46 || Score: 137\n",
      "Ep: 47 || Score: 116\n",
      "Ep: 48 || Score: 90\n",
      "Ep: 49 || Score: 137\n",
      "Ep: 50 || Score: 176\n",
      "Ep: 51 || Score: 149\n",
      "Ep: 52 || Score: 172\n",
      "Ep: 53 || Score: 104\n",
      "Ep: 54 || Score: 182\n",
      "Ep: 55 || Score: 112\n",
      "Ep: 56 || Score: 45\n",
      "Ep: 57 || Score: 102\n",
      "Ep: 58 || Score: 180\n",
      "Ep: 59 || Score: 153\n",
      "Ep: 60 || Score: 152\n",
      "Ep: 61 || Score: 196\n",
      "Ep: 62 || Score: 152\n",
      "Ep: 63 || Score: 114\n",
      "Ep: 64 || Score: 160\n",
      "Ep: 65 || Score: 131\n",
      "Ep: 66 || Score: 98\n",
      "Ep: 67 || Score: 85\n",
      "Ep: 68 || Score: 150\n",
      "Ep: 69 || Score: 129\n",
      "Ep: 70 || Score: 142\n",
      "Ep: 71 || Score: 194\n",
      "Ep: 72 || Score: 176\n",
      "Ep: 73 || Score: 154\n",
      "Ep: 74 || Score: 141\n",
      "Ep: 75 || Score: 220\n",
      "Ep: 76 || Score: 111\n",
      "Ep: 77 || Score: 228\n",
      "Ep: 78 || Score: 184\n",
      "Ep: 79 || Score: 171\n",
      "Ep: 80 || Score: 102\n",
      "Ep: 81 || Score: 140\n",
      "Ep: 82 || Score: 196\n",
      "Ep: 83 || Score: 90\n",
      "Ep: 84 || Score: 137\n",
      "Ep: 85 || Score: 122\n",
      "Ep: 86 || Score: 66\n",
      "Ep: 87 || Score: 110\n",
      "Ep: 88 || Score: 126\n",
      "Ep: 89 || Score: 184\n",
      "Ep: 90 || Score: 112\n",
      "Ep: 91 || Score: 148\n",
      "Ep: 92 || Score: 182\n",
      "Ep: 93 || Score: 106\n",
      "Ep: 94 || Score: 102\n",
      "Ep: 95 || Score: 182\n",
      "Ep: 96 || Score: 82\n",
      "Ep: 97 || Score: 130\n",
      "Ep: 98 || Score: 115\n",
      "Ep: 99 || Score: 151\n"
     ]
    }
   ],
   "source": [
    "episodes = 100\n",
    "for ep in range(episodes):\n",
    "    obs = env.reset()\n",
    "    done = False\n",
    "    score = 0\n",
    "    while not done:\n",
    "        obs, rew, done, info = env.step(env.action_space.sample())\n",
    "        if render:\n",
    "            env.render()\n",
    "        score += rew\n",
    "    print(f\"Ep: {ep} || Score: {score}\")"
   ]
  },
  {
   "cell_type": "code",
   "execution_count": 628,
   "id": "2aa64ba6",
   "metadata": {},
   "outputs": [
    {
     "data": {
      "text/plain": [
       "(25,)"
      ]
     },
     "execution_count": 628,
     "metadata": {},
     "output_type": "execute_result"
    }
   ],
   "source": [
    "np.array([Discrete(3)] * 25).shape"
   ]
  },
  {
   "cell_type": "code",
   "execution_count": 629,
   "id": "c872f175",
   "metadata": {},
   "outputs": [
    {
     "data": {
      "text/plain": [
       "0"
      ]
     },
     "execution_count": 629,
     "metadata": {},
     "output_type": "execute_result"
    }
   ],
   "source": [
    "MultiDiscrete(2).sample()"
   ]
  },
  {
   "cell_type": "markdown",
   "id": "120d1865",
   "metadata": {},
   "source": [
    "## PPO stablebaselines"
   ]
  },
  {
   "cell_type": "code",
   "execution_count": 630,
   "id": "d13e6c87",
   "metadata": {},
   "outputs": [],
   "source": [
    "import os\n",
    "from stable_baselines3 import PPO\n",
    "from stable_baselines3.common.vec_env import DummyVecEnv\n",
    "from stable_baselines3.common.evaluation import evaluate_policy"
   ]
  },
  {
   "cell_type": "markdown",
   "id": "2ae7ef56",
   "metadata": {},
   "source": [
    "## Treinando o modelo"
   ]
  },
  {
   "cell_type": "code",
   "execution_count": 631,
   "id": "f97384d1",
   "metadata": {},
   "outputs": [],
   "source": [
    "log_path = os.path.join('Training', 'PP_0')"
   ]
  },
  {
   "cell_type": "code",
   "execution_count": 632,
   "id": "de2be019",
   "metadata": {},
   "outputs": [
    {
     "data": {
      "text/plain": [
       "'Training\\\\PP_0'"
      ]
     },
     "execution_count": 632,
     "metadata": {},
     "output_type": "execute_result"
    }
   ],
   "source": [
    "log_path"
   ]
  },
  {
   "cell_type": "code",
   "execution_count": 633,
   "id": "b5518f1c",
   "metadata": {},
   "outputs": [
    {
     "data": {
      "text/plain": [
       "<__main__.PPEnv at 0x1bc4d7e0790>"
      ]
     },
     "execution_count": 633,
     "metadata": {},
     "output_type": "execute_result"
    }
   ],
   "source": [
    "env"
   ]
  },
  {
   "cell_type": "markdown",
   "id": "114cfe87",
   "metadata": {},
   "source": [
    "## Genetic"
   ]
  },
  {
   "cell_type": "code",
   "execution_count": 634,
   "id": "573f15ba",
   "metadata": {},
   "outputs": [],
   "source": [
    "env = PPEnv()"
   ]
  },
  {
   "cell_type": "code",
   "execution_count": 635,
   "id": "15f90502",
   "metadata": {},
   "outputs": [],
   "source": [
    "from tqdm import tqdm\n",
    "import random\n",
    "\n",
    "num_models = 75\n",
    "num_generations = 75\n",
    "nb_of_simulations = 10\n",
    "fraction = 0.2"
   ]
  },
  {
   "cell_type": "code",
   "execution_count": 636,
   "id": "a2d745a9",
   "metadata": {},
   "outputs": [],
   "source": [
    "class NeuralModel:\n",
    "\n",
    "    @staticmethod\n",
    "    def get_random_params(obs_size, act_size):\n",
    "        \n",
    "#         return [\n",
    "#             np.random.randn(obs_size, obs_size + 1),\n",
    "#             np.zeros(obs_size + 1),\n",
    "#             np.random.randn(obs_size + 1, act_size),\n",
    "#             np.zeros(act_size),\n",
    "#         ]\n",
    "        return [\n",
    "            np.random.randn(25, 25),\n",
    "            np.zeros(25),\n",
    "            \n",
    "            np.random.randn(25, 25),\n",
    "            np.zeros(25),\n",
    "            \n",
    "            np.random.randn(25, 4),\n",
    "            np.zeros(4),\n",
    "        ]\n",
    "        \n",
    "\n",
    "    def __init__(self, obs_act_sizes, params=None):\n",
    "        self.obs_act_sizes = obs_act_sizes\n",
    "        obs_size, act_size = self.obs_act_sizes\n",
    "#         obs_size = len(env.observation_space.sample())\n",
    "#         act_size = env.action_space.n\n",
    "        if not params:\n",
    "            params = self.get_random_params(obs_size, act_size)\n",
    "\n",
    "        n_inputs = obs_size  # env.observation_space.shape[0]\n",
    "        self.model = keras.models.Sequential([\n",
    "            \n",
    "#             keras.layers.Dense(obs_size + 1, activation=\"elu\", input_shape=[n_inputs]),\n",
    "#             keras.layers.Dense(act_size, activation=\"softmax\"),\n",
    "            \n",
    "            keras.layers.Dense(25, activation=\"relu\", input_shape=[25]),\n",
    "            keras.layers.Dense(25, activation=\"relu\"),\n",
    "            keras.layers.Dense(4, activation=\"softmax\"),\n",
    "            \n",
    "        ])\n",
    "        \n",
    "        self.model.compile()\n",
    "\n",
    "        self.model.set_weights(params)\n",
    "\n",
    "    def __call__(self, obs):\n",
    "        return self.model(obs)\n",
    "\n",
    "    def make_offspring(self):\n",
    "        weights = self.model.get_weights()\n",
    "        \n",
    "#         new_weights = [w + np.random.randn(w.shape) for w in weights]\n",
    "        new_weights = []\n",
    "        for w in weights:\n",
    "            if len(w.shape) == 2:\n",
    "                new_weights.append(w + np.random.randn(w.shape[0], w.shape[1])/5)\n",
    "            else:\n",
    "                new_weights.append(w)\n",
    "        #print(new_weights)\n",
    "        \n",
    "        return NeuralModel(self.obs_act_sizes, params=new_weights)"
   ]
  },
  {
   "cell_type": "code",
   "execution_count": 637,
   "id": "b1c46bbb",
   "metadata": {},
   "outputs": [
    {
     "name": "stdout",
     "output_type": "stream",
     "text": [
      "(25, 4)\n"
     ]
    }
   ],
   "source": [
    "def run_simulation(model, nb_of_simulations=10):\n",
    "\n",
    "    total_reward = 0\n",
    "    steps = 0\n",
    "    for _ in range(nb_of_simulations):\n",
    "        \n",
    "        observation = env.reset().reshape(1,-1) #seed=random.randrange(1000))\n",
    "        done = False\n",
    "\n",
    "        while not done:\n",
    "            action = model.model(observation).numpy().argmax()\n",
    "            observation, reward, done, info = env.step(action)\n",
    "            observation = observation.reshape(1,-1)\n",
    "            total_reward += reward\n",
    "            steps += 1\n",
    "#             env.render()\n",
    "    #env.close()\n",
    "    return total_reward / nb_of_simulations, steps\n",
    "\n",
    "obs_act_sizes = (len(env.observation_space.sample()) ** 2, env.action_space.n)\n",
    "models = [NeuralModel(obs_act_sizes) for _ in range(num_models)]\n",
    "print(obs_act_sizes)"
   ]
  },
  {
   "cell_type": "code",
   "execution_count": 638,
   "id": "9c199e56",
   "metadata": {},
   "outputs": [
    {
     "data": {
      "text/plain": [
       "array([[0, 1, 1, 0, 0],\n",
       "       [2, 0, 0, 2, 1],\n",
       "       [1, 0, 2, 2, 0],\n",
       "       [0, 0, 0, 2, 2],\n",
       "       [0, 1, 0, 2, 2]], dtype=int64)"
      ]
     },
     "execution_count": 638,
     "metadata": {},
     "output_type": "execute_result"
    }
   ],
   "source": [
    "env.observation_space.sample()"
   ]
  },
  {
   "cell_type": "code",
   "execution_count": 639,
   "id": "ceeee314",
   "metadata": {
    "scrolled": true
   },
   "outputs": [
    {
     "name": "stderr",
     "output_type": "stream",
     "text": [
      "\r",
      "  0%|                                                                                           | 0/75 [00:00<?, ?it/s]"
     ]
    },
    {
     "name": "stdout",
     "output_type": "stream",
     "text": [
      "19500 135.72266666666664 209.2 260.0\n"
     ]
    },
    {
     "name": "stderr",
     "output_type": "stream",
     "text": [
      "\r",
      "  1%|█                                                                                  | 1/75 [00:35<43:48, 35.52s/it]"
     ]
    },
    {
     "name": "stdout",
     "output_type": "stream",
     "text": [
      "39000 137.68800000000002 176.9 260.0\n"
     ]
    },
    {
     "name": "stderr",
     "output_type": "stream",
     "text": [
      "\r",
      "  3%|██▏                                                                                | 2/75 [01:08<41:15, 33.90s/it]"
     ]
    },
    {
     "name": "stdout",
     "output_type": "stream",
     "text": [
      "58500 140.72000000000003 200.5 260.0\n"
     ]
    },
    {
     "name": "stderr",
     "output_type": "stream",
     "text": [
      "\r",
      "  4%|███▎                                                                               | 3/75 [01:40<39:33, 32.97s/it]"
     ]
    },
    {
     "name": "stdout",
     "output_type": "stream",
     "text": [
      "78000 140.624 185.5 260.0\n"
     ]
    },
    {
     "name": "stderr",
     "output_type": "stream",
     "text": [
      "\r",
      "  5%|████▍                                                                              | 4/75 [02:13<39:05, 33.04s/it]"
     ]
    },
    {
     "name": "stdout",
     "output_type": "stream",
     "text": [
      "97500 140.7506666666667 203.1 260.0\n"
     ]
    },
    {
     "name": "stderr",
     "output_type": "stream",
     "text": [
      "\r",
      "  7%|█████▌                                                                             | 5/75 [02:49<39:57, 34.25s/it]"
     ]
    },
    {
     "name": "stdout",
     "output_type": "stream",
     "text": [
      "117000 142.2053333333334 210.0 260.0\n"
     ]
    },
    {
     "name": "stderr",
     "output_type": "stream",
     "text": [
      "\r",
      "  8%|██████▋                                                                            | 6/75 [03:21<38:23, 33.38s/it]"
     ]
    },
    {
     "name": "stdout",
     "output_type": "stream",
     "text": [
      "136500 144.69733333333335 202.1 260.0\n"
     ]
    },
    {
     "name": "stderr",
     "output_type": "stream",
     "text": [
      "\r",
      "  9%|███████▋                                                                           | 7/75 [03:53<37:27, 33.05s/it]"
     ]
    },
    {
     "name": "stdout",
     "output_type": "stream",
     "text": [
      "156000 148.192 190.3 260.0\n"
     ]
    },
    {
     "name": "stderr",
     "output_type": "stream",
     "text": [
      "\r",
      " 11%|████████▊                                                                          | 8/75 [04:42<42:24, 37.98s/it]"
     ]
    },
    {
     "name": "stdout",
     "output_type": "stream",
     "text": [
      "175500 145.33866666666665 201.9 260.0\n"
     ]
    },
    {
     "name": "stderr",
     "output_type": "stream",
     "text": [
      "\r",
      " 12%|█████████▉                                                                         | 9/75 [05:17<40:46, 37.07s/it]"
     ]
    },
    {
     "name": "stdout",
     "output_type": "stream",
     "text": [
      "195000 153.16799999999995 210.9 260.0\n"
     ]
    },
    {
     "name": "stderr",
     "output_type": "stream",
     "text": [
      "\r",
      " 13%|██████████▉                                                                       | 10/75 [05:56<40:59, 37.84s/it]"
     ]
    },
    {
     "name": "stdout",
     "output_type": "stream",
     "text": [
      "214500 151.504 208.3 260.0\n"
     ]
    },
    {
     "name": "stderr",
     "output_type": "stream",
     "text": [
      "\r",
      " 15%|████████████                                                                      | 11/75 [06:29<38:47, 36.36s/it]"
     ]
    },
    {
     "name": "stdout",
     "output_type": "stream",
     "text": [
      "234000 153.688 207.6 260.0\n"
     ]
    },
    {
     "name": "stderr",
     "output_type": "stream",
     "text": [
      "\r",
      " 16%|█████████████                                                                     | 12/75 [07:05<37:59, 36.18s/it]"
     ]
    },
    {
     "name": "stdout",
     "output_type": "stream",
     "text": [
      "253500 153.18000000000004 203.6 260.0\n"
     ]
    },
    {
     "name": "stderr",
     "output_type": "stream",
     "text": [
      "\r",
      " 17%|██████████████▏                                                                   | 13/75 [07:39<36:40, 35.50s/it]"
     ]
    },
    {
     "name": "stdout",
     "output_type": "stream",
     "text": [
      "273000 160.93200000000002 224.3 260.0\n"
     ]
    },
    {
     "name": "stderr",
     "output_type": "stream",
     "text": [
      "\r",
      " 19%|███████████████▎                                                                  | 14/75 [08:13<35:32, 34.97s/it]"
     ]
    },
    {
     "name": "stdout",
     "output_type": "stream",
     "text": [
      "292500 155.01866666666666 246.1 260.0\n"
     ]
    },
    {
     "name": "stderr",
     "output_type": "stream",
     "text": [
      "\r",
      " 20%|████████████████▍                                                                 | 15/75 [08:43<33:25, 33.43s/it]"
     ]
    },
    {
     "name": "stdout",
     "output_type": "stream",
     "text": [
      "312000 156.26000000000005 235.4 260.0\n"
     ]
    },
    {
     "name": "stderr",
     "output_type": "stream",
     "text": [
      "\r",
      " 21%|█████████████████▍                                                                | 16/75 [09:17<32:59, 33.55s/it]"
     ]
    },
    {
     "name": "stdout",
     "output_type": "stream",
     "text": [
      "331500 160.85333333333335 210.6 260.0\n"
     ]
    },
    {
     "name": "stderr",
     "output_type": "stream",
     "text": [
      "\r",
      " 23%|██████████████████▌                                                               | 17/75 [09:48<31:55, 33.03s/it]"
     ]
    },
    {
     "name": "stdout",
     "output_type": "stream",
     "text": [
      "351000 160.08933333333334 226.0 260.0\n"
     ]
    },
    {
     "name": "stderr",
     "output_type": "stream",
     "text": [
      "\r",
      " 24%|███████████████████▋                                                              | 18/75 [10:18<30:32, 32.16s/it]"
     ]
    },
    {
     "name": "stdout",
     "output_type": "stream",
     "text": [
      "370500 161.83466666666664 241.7 260.0\n"
     ]
    },
    {
     "name": "stderr",
     "output_type": "stream",
     "text": [
      "\r",
      " 25%|████████████████████▊                                                             | 19/75 [10:52<30:30, 32.69s/it]"
     ]
    },
    {
     "name": "stdout",
     "output_type": "stream",
     "text": [
      "390000 158.5053333333333 205.1 260.0\n"
     ]
    },
    {
     "name": "stderr",
     "output_type": "stream",
     "text": [
      "\r",
      " 27%|█████████████████████▊                                                            | 20/75 [11:28<30:39, 33.44s/it]"
     ]
    },
    {
     "name": "stdout",
     "output_type": "stream",
     "text": [
      "409500 156.6133333333333 229.1 260.0\n"
     ]
    },
    {
     "name": "stderr",
     "output_type": "stream",
     "text": [
      "\r",
      " 28%|██████████████████████▉                                                           | 21/75 [11:58<29:20, 32.60s/it]"
     ]
    },
    {
     "name": "stdout",
     "output_type": "stream",
     "text": [
      "429000 155.59466666666663 200.3 260.0\n"
     ]
    },
    {
     "name": "stderr",
     "output_type": "stream",
     "text": [
      "\r",
      " 29%|████████████████████████                                                          | 22/75 [12:29<28:21, 32.10s/it]"
     ]
    },
    {
     "name": "stdout",
     "output_type": "stream",
     "text": [
      "448500 160.43333333333337 213.2 260.0\n"
     ]
    },
    {
     "name": "stderr",
     "output_type": "stream",
     "text": [
      "\r",
      " 31%|█████████████████████████▏                                                        | 23/75 [13:02<28:05, 32.42s/it]"
     ]
    },
    {
     "name": "stdout",
     "output_type": "stream",
     "text": [
      "468000 155.68266666666665 199.3 260.0\n"
     ]
    },
    {
     "name": "stderr",
     "output_type": "stream",
     "text": [
      "\r",
      " 32%|██████████████████████████▏                                                       | 24/75 [13:37<28:02, 32.99s/it]"
     ]
    },
    {
     "name": "stdout",
     "output_type": "stream",
     "text": [
      "487500 159.4293333333333 218.9 260.0\n"
     ]
    },
    {
     "name": "stderr",
     "output_type": "stream",
     "text": [
      "\r",
      " 33%|███████████████████████████▎                                                      | 25/75 [14:08<27:09, 32.59s/it]"
     ]
    },
    {
     "name": "stdout",
     "output_type": "stream",
     "text": [
      "507000 157.65466666666666 218.4 260.0\n"
     ]
    },
    {
     "name": "stderr",
     "output_type": "stream",
     "text": [
      "\r",
      " 35%|████████████████████████████▍                                                     | 26/75 [14:41<26:37, 32.60s/it]"
     ]
    },
    {
     "name": "stdout",
     "output_type": "stream",
     "text": [
      "526500 161.93333333333337 219.1 260.0\n"
     ]
    },
    {
     "name": "stderr",
     "output_type": "stream",
     "text": [
      "\r",
      " 36%|█████████████████████████████▌                                                    | 27/75 [15:16<26:41, 33.36s/it]"
     ]
    },
    {
     "name": "stdout",
     "output_type": "stream",
     "text": [
      "546000 158.28933333333333 231.2 260.0\n"
     ]
    },
    {
     "name": "stderr",
     "output_type": "stream",
     "text": [
      "\r",
      " 37%|██████████████████████████████▌                                                   | 28/75 [15:48<25:44, 32.87s/it]"
     ]
    },
    {
     "name": "stdout",
     "output_type": "stream",
     "text": [
      "565500 156.10933333333327 199.5 260.0\n"
     ]
    },
    {
     "name": "stderr",
     "output_type": "stream",
     "text": [
      "\r",
      " 39%|███████████████████████████████▋                                                  | 29/75 [16:19<24:54, 32.49s/it]"
     ]
    },
    {
     "name": "stdout",
     "output_type": "stream",
     "text": [
      "585000 161.6906666666667 214.6 260.0\n"
     ]
    },
    {
     "name": "stderr",
     "output_type": "stream",
     "text": [
      "\r",
      " 40%|████████████████████████████████▊                                                 | 30/75 [16:52<24:22, 32.50s/it]"
     ]
    },
    {
     "name": "stdout",
     "output_type": "stream",
     "text": [
      "604500 156.5826666666667 197.7 260.0\n"
     ]
    },
    {
     "name": "stderr",
     "output_type": "stream",
     "text": [
      "\r",
      " 41%|█████████████████████████████████▉                                                | 31/75 [17:24<23:41, 32.30s/it]"
     ]
    },
    {
     "name": "stdout",
     "output_type": "stream",
     "text": [
      "624000 159.86133333333336 205.3 260.0\n"
     ]
    },
    {
     "name": "stderr",
     "output_type": "stream",
     "text": [
      "\r",
      " 43%|██████████████████████████████████▉                                               | 32/75 [17:56<23:04, 32.21s/it]"
     ]
    },
    {
     "name": "stdout",
     "output_type": "stream",
     "text": [
      "643500 155.8466666666667 215.2 260.0\n"
     ]
    },
    {
     "name": "stderr",
     "output_type": "stream",
     "text": [
      "\r",
      " 44%|████████████████████████████████████                                              | 33/75 [18:30<22:54, 32.72s/it]"
     ]
    },
    {
     "name": "stdout",
     "output_type": "stream",
     "text": [
      "663000 153.956 201.0 260.0\n"
     ]
    },
    {
     "name": "stderr",
     "output_type": "stream",
     "text": [
      "\r",
      " 45%|█████████████████████████████████████▏                                            | 34/75 [19:02<22:11, 32.47s/it]"
     ]
    },
    {
     "name": "stdout",
     "output_type": "stream",
     "text": [
      "682500 155.61999999999995 199.8 260.0\n"
     ]
    },
    {
     "name": "stderr",
     "output_type": "stream",
     "text": [
      "\r",
      " 47%|██████████████████████████████████████▎                                           | 35/75 [19:33<21:28, 32.22s/it]"
     ]
    },
    {
     "name": "stdout",
     "output_type": "stream",
     "text": [
      "702000 154.91866666666667 214.1 260.0\n"
     ]
    },
    {
     "name": "stderr",
     "output_type": "stream",
     "text": [
      "\r",
      " 48%|███████████████████████████████████████▎                                          | 36/75 [20:05<20:46, 31.96s/it]"
     ]
    },
    {
     "name": "stdout",
     "output_type": "stream",
     "text": [
      "721500 156.0346666666666 193.1 260.0\n"
     ]
    },
    {
     "name": "stderr",
     "output_type": "stream",
     "text": [
      "\r",
      " 49%|████████████████████████████████████████▍                                         | 37/75 [20:36<20:06, 31.75s/it]"
     ]
    },
    {
     "name": "stdout",
     "output_type": "stream",
     "text": [
      "741000 154.7173333333333 194.1 260.0\n"
     ]
    },
    {
     "name": "stderr",
     "output_type": "stream",
     "text": [
      "\r",
      " 51%|█████████████████████████████████████████▌                                        | 38/75 [21:09<19:54, 32.27s/it]"
     ]
    },
    {
     "name": "stdout",
     "output_type": "stream",
     "text": [
      "760500 158.38399999999996 218.2 260.0\n"
     ]
    },
    {
     "name": "stderr",
     "output_type": "stream",
     "text": [
      "\r",
      " 52%|██████████████████████████████████████████▋                                       | 39/75 [21:40<19:07, 31.87s/it]"
     ]
    },
    {
     "name": "stdout",
     "output_type": "stream",
     "text": [
      "780000 158.77733333333333 213.8 260.0\n"
     ]
    },
    {
     "name": "stderr",
     "output_type": "stream",
     "text": [
      "\r",
      " 53%|███████████████████████████████████████████▋                                      | 40/75 [22:12<18:29, 31.69s/it]"
     ]
    },
    {
     "name": "stdout",
     "output_type": "stream",
     "text": [
      "799500 163.88933333333333 207.8 260.0\n"
     ]
    },
    {
     "name": "stderr",
     "output_type": "stream",
     "text": [
      "\r",
      " 55%|████████████████████████████████████████████▊                                     | 41/75 [22:43<17:51, 31.53s/it]"
     ]
    },
    {
     "name": "stdout",
     "output_type": "stream",
     "text": [
      "819000 163.412 220.1 260.0\n"
     ]
    },
    {
     "name": "stderr",
     "output_type": "stream",
     "text": [
      "\r",
      " 56%|█████████████████████████████████████████████▉                                    | 42/75 [23:17<17:45, 32.29s/it]"
     ]
    },
    {
     "name": "stdout",
     "output_type": "stream",
     "text": [
      "838500 163.84800000000007 204.7 260.0\n"
     ]
    },
    {
     "name": "stderr",
     "output_type": "stream",
     "text": [
      "\r",
      " 57%|███████████████████████████████████████████████                                   | 43/75 [23:49<17:10, 32.20s/it]"
     ]
    },
    {
     "name": "stdout",
     "output_type": "stream",
     "text": [
      "858000 153.72133333333335 201.6 260.0\n"
     ]
    },
    {
     "name": "stderr",
     "output_type": "stream",
     "text": [
      "\r",
      " 59%|████████████████████████████████████████████████                                  | 44/75 [24:18<16:11, 31.35s/it]"
     ]
    },
    {
     "name": "stdout",
     "output_type": "stream",
     "text": [
      "877500 157.91333333333338 243.0 260.0\n"
     ]
    },
    {
     "name": "stderr",
     "output_type": "stream",
     "text": [
      "\r",
      " 60%|█████████████████████████████████████████████████▏                                | 45/75 [24:47<15:16, 30.56s/it]"
     ]
    },
    {
     "name": "stdout",
     "output_type": "stream",
     "text": [
      "897000 165.8226666666666 212.6 260.0\n"
     ]
    },
    {
     "name": "stderr",
     "output_type": "stream",
     "text": [
      "\r",
      " 61%|██████████████████████████████████████████████████▎                               | 46/75 [25:22<15:26, 31.96s/it]"
     ]
    },
    {
     "name": "stdout",
     "output_type": "stream",
     "text": [
      "916500 162.26666666666668 208.0 260.0\n"
     ]
    },
    {
     "name": "stderr",
     "output_type": "stream",
     "text": [
      "\r",
      " 63%|███████████████████████████████████████████████████▍                              | 47/75 [26:03<16:07, 34.55s/it]"
     ]
    },
    {
     "name": "stdout",
     "output_type": "stream",
     "text": [
      "936000 163.00133333333335 210.4 260.0\n"
     ]
    },
    {
     "name": "stderr",
     "output_type": "stream",
     "text": [
      "\r",
      " 64%|████████████████████████████████████████████████████▍                             | 48/75 [26:50<17:18, 38.46s/it]"
     ]
    },
    {
     "name": "stdout",
     "output_type": "stream",
     "text": [
      "955500 164.88933333333327 254.9 260.0\n"
     ]
    },
    {
     "name": "stderr",
     "output_type": "stream",
     "text": [
      "\r",
      " 65%|█████████████████████████████████████████████████████▌                            | 49/75 [27:30<16:47, 38.76s/it]"
     ]
    },
    {
     "name": "stdout",
     "output_type": "stream",
     "text": [
      "975000 165.43066666666672 207.8 260.0\n"
     ]
    },
    {
     "name": "stderr",
     "output_type": "stream",
     "text": [
      "\r",
      " 67%|██████████████████████████████████████████████████████▋                           | 50/75 [28:01<15:11, 36.45s/it]"
     ]
    },
    {
     "name": "stdout",
     "output_type": "stream",
     "text": [
      "994500 162.77866666666668 215.4 260.0\n"
     ]
    },
    {
     "name": "stderr",
     "output_type": "stream",
     "text": [
      "\r",
      " 68%|███████████████████████████████████████████████████████▊                          | 51/75 [28:32<13:57, 34.88s/it]"
     ]
    },
    {
     "name": "stdout",
     "output_type": "stream",
     "text": [
      "1014000 168.65599999999998 219.0 260.0\n"
     ]
    },
    {
     "name": "stderr",
     "output_type": "stream",
     "text": [
      "\r",
      " 69%|████████████████████████████████████████████████████████▊                         | 52/75 [29:05<13:12, 34.44s/it]"
     ]
    },
    {
     "name": "stdout",
     "output_type": "stream",
     "text": [
      "1033500 160.19199999999995 227.2 260.0\n"
     ]
    },
    {
     "name": "stderr",
     "output_type": "stream",
     "text": [
      "\r",
      " 71%|█████████████████████████████████████████████████████████▉                        | 53/75 [29:42<12:53, 35.15s/it]"
     ]
    },
    {
     "name": "stdout",
     "output_type": "stream",
     "text": [
      "1053000 162.91866666666667 204.6 260.0\n"
     ]
    },
    {
     "name": "stderr",
     "output_type": "stream",
     "text": [
      "\r",
      " 72%|███████████████████████████████████████████████████████████                       | 54/75 [30:22<12:45, 36.44s/it]"
     ]
    },
    {
     "name": "stdout",
     "output_type": "stream",
     "text": [
      "1072500 162.7493333333333 205.8 260.0\n"
     ]
    },
    {
     "name": "stderr",
     "output_type": "stream",
     "text": [
      "\r",
      " 73%|████████████████████████████████████████████████████████████▏                     | 55/75 [30:56<11:57, 35.88s/it]"
     ]
    },
    {
     "name": "stdout",
     "output_type": "stream",
     "text": [
      "1092000 156.78133333333335 207.2 260.0\n"
     ]
    },
    {
     "name": "stderr",
     "output_type": "stream",
     "text": [
      "\r",
      " 75%|█████████████████████████████████████████████████████████████▏                    | 56/75 [31:28<10:57, 34.58s/it]"
     ]
    },
    {
     "name": "stdout",
     "output_type": "stream",
     "text": [
      "1111500 161.7386666666667 205.2 260.0\n"
     ]
    },
    {
     "name": "stderr",
     "output_type": "stream",
     "text": [
      "\r",
      " 76%|██████████████████████████████████████████████████████████████▎                   | 57/75 [31:59<10:06, 33.71s/it]"
     ]
    },
    {
     "name": "stdout",
     "output_type": "stream",
     "text": [
      "1131000 161.28000000000006 227.3 260.0\n"
     ]
    },
    {
     "name": "stderr",
     "output_type": "stream",
     "text": [
      "\r",
      " 77%|███████████████████████████████████████████████████████████████▍                  | 58/75 [32:29<09:14, 32.62s/it]"
     ]
    },
    {
     "name": "stdout",
     "output_type": "stream",
     "text": [
      "1150500 161.79600000000002 219.9 260.0\n"
     ]
    },
    {
     "name": "stderr",
     "output_type": "stream",
     "text": [
      "\r",
      " 79%|████████████████████████████████████████████████████████████████▌                 | 59/75 [32:54<08:02, 30.15s/it]"
     ]
    },
    {
     "name": "stdout",
     "output_type": "stream",
     "text": [
      "1170000 159.8773333333333 228.5 260.0\n"
     ]
    },
    {
     "name": "stderr",
     "output_type": "stream",
     "text": [
      "\r",
      " 80%|█████████████████████████████████████████████████████████████████▌                | 60/75 [33:18<07:04, 28.33s/it]"
     ]
    },
    {
     "name": "stdout",
     "output_type": "stream",
     "text": [
      "1189500 166.07866666666672 218.6 260.0\n"
     ]
    },
    {
     "name": "stderr",
     "output_type": "stream",
     "text": [
      "\r",
      " 81%|██████████████████████████████████████████████████████████████████▋               | 61/75 [33:44<06:27, 27.70s/it]"
     ]
    },
    {
     "name": "stdout",
     "output_type": "stream",
     "text": [
      "1209000 165.27199999999996 244.4 260.0\n"
     ]
    },
    {
     "name": "stderr",
     "output_type": "stream",
     "text": [
      "\r",
      " 83%|███████████████████████████████████████████████████████████████████▊              | 62/75 [34:08<05:45, 26.59s/it]"
     ]
    },
    {
     "name": "stdout",
     "output_type": "stream",
     "text": [
      "1228500 158.30133333333336 216.9 260.0\n"
     ]
    },
    {
     "name": "stderr",
     "output_type": "stream",
     "text": [
      "\r",
      " 84%|████████████████████████████████████████████████████████████████████▉             | 63/75 [34:35<05:18, 26.57s/it]"
     ]
    },
    {
     "name": "stdout",
     "output_type": "stream",
     "text": [
      "1248000 164.28933333333333 212.2 260.0\n"
     ]
    },
    {
     "name": "stderr",
     "output_type": "stream",
     "text": [
      "\r",
      " 85%|█████████████████████████████████████████████████████████████████████▉            | 64/75 [35:00<04:49, 26.28s/it]"
     ]
    },
    {
     "name": "stdout",
     "output_type": "stream",
     "text": [
      "1267500 163.65199999999996 216.2 260.0\n"
     ]
    },
    {
     "name": "stderr",
     "output_type": "stream",
     "text": [
      "\r",
      " 87%|███████████████████████████████████████████████████████████████████████           | 65/75 [35:27<04:23, 26.31s/it]"
     ]
    },
    {
     "name": "stdout",
     "output_type": "stream",
     "text": [
      "1287000 164.4866666666666 239.1 260.0\n"
     ]
    },
    {
     "name": "stderr",
     "output_type": "stream",
     "text": [
      "\r",
      " 88%|████████████████████████████████████████████████████████████████████████▏         | 66/75 [35:53<03:56, 26.30s/it]"
     ]
    },
    {
     "name": "stdout",
     "output_type": "stream",
     "text": [
      "1306500 158.26399999999998 225.6 260.0\n"
     ]
    },
    {
     "name": "stderr",
     "output_type": "stream",
     "text": [
      "\r",
      " 89%|█████████████████████████████████████████████████████████████████████████▎        | 67/75 [36:18<03:27, 25.97s/it]"
     ]
    },
    {
     "name": "stdout",
     "output_type": "stream",
     "text": [
      "1326000 164.37333333333333 217.0 260.0\n"
     ]
    },
    {
     "name": "stderr",
     "output_type": "stream",
     "text": [
      "\r",
      " 91%|██████████████████████████████████████████████████████████████████████████▎       | 68/75 [36:43<02:59, 25.70s/it]"
     ]
    },
    {
     "name": "stdout",
     "output_type": "stream",
     "text": [
      "1345500 159.0226666666666 221.5 260.0\n"
     ]
    },
    {
     "name": "stderr",
     "output_type": "stream",
     "text": [
      "\r",
      " 92%|███████████████████████████████████████████████████████████████████████████▍      | 69/75 [37:08<02:32, 25.38s/it]"
     ]
    },
    {
     "name": "stdout",
     "output_type": "stream",
     "text": [
      "1365000 162.19599999999997 225.4 260.0\n"
     ]
    },
    {
     "name": "stderr",
     "output_type": "stream",
     "text": [
      "\r",
      " 93%|████████████████████████████████████████████████████████████████████████████▌     | 70/75 [37:33<02:07, 25.45s/it]"
     ]
    },
    {
     "name": "stdout",
     "output_type": "stream",
     "text": [
      "1384500 162.39733333333334 209.4 260.0\n"
     ]
    },
    {
     "name": "stderr",
     "output_type": "stream",
     "text": [
      "\r",
      " 95%|█████████████████████████████████████████████████████████████████████████████▋    | 71/75 [37:59<01:42, 25.59s/it]"
     ]
    },
    {
     "name": "stdout",
     "output_type": "stream",
     "text": [
      "1404000 166.50133333333332 230.6 260.0\n"
     ]
    },
    {
     "name": "stderr",
     "output_type": "stream",
     "text": [
      "\r",
      " 96%|██████████████████████████████████████████████████████████████████████████████▋   | 72/75 [38:26<01:17, 25.81s/it]"
     ]
    },
    {
     "name": "stdout",
     "output_type": "stream",
     "text": [
      "1423500 163.11066666666665 218.5 260.0\n"
     ]
    },
    {
     "name": "stderr",
     "output_type": "stream",
     "text": [
      "\r",
      " 97%|███████████████████████████████████████████████████████████████████████████████▊  | 73/75 [38:52<00:51, 25.96s/it]"
     ]
    },
    {
     "name": "stdout",
     "output_type": "stream",
     "text": [
      "1443000 166.42399999999995 235.4 260.0\n"
     ]
    },
    {
     "name": "stderr",
     "output_type": "stream",
     "text": [
      "\r",
      " 99%|████████████████████████████████████████████████████████████████████████████████▉ | 74/75 [39:15<00:25, 25.15s/it]"
     ]
    },
    {
     "name": "stdout",
     "output_type": "stream",
     "text": [
      "1462500 169.5533333333334 213.8 260.0\n"
     ]
    },
    {
     "name": "stderr",
     "output_type": "stream",
     "text": [
      "100%|██████████████████████████████████████████████████████████████████████████████████| 75/75 [39:41<00:00, 31.75s/it]\n"
     ]
    }
   ],
   "source": [
    "fitness_y = []\n",
    "len_ep_mean_y = []\n",
    "steps_x = []\n",
    "\n",
    "for generation in tqdm(range(num_generations)):\n",
    "    # Roda cada modelo e obtem seu fitness.\n",
    "    # fitness = [run_simulation(model, 10) for model in models]\n",
    "    fitness = []\n",
    "    steps = []\n",
    "    for model in models:\n",
    "        fit_steps = run_simulation(model, nb_of_simulations)\n",
    "        fitness.append(fit_steps[0])\n",
    "        steps.append(fit_steps[1])\n",
    "        \n",
    "    # Acumula fitness médio pra plotar gráfico\n",
    "    fitness_y.append(sum(fitness) / len(fitness))\n",
    "    len_ep_mean_y.append(sum(steps) / len(steps))\n",
    "    if steps_x == []:\n",
    "        steps_x.append(sum(steps))\n",
    "    else:\n",
    "        steps_x.append(steps_x[-1] + (sum(steps)))\n",
    "    \n",
    "    # Mostra último ponto de fitness\n",
    "    print(steps_x[-1], fitness_y[-1], max(fitness), len_ep_mean_y[-1])\n",
    "    \n",
    "    # Seleciona os melhores.\n",
    "    sorted_indexes = list(item[1] for item in sorted(\n",
    "        ((fitness, k) for k, fitness in enumerate(fitness)), reverse=True))\n",
    "    \n",
    "    number_suvivors = int(num_models * fraction)\n",
    "    models_to_keep = [models[k] for k in sorted_indexes[:number_suvivors]]\n",
    "\n",
    "    # Cria as cria.\n",
    "    #new_models = [m.make_offspring() for m in models_to_keep]\n",
    "    new_models = [models_to_keep[i%number_suvivors].make_offspring() for i in range(num_models - number_suvivors)]\n",
    "\n",
    "    models = models_to_keep + new_models"
   ]
  },
  {
   "cell_type": "code",
   "execution_count": null,
   "id": "284fc1ae",
   "metadata": {},
   "outputs": [],
   "source": []
  },
  {
   "cell_type": "code",
   "execution_count": 640,
   "id": "537bce4c",
   "metadata": {},
   "outputs": [
    {
     "name": "stdout",
     "output_type": "stream",
     "text": [
      "-----\n",
      "[[2 2 2 0 2]\n",
      " [0 0 0 2 2]\n",
      " [0 2 0 0 0]\n",
      " [0 0 2 2 2]\n",
      " [0 2 1 2 0]]\n",
      "-----\n"
     ]
    }
   ],
   "source": [
    "env.render()"
   ]
  },
  {
   "cell_type": "code",
   "execution_count": 641,
   "id": "ec7f940a",
   "metadata": {},
   "outputs": [
    {
     "data": {
      "text/plain": [
       "[135.72266666666664,\n",
       " 137.68800000000002,\n",
       " 140.72000000000003,\n",
       " 140.624,\n",
       " 140.7506666666667,\n",
       " 142.2053333333334,\n",
       " 144.69733333333335,\n",
       " 148.192,\n",
       " 145.33866666666665,\n",
       " 153.16799999999995,\n",
       " 151.504,\n",
       " 153.688,\n",
       " 153.18000000000004,\n",
       " 160.93200000000002,\n",
       " 155.01866666666666,\n",
       " 156.26000000000005,\n",
       " 160.85333333333335,\n",
       " 160.08933333333334,\n",
       " 161.83466666666664,\n",
       " 158.5053333333333,\n",
       " 156.6133333333333,\n",
       " 155.59466666666663,\n",
       " 160.43333333333337,\n",
       " 155.68266666666665,\n",
       " 159.4293333333333,\n",
       " 157.65466666666666,\n",
       " 161.93333333333337,\n",
       " 158.28933333333333,\n",
       " 156.10933333333327,\n",
       " 161.6906666666667,\n",
       " 156.5826666666667,\n",
       " 159.86133333333336,\n",
       " 155.8466666666667,\n",
       " 153.956,\n",
       " 155.61999999999995,\n",
       " 154.91866666666667,\n",
       " 156.0346666666666,\n",
       " 154.7173333333333,\n",
       " 158.38399999999996,\n",
       " 158.77733333333333,\n",
       " 163.88933333333333,\n",
       " 163.412,\n",
       " 163.84800000000007,\n",
       " 153.72133333333335,\n",
       " 157.91333333333338,\n",
       " 165.8226666666666,\n",
       " 162.26666666666668,\n",
       " 163.00133333333335,\n",
       " 164.88933333333327,\n",
       " 165.43066666666672,\n",
       " 162.77866666666668,\n",
       " 168.65599999999998,\n",
       " 160.19199999999995,\n",
       " 162.91866666666667,\n",
       " 162.7493333333333,\n",
       " 156.78133333333335,\n",
       " 161.7386666666667,\n",
       " 161.28000000000006,\n",
       " 161.79600000000002,\n",
       " 159.8773333333333,\n",
       " 166.07866666666672,\n",
       " 165.27199999999996,\n",
       " 158.30133333333336,\n",
       " 164.28933333333333,\n",
       " 163.65199999999996,\n",
       " 164.4866666666666,\n",
       " 158.26399999999998,\n",
       " 164.37333333333333,\n",
       " 159.0226666666666,\n",
       " 162.19599999999997,\n",
       " 162.39733333333334,\n",
       " 166.50133333333332,\n",
       " 163.11066666666665,\n",
       " 166.42399999999995,\n",
       " 169.5533333333334]"
      ]
     },
     "execution_count": 641,
     "metadata": {},
     "output_type": "execute_result"
    }
   ],
   "source": [
    "fitness_y"
   ]
  },
  {
   "cell_type": "code",
   "execution_count": 642,
   "id": "13c1b33e",
   "metadata": {},
   "outputs": [
    {
     "data": {
      "text/plain": [
       "[19500,\n",
       " 39000,\n",
       " 58500,\n",
       " 78000,\n",
       " 97500,\n",
       " 117000,\n",
       " 136500,\n",
       " 156000,\n",
       " 175500,\n",
       " 195000,\n",
       " 214500,\n",
       " 234000,\n",
       " 253500,\n",
       " 273000,\n",
       " 292500,\n",
       " 312000,\n",
       " 331500,\n",
       " 351000,\n",
       " 370500,\n",
       " 390000,\n",
       " 409500,\n",
       " 429000,\n",
       " 448500,\n",
       " 468000,\n",
       " 487500,\n",
       " 507000,\n",
       " 526500,\n",
       " 546000,\n",
       " 565500,\n",
       " 585000,\n",
       " 604500,\n",
       " 624000,\n",
       " 643500,\n",
       " 663000,\n",
       " 682500,\n",
       " 702000,\n",
       " 721500,\n",
       " 741000,\n",
       " 760500,\n",
       " 780000,\n",
       " 799500,\n",
       " 819000,\n",
       " 838500,\n",
       " 858000,\n",
       " 877500,\n",
       " 897000,\n",
       " 916500,\n",
       " 936000,\n",
       " 955500,\n",
       " 975000,\n",
       " 994500,\n",
       " 1014000,\n",
       " 1033500,\n",
       " 1053000,\n",
       " 1072500,\n",
       " 1092000,\n",
       " 1111500,\n",
       " 1131000,\n",
       " 1150500,\n",
       " 1170000,\n",
       " 1189500,\n",
       " 1209000,\n",
       " 1228500,\n",
       " 1248000,\n",
       " 1267500,\n",
       " 1287000,\n",
       " 1306500,\n",
       " 1326000,\n",
       " 1345500,\n",
       " 1365000,\n",
       " 1384500,\n",
       " 1404000,\n",
       " 1423500,\n",
       " 1443000,\n",
       " 1462500]"
      ]
     },
     "execution_count": 642,
     "metadata": {},
     "output_type": "execute_result"
    }
   ],
   "source": [
    "steps_x"
   ]
  },
  {
   "cell_type": "code",
   "execution_count": 643,
   "id": "7d38d37f",
   "metadata": {},
   "outputs": [],
   "source": [
    "import matplotlib.pyplot as plt"
   ]
  },
  {
   "cell_type": "code",
   "execution_count": 644,
   "id": "eb1238ff",
   "metadata": {},
   "outputs": [
    {
     "data": {
      "image/png": "[encoded data removed]",
      "text/plain": [
       "<Figure size 1080x1080 with 1 Axes>"
      ]
     },
     "metadata": {
      "needs_background": "light"
     },
     "output_type": "display_data"
    }
   ],
   "source": [
    "plt.figure(figsize=(15,15))\n",
    "plt.plot(steps_x, fitness_y, label=\"Predator Prey - Genetic Algorithm\")\n",
    "plt.xlabel(\"Time\")\n",
    "plt.ylabel(\"Avarage Reward\")\n",
    "plt.grid(True)\n",
    "plt.legend()\n",
    "plt.show()"
   ]
  },
  {
   "cell_type": "code",
   "execution_count": 645,
   "id": "f63519a7",
   "metadata": {},
   "outputs": [
    {
     "data": {
      "text/plain": [
       "<__main__.NeuralModel at 0x1bc4ddbe670>"
      ]
     },
     "execution_count": 645,
     "metadata": {},
     "output_type": "execute_result"
    }
   ],
   "source": [
    "models[0]"
   ]
  },
  {
   "cell_type": "code",
   "execution_count": 646,
   "id": "d098a14a",
   "metadata": {},
   "outputs": [],
   "source": [
    "model_trained = models[0]"
   ]
  },
  {
   "cell_type": "markdown",
   "id": "3b40010f",
   "metadata": {},
   "source": [
    "## Save model"
   ]
  },
  {
   "cell_type": "code",
   "execution_count": 647,
   "id": "a29b0c85",
   "metadata": {},
   "outputs": [
    {
     "name": "stdout",
     "output_type": "stream",
     "text": [
      "INFO:tensorflow:Assets written to: Training/my_model_PP_2\\assets\n"
     ]
    }
   ],
   "source": [
    "path_best_model = 'Training/my_model_PP_2'\n",
    "model_trained.model.save(path_best_model)"
   ]
  },
  {
   "cell_type": "markdown",
   "id": "cf87363b",
   "metadata": {},
   "source": [
    "## Load model"
   ]
  },
  {
   "cell_type": "code",
   "execution_count": 648,
   "id": "ae0a1548",
   "metadata": {},
   "outputs": [],
   "source": [
    "path_best_model = 'Training/my_model_PP_2'\n",
    "model = keras.models.load_model(path_best_model)"
   ]
  },
  {
   "cell_type": "code",
   "execution_count": 651,
   "id": "1dfd2e78",
   "metadata": {},
   "outputs": [],
   "source": [
    "obs = env.reset()"
   ]
  },
  {
   "cell_type": "code",
   "execution_count": 652,
   "id": "9375fd6a",
   "metadata": {},
   "outputs": [
    {
     "data": {
      "text/plain": [
       "array([[0, 0, 2, 2, 2],\n",
       "       [0, 0, 2, 2, 2],\n",
       "       [2, 0, 1, 2, 2],\n",
       "       [2, 2, 0, 2, 0],\n",
       "       [0, 0, 0, 0, 2]])"
      ]
     },
     "execution_count": 652,
     "metadata": {},
     "output_type": "execute_result"
    }
   ],
   "source": [
    "'''\n",
    "0 - direita\n",
    "1 - esquerda\n",
    "2 - cima\n",
    "3 - baixo\n",
    "'''\n",
    "\n",
    "obs"
   ]
  },
  {
   "cell_type": "code",
   "execution_count": 653,
   "id": "3070f252",
   "metadata": {},
   "outputs": [
    {
     "name": "stdout",
     "output_type": "stream",
     "text": [
      "[[0.000000e+00 7.702775e-14 1.000000e+00 0.000000e+00]] 2\n"
     ]
    }
   ],
   "source": [
    "print(model_trained(obs.reshape(1, -1)).numpy(), model_trained(obs.reshape(1, -1)).numpy().argmax())"
   ]
  },
  {
   "cell_type": "code",
   "execution_count": 676,
   "id": "a073874b",
   "metadata": {},
   "outputs": [
    {
     "data": {
      "text/plain": [
       "array([[2, 0, 0, 0, 2],\n",
       "       [2, 0, 0, 2, 2],\n",
       "       [0, 0, 1, 0, 0],\n",
       "       [2, 2, 0, 2, 2],\n",
       "       [2, 2, 2, 2, 0]])"
      ]
     },
     "execution_count": 676,
     "metadata": {},
     "output_type": "execute_result"
    }
   ],
   "source": [
    "env.reset()"
   ]
  },
  {
   "cell_type": "code",
   "execution_count": 680,
   "id": "b0d0c272",
   "metadata": {},
   "outputs": [
    {
     "data": {
      "text/plain": [
       "[0, 1, 0, 0, 0, 2, 2, 3, 3, 1]"
      ]
     },
     "execution_count": 680,
     "metadata": {},
     "output_type": "execute_result"
    }
   ],
   "source": [
    "[env.action_space.sample() for i in range(10)]"
   ]
  },
  {
   "cell_type": "code",
   "execution_count": 677,
   "id": "4a5aab7f",
   "metadata": {},
   "outputs": [
    {
     "name": "stdout",
     "output_type": "stream",
     "text": [
      "1\n",
      "[[2 0 0 0 2]\n",
      " [2 0 0 2 2]\n",
      " [0 1 0 0 0]\n",
      " [2 2 0 2 2]\n",
      " [2 2 2 2 0]] \n",
      "\n",
      "[[2 2 0 0 0]\n",
      " [2 2 0 0 2]\n",
      " [0 0 1 0 0]\n",
      " [2 2 2 0 2]\n",
      " [0 2 2 2 2]] \n",
      "\n",
      "[0, 0, 0, 2]\n",
      "------------------------------\n",
      "1\n",
      "[[2 0 0 0 2]\n",
      " [2 0 0 2 2]\n",
      " [1 0 0 0 0]\n",
      " [2 2 0 2 2]\n",
      " [2 2 2 2 0]] \n",
      "\n",
      "[[0 2 2 0 0]\n",
      " [2 2 2 0 0]\n",
      " [0 0 1 0 0]\n",
      " [2 2 2 2 0]\n",
      " [2 0 2 2 2]] \n",
      "\n",
      "[0, 0, 2, 2]\n",
      "------------------------------\n",
      "2\n",
      "[[2 0 0 0 2]\n",
      " [1 0 0 2 2]\n",
      " [2 0 0 0 0]\n",
      " [2 2 0 2 2]\n",
      " [2 2 2 2 0]] \n",
      "\n",
      "[[2 0 2 2 2]\n",
      " [0 2 2 0 0]\n",
      " [2 2 1 0 0]\n",
      " [0 0 2 0 0]\n",
      " [2 2 2 2 0]] \n",
      "\n",
      "[0, 2, 2, 2]\n",
      "------------------------------\n",
      "2\n",
      "[[1 0 0 0 2]\n",
      " [2 0 0 2 2]\n",
      " [2 0 0 0 0]\n",
      " [2 2 0 2 2]\n",
      " [2 2 2 2 0]] \n",
      "\n",
      "[[2 2 2 2 0]\n",
      " [2 0 2 2 2]\n",
      " [0 2 1 0 0]\n",
      " [2 2 2 0 0]\n",
      " [0 0 2 0 0]] \n",
      "\n",
      "[0, 2, 2, 2]\n",
      "------------------------------\n",
      "2\n",
      "[[2 0 0 0 2]\n",
      " [2 0 0 2 2]\n",
      " [2 0 0 0 0]\n",
      " [2 2 0 2 2]\n",
      " [1 2 2 2 0]] \n",
      "\n",
      "[[0 0 2 0 0]\n",
      " [2 2 2 2 0]\n",
      " [2 0 1 2 2]\n",
      " [0 2 2 0 0]\n",
      " [2 2 2 0 0]] \n",
      "\n",
      "[2, 0, 2, 2]\n",
      "------------------------------\n",
      "1\n",
      "[[2 0 0 0 2]\n",
      " [2 0 0 2 2]\n",
      " [2 0 0 0 0]\n",
      " [2 2 0 2 2]\n",
      " [0 2 2 2 1]] \n",
      "\n",
      "[[0 0 0 2 0]\n",
      " [0 2 2 2 2]\n",
      " [2 2 1 0 2]\n",
      " [0 0 2 2 0]\n",
      " [0 2 2 2 0]] \n",
      "\n",
      "[0, 2, 2, 2]\n",
      "------------------------------\n",
      "1\n",
      "[[2 0 0 0 2]\n",
      " [2 0 0 2 2]\n",
      " [2 0 0 0 0]\n",
      " [2 2 0 2 2]\n",
      " [0 2 2 1 2]] \n",
      "\n",
      "[[0 0 0 0 2]\n",
      " [2 0 2 2 2]\n",
      " [2 2 1 2 0]\n",
      " [0 0 0 2 2]\n",
      " [0 0 2 2 2]] \n",
      "\n",
      "[2, 2, 2, 0]\n",
      "------------------------------\n",
      "1\n",
      "[[2 0 0 0 2]\n",
      " [2 0 0 2 2]\n",
      " [2 0 0 0 0]\n",
      " [2 2 0 2 2]\n",
      " [0 2 1 2 2]] \n",
      "\n",
      "[[2 0 0 0 0]\n",
      " [2 2 0 2 2]\n",
      " [0 2 1 2 2]\n",
      " [2 0 0 0 2]\n",
      " [2 0 0 2 2]] \n",
      "\n",
      "[2, 2, 0, 0]\n",
      "------------------------------\n",
      "2\n",
      "[[2 0 0 0 2]\n",
      " [2 0 0 2 2]\n",
      " [2 0 0 0 0]\n",
      " [2 2 1 2 2]\n",
      " [0 2 0 2 2]] \n",
      "\n",
      "[[2 0 0 2 2]\n",
      " [2 0 0 0 0]\n",
      " [2 2 1 2 2]\n",
      " [0 2 0 2 2]\n",
      " [2 0 0 0 2]] \n",
      "\n",
      "[2, 2, 0, 0]\n",
      "------------------------------\n",
      "1\n",
      "[[2 0 0 0 2]\n",
      " [2 0 0 2 2]\n",
      " [2 0 0 0 0]\n",
      " [2 1 2 2 2]\n",
      " [0 2 0 2 2]] \n",
      "\n",
      "[[2 2 0 0 2]\n",
      " [0 2 0 0 0]\n",
      " [2 2 1 2 2]\n",
      " [2 0 2 0 2]\n",
      " [2 2 0 0 0]] \n",
      "\n",
      "[2, 2, 0, 2]\n",
      "------------------------------\n",
      "2\n",
      "[[2 0 0 0 2]\n",
      " [2 0 0 2 2]\n",
      " [2 1 0 0 0]\n",
      " [2 0 2 2 2]\n",
      " [0 2 0 2 2]] \n",
      "\n",
      "[[2 2 0 0 0]\n",
      " [2 2 0 0 2]\n",
      " [0 2 1 0 0]\n",
      " [2 2 0 2 2]\n",
      " [2 0 2 0 2]] \n",
      "\n",
      "[0, 2, 0, 0]\n",
      "------------------------------\n",
      "1\n",
      "[[2 0 0 0 2]\n",
      " [2 0 0 2 2]\n",
      " [1 2 0 0 0]\n",
      " [2 0 2 2 2]\n",
      " [0 2 0 2 2]] \n",
      "\n",
      "[[0 2 2 0 0]\n",
      " [2 2 2 0 0]\n",
      " [0 0 1 2 0]\n",
      " [2 2 2 0 2]\n",
      " [2 2 0 2 0]] \n",
      "\n",
      "[2, 0, 2, 2]\n",
      "------------------------------\n",
      "1\n",
      "[[2 0 0 0 2]\n",
      " [2 0 0 2 2]\n",
      " [0 2 0 0 1]\n",
      " [2 0 2 2 2]\n",
      " [0 2 0 2 2]] \n",
      "\n",
      "[[0 0 2 2 0]\n",
      " [0 2 2 2 0]\n",
      " [0 0 1 0 2]\n",
      " [2 2 2 2 0]\n",
      " [0 2 2 0 2]] \n",
      "\n",
      "[0, 0, 2, 2]\n",
      "------------------------------\n",
      "2\n",
      "[[2 0 0 0 2]\n",
      " [2 0 0 2 1]\n",
      " [0 2 0 0 2]\n",
      " [2 0 2 2 2]\n",
      " [0 2 0 2 2]] \n",
      "\n",
      "[[0 2 2 0 2]\n",
      " [0 0 2 2 0]\n",
      " [0 2 1 2 0]\n",
      " [0 0 2 0 2]\n",
      " [2 2 2 2 0]] \n",
      "\n",
      "[2, 2, 2, 2]\n",
      "------------------------------\n",
      "1\n",
      "[[2 0 0 0 2]\n",
      " [2 0 0 1 2]\n",
      " [0 2 0 0 2]\n",
      " [2 0 2 2 2]\n",
      " [0 2 0 2 2]] \n",
      "\n",
      "[[2 0 2 2 0]\n",
      " [0 0 0 2 2]\n",
      " [0 0 1 2 2]\n",
      " [2 0 0 2 0]\n",
      " [0 2 2 2 2]] \n",
      "\n",
      "[2, 0, 0, 0]\n",
      "------------------------------\n",
      "1\n",
      "[[2 0 0 0 2]\n",
      " [2 0 1 0 2]\n",
      " [0 2 0 0 2]\n",
      " [2 0 2 2 2]\n",
      " [0 2 0 2 2]] \n",
      "\n",
      "[[0 2 0 2 2]\n",
      " [2 0 0 0 2]\n",
      " [2 0 1 0 2]\n",
      " [0 2 0 0 2]\n",
      " [2 0 2 2 2]] \n",
      "\n",
      "[0, 0, 0, 0]\n",
      "------------------------------\n",
      "2\n",
      "[[2 0 1 0 2]\n",
      " [2 0 0 0 2]\n",
      " [0 2 0 0 2]\n",
      " [2 0 2 2 2]\n",
      " [0 2 0 2 2]] \n",
      "\n",
      "[[2 0 2 2 2]\n",
      " [0 2 0 2 2]\n",
      " [2 0 1 0 2]\n",
      " [2 0 0 0 2]\n",
      " [0 2 0 0 2]] \n",
      "\n",
      "[0, 0, 0, 0]\n",
      "------------------------------\n",
      "1\n",
      "[[2 1 0 0 2]\n",
      " [2 0 0 0 2]\n",
      " [0 2 0 0 2]\n",
      " [2 0 2 2 2]\n",
      " [0 2 0 2 2]] \n",
      "\n",
      "[[2 2 0 2 2]\n",
      " [2 0 2 0 2]\n",
      " [2 2 1 0 0]\n",
      " [2 2 0 0 0]\n",
      " [2 0 2 0 0]] \n",
      "\n",
      "[0, 2, 2, 0]\n",
      "------------------------------\n",
      "2\n",
      "[[2 2 0 0 2]\n",
      " [2 0 0 0 2]\n",
      " [0 2 0 0 2]\n",
      " [2 0 2 2 2]\n",
      " [0 1 0 2 2]] \n",
      "\n",
      "[[2 0 2 0 0]\n",
      " [2 2 0 2 2]\n",
      " [2 0 1 0 2]\n",
      " [2 2 2 0 0]\n",
      " [2 2 0 0 0]] \n",
      "\n",
      "[0, 0, 0, 2]\n",
      "------------------------------\n",
      "1\n",
      "[[2 2 0 0 2]\n",
      " [2 0 0 0 2]\n",
      " [0 2 0 0 2]\n",
      " [2 0 2 2 2]\n",
      " [1 0 0 2 2]] \n",
      "\n",
      "[[0 2 0 2 0]\n",
      " [2 2 2 0 2]\n",
      " [2 2 1 0 0]\n",
      " [0 2 2 2 0]\n",
      " [0 2 2 0 0]] \n",
      "\n",
      "[0, 2, 2, 2]\n",
      "------------------------------\n"
     ]
    }
   ],
   "source": [
    "for i in range(20):\n",
    "    action = model_trained(obs.reshape(1, -1)).numpy().argmax()\n",
    "    print(action)\n",
    "    obs, _, _, _ = env.step(action)\n",
    "    print(env.array, '\\n')\n",
    "    print(env.get_obs(), '\\n')\n",
    "    print(env.get_neighboors())\n",
    "    print(\"-\" * 30)"
   ]
  },
  {
   "cell_type": "code",
   "execution_count": 575,
   "id": "becb27c7",
   "metadata": {
    "scrolled": true
   },
   "outputs": [
    {
     "name": "stdout",
     "output_type": "stream",
     "text": [
      "Ep: 0 || Score: 766\n",
      "Ep: 1 || Score: 608\n",
      "Ep: 2 || Score: 400\n",
      "Ep: 3 || Score: 296\n",
      "Ep: 4 || Score: 1181\n",
      "Ep: 5 || Score: 369\n",
      "Ep: 6 || Score: 1186\n",
      "Ep: 7 || Score: 600\n",
      "Ep: 8 || Score: 540\n",
      "Ep: 9 || Score: 602\n",
      "Ep: 10 || Score: 804\n",
      "Ep: 11 || Score: 1208\n",
      "Ep: 12 || Score: 804\n",
      "Ep: 13 || Score: 1072\n",
      "Ep: 14 || Score: 598\n",
      "Ep: 15 || Score: 379\n",
      "Ep: 16 || Score: 607\n",
      "Ep: 17 || Score: 452\n",
      "Ep: 18 || Score: 906\n",
      "Ep: 19 || Score: 1130\n",
      "Ep: 20 || Score: 296\n",
      "Ep: 21 || Score: 777\n",
      "Ep: 22 || Score: 796\n",
      "Ep: 23 || Score: 785\n",
      "Ep: 24 || Score: 668\n",
      "Ep: 25 || Score: 988\n",
      "Ep: 26 || Score: 864\n",
      "Ep: 27 || Score: 611\n",
      "Ep: 28 || Score: 600\n",
      "Ep: 29 || Score: 489\n",
      "Ep: 30 || Score: 586\n",
      "Ep: 31 || Score: 848\n",
      "Ep: 32 || Score: 982\n",
      "Ep: 33 || Score: 404\n",
      "Ep: 34 || Score: 634\n",
      "Ep: 35 || Score: 596\n",
      "Ep: 36 || Score: 920\n",
      "Ep: 37 || Score: 484\n",
      "Ep: 38 || Score: 1128\n",
      "Ep: 39 || Score: 961\n",
      "Ep: 40 || Score: 512\n",
      "Ep: 41 || Score: 528\n",
      "Ep: 42 || Score: 770\n",
      "Ep: 43 || Score: 976\n",
      "Ep: 44 || Score: 800\n",
      "Ep: 45 || Score: 591\n",
      "Ep: 46 || Score: 988\n",
      "Ep: 47 || Score: 1116\n",
      "Ep: 48 || Score: 598\n",
      "Ep: 49 || Score: 537\n",
      "Ep: 50 || Score: 595\n",
      "Ep: 51 || Score: 1155\n",
      "Ep: 52 || Score: 1158\n",
      "Ep: 53 || Score: 486\n",
      "Ep: 54 || Score: 764\n",
      "Ep: 55 || Score: 988\n",
      "Ep: 56 || Score: 1008\n",
      "Ep: 57 || Score: 925\n",
      "Ep: 58 || Score: 800\n",
      "Ep: 59 || Score: 591\n",
      "Ep: 60 || Score: 868\n",
      "Ep: 61 || Score: 449\n",
      "Ep: 62 || Score: 710\n",
      "Ep: 63 || Score: 504\n",
      "Ep: 64 || Score: 498\n",
      "Ep: 65 || Score: 647\n",
      "Ep: 66 || Score: 1528\n",
      "Ep: 67 || Score: 610\n",
      "Ep: 68 || Score: 455\n",
      "Ep: 69 || Score: 1006\n",
      "Ep: 70 || Score: 356\n",
      "Ep: 71 || Score: 445\n",
      "Ep: 72 || Score: 906\n",
      "Ep: 73 || Score: 709\n",
      "Ep: 74 || Score: 1168\n",
      "Ep: 75 || Score: 581\n",
      "Ep: 76 || Score: 578\n",
      "Ep: 77 || Score: 501\n",
      "Ep: 78 || Score: 1002\n",
      "Ep: 79 || Score: 670\n",
      "Ep: 80 || Score: 682\n",
      "Ep: 81 || Score: 706\n",
      "Ep: 82 || Score: 581\n",
      "Ep: 83 || Score: 506\n",
      "Ep: 84 || Score: 536\n",
      "Ep: 85 || Score: 594\n",
      "Ep: 86 || Score: 485\n",
      "Ep: 87 || Score: 1194\n",
      "Ep: 88 || Score: 556\n",
      "Ep: 89 || Score: 914\n",
      "Ep: 90 || Score: 1008\n",
      "Ep: 91 || Score: 389\n",
      "Ep: 92 || Score: 458\n",
      "Ep: 93 || Score: 667\n",
      "Ep: 94 || Score: 310\n",
      "Ep: 95 || Score: 500\n",
      "Ep: 96 || Score: 984\n",
      "Ep: 97 || Score: 606\n",
      "Ep: 98 || Score: 457\n",
      "Ep: 99 || Score: 612\n",
      "Avg score: 717.47\n"
     ]
    }
   ],
   "source": [
    "episodes = 100\n",
    "avg_total = 0\n",
    "for ep in range(episodes):\n",
    "    obs = env.reset().reshape(1, -1)\n",
    "    done = False\n",
    "    score = 0\n",
    "    while not done:\n",
    "        action = model(obs.reshape(1, -1)).numpy().argmax()\n",
    "        obs, rew, done, info = env.step(action)\n",
    "        if render:\n",
    "            env.render()\n",
    "        score += rew\n",
    "    avg_total += score\n",
    "    print(f\"Ep: {ep} || Score: {score}\")\n",
    "print(f\"Avg score: {avg_total / episodes}\")"
   ]
  },
  {
   "cell_type": "code",
   "execution_count": 576,
   "id": "aa372ed3",
   "metadata": {
    "scrolled": true
   },
   "outputs": [
    {
     "name": "stdout",
     "output_type": "stream",
     "text": [
      "Ep: 0 || Score: 537\n",
      "Ep: 1 || Score: 469\n",
      "Ep: 2 || Score: 523\n",
      "Ep: 3 || Score: 561\n",
      "Ep: 4 || Score: 660\n",
      "Ep: 5 || Score: 504\n",
      "Ep: 6 || Score: 572\n",
      "Ep: 7 || Score: 513\n",
      "Ep: 8 || Score: 446\n",
      "Ep: 9 || Score: 438\n",
      "Ep: 10 || Score: 688\n",
      "Ep: 11 || Score: 558\n",
      "Ep: 12 || Score: 543\n",
      "Ep: 13 || Score: 561\n",
      "Ep: 14 || Score: 454\n",
      "Ep: 15 || Score: 505\n",
      "Ep: 16 || Score: 496\n",
      "Ep: 17 || Score: 529\n",
      "Ep: 18 || Score: 471\n",
      "Ep: 19 || Score: 417\n",
      "Ep: 20 || Score: 897\n",
      "Ep: 21 || Score: 456\n",
      "Ep: 22 || Score: 451\n",
      "Ep: 23 || Score: 624\n",
      "Ep: 24 || Score: 645\n",
      "Ep: 25 || Score: 601\n",
      "Ep: 26 || Score: 505\n",
      "Ep: 27 || Score: 490\n",
      "Ep: 28 || Score: 530\n",
      "Ep: 29 || Score: 644\n",
      "Ep: 30 || Score: 496\n",
      "Ep: 31 || Score: 521\n",
      "Ep: 32 || Score: 565\n",
      "Ep: 33 || Score: 410\n",
      "Ep: 34 || Score: 388\n",
      "Ep: 35 || Score: 588\n",
      "Ep: 36 || Score: 407\n",
      "Ep: 37 || Score: 653\n",
      "Ep: 38 || Score: 477\n",
      "Ep: 39 || Score: 353\n",
      "Ep: 40 || Score: 613\n",
      "Ep: 41 || Score: 476\n",
      "Ep: 42 || Score: 525\n",
      "Ep: 43 || Score: 464\n",
      "Ep: 44 || Score: 384\n",
      "Ep: 45 || Score: 572\n",
      "Ep: 46 || Score: 497\n",
      "Ep: 47 || Score: 499\n",
      "Ep: 48 || Score: 559\n",
      "Ep: 49 || Score: 539\n",
      "Ep: 50 || Score: 428\n",
      "Ep: 51 || Score: 454\n",
      "Ep: 52 || Score: 303\n",
      "Ep: 53 || Score: 503\n",
      "Ep: 54 || Score: 656\n",
      "Ep: 55 || Score: 551\n",
      "Ep: 56 || Score: 421\n",
      "Ep: 57 || Score: 590\n",
      "Ep: 58 || Score: 376\n",
      "Ep: 59 || Score: 448\n",
      "Ep: 60 || Score: 422\n",
      "Ep: 61 || Score: 676\n",
      "Ep: 62 || Score: 692\n",
      "Ep: 63 || Score: 506\n",
      "Ep: 64 || Score: 473\n",
      "Ep: 65 || Score: 552\n",
      "Ep: 66 || Score: 332\n",
      "Ep: 67 || Score: 442\n",
      "Ep: 68 || Score: 499\n",
      "Ep: 69 || Score: 452\n",
      "Ep: 70 || Score: 588\n",
      "Ep: 71 || Score: 412\n",
      "Ep: 72 || Score: 639\n",
      "Ep: 73 || Score: 493\n",
      "Ep: 74 || Score: 331\n",
      "Ep: 75 || Score: 405\n",
      "Ep: 76 || Score: 558\n",
      "Ep: 77 || Score: 484\n",
      "Ep: 78 || Score: 592\n",
      "Ep: 79 || Score: 498\n",
      "Ep: 80 || Score: 511\n",
      "Ep: 81 || Score: 407\n",
      "Ep: 82 || Score: 653\n",
      "Ep: 83 || Score: 489\n",
      "Ep: 84 || Score: 499\n",
      "Ep: 85 || Score: 513\n",
      "Ep: 86 || Score: 689\n",
      "Ep: 87 || Score: 353\n",
      "Ep: 88 || Score: 642\n",
      "Ep: 89 || Score: 531\n",
      "Ep: 90 || Score: 504\n",
      "Ep: 91 || Score: 635\n",
      "Ep: 92 || Score: 481\n",
      "Ep: 93 || Score: 501\n",
      "Ep: 94 || Score: 642\n",
      "Ep: 95 || Score: 470\n",
      "Ep: 96 || Score: 470\n",
      "Ep: 97 || Score: 451\n",
      "Ep: 98 || Score: 556\n",
      "Ep: 99 || Score: 581\n",
      "Avg score: 516.28\n"
     ]
    }
   ],
   "source": [
    "episodes = 100\n",
    "avg_total = 0\n",
    "for ep in range(episodes):\n",
    "    obs = env.reset().reshape(1, -1)\n",
    "    done = False\n",
    "    score = 0\n",
    "    while not done:\n",
    "        action = model(obs.reshape(1, -1)).numpy().argmax()\n",
    "        obs, rew, done, info = env.step(env.action_space.sample())\n",
    "        if render:\n",
    "            env.render()\n",
    "        score += rew\n",
    "    avg_total += score\n",
    "    print(f\"Ep: {ep} || Score: {score}\")\n",
    "print(f\"Avg score: {avg_total / episodes}\")"
   ]
  },
  {
   "cell_type": "code",
   "execution_count": null,
   "id": "d345a471",
   "metadata": {},
   "outputs": [],
   "source": []
  }
 ],
 "metadata": {
  "kernelspec": {
   "display_name": "Python 3 (ipykernel)",
   "language": "python",
   "name": "python3"
  },
  "language_info": {
   "codemirror_mode": {
    "name": "ipython",
    "version": 3
   },
   "file_extension": ".py",
   "mimetype": "text/x-python",
   "name": "python",
   "nbconvert_exporter": "python",
   "pygments_lexer": "ipython3",
   "version": "3.9.12"
  }
 },
 "nbformat": 4,
 "nbformat_minor": 5
}
